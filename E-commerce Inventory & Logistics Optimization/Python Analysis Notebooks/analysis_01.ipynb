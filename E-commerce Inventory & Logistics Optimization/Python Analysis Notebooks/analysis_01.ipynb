{
 "cells": [
  {
   "cell_type": "markdown",
   "id": "f3e851cb",
   "metadata": {},
   "source": [
    "# E-commerce Inventory & Logistics Optimization"
   ]
  },
  {
   "cell_type": "markdown",
   "id": "bb315572",
   "metadata": {},
   "source": [
    "#### Importing all the libraries"
   ]
  },
  {
   "cell_type": "code",
   "execution_count": null,
   "id": "a1ca2706",
   "metadata": {},
   "outputs": [],
   "source": [
    "import pandas as pd\n",
    "import numpy as np\n",
    "import seaborn as sns\n",
    "import matplotlib.pyplot as plt\n",
    "import plotly.express as px"
   ]
  },
  {
   "cell_type": "markdown",
   "id": "49d3b68e",
   "metadata": {},
   "source": [
    "#### Importing all the datasets"
   ]
  },
  {
   "cell_type": "code",
   "execution_count": null,
   "id": "2399ce78",
   "metadata": {},
   "outputs": [],
   "source": [
    "customers=pd.read_csv('olist_customers_dataset.csv')\n",
    "items=pd.read_csv('olist_order_items_dataset.csv')\n",
    "orders=pd.read_csv('olist_orders_dataset.csv')\n",
    "location=pd.read_csv('olist_geolocation_dataset.csv')\n",
    "payments=pd.read_csv('olist_order_payments_dataset.csv')\n",
    "reviews=pd.read_csv('olist_order_reviews_dataset.csv')\n",
    "products=pd.read_csv('olist_products_dataset.csv')\n",
    "sellers=pd.read_csv('olist_sellers_dataset.csv')\n",
    "catg_transln=pd.read_csv('product_category_name_translation.csv')"
   ]
  },
  {
   "cell_type": "markdown",
   "id": "09ab973c",
   "metadata": {},
   "source": [
    "### Analysing Datasets Separately"
   ]
  },
  {
   "cell_type": "markdown",
   "id": "ac8035a1",
   "metadata": {},
   "source": [
    "#### Customers"
   ]
  },
  {
   "cell_type": "code",
   "execution_count": null,
   "id": "7cd9b574",
   "metadata": {},
   "outputs": [],
   "source": [
    "customers"
   ]
  },
  {
   "cell_type": "code",
   "execution_count": null,
   "id": "220c6717",
   "metadata": {},
   "outputs": [],
   "source": [
    "customers['customer_city'].value_counts()"
   ]
  },
  {
   "cell_type": "code",
   "execution_count": null,
   "id": "02f758ee",
   "metadata": {},
   "outputs": [],
   "source": [
    "customers.isnull().sum()"
   ]
  },
  {
   "cell_type": "markdown",
   "id": "65729a11",
   "metadata": {},
   "source": [
    "#### Items"
   ]
  },
  {
   "cell_type": "code",
   "execution_count": null,
   "id": "ca624ba9",
   "metadata": {},
   "outputs": [],
   "source": [
    "items"
   ]
  },
  {
   "cell_type": "code",
   "execution_count": null,
   "id": "b4b1025c",
   "metadata": {},
   "outputs": [],
   "source": [
    "items['seller_id'].value_counts()"
   ]
  },
  {
   "cell_type": "code",
   "execution_count": null,
   "id": "55c552bd",
   "metadata": {},
   "outputs": [],
   "source": [
    "items.isnull().sum()"
   ]
  },
  {
   "cell_type": "markdown",
   "id": "c32a8c1d",
   "metadata": {},
   "source": [
    "#### Orders"
   ]
  },
  {
   "cell_type": "code",
   "execution_count": null,
   "id": "f934af2d",
   "metadata": {},
   "outputs": [],
   "source": [
    "orders"
   ]
  },
  {
   "cell_type": "code",
   "execution_count": null,
   "id": "428a58bc",
   "metadata": {},
   "outputs": [],
   "source": [
    "orders.isnull().sum()"
   ]
  },
  {
   "cell_type": "markdown",
   "id": "8e57ebdd",
   "metadata": {},
   "source": [
    "#### Location"
   ]
  },
  {
   "cell_type": "code",
   "execution_count": null,
   "id": "da57ca3e",
   "metadata": {},
   "outputs": [],
   "source": [
    "location"
   ]
  },
  {
   "cell_type": "code",
   "execution_count": null,
   "id": "21a9d854",
   "metadata": {},
   "outputs": [],
   "source": [
    "location['geolocation_zip_code_prefix'].value_counts()"
   ]
  },
  {
   "cell_type": "code",
   "execution_count": null,
   "id": "7634169b",
   "metadata": {},
   "outputs": [],
   "source": [
    "location.isnull().sum()"
   ]
  },
  {
   "cell_type": "code",
   "execution_count": null,
   "id": "8dc48ac1",
   "metadata": {},
   "outputs": [],
   "source": [
    "location.rename(columns={'geolocation_zip_code_prefix': 'customer_zip_code_prefix'}, inplace=True) \n",
    "location"
   ]
  },
  {
   "cell_type": "code",
   "execution_count": null,
   "id": "38e48ed3",
   "metadata": {},
   "outputs": [],
   "source": [
    "location.to_csv('olist_geolocation_dataset.csv',index=False)"
   ]
  },
  {
   "cell_type": "markdown",
   "id": "02f8d37a",
   "metadata": {},
   "source": [
    "#### Payments"
   ]
  },
  {
   "cell_type": "code",
   "execution_count": null,
   "id": "79a16a73",
   "metadata": {},
   "outputs": [],
   "source": [
    "payments"
   ]
  },
  {
   "cell_type": "code",
   "execution_count": null,
   "id": "66e9953d",
   "metadata": {},
   "outputs": [],
   "source": [
    "payments.isnull().sum()"
   ]
  },
  {
   "cell_type": "markdown",
   "id": "4673f5ef",
   "metadata": {},
   "source": [
    "#### Reviews"
   ]
  },
  {
   "cell_type": "code",
   "execution_count": null,
   "id": "b70c1f90",
   "metadata": {},
   "outputs": [],
   "source": [
    "reviews"
   ]
  },
  {
   "cell_type": "code",
   "execution_count": null,
   "id": "7f5d9808",
   "metadata": {},
   "outputs": [],
   "source": [
    "reviews.drop(columns=['review_comment_title','review_comment_message','review_creation_date','review_answer_timestamp'],inplace=True)"
   ]
  },
  {
   "cell_type": "markdown",
   "id": "4af6b812",
   "metadata": {},
   "source": [
    "#### Products"
   ]
  },
  {
   "cell_type": "code",
   "execution_count": null,
   "id": "0a570bed",
   "metadata": {},
   "outputs": [],
   "source": [
    "products"
   ]
  },
  {
   "cell_type": "markdown",
   "id": "b5d0b3e3",
   "metadata": {},
   "source": [
    "##### Creating a new feature"
   ]
  },
  {
   "cell_type": "code",
   "execution_count": null,
   "id": "db63e080",
   "metadata": {},
   "outputs": [],
   "source": [
    "products['product_volume_cm3']=products['product_height_cm']*products['product_length_cm']*products['product_width_cm']"
   ]
  },
  {
   "cell_type": "markdown",
   "id": "322a0a2d",
   "metadata": {},
   "source": [
    "##### Droping unnecessary features  "
   ]
  },
  {
   "cell_type": "code",
   "execution_count": null,
   "id": "1dce2d3d",
   "metadata": {},
   "outputs": [],
   "source": [
    "products.drop(columns=['product_name_lenght','product_description_lenght','product_photos_qty','product_length_cm','product_height_cm','product_width_cm'],inplace=True)"
   ]
  },
  {
   "cell_type": "code",
   "execution_count": null,
   "id": "4ef44825",
   "metadata": {},
   "outputs": [],
   "source": [
    "products"
   ]
  },
  {
   "cell_type": "markdown",
   "id": "8658af41",
   "metadata": {},
   "source": [
    "#### Sellers"
   ]
  },
  {
   "cell_type": "code",
   "execution_count": null,
   "id": "9495fa30",
   "metadata": {},
   "outputs": [],
   "source": [
    "sellers"
   ]
  },
  {
   "cell_type": "markdown",
   "id": "171c4995",
   "metadata": {},
   "source": [
    "#### Category Translation"
   ]
  },
  {
   "cell_type": "code",
   "execution_count": null,
   "id": "b3260eae",
   "metadata": {},
   "outputs": [],
   "source": [
    "catg_transln"
   ]
  },
  {
   "cell_type": "code",
   "execution_count": null,
   "id": "3bf97569",
   "metadata": {},
   "outputs": [],
   "source": [
    "products"
   ]
  },
  {
   "cell_type": "markdown",
   "id": "1bb86604",
   "metadata": {},
   "source": [
    "##### Merging 'Products' and 'Category Transalation' datasets"
   ]
  },
  {
   "cell_type": "code",
   "execution_count": null,
   "id": "abcbc0ae",
   "metadata": {},
   "outputs": [],
   "source": [
    "products=products.merge(catg_transln, on='product_category_name')"
   ]
  },
  {
   "cell_type": "code",
   "execution_count": null,
   "id": "827fbfcb",
   "metadata": {},
   "outputs": [],
   "source": [
    "products.drop(columns='product_category_name',inplace=True)"
   ]
  },
  {
   "cell_type": "code",
   "execution_count": null,
   "id": "4ca88454",
   "metadata": {},
   "outputs": [],
   "source": [
    "products"
   ]
  },
  {
   "cell_type": "markdown",
   "id": "7947eb2e",
   "metadata": {},
   "source": [
    "##### Saving new product dataset"
   ]
  },
  {
   "cell_type": "code",
   "execution_count": null,
   "id": "5177394d",
   "metadata": {},
   "outputs": [],
   "source": [
    "products.to_csv('products_details_dataset.csv',index=False)"
   ]
  },
  {
   "cell_type": "code",
   "execution_count": null,
   "id": "b79b9da3",
   "metadata": {},
   "outputs": [],
   "source": []
  }
 ],
 "metadata": {
  "kernelspec": {
   "display_name": "base",
   "language": "python",
   "name": "python3"
  },
  "language_info": {
   "codemirror_mode": {
    "name": "ipython",
    "version": 3
   },
   "file_extension": ".py",
   "mimetype": "text/x-python",
   "name": "python",
   "nbconvert_exporter": "python",
   "pygments_lexer": "ipython3",
   "version": "3.12.4"
  }
 },
 "nbformat": 4,
 "nbformat_minor": 5
}
