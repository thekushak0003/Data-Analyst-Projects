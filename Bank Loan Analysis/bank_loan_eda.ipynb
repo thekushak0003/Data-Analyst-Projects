{
 "cells": [
  {
   "cell_type": "markdown",
   "id": "78defff0",
   "metadata": {},
   "source": [
    "# Bank Loan Analysis Project"
   ]
  },
  {
   "cell_type": "markdown",
   "id": "35e9601a",
   "metadata": {},
   "source": [
    "#### Importing Libraries"
   ]
  },
  {
   "cell_type": "code",
   "execution_count": 4,
   "id": "035d5c43",
   "metadata": {},
   "outputs": [],
   "source": [
    "import pandas as pd \n",
    "import numpy as np\n",
    "import matplotlib.pyplot as plt\n",
    "import seaborn as sns\n",
    "import warnings\n",
    "import plotly.express as px"
   ]
  },
  {
   "cell_type": "markdown",
   "id": "7bd068e3",
   "metadata": {},
   "source": [
    "#### Loading Dataset"
   ]
  },
  {
   "cell_type": "code",
   "execution_count": 5,
   "id": "96e40358",
   "metadata": {},
   "outputs": [
    {
     "data": {
      "application/vnd.microsoft.datawrangler.viewer.v0+json": {
       "columns": [
        {
         "name": "index",
         "rawType": "int64",
         "type": "integer"
        },
        {
         "name": "id",
         "rawType": "int64",
         "type": "integer"
        },
        {
         "name": "address_state",
         "rawType": "object",
         "type": "string"
        },
        {
         "name": "application_type",
         "rawType": "object",
         "type": "string"
        },
        {
         "name": "emp_length",
         "rawType": "object",
         "type": "string"
        },
        {
         "name": "emp_title",
         "rawType": "object",
         "type": "string"
        },
        {
         "name": "grade",
         "rawType": "object",
         "type": "string"
        },
        {
         "name": "home_ownership",
         "rawType": "object",
         "type": "string"
        },
        {
         "name": "issue_date",
         "rawType": "object",
         "type": "string"
        },
        {
         "name": "last_credit_pull_date",
         "rawType": "object",
         "type": "string"
        },
        {
         "name": "last_payment_date",
         "rawType": "object",
         "type": "string"
        },
        {
         "name": "loan_status",
         "rawType": "object",
         "type": "string"
        },
        {
         "name": "next_payment_date",
         "rawType": "object",
         "type": "string"
        },
        {
         "name": "member_id",
         "rawType": "int64",
         "type": "integer"
        },
        {
         "name": "purpose",
         "rawType": "object",
         "type": "string"
        },
        {
         "name": "sub_grade",
         "rawType": "object",
         "type": "string"
        },
        {
         "name": "term",
         "rawType": "object",
         "type": "string"
        },
        {
         "name": "verification_status",
         "rawType": "object",
         "type": "string"
        },
        {
         "name": "annual_income",
         "rawType": "float64",
         "type": "float"
        },
        {
         "name": "dti",
         "rawType": "float64",
         "type": "float"
        },
        {
         "name": "installment",
         "rawType": "float64",
         "type": "float"
        },
        {
         "name": "int_rate",
         "rawType": "float64",
         "type": "float"
        },
        {
         "name": "loan_amount",
         "rawType": "int64",
         "type": "integer"
        },
        {
         "name": "total_acc",
         "rawType": "int64",
         "type": "integer"
        },
        {
         "name": "total_payment",
         "rawType": "int64",
         "type": "integer"
        }
       ],
       "ref": "0089ce01-5631-471a-be75-7038449d19c4",
       "rows": [
        [
         "37203",
         "547816",
         "NY",
         "INDIVIDUAL",
         "3 years",
         "Sam Ash Music",
         "D",
         "RENT",
         "10-07-2021",
         "15-07-2021",
         "15-08-2021",
         "Fully Paid",
         "15-09-2021",
         "706364",
         "small business",
         "D5",
         " 60 months",
         "Verified",
         "24000.0",
         "0.0925",
         "336.72",
         "0.1632",
         "13750",
         "13",
         "20203"
        ],
        [
         "6882",
         "1060481",
         "FL",
         "INDIVIDUAL",
         "1 year",
         "Kendall Regional Medical Center",
         "B",
         "RENT",
         "11-12-2021",
         "14-12-2021",
         "14-12-2021",
         "Fully Paid",
         "14-01-2022",
         "1292237",
         "Debt consolidation",
         "B2",
         " 36 months",
         "Not Verified",
         "26000.0",
         "0.0978",
         "325.74",
         "0.1065",
         "10000",
         "12",
         "11726"
        ],
        [
         "29506",
         "810924",
         "OH",
         "INDIVIDUAL",
         "< 1 year",
         "Honda R&D",
         "B",
         "RENT",
         "11-07-2021",
         "14-07-2021",
         "14-07-2021",
         "Fully Paid",
         "14-08-2021",
         "1017885",
         "major purchase",
         "B2",
         " 36 months",
         "Source Verified",
         "60000.0",
         "0.1684",
         "292.91",
         "0.1059",
         "9000",
         "10",
         "10545"
        ],
        [
         "31570",
         "623481",
         "CA",
         "INDIVIDUAL",
         "10+ years",
         "Port of Oakland",
         "C",
         "MORTGAGE",
         "10-12-2021",
         "15-12-2021",
         "15-12-2021",
         "Fully Paid",
         "15-01-2022",
         "799048",
         "moving",
         "C3",
         " 60 months",
         "Verified",
         "140000.0",
         "0.0426",
         "408.24",
         "0.1298",
         "25000",
         "17",
         "24494"
        ],
        [
         "23694",
         "782452",
         "MD",
         "INDIVIDUAL",
         "5 years",
         "US Army Corps of Engineers",
         "C",
         "RENT",
         "11-06-2021",
         "12-12-2021",
         "12-12-2021",
         "Fully Paid",
         "12-01-2022",
         "985441",
         "Debt consolidation",
         "C1",
         " 60 months",
         "Verified",
         "74872.0",
         "0.2269",
         "454.96",
         "0.1299",
         "20000",
         "23",
         "23206"
        ],
        [
         "8416",
         "881995",
         "OR",
         "INDIVIDUAL",
         "5 years",
         "Huron Consulting Group",
         "A",
         "MORTGAGE",
         "11-09-2021",
         "16-02-2021",
         "14-10-2021",
         "Fully Paid",
         "14-11-2021",
         "1097151",
         "Debt consolidation",
         "A5",
         " 36 months",
         "Not Verified",
         "53808.0",
         "0.1588",
         "190.52",
         "0.089",
         "6000",
         "15",
         "6859"
        ],
        [
         "4653",
         "863348",
         "MN",
         "INDIVIDUAL",
         "2 years",
         "Cargill, Incorporated",
         "A",
         "MORTGAGE",
         "11-08-2021",
         "16-05-2021",
         "14-09-2021",
         "Fully Paid",
         "14-10-2021",
         "1076473",
         "credit card",
         "A4",
         " 36 months",
         "Verified",
         "71500.0",
         "0.1328",
         "466.53",
         "0.0749",
         "15000",
         "19",
         "16795"
        ],
        [
         "14025",
         "576013",
         "OH",
         "INDIVIDUAL",
         "< 1 year",
         "Centurum",
         "C",
         "MORTGAGE",
         "10-09-2021",
         "14-01-2021",
         "13-02-2021",
         "Fully Paid",
         "13-03-2021",
         "740824",
         "Debt consolidation",
         "C5",
         " 36 months",
         "Source Verified",
         "105000.0",
         "0.0888",
         "207.18",
         "0.1472",
         "6000",
         "16",
         "7390"
        ],
        [
         "33297",
         "997677",
         "WA",
         "INDIVIDUAL",
         "8 years",
         "University of Washington Medical Center",
         "D",
         "RENT",
         "11-10-2021",
         "15-05-2021",
         "14-11-2021",
         "Fully Paid",
         "14-12-2021",
         "1222795",
         "other",
         "D1",
         " 36 months",
         "Not Verified",
         "68736.0",
         "0.0716",
         "42.37",
         "0.1629",
         "1200",
         "15",
         "1525"
        ],
        [
         "22602",
         "862325",
         "TX",
         "INDIVIDUAL",
         "< 1 year",
         "Apple Computer",
         "B",
         "MORTGAGE",
         "11-09-2021",
         "16-05-2021",
         "15-05-2021",
         "Fully Paid",
         "15-06-2021",
         "1075261",
         "Debt consolidation",
         "B4",
         " 60 months",
         "Verified",
         "63000.0",
         "0.2434",
         "440.86",
         "0.1149",
         "20050",
         "24",
         "25919"
        ]
       ],
       "shape": {
        "columns": 24,
        "rows": 10
       }
      },
      "text/html": [
       "<div>\n",
       "<style scoped>\n",
       "    .dataframe tbody tr th:only-of-type {\n",
       "        vertical-align: middle;\n",
       "    }\n",
       "\n",
       "    .dataframe tbody tr th {\n",
       "        vertical-align: top;\n",
       "    }\n",
       "\n",
       "    .dataframe thead th {\n",
       "        text-align: right;\n",
       "    }\n",
       "</style>\n",
       "<table border=\"1\" class=\"dataframe\">\n",
       "  <thead>\n",
       "    <tr style=\"text-align: right;\">\n",
       "      <th></th>\n",
       "      <th>id</th>\n",
       "      <th>address_state</th>\n",
       "      <th>application_type</th>\n",
       "      <th>emp_length</th>\n",
       "      <th>emp_title</th>\n",
       "      <th>grade</th>\n",
       "      <th>home_ownership</th>\n",
       "      <th>issue_date</th>\n",
       "      <th>last_credit_pull_date</th>\n",
       "      <th>last_payment_date</th>\n",
       "      <th>...</th>\n",
       "      <th>sub_grade</th>\n",
       "      <th>term</th>\n",
       "      <th>verification_status</th>\n",
       "      <th>annual_income</th>\n",
       "      <th>dti</th>\n",
       "      <th>installment</th>\n",
       "      <th>int_rate</th>\n",
       "      <th>loan_amount</th>\n",
       "      <th>total_acc</th>\n",
       "      <th>total_payment</th>\n",
       "    </tr>\n",
       "  </thead>\n",
       "  <tbody>\n",
       "    <tr>\n",
       "      <th>37203</th>\n",
       "      <td>547816</td>\n",
       "      <td>NY</td>\n",
       "      <td>INDIVIDUAL</td>\n",
       "      <td>3 years</td>\n",
       "      <td>Sam Ash Music</td>\n",
       "      <td>D</td>\n",
       "      <td>RENT</td>\n",
       "      <td>10-07-2021</td>\n",
       "      <td>15-07-2021</td>\n",
       "      <td>15-08-2021</td>\n",
       "      <td>...</td>\n",
       "      <td>D5</td>\n",
       "      <td>60 months</td>\n",
       "      <td>Verified</td>\n",
       "      <td>24000.0</td>\n",
       "      <td>0.0925</td>\n",
       "      <td>336.72</td>\n",
       "      <td>0.1632</td>\n",
       "      <td>13750</td>\n",
       "      <td>13</td>\n",
       "      <td>20203</td>\n",
       "    </tr>\n",
       "    <tr>\n",
       "      <th>6882</th>\n",
       "      <td>1060481</td>\n",
       "      <td>FL</td>\n",
       "      <td>INDIVIDUAL</td>\n",
       "      <td>1 year</td>\n",
       "      <td>Kendall Regional Medical Center</td>\n",
       "      <td>B</td>\n",
       "      <td>RENT</td>\n",
       "      <td>11-12-2021</td>\n",
       "      <td>14-12-2021</td>\n",
       "      <td>14-12-2021</td>\n",
       "      <td>...</td>\n",
       "      <td>B2</td>\n",
       "      <td>36 months</td>\n",
       "      <td>Not Verified</td>\n",
       "      <td>26000.0</td>\n",
       "      <td>0.0978</td>\n",
       "      <td>325.74</td>\n",
       "      <td>0.1065</td>\n",
       "      <td>10000</td>\n",
       "      <td>12</td>\n",
       "      <td>11726</td>\n",
       "    </tr>\n",
       "    <tr>\n",
       "      <th>29506</th>\n",
       "      <td>810924</td>\n",
       "      <td>OH</td>\n",
       "      <td>INDIVIDUAL</td>\n",
       "      <td>&lt; 1 year</td>\n",
       "      <td>Honda R&amp;D</td>\n",
       "      <td>B</td>\n",
       "      <td>RENT</td>\n",
       "      <td>11-07-2021</td>\n",
       "      <td>14-07-2021</td>\n",
       "      <td>14-07-2021</td>\n",
       "      <td>...</td>\n",
       "      <td>B2</td>\n",
       "      <td>36 months</td>\n",
       "      <td>Source Verified</td>\n",
       "      <td>60000.0</td>\n",
       "      <td>0.1684</td>\n",
       "      <td>292.91</td>\n",
       "      <td>0.1059</td>\n",
       "      <td>9000</td>\n",
       "      <td>10</td>\n",
       "      <td>10545</td>\n",
       "    </tr>\n",
       "    <tr>\n",
       "      <th>31570</th>\n",
       "      <td>623481</td>\n",
       "      <td>CA</td>\n",
       "      <td>INDIVIDUAL</td>\n",
       "      <td>10+ years</td>\n",
       "      <td>Port of Oakland</td>\n",
       "      <td>C</td>\n",
       "      <td>MORTGAGE</td>\n",
       "      <td>10-12-2021</td>\n",
       "      <td>15-12-2021</td>\n",
       "      <td>15-12-2021</td>\n",
       "      <td>...</td>\n",
       "      <td>C3</td>\n",
       "      <td>60 months</td>\n",
       "      <td>Verified</td>\n",
       "      <td>140000.0</td>\n",
       "      <td>0.0426</td>\n",
       "      <td>408.24</td>\n",
       "      <td>0.1298</td>\n",
       "      <td>25000</td>\n",
       "      <td>17</td>\n",
       "      <td>24494</td>\n",
       "    </tr>\n",
       "    <tr>\n",
       "      <th>23694</th>\n",
       "      <td>782452</td>\n",
       "      <td>MD</td>\n",
       "      <td>INDIVIDUAL</td>\n",
       "      <td>5 years</td>\n",
       "      <td>US Army Corps of Engineers</td>\n",
       "      <td>C</td>\n",
       "      <td>RENT</td>\n",
       "      <td>11-06-2021</td>\n",
       "      <td>12-12-2021</td>\n",
       "      <td>12-12-2021</td>\n",
       "      <td>...</td>\n",
       "      <td>C1</td>\n",
       "      <td>60 months</td>\n",
       "      <td>Verified</td>\n",
       "      <td>74872.0</td>\n",
       "      <td>0.2269</td>\n",
       "      <td>454.96</td>\n",
       "      <td>0.1299</td>\n",
       "      <td>20000</td>\n",
       "      <td>23</td>\n",
       "      <td>23206</td>\n",
       "    </tr>\n",
       "    <tr>\n",
       "      <th>8416</th>\n",
       "      <td>881995</td>\n",
       "      <td>OR</td>\n",
       "      <td>INDIVIDUAL</td>\n",
       "      <td>5 years</td>\n",
       "      <td>Huron Consulting Group</td>\n",
       "      <td>A</td>\n",
       "      <td>MORTGAGE</td>\n",
       "      <td>11-09-2021</td>\n",
       "      <td>16-02-2021</td>\n",
       "      <td>14-10-2021</td>\n",
       "      <td>...</td>\n",
       "      <td>A5</td>\n",
       "      <td>36 months</td>\n",
       "      <td>Not Verified</td>\n",
       "      <td>53808.0</td>\n",
       "      <td>0.1588</td>\n",
       "      <td>190.52</td>\n",
       "      <td>0.0890</td>\n",
       "      <td>6000</td>\n",
       "      <td>15</td>\n",
       "      <td>6859</td>\n",
       "    </tr>\n",
       "    <tr>\n",
       "      <th>4653</th>\n",
       "      <td>863348</td>\n",
       "      <td>MN</td>\n",
       "      <td>INDIVIDUAL</td>\n",
       "      <td>2 years</td>\n",
       "      <td>Cargill, Incorporated</td>\n",
       "      <td>A</td>\n",
       "      <td>MORTGAGE</td>\n",
       "      <td>11-08-2021</td>\n",
       "      <td>16-05-2021</td>\n",
       "      <td>14-09-2021</td>\n",
       "      <td>...</td>\n",
       "      <td>A4</td>\n",
       "      <td>36 months</td>\n",
       "      <td>Verified</td>\n",
       "      <td>71500.0</td>\n",
       "      <td>0.1328</td>\n",
       "      <td>466.53</td>\n",
       "      <td>0.0749</td>\n",
       "      <td>15000</td>\n",
       "      <td>19</td>\n",
       "      <td>16795</td>\n",
       "    </tr>\n",
       "    <tr>\n",
       "      <th>14025</th>\n",
       "      <td>576013</td>\n",
       "      <td>OH</td>\n",
       "      <td>INDIVIDUAL</td>\n",
       "      <td>&lt; 1 year</td>\n",
       "      <td>Centurum</td>\n",
       "      <td>C</td>\n",
       "      <td>MORTGAGE</td>\n",
       "      <td>10-09-2021</td>\n",
       "      <td>14-01-2021</td>\n",
       "      <td>13-02-2021</td>\n",
       "      <td>...</td>\n",
       "      <td>C5</td>\n",
       "      <td>36 months</td>\n",
       "      <td>Source Verified</td>\n",
       "      <td>105000.0</td>\n",
       "      <td>0.0888</td>\n",
       "      <td>207.18</td>\n",
       "      <td>0.1472</td>\n",
       "      <td>6000</td>\n",
       "      <td>16</td>\n",
       "      <td>7390</td>\n",
       "    </tr>\n",
       "    <tr>\n",
       "      <th>33297</th>\n",
       "      <td>997677</td>\n",
       "      <td>WA</td>\n",
       "      <td>INDIVIDUAL</td>\n",
       "      <td>8 years</td>\n",
       "      <td>University of Washington Medical Center</td>\n",
       "      <td>D</td>\n",
       "      <td>RENT</td>\n",
       "      <td>11-10-2021</td>\n",
       "      <td>15-05-2021</td>\n",
       "      <td>14-11-2021</td>\n",
       "      <td>...</td>\n",
       "      <td>D1</td>\n",
       "      <td>36 months</td>\n",
       "      <td>Not Verified</td>\n",
       "      <td>68736.0</td>\n",
       "      <td>0.0716</td>\n",
       "      <td>42.37</td>\n",
       "      <td>0.1629</td>\n",
       "      <td>1200</td>\n",
       "      <td>15</td>\n",
       "      <td>1525</td>\n",
       "    </tr>\n",
       "    <tr>\n",
       "      <th>22602</th>\n",
       "      <td>862325</td>\n",
       "      <td>TX</td>\n",
       "      <td>INDIVIDUAL</td>\n",
       "      <td>&lt; 1 year</td>\n",
       "      <td>Apple Computer</td>\n",
       "      <td>B</td>\n",
       "      <td>MORTGAGE</td>\n",
       "      <td>11-09-2021</td>\n",
       "      <td>16-05-2021</td>\n",
       "      <td>15-05-2021</td>\n",
       "      <td>...</td>\n",
       "      <td>B4</td>\n",
       "      <td>60 months</td>\n",
       "      <td>Verified</td>\n",
       "      <td>63000.0</td>\n",
       "      <td>0.2434</td>\n",
       "      <td>440.86</td>\n",
       "      <td>0.1149</td>\n",
       "      <td>20050</td>\n",
       "      <td>24</td>\n",
       "      <td>25919</td>\n",
       "    </tr>\n",
       "  </tbody>\n",
       "</table>\n",
       "<p>10 rows × 24 columns</p>\n",
       "</div>"
      ],
      "text/plain": [
       "            id address_state application_type emp_length  \\\n",
       "37203   547816            NY       INDIVIDUAL    3 years   \n",
       "6882   1060481            FL       INDIVIDUAL     1 year   \n",
       "29506   810924            OH       INDIVIDUAL   < 1 year   \n",
       "31570   623481            CA       INDIVIDUAL  10+ years   \n",
       "23694   782452            MD       INDIVIDUAL    5 years   \n",
       "8416    881995            OR       INDIVIDUAL    5 years   \n",
       "4653    863348            MN       INDIVIDUAL    2 years   \n",
       "14025   576013            OH       INDIVIDUAL   < 1 year   \n",
       "33297   997677            WA       INDIVIDUAL    8 years   \n",
       "22602   862325            TX       INDIVIDUAL   < 1 year   \n",
       "\n",
       "                                     emp_title grade home_ownership  \\\n",
       "37203                            Sam Ash Music     D           RENT   \n",
       "6882           Kendall Regional Medical Center     B           RENT   \n",
       "29506                                Honda R&D     B           RENT   \n",
       "31570                          Port of Oakland     C       MORTGAGE   \n",
       "23694               US Army Corps of Engineers     C           RENT   \n",
       "8416                    Huron Consulting Group     A       MORTGAGE   \n",
       "4653                     Cargill, Incorporated     A       MORTGAGE   \n",
       "14025                                 Centurum     C       MORTGAGE   \n",
       "33297  University of Washington Medical Center     D           RENT   \n",
       "22602                           Apple Computer     B       MORTGAGE   \n",
       "\n",
       "       issue_date last_credit_pull_date last_payment_date  ... sub_grade  \\\n",
       "37203  10-07-2021            15-07-2021        15-08-2021  ...        D5   \n",
       "6882   11-12-2021            14-12-2021        14-12-2021  ...        B2   \n",
       "29506  11-07-2021            14-07-2021        14-07-2021  ...        B2   \n",
       "31570  10-12-2021            15-12-2021        15-12-2021  ...        C3   \n",
       "23694  11-06-2021            12-12-2021        12-12-2021  ...        C1   \n",
       "8416   11-09-2021            16-02-2021        14-10-2021  ...        A5   \n",
       "4653   11-08-2021            16-05-2021        14-09-2021  ...        A4   \n",
       "14025  10-09-2021            14-01-2021        13-02-2021  ...        C5   \n",
       "33297  11-10-2021            15-05-2021        14-11-2021  ...        D1   \n",
       "22602  11-09-2021            16-05-2021        15-05-2021  ...        B4   \n",
       "\n",
       "             term  verification_status annual_income     dti installment  \\\n",
       "37203   60 months             Verified       24000.0  0.0925      336.72   \n",
       "6882    36 months         Not Verified       26000.0  0.0978      325.74   \n",
       "29506   36 months      Source Verified       60000.0  0.1684      292.91   \n",
       "31570   60 months             Verified      140000.0  0.0426      408.24   \n",
       "23694   60 months             Verified       74872.0  0.2269      454.96   \n",
       "8416    36 months         Not Verified       53808.0  0.1588      190.52   \n",
       "4653    36 months             Verified       71500.0  0.1328      466.53   \n",
       "14025   36 months      Source Verified      105000.0  0.0888      207.18   \n",
       "33297   36 months         Not Verified       68736.0  0.0716       42.37   \n",
       "22602   60 months             Verified       63000.0  0.2434      440.86   \n",
       "\n",
       "      int_rate  loan_amount  total_acc  total_payment  \n",
       "37203   0.1632        13750         13          20203  \n",
       "6882    0.1065        10000         12          11726  \n",
       "29506   0.1059         9000         10          10545  \n",
       "31570   0.1298        25000         17          24494  \n",
       "23694   0.1299        20000         23          23206  \n",
       "8416    0.0890         6000         15           6859  \n",
       "4653    0.0749        15000         19          16795  \n",
       "14025   0.1472         6000         16           7390  \n",
       "33297   0.1629         1200         15           1525  \n",
       "22602   0.1149        20050         24          25919  \n",
       "\n",
       "[10 rows x 24 columns]"
      ]
     },
     "execution_count": 5,
     "metadata": {},
     "output_type": "execute_result"
    }
   ],
   "source": [
    "df=pd.read_csv('financial_loan.csv')\n",
    "df.sample(10)"
   ]
  },
  {
   "cell_type": "markdown",
   "id": "1e4cbe52",
   "metadata": {},
   "source": [
    "#### Basic Analysis"
   ]
  },
  {
   "cell_type": "code",
   "execution_count": 6,
   "id": "b5b2a88e",
   "metadata": {},
   "outputs": [
    {
     "data": {
      "application/vnd.microsoft.datawrangler.viewer.v0+json": {
       "columns": [
        {
         "name": "index",
         "rawType": "object",
         "type": "string"
        },
        {
         "name": "0",
         "rawType": "int64",
         "type": "integer"
        }
       ],
       "ref": "8a4b4095-fe1f-4b01-81f8-388da4a105e8",
       "rows": [
        [
         "id",
         "0"
        ],
        [
         "address_state",
         "0"
        ],
        [
         "application_type",
         "0"
        ],
        [
         "emp_length",
         "0"
        ],
        [
         "emp_title",
         "1438"
        ],
        [
         "grade",
         "0"
        ],
        [
         "home_ownership",
         "0"
        ],
        [
         "issue_date",
         "0"
        ],
        [
         "last_credit_pull_date",
         "0"
        ],
        [
         "last_payment_date",
         "0"
        ],
        [
         "loan_status",
         "0"
        ],
        [
         "next_payment_date",
         "0"
        ],
        [
         "member_id",
         "0"
        ],
        [
         "purpose",
         "0"
        ],
        [
         "sub_grade",
         "0"
        ],
        [
         "term",
         "0"
        ],
        [
         "verification_status",
         "0"
        ],
        [
         "annual_income",
         "0"
        ],
        [
         "dti",
         "0"
        ],
        [
         "installment",
         "0"
        ],
        [
         "int_rate",
         "0"
        ],
        [
         "loan_amount",
         "0"
        ],
        [
         "total_acc",
         "0"
        ],
        [
         "total_payment",
         "0"
        ]
       ],
       "shape": {
        "columns": 1,
        "rows": 24
       }
      },
      "text/plain": [
       "id                          0\n",
       "address_state               0\n",
       "application_type            0\n",
       "emp_length                  0\n",
       "emp_title                1438\n",
       "grade                       0\n",
       "home_ownership              0\n",
       "issue_date                  0\n",
       "last_credit_pull_date       0\n",
       "last_payment_date           0\n",
       "loan_status                 0\n",
       "next_payment_date           0\n",
       "member_id                   0\n",
       "purpose                     0\n",
       "sub_grade                   0\n",
       "term                        0\n",
       "verification_status         0\n",
       "annual_income               0\n",
       "dti                         0\n",
       "installment                 0\n",
       "int_rate                    0\n",
       "loan_amount                 0\n",
       "total_acc                   0\n",
       "total_payment               0\n",
       "dtype: int64"
      ]
     },
     "execution_count": 6,
     "metadata": {},
     "output_type": "execute_result"
    }
   ],
   "source": [
    "df.isnull().sum()"
   ]
  },
  {
   "cell_type": "code",
   "execution_count": 7,
   "id": "35cd53d6",
   "metadata": {},
   "outputs": [
    {
     "data": {
      "text/plain": [
       "(38576, 24)"
      ]
     },
     "execution_count": 7,
     "metadata": {},
     "output_type": "execute_result"
    }
   ],
   "source": [
    "df.shape"
   ]
  },
  {
   "cell_type": "code",
   "execution_count": 16,
   "id": "8eb0cb23",
   "metadata": {},
   "outputs": [
    {
     "name": "stdout",
     "output_type": "stream",
     "text": [
      "<class 'pandas.core.frame.DataFrame'>\n",
      "RangeIndex: 38576 entries, 0 to 38575\n",
      "Data columns (total 24 columns):\n",
      " #   Column                 Non-Null Count  Dtype         \n",
      "---  ------                 --------------  -----         \n",
      " 0   id                     38576 non-null  int64         \n",
      " 1   address_state          38576 non-null  object        \n",
      " 2   application_type       38576 non-null  object        \n",
      " 3   emp_length             38576 non-null  object        \n",
      " 4   emp_title              37138 non-null  object        \n",
      " 5   grade                  38576 non-null  object        \n",
      " 6   home_ownership         38576 non-null  object        \n",
      " 7   issue_date             38576 non-null  datetime64[ns]\n",
      " 8   last_credit_pull_date  38576 non-null  datetime64[ns]\n",
      " 9   last_payment_date      38576 non-null  datetime64[ns]\n",
      " 10  loan_status            38576 non-null  object        \n",
      " 11  next_payment_date      38576 non-null  datetime64[ns]\n",
      " 12  member_id              38576 non-null  int64         \n",
      " 13  purpose                38576 non-null  object        \n",
      " 14  sub_grade              38576 non-null  object        \n",
      " 15  term                   38576 non-null  object        \n",
      " 16  verification_status    38576 non-null  object        \n",
      " 17  annual_income          38576 non-null  float64       \n",
      " 18  dti                    38576 non-null  float64       \n",
      " 19  installment            38576 non-null  float64       \n",
      " 20  int_rate               38576 non-null  float64       \n",
      " 21  loan_amount            38576 non-null  int64         \n",
      " 22  total_acc              38576 non-null  int64         \n",
      " 23  total_payment          38576 non-null  int64         \n",
      "dtypes: datetime64[ns](4), float64(4), int64(5), object(11)\n",
      "memory usage: 7.1+ MB\n"
     ]
    }
   ],
   "source": [
    "df.info()"
   ]
  },
  {
   "cell_type": "code",
   "execution_count": 18,
   "id": "4bf5727e",
   "metadata": {},
   "outputs": [
    {
     "name": "stdout",
     "output_type": "stream",
     "text": [
      "issue_date               datetime64[ns]\n",
      "last_credit_pull_date    datetime64[ns]\n",
      "last_payment_date        datetime64[ns]\n",
      "next_payment_date        datetime64[ns]\n",
      "dtype: object\n",
      "  issue_date last_credit_pull_date last_payment_date next_payment_date\n",
      "0 2021-02-11            2021-09-13        2021-04-13        2021-05-13\n",
      "1 2021-01-01            2021-12-14        2021-01-15        2021-02-15\n",
      "2 2021-01-05            2021-12-12        2021-01-09        2021-02-09\n",
      "3 2021-02-25            2021-12-12        2021-03-12        2021-04-12\n",
      "4 2021-01-01            2021-12-14        2021-01-15        2021-02-15\n"
     ]
    }
   ],
   "source": [
    "# Identify the columns to be converted to datetime\n",
    "date_cols=['issue_date','last_credit_pull_date','last_payment_date','next_payment_date']\n",
    "\n",
    "# Convert the columns to datetime\n",
    "for col in date_cols:\n",
    "    df[col]=pd.to_datetime(df[col], format='%d-%m-%Y', errors='coerce')\n",
    "\n",
    "# Verify the data types of the columns\n",
    "print(df[date_cols].dtypes)\n",
    "\n",
    "# Display the first 5 rows of the dataframe with the converted columns\n",
    "print(df[date_cols].head())"
   ]
  },
  {
   "cell_type": "code",
   "execution_count": 15,
   "id": "0e07c69f",
   "metadata": {},
   "outputs": [],
   "source": [
    "df.to_csv('financial_loan.csv', index=False)"
   ]
  },
  {
   "cell_type": "code",
   "execution_count": 19,
   "id": "6e7b2141",
   "metadata": {},
   "outputs": [
    {
     "data": {
      "application/vnd.microsoft.datawrangler.viewer.v0+json": {
       "columns": [
        {
         "name": "index",
         "rawType": "object",
         "type": "string"
        },
        {
         "name": "id",
         "rawType": "float64",
         "type": "float"
        },
        {
         "name": "issue_date",
         "rawType": "object",
         "type": "unknown"
        },
        {
         "name": "last_credit_pull_date",
         "rawType": "object",
         "type": "unknown"
        },
        {
         "name": "last_payment_date",
         "rawType": "object",
         "type": "unknown"
        },
        {
         "name": "next_payment_date",
         "rawType": "object",
         "type": "unknown"
        },
        {
         "name": "member_id",
         "rawType": "float64",
         "type": "float"
        },
        {
         "name": "annual_income",
         "rawType": "float64",
         "type": "float"
        },
        {
         "name": "dti",
         "rawType": "float64",
         "type": "float"
        },
        {
         "name": "installment",
         "rawType": "float64",
         "type": "float"
        },
        {
         "name": "int_rate",
         "rawType": "float64",
         "type": "float"
        },
        {
         "name": "loan_amount",
         "rawType": "float64",
         "type": "float"
        },
        {
         "name": "total_acc",
         "rawType": "float64",
         "type": "float"
        },
        {
         "name": "total_payment",
         "rawType": "float64",
         "type": "float"
        }
       ],
       "ref": "6f3a6232-7697-4eee-bce3-a81799e55f0e",
       "rows": [
        [
         "count",
         "38576.0",
         "38576",
         "38576",
         "38576",
         "38576",
         "38576.0",
         "38576.0",
         "38576.0",
         "38576.0",
         "38576.0",
         "38576.0",
         "38576.0",
         "38576.0"
        ],
        [
         "mean",
         "681037.0613853172",
         "2021-07-16 02:31:35.562007040",
         "2021-06-08 13:36:34.193280512",
         "2021-06-26 09:52:08.909166080",
         "2021-07-26 20:42:20.605557760",
         "847651.5062992534",
         "69644.54031003732",
         "0.13327433119037743",
         "326.86296505599336",
         "0.12048831397760265",
         "11296.066855039402",
         "22.13254355039403",
         "12263.348532766488"
        ],
        [
         "min",
         "54734.0",
         "2021-01-01 00:00:00",
         "2021-01-08 00:00:00",
         "2021-01-08 00:00:00",
         "2021-02-08 00:00:00",
         "70699.0",
         "4000.0",
         "0.0",
         "15.69",
         "0.0542",
         "500.0",
         "2.0",
         "34.0"
        ],
        [
         "25%",
         "513517.0",
         "2021-04-11 00:00:00",
         "2021-04-15 00:00:00",
         "2021-03-16 00:00:00",
         "2021-04-16 00:00:00",
         "662978.75",
         "41500.0",
         "0.0821",
         "168.45",
         "0.0932",
         "5500.0",
         "14.0",
         "5633.0"
        ],
        [
         "50%",
         "662728.0",
         "2021-07-11 00:00:00",
         "2021-05-16 00:00:00",
         "2021-06-14 00:00:00",
         "2021-07-14 00:00:00",
         "847356.5",
         "60000.0",
         "0.1342",
         "283.045",
         "0.1186",
         "10000.0",
         "20.0",
         "10042.0"
        ],
        [
         "75%",
         "836506.0",
         "2021-10-11 00:00:00",
         "2021-08-13 00:00:00",
         "2021-09-15 00:00:00",
         "2021-10-15 00:00:00",
         "1045652.5",
         "83200.5",
         "0.1859",
         "434.4425",
         "0.1459",
         "15000.0",
         "29.0",
         "16658.0"
        ],
        [
         "max",
         "1077501.0",
         "2021-12-12 00:00:00",
         "2022-01-20 00:00:00",
         "2021-12-15 00:00:00",
         "2022-01-15 00:00:00",
         "1314167.0",
         "6000000.0",
         "0.2999",
         "1305.19",
         "0.2459",
         "35000.0",
         "90.0",
         "58564.0"
        ],
        [
         "std",
         "211324.57821758432",
         null,
         null,
         null,
         null,
         "266810.4568596022",
         "64293.68104452454",
         "0.06666155326867897",
         "209.0920003895784",
         "0.03716412124646389",
         "7460.746022249619",
         "11.392282074170602",
         "9051.104776587128"
        ]
       ],
       "shape": {
        "columns": 13,
        "rows": 8
       }
      },
      "text/html": [
       "<div>\n",
       "<style scoped>\n",
       "    .dataframe tbody tr th:only-of-type {\n",
       "        vertical-align: middle;\n",
       "    }\n",
       "\n",
       "    .dataframe tbody tr th {\n",
       "        vertical-align: top;\n",
       "    }\n",
       "\n",
       "    .dataframe thead th {\n",
       "        text-align: right;\n",
       "    }\n",
       "</style>\n",
       "<table border=\"1\" class=\"dataframe\">\n",
       "  <thead>\n",
       "    <tr style=\"text-align: right;\">\n",
       "      <th></th>\n",
       "      <th>id</th>\n",
       "      <th>issue_date</th>\n",
       "      <th>last_credit_pull_date</th>\n",
       "      <th>last_payment_date</th>\n",
       "      <th>next_payment_date</th>\n",
       "      <th>member_id</th>\n",
       "      <th>annual_income</th>\n",
       "      <th>dti</th>\n",
       "      <th>installment</th>\n",
       "      <th>int_rate</th>\n",
       "      <th>loan_amount</th>\n",
       "      <th>total_acc</th>\n",
       "      <th>total_payment</th>\n",
       "    </tr>\n",
       "  </thead>\n",
       "  <tbody>\n",
       "    <tr>\n",
       "      <th>count</th>\n",
       "      <td>3.857600e+04</td>\n",
       "      <td>38576</td>\n",
       "      <td>38576</td>\n",
       "      <td>38576</td>\n",
       "      <td>38576</td>\n",
       "      <td>3.857600e+04</td>\n",
       "      <td>3.857600e+04</td>\n",
       "      <td>38576.000000</td>\n",
       "      <td>38576.000000</td>\n",
       "      <td>38576.000000</td>\n",
       "      <td>38576.000000</td>\n",
       "      <td>38576.000000</td>\n",
       "      <td>38576.000000</td>\n",
       "    </tr>\n",
       "    <tr>\n",
       "      <th>mean</th>\n",
       "      <td>6.810371e+05</td>\n",
       "      <td>2021-07-16 02:31:35.562007040</td>\n",
       "      <td>2021-06-08 13:36:34.193280512</td>\n",
       "      <td>2021-06-26 09:52:08.909166080</td>\n",
       "      <td>2021-07-26 20:42:20.605557760</td>\n",
       "      <td>8.476515e+05</td>\n",
       "      <td>6.964454e+04</td>\n",
       "      <td>0.133274</td>\n",
       "      <td>326.862965</td>\n",
       "      <td>0.120488</td>\n",
       "      <td>11296.066855</td>\n",
       "      <td>22.132544</td>\n",
       "      <td>12263.348533</td>\n",
       "    </tr>\n",
       "    <tr>\n",
       "      <th>min</th>\n",
       "      <td>5.473400e+04</td>\n",
       "      <td>2021-01-01 00:00:00</td>\n",
       "      <td>2021-01-08 00:00:00</td>\n",
       "      <td>2021-01-08 00:00:00</td>\n",
       "      <td>2021-02-08 00:00:00</td>\n",
       "      <td>7.069900e+04</td>\n",
       "      <td>4.000000e+03</td>\n",
       "      <td>0.000000</td>\n",
       "      <td>15.690000</td>\n",
       "      <td>0.054200</td>\n",
       "      <td>500.000000</td>\n",
       "      <td>2.000000</td>\n",
       "      <td>34.000000</td>\n",
       "    </tr>\n",
       "    <tr>\n",
       "      <th>25%</th>\n",
       "      <td>5.135170e+05</td>\n",
       "      <td>2021-04-11 00:00:00</td>\n",
       "      <td>2021-04-15 00:00:00</td>\n",
       "      <td>2021-03-16 00:00:00</td>\n",
       "      <td>2021-04-16 00:00:00</td>\n",
       "      <td>6.629788e+05</td>\n",
       "      <td>4.150000e+04</td>\n",
       "      <td>0.082100</td>\n",
       "      <td>168.450000</td>\n",
       "      <td>0.093200</td>\n",
       "      <td>5500.000000</td>\n",
       "      <td>14.000000</td>\n",
       "      <td>5633.000000</td>\n",
       "    </tr>\n",
       "    <tr>\n",
       "      <th>50%</th>\n",
       "      <td>6.627280e+05</td>\n",
       "      <td>2021-07-11 00:00:00</td>\n",
       "      <td>2021-05-16 00:00:00</td>\n",
       "      <td>2021-06-14 00:00:00</td>\n",
       "      <td>2021-07-14 00:00:00</td>\n",
       "      <td>8.473565e+05</td>\n",
       "      <td>6.000000e+04</td>\n",
       "      <td>0.134200</td>\n",
       "      <td>283.045000</td>\n",
       "      <td>0.118600</td>\n",
       "      <td>10000.000000</td>\n",
       "      <td>20.000000</td>\n",
       "      <td>10042.000000</td>\n",
       "    </tr>\n",
       "    <tr>\n",
       "      <th>75%</th>\n",
       "      <td>8.365060e+05</td>\n",
       "      <td>2021-10-11 00:00:00</td>\n",
       "      <td>2021-08-13 00:00:00</td>\n",
       "      <td>2021-09-15 00:00:00</td>\n",
       "      <td>2021-10-15 00:00:00</td>\n",
       "      <td>1.045652e+06</td>\n",
       "      <td>8.320050e+04</td>\n",
       "      <td>0.185900</td>\n",
       "      <td>434.442500</td>\n",
       "      <td>0.145900</td>\n",
       "      <td>15000.000000</td>\n",
       "      <td>29.000000</td>\n",
       "      <td>16658.000000</td>\n",
       "    </tr>\n",
       "    <tr>\n",
       "      <th>max</th>\n",
       "      <td>1.077501e+06</td>\n",
       "      <td>2021-12-12 00:00:00</td>\n",
       "      <td>2022-01-20 00:00:00</td>\n",
       "      <td>2021-12-15 00:00:00</td>\n",
       "      <td>2022-01-15 00:00:00</td>\n",
       "      <td>1.314167e+06</td>\n",
       "      <td>6.000000e+06</td>\n",
       "      <td>0.299900</td>\n",
       "      <td>1305.190000</td>\n",
       "      <td>0.245900</td>\n",
       "      <td>35000.000000</td>\n",
       "      <td>90.000000</td>\n",
       "      <td>58564.000000</td>\n",
       "    </tr>\n",
       "    <tr>\n",
       "      <th>std</th>\n",
       "      <td>2.113246e+05</td>\n",
       "      <td>NaN</td>\n",
       "      <td>NaN</td>\n",
       "      <td>NaN</td>\n",
       "      <td>NaN</td>\n",
       "      <td>2.668105e+05</td>\n",
       "      <td>6.429368e+04</td>\n",
       "      <td>0.066662</td>\n",
       "      <td>209.092000</td>\n",
       "      <td>0.037164</td>\n",
       "      <td>7460.746022</td>\n",
       "      <td>11.392282</td>\n",
       "      <td>9051.104777</td>\n",
       "    </tr>\n",
       "  </tbody>\n",
       "</table>\n",
       "</div>"
      ],
      "text/plain": [
       "                 id                     issue_date  \\\n",
       "count  3.857600e+04                          38576   \n",
       "mean   6.810371e+05  2021-07-16 02:31:35.562007040   \n",
       "min    5.473400e+04            2021-01-01 00:00:00   \n",
       "25%    5.135170e+05            2021-04-11 00:00:00   \n",
       "50%    6.627280e+05            2021-07-11 00:00:00   \n",
       "75%    8.365060e+05            2021-10-11 00:00:00   \n",
       "max    1.077501e+06            2021-12-12 00:00:00   \n",
       "std    2.113246e+05                            NaN   \n",
       "\n",
       "               last_credit_pull_date              last_payment_date  \\\n",
       "count                          38576                          38576   \n",
       "mean   2021-06-08 13:36:34.193280512  2021-06-26 09:52:08.909166080   \n",
       "min              2021-01-08 00:00:00            2021-01-08 00:00:00   \n",
       "25%              2021-04-15 00:00:00            2021-03-16 00:00:00   \n",
       "50%              2021-05-16 00:00:00            2021-06-14 00:00:00   \n",
       "75%              2021-08-13 00:00:00            2021-09-15 00:00:00   \n",
       "max              2022-01-20 00:00:00            2021-12-15 00:00:00   \n",
       "std                              NaN                            NaN   \n",
       "\n",
       "                   next_payment_date     member_id  annual_income  \\\n",
       "count                          38576  3.857600e+04   3.857600e+04   \n",
       "mean   2021-07-26 20:42:20.605557760  8.476515e+05   6.964454e+04   \n",
       "min              2021-02-08 00:00:00  7.069900e+04   4.000000e+03   \n",
       "25%              2021-04-16 00:00:00  6.629788e+05   4.150000e+04   \n",
       "50%              2021-07-14 00:00:00  8.473565e+05   6.000000e+04   \n",
       "75%              2021-10-15 00:00:00  1.045652e+06   8.320050e+04   \n",
       "max              2022-01-15 00:00:00  1.314167e+06   6.000000e+06   \n",
       "std                              NaN  2.668105e+05   6.429368e+04   \n",
       "\n",
       "                dti   installment      int_rate   loan_amount     total_acc  \\\n",
       "count  38576.000000  38576.000000  38576.000000  38576.000000  38576.000000   \n",
       "mean       0.133274    326.862965      0.120488  11296.066855     22.132544   \n",
       "min        0.000000     15.690000      0.054200    500.000000      2.000000   \n",
       "25%        0.082100    168.450000      0.093200   5500.000000     14.000000   \n",
       "50%        0.134200    283.045000      0.118600  10000.000000     20.000000   \n",
       "75%        0.185900    434.442500      0.145900  15000.000000     29.000000   \n",
       "max        0.299900   1305.190000      0.245900  35000.000000     90.000000   \n",
       "std        0.066662    209.092000      0.037164   7460.746022     11.392282   \n",
       "\n",
       "       total_payment  \n",
       "count   38576.000000  \n",
       "mean    12263.348533  \n",
       "min        34.000000  \n",
       "25%      5633.000000  \n",
       "50%     10042.000000  \n",
       "75%     16658.000000  \n",
       "max     58564.000000  \n",
       "std      9051.104777  "
      ]
     },
     "execution_count": 19,
     "metadata": {},
     "output_type": "execute_result"
    }
   ],
   "source": [
    "df.describe()"
   ]
  },
  {
   "cell_type": "markdown",
   "id": "102c0122",
   "metadata": {},
   "source": [
    "### Problem Solving"
   ]
  },
  {
   "cell_type": "markdown",
   "id": "b1b26bac",
   "metadata": {},
   "source": [
    "#### Total Loan Applications"
   ]
  },
  {
   "cell_type": "code",
   "execution_count": 23,
   "id": "d06ced15",
   "metadata": {},
   "outputs": [
    {
     "name": "stdout",
     "output_type": "stream",
     "text": [
      "Total loan applicants:- 38576\n"
     ]
    }
   ],
   "source": [
    "total_loan_app=df['id'].count()\n",
    "print('Total loan applicants:-',total_loan_app)"
   ]
  },
  {
   "cell_type": "markdown",
   "id": "8057830b",
   "metadata": {},
   "source": [
    "#### MTD Loan Applications"
   ]
  },
  {
   "cell_type": "code",
   "execution_count": 31,
   "id": "2dd4059d",
   "metadata": {},
   "outputs": [
    {
     "name": "stdout",
     "output_type": "stream",
     "text": [
      "MTD Loan Applications(for December 2021):- 4314\n"
     ]
    }
   ],
   "source": [
    "latest_issue_date=df['issue_date'].max()\n",
    "latest_year=latest_issue_date.year\n",
    "latest_month=latest_issue_date.month\n",
    "\n",
    "mtd_data=df[(df['issue_date'].dt.year==latest_year) & \n",
    "              (df['issue_date'].dt.month==latest_month)]\n",
    "mtd_loan_app=mtd_data['id'].count()\n",
    "\n",
    "print(f\"MTD Loan Applications(for {latest_issue_date.strftime('%B %Y')}):- {mtd_loan_app}\")"
   ]
  },
  {
   "cell_type": "markdown",
   "id": "96fb6312",
   "metadata": {},
   "source": [
    "#### Total Funded Amount"
   ]
  },
  {
   "cell_type": "code",
   "execution_count": 40,
   "id": "c2f6af78",
   "metadata": {},
   "outputs": [
    {
     "name": "stdout",
     "output_type": "stream",
     "text": [
      "Total Funded Amount:- $435.76M\n"
     ]
    }
   ],
   "source": [
    "total_fund=df['loan_amount'].sum()/1000000\n",
    "print('Total Funded Amount:- ${:.2f}M'.format(total_fund))"
   ]
  },
  {
   "cell_type": "markdown",
   "id": "d679c11c",
   "metadata": {},
   "source": [
    "#### MTD - Total Funded Amount"
   ]
  },
  {
   "cell_type": "code",
   "execution_count": 43,
   "id": "0ea6f8fd",
   "metadata": {},
   "outputs": [
    {
     "name": "stdout",
     "output_type": "stream",
     "text": [
      "MTD Total Funded Amount:- $53.98M\n"
     ]
    }
   ],
   "source": [
    "latest_issue_date=df['issue_date'].max()\n",
    "latest_year=latest_issue_date.year\n",
    "latest_month=latest_issue_date.month\n",
    "\n",
    "mtd_data=df[(df['issue_date'].dt.year==latest_year) & \n",
    "              (df['issue_date'].dt.month==latest_month)]\n",
    "\n",
    "total_fund=mtd_data['loan_amount'].sum()/1000000\n",
    "\n",
    "print('MTD Total Funded Amount:- ${:.2f}M'.format(total_fund))"
   ]
  },
  {
   "cell_type": "markdown",
   "id": "940ac34f",
   "metadata": {},
   "source": [
    "#### MTD Total Amount Received"
   ]
  },
  {
   "cell_type": "code",
   "execution_count": 45,
   "id": "cc78aeec",
   "metadata": {},
   "outputs": [
    {
     "name": "stdout",
     "output_type": "stream",
     "text": [
      "MTD Total Funded Amount:- $58.07M\n"
     ]
    }
   ],
   "source": [
    "latest_issue_date=df['issue_date'].max()\n",
    "latest_year=latest_issue_date.year\n",
    "latest_month=latest_issue_date.month\n",
    "\n",
    "mtd_data=df[(df['issue_date'].dt.year==latest_year) & \n",
    "              (df['issue_date'].dt.month==latest_month)]\n",
    "\n",
    "total_received=mtd_data['total_payment'].sum()/1000000\n",
    "\n",
    "print('MTD Total Funded Amount:- ${:.2f}M'.format(total_received))"
   ]
  },
  {
   "cell_type": "markdown",
   "id": "367f7009",
   "metadata": {},
   "source": [
    "#### Avg Interest Rate"
   ]
  },
  {
   "cell_type": "code",
   "execution_count": 51,
   "id": "6b4b8b2e",
   "metadata": {},
   "outputs": [
    {
     "name": "stdout",
     "output_type": "stream",
     "text": [
      "Avg Interest Rate:- 12.05%\n"
     ]
    }
   ],
   "source": [
    "avg_int_rate=df['int_rate'].mean()*100\n",
    "print('Avg Interest Rate:- {:.2f}%'.format(avg_int_rate))"
   ]
  },
  {
   "cell_type": "markdown",
   "id": "a18dc017",
   "metadata": {},
   "source": [
    "#### Avg Debt-to-Income Ratio(DTI)"
   ]
  },
  {
   "cell_type": "code",
   "execution_count": 55,
   "id": "d4365a4a",
   "metadata": {},
   "outputs": [
    {
     "name": "stdout",
     "output_type": "stream",
     "text": [
      "Avg DTI:- 13.33\n"
     ]
    }
   ],
   "source": [
    "avg_dti=df['dti'].mean()*100\n",
    "print('Avg DTI:- {:.2f}'.format(avg_dti))"
   ]
  },
  {
   "cell_type": "markdown",
   "id": "899bf97e",
   "metadata": {},
   "source": [
    "#### Good Loan Metrics"
   ]
  },
  {
   "cell_type": "code",
   "execution_count": 56,
   "id": "d80c0af0",
   "metadata": {},
   "outputs": [
    {
     "name": "stdout",
     "output_type": "stream",
     "text": [
      "Good Loan App:- 33243\n",
      "Good Loan Fund:- $370.22M\n",
      "Good Loan Received:- $435.79M\n",
      "Perc of Good Loan App:- 86.18%\n"
     ]
    }
   ],
   "source": [
    "good_loans=df[df['loan_status'].isin(['Fully Paid','Current'])]\n",
    "\n",
    "total_loan_app=df['id'].count()\n",
    "\n",
    "good_loan_app=good_loans['id'].count()\n",
    "good_loan_fund=good_loans['loan_amount'].sum()/1000000\n",
    "good_loan_received=good_loans['total_payment'].sum()/1000000\n",
    "\n",
    "gl_perc=(good_loan_app/total_loan_app)*100\n",
    "\n",
    "print('Good Loan App:-',good_loan_app)\n",
    "print('Good Loan Fund:- ${:.2f}M'.format(good_loan_fund))\n",
    "print('Good Loan Received:- ${:.2f}M'.format(good_loan_received))\n",
    "print('Perc of Good Loan App:- {:.2f}%'.format(gl_perc))\n"
   ]
  },
  {
   "cell_type": "code",
   "execution_count": null,
   "id": "231b0512",
   "metadata": {},
   "outputs": [],
   "source": []
  }
 ],
 "metadata": {
  "kernelspec": {
   "display_name": "base",
   "language": "python",
   "name": "python3"
  },
  "language_info": {
   "codemirror_mode": {
    "name": "ipython",
    "version": 3
   },
   "file_extension": ".py",
   "mimetype": "text/x-python",
   "name": "python",
   "nbconvert_exporter": "python",
   "pygments_lexer": "ipython3",
   "version": "3.12.4"
  }
 },
 "nbformat": 4,
 "nbformat_minor": 5
}
