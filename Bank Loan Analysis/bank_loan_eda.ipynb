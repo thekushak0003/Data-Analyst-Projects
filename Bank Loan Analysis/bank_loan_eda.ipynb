{
 "cells": [
  {
   "cell_type": "markdown",
   "id": "78defff0",
   "metadata": {},
   "source": [
    "# Bank Loan Analysis Project"
   ]
  },
  {
   "cell_type": "markdown",
   "id": "35e9601a",
   "metadata": {},
   "source": [
    "#### Importing Libraries"
   ]
  },
  {
   "cell_type": "code",
   "execution_count": 27,
   "id": "035d5c43",
   "metadata": {},
   "outputs": [],
   "source": [
    "import pandas as pd \n",
    "import numpy as np\n",
    "import matplotlib.pyplot as plt\n",
    "import seaborn as sns\n",
    "import warnings\n",
    "import plotly.express as px     "
   ]
  },
  {
   "cell_type": "markdown",
   "id": "7bd068e3",
   "metadata": {},
   "source": [
    "#### Loading Dataset"
   ]
  },
  {
   "cell_type": "code",
   "execution_count": 30,
   "id": "96e40358",
   "metadata": {},
   "outputs": [
    {
     "data": {
      "application/vnd.microsoft.datawrangler.viewer.v0+json": {
       "columns": [
        {
         "name": "index",
         "rawType": "int64",
         "type": "integer"
        },
        {
         "name": "id",
         "rawType": "int64",
         "type": "integer"
        },
        {
         "name": "address_state",
         "rawType": "object",
         "type": "string"
        },
        {
         "name": "application_type",
         "rawType": "object",
         "type": "string"
        },
        {
         "name": "emp_length",
         "rawType": "object",
         "type": "string"
        },
        {
         "name": "emp_title",
         "rawType": "object",
         "type": "string"
        },
        {
         "name": "grade",
         "rawType": "object",
         "type": "string"
        },
        {
         "name": "home_ownership",
         "rawType": "object",
         "type": "string"
        },
        {
         "name": "issue_date",
         "rawType": "object",
         "type": "string"
        },
        {
         "name": "last_credit_pull_date",
         "rawType": "object",
         "type": "string"
        },
        {
         "name": "last_payment_date",
         "rawType": "object",
         "type": "string"
        },
        {
         "name": "loan_status",
         "rawType": "object",
         "type": "string"
        },
        {
         "name": "next_payment_date",
         "rawType": "object",
         "type": "string"
        },
        {
         "name": "member_id",
         "rawType": "int64",
         "type": "integer"
        },
        {
         "name": "purpose",
         "rawType": "object",
         "type": "string"
        },
        {
         "name": "sub_grade",
         "rawType": "object",
         "type": "string"
        },
        {
         "name": "term",
         "rawType": "object",
         "type": "string"
        },
        {
         "name": "verification_status",
         "rawType": "object",
         "type": "string"
        },
        {
         "name": "annual_income",
         "rawType": "float64",
         "type": "float"
        },
        {
         "name": "dti",
         "rawType": "float64",
         "type": "float"
        },
        {
         "name": "installment",
         "rawType": "float64",
         "type": "float"
        },
        {
         "name": "int_rate",
         "rawType": "float64",
         "type": "float"
        },
        {
         "name": "loan_amount",
         "rawType": "int64",
         "type": "integer"
        },
        {
         "name": "total_acc",
         "rawType": "int64",
         "type": "integer"
        },
        {
         "name": "total_payment",
         "rawType": "int64",
         "type": "integer"
        }
       ],
       "ref": "ec9ddd94-8f55-438a-b3b1-6426290c4875",
       "rows": [
        [
         "11723",
         "509214",
         "MA",
         "INDIVIDUAL",
         "10+ years",
         "IBM",
         "C",
         "RENT",
         "10-04-2021",
         "16-04-2021",
         "11-11-2021",
         "Fully Paid",
         "11-12-2021",
         "657200",
         "Debt consolidation",
         "C2",
         " 36 months",
         "Not Verified",
         "53544.0",
         "0.1407",
         "60.75",
         "0.1311",
         "1800",
         "23",
         "2081"
        ],
        [
         "25215",
         "863854",
         "OH",
         "INDIVIDUAL",
         "10+ years",
         "Pilkiington North America",
         "A",
         "MORTGAGE",
         "11-08-2021",
         "14-09-2021",
         "14-09-2021",
         "Fully Paid",
         "14-10-2021",
         "1077002",
         "home improvement",
         "A1",
         " 36 months",
         "Not Verified",
         "120000.0",
         "0.0715",
         "437.32",
         "0.0542",
         "14500",
         "28",
         "15743"
        ],
        [
         "8342",
         "1027758",
         "MN",
         "INDIVIDUAL",
         "10+ years",
         "Fairview Health Services",
         "A",
         "MORTGAGE",
         "11-11-2021",
         "16-04-2021",
         "12-06-2021",
         "Fully Paid",
         "12-07-2021",
         "1257331",
         "Debt consolidation",
         "A4",
         " 36 months",
         "Not Verified",
         "85000.0",
         "0.1272",
         "469.36",
         "0.079",
         "15000",
         "53",
         "15367"
        ],
        [
         "24606",
         "884223",
         "FL",
         "INDIVIDUAL",
         "2 years",
         "iGov  Inc",
         "B",
         "RENT",
         "11-09-2021",
         "16-05-2021",
         "16-05-2021",
         "Current",
         "16-06-2021",
         "1099521",
         "Debt consolidation",
         "B4",
         " 60 months",
         "Verified",
         "125004.0",
         "0.1858",
         "500.24",
         "0.1242",
         "30000",
         "29",
         "27501"
        ],
        [
         "25687",
         "524037",
         "PA",
         "INDIVIDUAL",
         "4 years",
         "Leeds",
         "B",
         "MORTGAGE",
         "10-06-2021",
         "14-01-2021",
         "11-04-2021",
         "Fully Paid",
         "11-05-2021",
         "678061",
         "home improvement",
         "B4",
         " 36 months",
         "Not Verified",
         "21000.0",
         "0.1811",
         "98.92",
         "0.1149",
         "3000",
         "7",
         "3256"
        ],
        [
         "35771",
         "383164",
         "GA",
         "INDIVIDUAL",
         "9 years",
         "Beauty Mart Supplies",
         "A",
         "MORTGAGE",
         "09-03-2021",
         "12-07-2021",
         "12-03-2021",
         "Fully Paid",
         "12-04-2021",
         "413300",
         "small business",
         "A5",
         " 36 months",
         "Not Verified",
         "48000.0",
         "0.2452",
         "318.54",
         "0.0963",
         "9925",
         "14",
         "11467"
        ],
        [
         "31024",
         "776547",
         "CA",
         "INDIVIDUAL",
         "< 1 year",
         "Kforce Professional / Kaiser Permanente",
         "D",
         "RENT",
         "11-06-2021",
         "16-03-2021",
         "16-03-2021",
         "Fully Paid",
         "16-04-2021",
         "978906",
         "medical",
         "D3",
         " 60 months",
         "Verified",
         "47839.92",
         "0.1914",
         "368.69",
         "0.1649",
         "15000",
         "32",
         "22061"
        ],
        [
         "4512",
         "551889",
         "IL",
         "INDIVIDUAL",
         "< 1 year",
         "MSpace",
         "E",
         "RENT",
         "10-07-2021",
         "16-05-2021",
         "12-04-2021",
         "Fully Paid",
         "12-05-2021",
         "711199",
         "credit card",
         "E1",
         " 36 months",
         "Source Verified",
         "65000.0",
         "0.1215",
         "530.7",
         "0.1645",
         "15000",
         "12",
         "18192"
        ],
        [
         "15571",
         "892098",
         "MI",
         "INDIVIDUAL",
         "8 years",
         "ALLIANT CREDIT UNION",
         "C",
         "RENT",
         "11-09-2021",
         "16-05-2021",
         "13-04-2021",
         "Fully Paid",
         "13-05-2021",
         "1109027",
         "Debt consolidation",
         "C1",
         " 36 months",
         "Source Verified",
         "90000.0",
         "0.1963",
         "237.52",
         "0.1349",
         "7000",
         "23",
         "8127"
        ],
        [
         "3055",
         "565538",
         "CA",
         "INDIVIDUAL",
         "4 years",
         "Stargate Studios",
         "B",
         "RENT",
         "10-08-2021",
         "13-08-2021",
         "13-09-2021",
         "Fully Paid",
         "13-10-2021",
         "727581",
         "credit card",
         "B5",
         " 36 months",
         "Not Verified",
         "50000.0",
         "0.1519",
         "92.82",
         "0.1186",
         "2800",
         "19",
         "3342"
        ]
       ],
       "shape": {
        "columns": 24,
        "rows": 10
       }
      },
      "text/html": [
       "<div>\n",
       "<style scoped>\n",
       "    .dataframe tbody tr th:only-of-type {\n",
       "        vertical-align: middle;\n",
       "    }\n",
       "\n",
       "    .dataframe tbody tr th {\n",
       "        vertical-align: top;\n",
       "    }\n",
       "\n",
       "    .dataframe thead th {\n",
       "        text-align: right;\n",
       "    }\n",
       "</style>\n",
       "<table border=\"1\" class=\"dataframe\">\n",
       "  <thead>\n",
       "    <tr style=\"text-align: right;\">\n",
       "      <th></th>\n",
       "      <th>id</th>\n",
       "      <th>address_state</th>\n",
       "      <th>application_type</th>\n",
       "      <th>emp_length</th>\n",
       "      <th>emp_title</th>\n",
       "      <th>grade</th>\n",
       "      <th>home_ownership</th>\n",
       "      <th>issue_date</th>\n",
       "      <th>last_credit_pull_date</th>\n",
       "      <th>last_payment_date</th>\n",
       "      <th>...</th>\n",
       "      <th>sub_grade</th>\n",
       "      <th>term</th>\n",
       "      <th>verification_status</th>\n",
       "      <th>annual_income</th>\n",
       "      <th>dti</th>\n",
       "      <th>installment</th>\n",
       "      <th>int_rate</th>\n",
       "      <th>loan_amount</th>\n",
       "      <th>total_acc</th>\n",
       "      <th>total_payment</th>\n",
       "    </tr>\n",
       "  </thead>\n",
       "  <tbody>\n",
       "    <tr>\n",
       "      <th>11723</th>\n",
       "      <td>509214</td>\n",
       "      <td>MA</td>\n",
       "      <td>INDIVIDUAL</td>\n",
       "      <td>10+ years</td>\n",
       "      <td>IBM</td>\n",
       "      <td>C</td>\n",
       "      <td>RENT</td>\n",
       "      <td>10-04-2021</td>\n",
       "      <td>16-04-2021</td>\n",
       "      <td>11-11-2021</td>\n",
       "      <td>...</td>\n",
       "      <td>C2</td>\n",
       "      <td>36 months</td>\n",
       "      <td>Not Verified</td>\n",
       "      <td>53544.00</td>\n",
       "      <td>0.1407</td>\n",
       "      <td>60.75</td>\n",
       "      <td>0.1311</td>\n",
       "      <td>1800</td>\n",
       "      <td>23</td>\n",
       "      <td>2081</td>\n",
       "    </tr>\n",
       "    <tr>\n",
       "      <th>25215</th>\n",
       "      <td>863854</td>\n",
       "      <td>OH</td>\n",
       "      <td>INDIVIDUAL</td>\n",
       "      <td>10+ years</td>\n",
       "      <td>Pilkiington North America</td>\n",
       "      <td>A</td>\n",
       "      <td>MORTGAGE</td>\n",
       "      <td>11-08-2021</td>\n",
       "      <td>14-09-2021</td>\n",
       "      <td>14-09-2021</td>\n",
       "      <td>...</td>\n",
       "      <td>A1</td>\n",
       "      <td>36 months</td>\n",
       "      <td>Not Verified</td>\n",
       "      <td>120000.00</td>\n",
       "      <td>0.0715</td>\n",
       "      <td>437.32</td>\n",
       "      <td>0.0542</td>\n",
       "      <td>14500</td>\n",
       "      <td>28</td>\n",
       "      <td>15743</td>\n",
       "    </tr>\n",
       "    <tr>\n",
       "      <th>8342</th>\n",
       "      <td>1027758</td>\n",
       "      <td>MN</td>\n",
       "      <td>INDIVIDUAL</td>\n",
       "      <td>10+ years</td>\n",
       "      <td>Fairview Health Services</td>\n",
       "      <td>A</td>\n",
       "      <td>MORTGAGE</td>\n",
       "      <td>11-11-2021</td>\n",
       "      <td>16-04-2021</td>\n",
       "      <td>12-06-2021</td>\n",
       "      <td>...</td>\n",
       "      <td>A4</td>\n",
       "      <td>36 months</td>\n",
       "      <td>Not Verified</td>\n",
       "      <td>85000.00</td>\n",
       "      <td>0.1272</td>\n",
       "      <td>469.36</td>\n",
       "      <td>0.0790</td>\n",
       "      <td>15000</td>\n",
       "      <td>53</td>\n",
       "      <td>15367</td>\n",
       "    </tr>\n",
       "    <tr>\n",
       "      <th>24606</th>\n",
       "      <td>884223</td>\n",
       "      <td>FL</td>\n",
       "      <td>INDIVIDUAL</td>\n",
       "      <td>2 years</td>\n",
       "      <td>iGov  Inc</td>\n",
       "      <td>B</td>\n",
       "      <td>RENT</td>\n",
       "      <td>11-09-2021</td>\n",
       "      <td>16-05-2021</td>\n",
       "      <td>16-05-2021</td>\n",
       "      <td>...</td>\n",
       "      <td>B4</td>\n",
       "      <td>60 months</td>\n",
       "      <td>Verified</td>\n",
       "      <td>125004.00</td>\n",
       "      <td>0.1858</td>\n",
       "      <td>500.24</td>\n",
       "      <td>0.1242</td>\n",
       "      <td>30000</td>\n",
       "      <td>29</td>\n",
       "      <td>27501</td>\n",
       "    </tr>\n",
       "    <tr>\n",
       "      <th>25687</th>\n",
       "      <td>524037</td>\n",
       "      <td>PA</td>\n",
       "      <td>INDIVIDUAL</td>\n",
       "      <td>4 years</td>\n",
       "      <td>Leeds</td>\n",
       "      <td>B</td>\n",
       "      <td>MORTGAGE</td>\n",
       "      <td>10-06-2021</td>\n",
       "      <td>14-01-2021</td>\n",
       "      <td>11-04-2021</td>\n",
       "      <td>...</td>\n",
       "      <td>B4</td>\n",
       "      <td>36 months</td>\n",
       "      <td>Not Verified</td>\n",
       "      <td>21000.00</td>\n",
       "      <td>0.1811</td>\n",
       "      <td>98.92</td>\n",
       "      <td>0.1149</td>\n",
       "      <td>3000</td>\n",
       "      <td>7</td>\n",
       "      <td>3256</td>\n",
       "    </tr>\n",
       "    <tr>\n",
       "      <th>35771</th>\n",
       "      <td>383164</td>\n",
       "      <td>GA</td>\n",
       "      <td>INDIVIDUAL</td>\n",
       "      <td>9 years</td>\n",
       "      <td>Beauty Mart Supplies</td>\n",
       "      <td>A</td>\n",
       "      <td>MORTGAGE</td>\n",
       "      <td>09-03-2021</td>\n",
       "      <td>12-07-2021</td>\n",
       "      <td>12-03-2021</td>\n",
       "      <td>...</td>\n",
       "      <td>A5</td>\n",
       "      <td>36 months</td>\n",
       "      <td>Not Verified</td>\n",
       "      <td>48000.00</td>\n",
       "      <td>0.2452</td>\n",
       "      <td>318.54</td>\n",
       "      <td>0.0963</td>\n",
       "      <td>9925</td>\n",
       "      <td>14</td>\n",
       "      <td>11467</td>\n",
       "    </tr>\n",
       "    <tr>\n",
       "      <th>31024</th>\n",
       "      <td>776547</td>\n",
       "      <td>CA</td>\n",
       "      <td>INDIVIDUAL</td>\n",
       "      <td>&lt; 1 year</td>\n",
       "      <td>Kforce Professional / Kaiser Permanente</td>\n",
       "      <td>D</td>\n",
       "      <td>RENT</td>\n",
       "      <td>11-06-2021</td>\n",
       "      <td>16-03-2021</td>\n",
       "      <td>16-03-2021</td>\n",
       "      <td>...</td>\n",
       "      <td>D3</td>\n",
       "      <td>60 months</td>\n",
       "      <td>Verified</td>\n",
       "      <td>47839.92</td>\n",
       "      <td>0.1914</td>\n",
       "      <td>368.69</td>\n",
       "      <td>0.1649</td>\n",
       "      <td>15000</td>\n",
       "      <td>32</td>\n",
       "      <td>22061</td>\n",
       "    </tr>\n",
       "    <tr>\n",
       "      <th>4512</th>\n",
       "      <td>551889</td>\n",
       "      <td>IL</td>\n",
       "      <td>INDIVIDUAL</td>\n",
       "      <td>&lt; 1 year</td>\n",
       "      <td>MSpace</td>\n",
       "      <td>E</td>\n",
       "      <td>RENT</td>\n",
       "      <td>10-07-2021</td>\n",
       "      <td>16-05-2021</td>\n",
       "      <td>12-04-2021</td>\n",
       "      <td>...</td>\n",
       "      <td>E1</td>\n",
       "      <td>36 months</td>\n",
       "      <td>Source Verified</td>\n",
       "      <td>65000.00</td>\n",
       "      <td>0.1215</td>\n",
       "      <td>530.70</td>\n",
       "      <td>0.1645</td>\n",
       "      <td>15000</td>\n",
       "      <td>12</td>\n",
       "      <td>18192</td>\n",
       "    </tr>\n",
       "    <tr>\n",
       "      <th>15571</th>\n",
       "      <td>892098</td>\n",
       "      <td>MI</td>\n",
       "      <td>INDIVIDUAL</td>\n",
       "      <td>8 years</td>\n",
       "      <td>ALLIANT CREDIT UNION</td>\n",
       "      <td>C</td>\n",
       "      <td>RENT</td>\n",
       "      <td>11-09-2021</td>\n",
       "      <td>16-05-2021</td>\n",
       "      <td>13-04-2021</td>\n",
       "      <td>...</td>\n",
       "      <td>C1</td>\n",
       "      <td>36 months</td>\n",
       "      <td>Source Verified</td>\n",
       "      <td>90000.00</td>\n",
       "      <td>0.1963</td>\n",
       "      <td>237.52</td>\n",
       "      <td>0.1349</td>\n",
       "      <td>7000</td>\n",
       "      <td>23</td>\n",
       "      <td>8127</td>\n",
       "    </tr>\n",
       "    <tr>\n",
       "      <th>3055</th>\n",
       "      <td>565538</td>\n",
       "      <td>CA</td>\n",
       "      <td>INDIVIDUAL</td>\n",
       "      <td>4 years</td>\n",
       "      <td>Stargate Studios</td>\n",
       "      <td>B</td>\n",
       "      <td>RENT</td>\n",
       "      <td>10-08-2021</td>\n",
       "      <td>13-08-2021</td>\n",
       "      <td>13-09-2021</td>\n",
       "      <td>...</td>\n",
       "      <td>B5</td>\n",
       "      <td>36 months</td>\n",
       "      <td>Not Verified</td>\n",
       "      <td>50000.00</td>\n",
       "      <td>0.1519</td>\n",
       "      <td>92.82</td>\n",
       "      <td>0.1186</td>\n",
       "      <td>2800</td>\n",
       "      <td>19</td>\n",
       "      <td>3342</td>\n",
       "    </tr>\n",
       "  </tbody>\n",
       "</table>\n",
       "<p>10 rows × 24 columns</p>\n",
       "</div>"
      ],
      "text/plain": [
       "            id address_state application_type emp_length  \\\n",
       "11723   509214            MA       INDIVIDUAL  10+ years   \n",
       "25215   863854            OH       INDIVIDUAL  10+ years   \n",
       "8342   1027758            MN       INDIVIDUAL  10+ years   \n",
       "24606   884223            FL       INDIVIDUAL    2 years   \n",
       "25687   524037            PA       INDIVIDUAL    4 years   \n",
       "35771   383164            GA       INDIVIDUAL    9 years   \n",
       "31024   776547            CA       INDIVIDUAL   < 1 year   \n",
       "4512    551889            IL       INDIVIDUAL   < 1 year   \n",
       "15571   892098            MI       INDIVIDUAL    8 years   \n",
       "3055    565538            CA       INDIVIDUAL    4 years   \n",
       "\n",
       "                                     emp_title grade home_ownership  \\\n",
       "11723                                      IBM     C           RENT   \n",
       "25215                Pilkiington North America     A       MORTGAGE   \n",
       "8342                  Fairview Health Services     A       MORTGAGE   \n",
       "24606                                iGov  Inc     B           RENT   \n",
       "25687                                    Leeds     B       MORTGAGE   \n",
       "35771                     Beauty Mart Supplies     A       MORTGAGE   \n",
       "31024  Kforce Professional / Kaiser Permanente     D           RENT   \n",
       "4512                                    MSpace     E           RENT   \n",
       "15571                     ALLIANT CREDIT UNION     C           RENT   \n",
       "3055                          Stargate Studios     B           RENT   \n",
       "\n",
       "       issue_date last_credit_pull_date last_payment_date  ... sub_grade  \\\n",
       "11723  10-04-2021            16-04-2021        11-11-2021  ...        C2   \n",
       "25215  11-08-2021            14-09-2021        14-09-2021  ...        A1   \n",
       "8342   11-11-2021            16-04-2021        12-06-2021  ...        A4   \n",
       "24606  11-09-2021            16-05-2021        16-05-2021  ...        B4   \n",
       "25687  10-06-2021            14-01-2021        11-04-2021  ...        B4   \n",
       "35771  09-03-2021            12-07-2021        12-03-2021  ...        A5   \n",
       "31024  11-06-2021            16-03-2021        16-03-2021  ...        D3   \n",
       "4512   10-07-2021            16-05-2021        12-04-2021  ...        E1   \n",
       "15571  11-09-2021            16-05-2021        13-04-2021  ...        C1   \n",
       "3055   10-08-2021            13-08-2021        13-09-2021  ...        B5   \n",
       "\n",
       "             term  verification_status annual_income     dti installment  \\\n",
       "11723   36 months         Not Verified      53544.00  0.1407       60.75   \n",
       "25215   36 months         Not Verified     120000.00  0.0715      437.32   \n",
       "8342    36 months         Not Verified      85000.00  0.1272      469.36   \n",
       "24606   60 months             Verified     125004.00  0.1858      500.24   \n",
       "25687   36 months         Not Verified      21000.00  0.1811       98.92   \n",
       "35771   36 months         Not Verified      48000.00  0.2452      318.54   \n",
       "31024   60 months             Verified      47839.92  0.1914      368.69   \n",
       "4512    36 months      Source Verified      65000.00  0.1215      530.70   \n",
       "15571   36 months      Source Verified      90000.00  0.1963      237.52   \n",
       "3055    36 months         Not Verified      50000.00  0.1519       92.82   \n",
       "\n",
       "      int_rate  loan_amount  total_acc  total_payment  \n",
       "11723   0.1311         1800         23           2081  \n",
       "25215   0.0542        14500         28          15743  \n",
       "8342    0.0790        15000         53          15367  \n",
       "24606   0.1242        30000         29          27501  \n",
       "25687   0.1149         3000          7           3256  \n",
       "35771   0.0963         9925         14          11467  \n",
       "31024   0.1649        15000         32          22061  \n",
       "4512    0.1645        15000         12          18192  \n",
       "15571   0.1349         7000         23           8127  \n",
       "3055    0.1186         2800         19           3342  \n",
       "\n",
       "[10 rows x 24 columns]"
      ]
     },
     "execution_count": 30,
     "metadata": {},
     "output_type": "execute_result"
    }
   ],
   "source": [
    "df=pd.read_csv('financial_loan.csv')\n",
    "df.sample(10)"
   ]
  },
  {
   "cell_type": "markdown",
   "id": "1e4cbe52",
   "metadata": {},
   "source": [
    "#### Basic Analysis"
   ]
  },
  {
   "cell_type": "code",
   "execution_count": 31,
   "id": "b5b2a88e",
   "metadata": {},
   "outputs": [
    {
     "data": {
      "application/vnd.microsoft.datawrangler.viewer.v0+json": {
       "columns": [
        {
         "name": "index",
         "rawType": "object",
         "type": "string"
        },
        {
         "name": "0",
         "rawType": "int64",
         "type": "integer"
        }
       ],
       "ref": "2ace0669-28b2-446c-b502-2fea3cef7bd7",
       "rows": [
        [
         "id",
         "0"
        ],
        [
         "address_state",
         "0"
        ],
        [
         "application_type",
         "0"
        ],
        [
         "emp_length",
         "0"
        ],
        [
         "emp_title",
         "1438"
        ],
        [
         "grade",
         "0"
        ],
        [
         "home_ownership",
         "0"
        ],
        [
         "issue_date",
         "0"
        ],
        [
         "last_credit_pull_date",
         "0"
        ],
        [
         "last_payment_date",
         "0"
        ],
        [
         "loan_status",
         "0"
        ],
        [
         "next_payment_date",
         "0"
        ],
        [
         "member_id",
         "0"
        ],
        [
         "purpose",
         "0"
        ],
        [
         "sub_grade",
         "0"
        ],
        [
         "term",
         "0"
        ],
        [
         "verification_status",
         "0"
        ],
        [
         "annual_income",
         "0"
        ],
        [
         "dti",
         "0"
        ],
        [
         "installment",
         "0"
        ],
        [
         "int_rate",
         "0"
        ],
        [
         "loan_amount",
         "0"
        ],
        [
         "total_acc",
         "0"
        ],
        [
         "total_payment",
         "0"
        ]
       ],
       "shape": {
        "columns": 1,
        "rows": 24
       }
      },
      "text/plain": [
       "id                          0\n",
       "address_state               0\n",
       "application_type            0\n",
       "emp_length                  0\n",
       "emp_title                1438\n",
       "grade                       0\n",
       "home_ownership              0\n",
       "issue_date                  0\n",
       "last_credit_pull_date       0\n",
       "last_payment_date           0\n",
       "loan_status                 0\n",
       "next_payment_date           0\n",
       "member_id                   0\n",
       "purpose                     0\n",
       "sub_grade                   0\n",
       "term                        0\n",
       "verification_status         0\n",
       "annual_income               0\n",
       "dti                         0\n",
       "installment                 0\n",
       "int_rate                    0\n",
       "loan_amount                 0\n",
       "total_acc                   0\n",
       "total_payment               0\n",
       "dtype: int64"
      ]
     },
     "execution_count": 31,
     "metadata": {},
     "output_type": "execute_result"
    }
   ],
   "source": [
    "df.isnull().sum()"
   ]
  },
  {
   "cell_type": "code",
   "execution_count": 32,
   "id": "35cd53d6",
   "metadata": {},
   "outputs": [
    {
     "data": {
      "text/plain": [
       "(38576, 24)"
      ]
     },
     "execution_count": 32,
     "metadata": {},
     "output_type": "execute_result"
    }
   ],
   "source": [
    "df.shape"
   ]
  },
  {
   "cell_type": "code",
   "execution_count": 33,
   "id": "8eb0cb23",
   "metadata": {},
   "outputs": [
    {
     "name": "stdout",
     "output_type": "stream",
     "text": [
      "<class 'pandas.core.frame.DataFrame'>\n",
      "RangeIndex: 38576 entries, 0 to 38575\n",
      "Data columns (total 24 columns):\n",
      " #   Column                 Non-Null Count  Dtype  \n",
      "---  ------                 --------------  -----  \n",
      " 0   id                     38576 non-null  int64  \n",
      " 1   address_state          38576 non-null  object \n",
      " 2   application_type       38576 non-null  object \n",
      " 3   emp_length             38576 non-null  object \n",
      " 4   emp_title              37138 non-null  object \n",
      " 5   grade                  38576 non-null  object \n",
      " 6   home_ownership         38576 non-null  object \n",
      " 7   issue_date             38576 non-null  object \n",
      " 8   last_credit_pull_date  38576 non-null  object \n",
      " 9   last_payment_date      38576 non-null  object \n",
      " 10  loan_status            38576 non-null  object \n",
      " 11  next_payment_date      38576 non-null  object \n",
      " 12  member_id              38576 non-null  int64  \n",
      " 13  purpose                38576 non-null  object \n",
      " 14  sub_grade              38576 non-null  object \n",
      " 15  term                   38576 non-null  object \n",
      " 16  verification_status    38576 non-null  object \n",
      " 17  annual_income          38576 non-null  float64\n",
      " 18  dti                    38576 non-null  float64\n",
      " 19  installment            38576 non-null  float64\n",
      " 20  int_rate               38576 non-null  float64\n",
      " 21  loan_amount            38576 non-null  int64  \n",
      " 22  total_acc              38576 non-null  int64  \n",
      " 23  total_payment          38576 non-null  int64  \n",
      "dtypes: float64(4), int64(5), object(15)\n",
      "memory usage: 7.1+ MB\n"
     ]
    }
   ],
   "source": [
    "df.info()"
   ]
  },
  {
   "cell_type": "code",
   "execution_count": 34,
   "id": "4bf5727e",
   "metadata": {},
   "outputs": [
    {
     "name": "stdout",
     "output_type": "stream",
     "text": [
      "issue_date               datetime64[ns]\n",
      "last_credit_pull_date    datetime64[ns]\n",
      "last_payment_date        datetime64[ns]\n",
      "next_payment_date        datetime64[ns]\n",
      "dtype: object\n",
      "  issue_date last_credit_pull_date last_payment_date next_payment_date\n",
      "0 2021-02-11            2021-09-13        2021-04-13        2021-05-13\n",
      "1 2021-01-01            2021-12-14        2021-01-15        2021-02-15\n",
      "2 2021-01-05            2021-12-12        2021-01-09        2021-02-09\n",
      "3 2021-02-25            2021-12-12        2021-03-12        2021-04-12\n",
      "4 2021-01-01            2021-12-14        2021-01-15        2021-02-15\n"
     ]
    }
   ],
   "source": [
    "# Identify the columns to be converted to datetime\n",
    "date_cols=['issue_date','last_credit_pull_date','last_payment_date','next_payment_date']\n",
    "\n",
    "# Convert the columns to datetime\n",
    "for col in date_cols:\n",
    "    df[col]=pd.to_datetime(df[col], format='%d-%m-%Y', errors='coerce')\n",
    "\n",
    "# Verify the data types of the columns\n",
    "print(df[date_cols].dtypes)\n",
    "\n",
    "# Display the first 5 rows of the dataframe with the converted columns\n",
    "print(df[date_cols].head())"
   ]
  },
  {
   "cell_type": "code",
   "execution_count": 35,
   "id": "0e07c69f",
   "metadata": {},
   "outputs": [],
   "source": [
    "df.to_csv('financial_loan.csv', index=False)"
   ]
  },
  {
   "cell_type": "code",
   "execution_count": 36,
   "id": "6e7b2141",
   "metadata": {},
   "outputs": [
    {
     "data": {
      "application/vnd.microsoft.datawrangler.viewer.v0+json": {
       "columns": [
        {
         "name": "index",
         "rawType": "object",
         "type": "string"
        },
        {
         "name": "id",
         "rawType": "float64",
         "type": "float"
        },
        {
         "name": "issue_date",
         "rawType": "object",
         "type": "unknown"
        },
        {
         "name": "last_credit_pull_date",
         "rawType": "object",
         "type": "unknown"
        },
        {
         "name": "last_payment_date",
         "rawType": "object",
         "type": "unknown"
        },
        {
         "name": "next_payment_date",
         "rawType": "object",
         "type": "unknown"
        },
        {
         "name": "member_id",
         "rawType": "float64",
         "type": "float"
        },
        {
         "name": "annual_income",
         "rawType": "float64",
         "type": "float"
        },
        {
         "name": "dti",
         "rawType": "float64",
         "type": "float"
        },
        {
         "name": "installment",
         "rawType": "float64",
         "type": "float"
        },
        {
         "name": "int_rate",
         "rawType": "float64",
         "type": "float"
        },
        {
         "name": "loan_amount",
         "rawType": "float64",
         "type": "float"
        },
        {
         "name": "total_acc",
         "rawType": "float64",
         "type": "float"
        },
        {
         "name": "total_payment",
         "rawType": "float64",
         "type": "float"
        }
       ],
       "ref": "746caf25-0b56-4373-a35e-a531b3aefef2",
       "rows": [
        [
         "count",
         "38576.0",
         "38576",
         "38576",
         "38576",
         "38576",
         "38576.0",
         "38576.0",
         "38576.0",
         "38576.0",
         "38576.0",
         "38576.0",
         "38576.0",
         "38576.0"
        ],
        [
         "mean",
         "681037.0613853172",
         "2021-07-16 02:31:35.562007040",
         "2021-06-08 13:36:34.193280512",
         "2021-06-26 09:52:08.909166080",
         "2021-07-26 20:42:20.605557760",
         "847651.5062992534",
         "69644.54031003732",
         "0.13327433119037743",
         "326.86296505599336",
         "0.12048831397760265",
         "11296.066855039402",
         "22.13254355039403",
         "12263.348532766488"
        ],
        [
         "min",
         "54734.0",
         "2021-01-01 00:00:00",
         "2021-01-08 00:00:00",
         "2021-01-08 00:00:00",
         "2021-02-08 00:00:00",
         "70699.0",
         "4000.0",
         "0.0",
         "15.69",
         "0.0542",
         "500.0",
         "2.0",
         "34.0"
        ],
        [
         "25%",
         "513517.0",
         "2021-04-11 00:00:00",
         "2021-04-15 00:00:00",
         "2021-03-16 00:00:00",
         "2021-04-16 00:00:00",
         "662978.75",
         "41500.0",
         "0.0821",
         "168.45",
         "0.0932",
         "5500.0",
         "14.0",
         "5633.0"
        ],
        [
         "50%",
         "662728.0",
         "2021-07-11 00:00:00",
         "2021-05-16 00:00:00",
         "2021-06-14 00:00:00",
         "2021-07-14 00:00:00",
         "847356.5",
         "60000.0",
         "0.1342",
         "283.045",
         "0.1186",
         "10000.0",
         "20.0",
         "10042.0"
        ],
        [
         "75%",
         "836506.0",
         "2021-10-11 00:00:00",
         "2021-08-13 00:00:00",
         "2021-09-15 00:00:00",
         "2021-10-15 00:00:00",
         "1045652.5",
         "83200.5",
         "0.1859",
         "434.4425",
         "0.1459",
         "15000.0",
         "29.0",
         "16658.0"
        ],
        [
         "max",
         "1077501.0",
         "2021-12-12 00:00:00",
         "2022-01-20 00:00:00",
         "2021-12-15 00:00:00",
         "2022-01-15 00:00:00",
         "1314167.0",
         "6000000.0",
         "0.2999",
         "1305.19",
         "0.2459",
         "35000.0",
         "90.0",
         "58564.0"
        ],
        [
         "std",
         "211324.57821758432",
         null,
         null,
         null,
         null,
         "266810.4568596022",
         "64293.68104452454",
         "0.06666155326867897",
         "209.0920003895784",
         "0.03716412124646389",
         "7460.746022249619",
         "11.392282074170602",
         "9051.104776587128"
        ]
       ],
       "shape": {
        "columns": 13,
        "rows": 8
       }
      },
      "text/html": [
       "<div>\n",
       "<style scoped>\n",
       "    .dataframe tbody tr th:only-of-type {\n",
       "        vertical-align: middle;\n",
       "    }\n",
       "\n",
       "    .dataframe tbody tr th {\n",
       "        vertical-align: top;\n",
       "    }\n",
       "\n",
       "    .dataframe thead th {\n",
       "        text-align: right;\n",
       "    }\n",
       "</style>\n",
       "<table border=\"1\" class=\"dataframe\">\n",
       "  <thead>\n",
       "    <tr style=\"text-align: right;\">\n",
       "      <th></th>\n",
       "      <th>id</th>\n",
       "      <th>issue_date</th>\n",
       "      <th>last_credit_pull_date</th>\n",
       "      <th>last_payment_date</th>\n",
       "      <th>next_payment_date</th>\n",
       "      <th>member_id</th>\n",
       "      <th>annual_income</th>\n",
       "      <th>dti</th>\n",
       "      <th>installment</th>\n",
       "      <th>int_rate</th>\n",
       "      <th>loan_amount</th>\n",
       "      <th>total_acc</th>\n",
       "      <th>total_payment</th>\n",
       "    </tr>\n",
       "  </thead>\n",
       "  <tbody>\n",
       "    <tr>\n",
       "      <th>count</th>\n",
       "      <td>3.857600e+04</td>\n",
       "      <td>38576</td>\n",
       "      <td>38576</td>\n",
       "      <td>38576</td>\n",
       "      <td>38576</td>\n",
       "      <td>3.857600e+04</td>\n",
       "      <td>3.857600e+04</td>\n",
       "      <td>38576.000000</td>\n",
       "      <td>38576.000000</td>\n",
       "      <td>38576.000000</td>\n",
       "      <td>38576.000000</td>\n",
       "      <td>38576.000000</td>\n",
       "      <td>38576.000000</td>\n",
       "    </tr>\n",
       "    <tr>\n",
       "      <th>mean</th>\n",
       "      <td>6.810371e+05</td>\n",
       "      <td>2021-07-16 02:31:35.562007040</td>\n",
       "      <td>2021-06-08 13:36:34.193280512</td>\n",
       "      <td>2021-06-26 09:52:08.909166080</td>\n",
       "      <td>2021-07-26 20:42:20.605557760</td>\n",
       "      <td>8.476515e+05</td>\n",
       "      <td>6.964454e+04</td>\n",
       "      <td>0.133274</td>\n",
       "      <td>326.862965</td>\n",
       "      <td>0.120488</td>\n",
       "      <td>11296.066855</td>\n",
       "      <td>22.132544</td>\n",
       "      <td>12263.348533</td>\n",
       "    </tr>\n",
       "    <tr>\n",
       "      <th>min</th>\n",
       "      <td>5.473400e+04</td>\n",
       "      <td>2021-01-01 00:00:00</td>\n",
       "      <td>2021-01-08 00:00:00</td>\n",
       "      <td>2021-01-08 00:00:00</td>\n",
       "      <td>2021-02-08 00:00:00</td>\n",
       "      <td>7.069900e+04</td>\n",
       "      <td>4.000000e+03</td>\n",
       "      <td>0.000000</td>\n",
       "      <td>15.690000</td>\n",
       "      <td>0.054200</td>\n",
       "      <td>500.000000</td>\n",
       "      <td>2.000000</td>\n",
       "      <td>34.000000</td>\n",
       "    </tr>\n",
       "    <tr>\n",
       "      <th>25%</th>\n",
       "      <td>5.135170e+05</td>\n",
       "      <td>2021-04-11 00:00:00</td>\n",
       "      <td>2021-04-15 00:00:00</td>\n",
       "      <td>2021-03-16 00:00:00</td>\n",
       "      <td>2021-04-16 00:00:00</td>\n",
       "      <td>6.629788e+05</td>\n",
       "      <td>4.150000e+04</td>\n",
       "      <td>0.082100</td>\n",
       "      <td>168.450000</td>\n",
       "      <td>0.093200</td>\n",
       "      <td>5500.000000</td>\n",
       "      <td>14.000000</td>\n",
       "      <td>5633.000000</td>\n",
       "    </tr>\n",
       "    <tr>\n",
       "      <th>50%</th>\n",
       "      <td>6.627280e+05</td>\n",
       "      <td>2021-07-11 00:00:00</td>\n",
       "      <td>2021-05-16 00:00:00</td>\n",
       "      <td>2021-06-14 00:00:00</td>\n",
       "      <td>2021-07-14 00:00:00</td>\n",
       "      <td>8.473565e+05</td>\n",
       "      <td>6.000000e+04</td>\n",
       "      <td>0.134200</td>\n",
       "      <td>283.045000</td>\n",
       "      <td>0.118600</td>\n",
       "      <td>10000.000000</td>\n",
       "      <td>20.000000</td>\n",
       "      <td>10042.000000</td>\n",
       "    </tr>\n",
       "    <tr>\n",
       "      <th>75%</th>\n",
       "      <td>8.365060e+05</td>\n",
       "      <td>2021-10-11 00:00:00</td>\n",
       "      <td>2021-08-13 00:00:00</td>\n",
       "      <td>2021-09-15 00:00:00</td>\n",
       "      <td>2021-10-15 00:00:00</td>\n",
       "      <td>1.045652e+06</td>\n",
       "      <td>8.320050e+04</td>\n",
       "      <td>0.185900</td>\n",
       "      <td>434.442500</td>\n",
       "      <td>0.145900</td>\n",
       "      <td>15000.000000</td>\n",
       "      <td>29.000000</td>\n",
       "      <td>16658.000000</td>\n",
       "    </tr>\n",
       "    <tr>\n",
       "      <th>max</th>\n",
       "      <td>1.077501e+06</td>\n",
       "      <td>2021-12-12 00:00:00</td>\n",
       "      <td>2022-01-20 00:00:00</td>\n",
       "      <td>2021-12-15 00:00:00</td>\n",
       "      <td>2022-01-15 00:00:00</td>\n",
       "      <td>1.314167e+06</td>\n",
       "      <td>6.000000e+06</td>\n",
       "      <td>0.299900</td>\n",
       "      <td>1305.190000</td>\n",
       "      <td>0.245900</td>\n",
       "      <td>35000.000000</td>\n",
       "      <td>90.000000</td>\n",
       "      <td>58564.000000</td>\n",
       "    </tr>\n",
       "    <tr>\n",
       "      <th>std</th>\n",
       "      <td>2.113246e+05</td>\n",
       "      <td>NaN</td>\n",
       "      <td>NaN</td>\n",
       "      <td>NaN</td>\n",
       "      <td>NaN</td>\n",
       "      <td>2.668105e+05</td>\n",
       "      <td>6.429368e+04</td>\n",
       "      <td>0.066662</td>\n",
       "      <td>209.092000</td>\n",
       "      <td>0.037164</td>\n",
       "      <td>7460.746022</td>\n",
       "      <td>11.392282</td>\n",
       "      <td>9051.104777</td>\n",
       "    </tr>\n",
       "  </tbody>\n",
       "</table>\n",
       "</div>"
      ],
      "text/plain": [
       "                 id                     issue_date  \\\n",
       "count  3.857600e+04                          38576   \n",
       "mean   6.810371e+05  2021-07-16 02:31:35.562007040   \n",
       "min    5.473400e+04            2021-01-01 00:00:00   \n",
       "25%    5.135170e+05            2021-04-11 00:00:00   \n",
       "50%    6.627280e+05            2021-07-11 00:00:00   \n",
       "75%    8.365060e+05            2021-10-11 00:00:00   \n",
       "max    1.077501e+06            2021-12-12 00:00:00   \n",
       "std    2.113246e+05                            NaN   \n",
       "\n",
       "               last_credit_pull_date              last_payment_date  \\\n",
       "count                          38576                          38576   \n",
       "mean   2021-06-08 13:36:34.193280512  2021-06-26 09:52:08.909166080   \n",
       "min              2021-01-08 00:00:00            2021-01-08 00:00:00   \n",
       "25%              2021-04-15 00:00:00            2021-03-16 00:00:00   \n",
       "50%              2021-05-16 00:00:00            2021-06-14 00:00:00   \n",
       "75%              2021-08-13 00:00:00            2021-09-15 00:00:00   \n",
       "max              2022-01-20 00:00:00            2021-12-15 00:00:00   \n",
       "std                              NaN                            NaN   \n",
       "\n",
       "                   next_payment_date     member_id  annual_income  \\\n",
       "count                          38576  3.857600e+04   3.857600e+04   \n",
       "mean   2021-07-26 20:42:20.605557760  8.476515e+05   6.964454e+04   \n",
       "min              2021-02-08 00:00:00  7.069900e+04   4.000000e+03   \n",
       "25%              2021-04-16 00:00:00  6.629788e+05   4.150000e+04   \n",
       "50%              2021-07-14 00:00:00  8.473565e+05   6.000000e+04   \n",
       "75%              2021-10-15 00:00:00  1.045652e+06   8.320050e+04   \n",
       "max              2022-01-15 00:00:00  1.314167e+06   6.000000e+06   \n",
       "std                              NaN  2.668105e+05   6.429368e+04   \n",
       "\n",
       "                dti   installment      int_rate   loan_amount     total_acc  \\\n",
       "count  38576.000000  38576.000000  38576.000000  38576.000000  38576.000000   \n",
       "mean       0.133274    326.862965      0.120488  11296.066855     22.132544   \n",
       "min        0.000000     15.690000      0.054200    500.000000      2.000000   \n",
       "25%        0.082100    168.450000      0.093200   5500.000000     14.000000   \n",
       "50%        0.134200    283.045000      0.118600  10000.000000     20.000000   \n",
       "75%        0.185900    434.442500      0.145900  15000.000000     29.000000   \n",
       "max        0.299900   1305.190000      0.245900  35000.000000     90.000000   \n",
       "std        0.066662    209.092000      0.037164   7460.746022     11.392282   \n",
       "\n",
       "       total_payment  \n",
       "count   38576.000000  \n",
       "mean    12263.348533  \n",
       "min        34.000000  \n",
       "25%      5633.000000  \n",
       "50%     10042.000000  \n",
       "75%     16658.000000  \n",
       "max     58564.000000  \n",
       "std      9051.104777  "
      ]
     },
     "execution_count": 36,
     "metadata": {},
     "output_type": "execute_result"
    }
   ],
   "source": [
    "df.describe()"
   ]
  },
  {
   "cell_type": "markdown",
   "id": "102c0122",
   "metadata": {},
   "source": [
    "### Problem Solving"
   ]
  },
  {
   "cell_type": "markdown",
   "id": "b1b26bac",
   "metadata": {},
   "source": [
    "#### Total Loan Applications"
   ]
  },
  {
   "cell_type": "code",
   "execution_count": 37,
   "id": "d06ced15",
   "metadata": {},
   "outputs": [
    {
     "name": "stdout",
     "output_type": "stream",
     "text": [
      "Total loan applicants:- 38576\n"
     ]
    }
   ],
   "source": [
    "total_loan_app=df['id'].count()\n",
    "print('Total loan applicants:-',total_loan_app)"
   ]
  },
  {
   "cell_type": "markdown",
   "id": "8057830b",
   "metadata": {},
   "source": [
    "#### MTD Loan Applications"
   ]
  },
  {
   "cell_type": "code",
   "execution_count": 38,
   "id": "2dd4059d",
   "metadata": {},
   "outputs": [
    {
     "name": "stdout",
     "output_type": "stream",
     "text": [
      "MTD Loan Applications(for December 2021):- 4314\n"
     ]
    }
   ],
   "source": [
    "latest_issue_date=df['issue_date'].max()\n",
    "latest_year=latest_issue_date.year\n",
    "latest_month=latest_issue_date.month\n",
    "\n",
    "mtd_data=df[(df['issue_date'].dt.year==latest_year) & \n",
    "              (df['issue_date'].dt.month==latest_month)]\n",
    "mtd_loan_app=mtd_data['id'].count()\n",
    "\n",
    "print(f\"MTD Loan Applications(for {latest_issue_date.strftime('%B %Y')}):- {mtd_loan_app}\")"
   ]
  },
  {
   "cell_type": "markdown",
   "id": "96fb6312",
   "metadata": {},
   "source": [
    "#### Total Funded Amount"
   ]
  },
  {
   "cell_type": "code",
   "execution_count": 39,
   "id": "c2f6af78",
   "metadata": {},
   "outputs": [
    {
     "name": "stdout",
     "output_type": "stream",
     "text": [
      "Total Funded Amount:- $435.76M\n"
     ]
    }
   ],
   "source": [
    "total_fund=df['loan_amount'].sum()/1000000\n",
    "print('Total Funded Amount:- ${:.2f}M'.format(total_fund))"
   ]
  },
  {
   "cell_type": "markdown",
   "id": "d679c11c",
   "metadata": {},
   "source": [
    "#### MTD - Total Funded Amount"
   ]
  },
  {
   "cell_type": "code",
   "execution_count": 40,
   "id": "0ea6f8fd",
   "metadata": {},
   "outputs": [
    {
     "name": "stdout",
     "output_type": "stream",
     "text": [
      "MTD Total Funded Amount:- $53.98M\n"
     ]
    }
   ],
   "source": [
    "latest_issue_date=df['issue_date'].max()\n",
    "latest_year=latest_issue_date.year\n",
    "latest_month=latest_issue_date.month\n",
    "\n",
    "mtd_data=df[(df['issue_date'].dt.year==latest_year) & \n",
    "              (df['issue_date'].dt.month==latest_month)]\n",
    "\n",
    "total_fund=mtd_data['loan_amount'].sum()/1000000\n",
    "\n",
    "print('MTD Total Funded Amount:- ${:.2f}M'.format(total_fund))"
   ]
  },
  {
   "cell_type": "markdown",
   "id": "940ac34f",
   "metadata": {},
   "source": [
    "#### MTD Total Amount Received"
   ]
  },
  {
   "cell_type": "code",
   "execution_count": 41,
   "id": "cc78aeec",
   "metadata": {},
   "outputs": [
    {
     "name": "stdout",
     "output_type": "stream",
     "text": [
      "MTD Total Funded Amount:- $58.07M\n"
     ]
    }
   ],
   "source": [
    "latest_issue_date=df['issue_date'].max()\n",
    "latest_year=latest_issue_date.year\n",
    "latest_month=latest_issue_date.month\n",
    "\n",
    "mtd_data=df[(df['issue_date'].dt.year==latest_year) & \n",
    "              (df['issue_date'].dt.month==latest_month)]\n",
    "\n",
    "total_received=mtd_data['total_payment'].sum()/1000000\n",
    "\n",
    "print('MTD Total Funded Amount:- ${:.2f}M'.format(total_received))"
   ]
  },
  {
   "cell_type": "markdown",
   "id": "367f7009",
   "metadata": {},
   "source": [
    "#### Avg Interest Rate"
   ]
  },
  {
   "cell_type": "code",
   "execution_count": 42,
   "id": "6b4b8b2e",
   "metadata": {},
   "outputs": [
    {
     "name": "stdout",
     "output_type": "stream",
     "text": [
      "Avg Interest Rate:- 12.05%\n"
     ]
    }
   ],
   "source": [
    "avg_int_rate=df['int_rate'].mean()*100\n",
    "print('Avg Interest Rate:- {:.2f}%'.format(avg_int_rate))"
   ]
  },
  {
   "cell_type": "markdown",
   "id": "a18dc017",
   "metadata": {},
   "source": [
    "#### Avg Debt-to-Income Ratio(DTI)"
   ]
  },
  {
   "cell_type": "code",
   "execution_count": 43,
   "id": "d4365a4a",
   "metadata": {},
   "outputs": [
    {
     "name": "stdout",
     "output_type": "stream",
     "text": [
      "Avg DTI:- 13.33\n"
     ]
    }
   ],
   "source": [
    "avg_dti=df['dti'].mean()*100\n",
    "print('Avg DTI:- {:.2f}'.format(avg_dti))"
   ]
  },
  {
   "cell_type": "markdown",
   "id": "899bf97e",
   "metadata": {},
   "source": [
    "#### Good Loan Metrics"
   ]
  },
  {
   "cell_type": "code",
   "execution_count": 44,
   "id": "d80c0af0",
   "metadata": {},
   "outputs": [
    {
     "name": "stdout",
     "output_type": "stream",
     "text": [
      "Good Loan App:- 33243\n",
      "Good Loan Fund:- $370.22M\n",
      "Good Loan Received:- $435.79M\n",
      "Perc of Good Loan App:- 86.18%\n"
     ]
    }
   ],
   "source": [
    "good_loans=df[df['loan_status'].isin(['Fully Paid','Current'])]\n",
    "\n",
    "total_loan_app=df['id'].count()\n",
    "\n",
    "good_loan_app=good_loans['id'].count()\n",
    "good_loan_fund=good_loans['loan_amount'].sum()/1000000\n",
    "good_loan_received=good_loans['total_payment'].sum()/1000000\n",
    "\n",
    "gl_perc=(good_loan_app/total_loan_app)*100\n",
    "\n",
    "print('Good Loan App:-',good_loan_app)\n",
    "print('Good Loan Fund:- ${:.2f}M'.format(good_loan_fund))\n",
    "print('Good Loan Received:- ${:.2f}M'.format(good_loan_received))\n",
    "print('Perc of Good Loan App:- {:.2f}%'.format(gl_perc))\n"
   ]
  },
  {
   "cell_type": "markdown",
   "id": "aaefcf0b",
   "metadata": {},
   "source": [
    "#### Bad Loan Metrics"
   ]
  },
  {
   "cell_type": "code",
   "execution_count": 46,
   "id": "22a036b8",
   "metadata": {},
   "outputs": [
    {
     "name": "stdout",
     "output_type": "stream",
     "text": [
      "Bad Loan App:- 5333\n",
      "Bad Loan Fund:- $65.53M\n",
      "Bad Loan Received:- $37.28M\n",
      "Perc of Bad Loan App:- 13.82%\n"
     ]
    }
   ],
   "source": [
    "bad_loans=df[df['loan_status'].isin(['Charged Off'])]\n",
    "\n",
    "total_loan_app=df['id'].count()\n",
    "\n",
    "bad_loan_app=bad_loans['id'].count()\n",
    "bad_loan_fund=bad_loans['loan_amount'].sum()/1000000\n",
    "bad_loan_received=bad_loans['total_payment'].sum()/1000000\n",
    "\n",
    "gl_perc=(bad_loan_app/total_loan_app)*100\n",
    "\n",
    "print('Bad Loan App:-',bad_loan_app)\n",
    "print('Bad Loan Fund:- ${:.2f}M'.format(bad_loan_fund))\n",
    "print('Bad Loan Received:- ${:.2f}M'.format(bad_loan_received))\n",
    "print('Perc of Bad Loan App:- {:.2f}%'.format(gl_perc))"
   ]
  },
  {
   "cell_type": "markdown",
   "id": "ff450558",
   "metadata": {},
   "source": [
    "### Important Visual Charts"
   ]
  },
  {
   "cell_type": "markdown",
   "id": "169ddcd1",
   "metadata": {},
   "source": [
    "#### Total Funded Amount by Month"
   ]
  },
  {
   "cell_type": "code",
   "execution_count": 51,
   "id": "67f8ca29",
   "metadata": {},
   "outputs": [
    {
     "data": {
      "application/vnd.plotly.v1+json": {
       "config": {
        "plotlyServerURL": "https://plot.ly"
       },
       "data": [
        {
         "fillpattern": {
          "shape": ""
         },
         "hovertemplate": "Month=%{x}<br>Funded Amount (in Millions)=%{y}<br>text=%{text}<extra></extra>",
         "legendgroup": "",
         "line": {
          "color": "#636efa"
         },
         "marker": {
          "symbol": "circle"
         },
         "mode": "lines+markers+text",
         "name": "",
         "orientation": "v",
         "showlegend": false,
         "stackgroup": "1",
         "text": [
          "25.03M",
          "24.65M",
          "28.88M",
          "29.80M",
          "31.74M",
          "34.16M",
          "35.81M",
          "38.15M",
          "40.91M",
          "44.89M",
          "47.75M",
          "53.98M"
         ],
         "textposition": "top center",
         "type": "scatter",
         "x": [
          "Jan 2021",
          "Feb 2021",
          "Mar 2021",
          "Apr 2021",
          "May 2021",
          "Jun 2021",
          "Jul 2021",
          "Aug 2021",
          "Sep 2021",
          "Oct 2021",
          "Nov 2021",
          "Dec 2021"
         ],
         "xaxis": "x",
         "y": [
          25.03165,
          24.647825,
          28.8757,
          29.8008,
          31.73835,
          34.161475,
          35.8139,
          38.1496,
          40.907725,
          44.8938,
          47.754825,
          53.981425
         ],
         "yaxis": "y"
        }
       ],
       "layout": {
        "hovermode": "x unified",
        "legend": {
         "tracegroupgap": 0
        },
        "template": {
         "data": {
          "bar": [
           {
            "error_x": {
             "color": "#2a3f5f"
            },
            "error_y": {
             "color": "#2a3f5f"
            },
            "marker": {
             "line": {
              "color": "white",
              "width": 0.5
             },
             "pattern": {
              "fillmode": "overlay",
              "size": 10,
              "solidity": 0.2
             }
            },
            "type": "bar"
           }
          ],
          "barpolar": [
           {
            "marker": {
             "line": {
              "color": "white",
              "width": 0.5
             },
             "pattern": {
              "fillmode": "overlay",
              "size": 10,
              "solidity": 0.2
             }
            },
            "type": "barpolar"
           }
          ],
          "carpet": [
           {
            "aaxis": {
             "endlinecolor": "#2a3f5f",
             "gridcolor": "#C8D4E3",
             "linecolor": "#C8D4E3",
             "minorgridcolor": "#C8D4E3",
             "startlinecolor": "#2a3f5f"
            },
            "baxis": {
             "endlinecolor": "#2a3f5f",
             "gridcolor": "#C8D4E3",
             "linecolor": "#C8D4E3",
             "minorgridcolor": "#C8D4E3",
             "startlinecolor": "#2a3f5f"
            },
            "type": "carpet"
           }
          ],
          "choropleth": [
           {
            "colorbar": {
             "outlinewidth": 0,
             "ticks": ""
            },
            "type": "choropleth"
           }
          ],
          "contour": [
           {
            "colorbar": {
             "outlinewidth": 0,
             "ticks": ""
            },
            "colorscale": [
             [
              0,
              "#0d0887"
             ],
             [
              0.1111111111111111,
              "#46039f"
             ],
             [
              0.2222222222222222,
              "#7201a8"
             ],
             [
              0.3333333333333333,
              "#9c179e"
             ],
             [
              0.4444444444444444,
              "#bd3786"
             ],
             [
              0.5555555555555556,
              "#d8576b"
             ],
             [
              0.6666666666666666,
              "#ed7953"
             ],
             [
              0.7777777777777778,
              "#fb9f3a"
             ],
             [
              0.8888888888888888,
              "#fdca26"
             ],
             [
              1,
              "#f0f921"
             ]
            ],
            "type": "contour"
           }
          ],
          "contourcarpet": [
           {
            "colorbar": {
             "outlinewidth": 0,
             "ticks": ""
            },
            "type": "contourcarpet"
           }
          ],
          "heatmap": [
           {
            "colorbar": {
             "outlinewidth": 0,
             "ticks": ""
            },
            "colorscale": [
             [
              0,
              "#0d0887"
             ],
             [
              0.1111111111111111,
              "#46039f"
             ],
             [
              0.2222222222222222,
              "#7201a8"
             ],
             [
              0.3333333333333333,
              "#9c179e"
             ],
             [
              0.4444444444444444,
              "#bd3786"
             ],
             [
              0.5555555555555556,
              "#d8576b"
             ],
             [
              0.6666666666666666,
              "#ed7953"
             ],
             [
              0.7777777777777778,
              "#fb9f3a"
             ],
             [
              0.8888888888888888,
              "#fdca26"
             ],
             [
              1,
              "#f0f921"
             ]
            ],
            "type": "heatmap"
           }
          ],
          "heatmapgl": [
           {
            "colorbar": {
             "outlinewidth": 0,
             "ticks": ""
            },
            "colorscale": [
             [
              0,
              "#0d0887"
             ],
             [
              0.1111111111111111,
              "#46039f"
             ],
             [
              0.2222222222222222,
              "#7201a8"
             ],
             [
              0.3333333333333333,
              "#9c179e"
             ],
             [
              0.4444444444444444,
              "#bd3786"
             ],
             [
              0.5555555555555556,
              "#d8576b"
             ],
             [
              0.6666666666666666,
              "#ed7953"
             ],
             [
              0.7777777777777778,
              "#fb9f3a"
             ],
             [
              0.8888888888888888,
              "#fdca26"
             ],
             [
              1,
              "#f0f921"
             ]
            ],
            "type": "heatmapgl"
           }
          ],
          "histogram": [
           {
            "marker": {
             "pattern": {
              "fillmode": "overlay",
              "size": 10,
              "solidity": 0.2
             }
            },
            "type": "histogram"
           }
          ],
          "histogram2d": [
           {
            "colorbar": {
             "outlinewidth": 0,
             "ticks": ""
            },
            "colorscale": [
             [
              0,
              "#0d0887"
             ],
             [
              0.1111111111111111,
              "#46039f"
             ],
             [
              0.2222222222222222,
              "#7201a8"
             ],
             [
              0.3333333333333333,
              "#9c179e"
             ],
             [
              0.4444444444444444,
              "#bd3786"
             ],
             [
              0.5555555555555556,
              "#d8576b"
             ],
             [
              0.6666666666666666,
              "#ed7953"
             ],
             [
              0.7777777777777778,
              "#fb9f3a"
             ],
             [
              0.8888888888888888,
              "#fdca26"
             ],
             [
              1,
              "#f0f921"
             ]
            ],
            "type": "histogram2d"
           }
          ],
          "histogram2dcontour": [
           {
            "colorbar": {
             "outlinewidth": 0,
             "ticks": ""
            },
            "colorscale": [
             [
              0,
              "#0d0887"
             ],
             [
              0.1111111111111111,
              "#46039f"
             ],
             [
              0.2222222222222222,
              "#7201a8"
             ],
             [
              0.3333333333333333,
              "#9c179e"
             ],
             [
              0.4444444444444444,
              "#bd3786"
             ],
             [
              0.5555555555555556,
              "#d8576b"
             ],
             [
              0.6666666666666666,
              "#ed7953"
             ],
             [
              0.7777777777777778,
              "#fb9f3a"
             ],
             [
              0.8888888888888888,
              "#fdca26"
             ],
             [
              1,
              "#f0f921"
             ]
            ],
            "type": "histogram2dcontour"
           }
          ],
          "mesh3d": [
           {
            "colorbar": {
             "outlinewidth": 0,
             "ticks": ""
            },
            "type": "mesh3d"
           }
          ],
          "parcoords": [
           {
            "line": {
             "colorbar": {
              "outlinewidth": 0,
              "ticks": ""
             }
            },
            "type": "parcoords"
           }
          ],
          "pie": [
           {
            "automargin": true,
            "type": "pie"
           }
          ],
          "scatter": [
           {
            "fillpattern": {
             "fillmode": "overlay",
             "size": 10,
             "solidity": 0.2
            },
            "type": "scatter"
           }
          ],
          "scatter3d": [
           {
            "line": {
             "colorbar": {
              "outlinewidth": 0,
              "ticks": ""
             }
            },
            "marker": {
             "colorbar": {
              "outlinewidth": 0,
              "ticks": ""
             }
            },
            "type": "scatter3d"
           }
          ],
          "scattercarpet": [
           {
            "marker": {
             "colorbar": {
              "outlinewidth": 0,
              "ticks": ""
             }
            },
            "type": "scattercarpet"
           }
          ],
          "scattergeo": [
           {
            "marker": {
             "colorbar": {
              "outlinewidth": 0,
              "ticks": ""
             }
            },
            "type": "scattergeo"
           }
          ],
          "scattergl": [
           {
            "marker": {
             "colorbar": {
              "outlinewidth": 0,
              "ticks": ""
             }
            },
            "type": "scattergl"
           }
          ],
          "scattermapbox": [
           {
            "marker": {
             "colorbar": {
              "outlinewidth": 0,
              "ticks": ""
             }
            },
            "type": "scattermapbox"
           }
          ],
          "scatterpolar": [
           {
            "marker": {
             "colorbar": {
              "outlinewidth": 0,
              "ticks": ""
             }
            },
            "type": "scatterpolar"
           }
          ],
          "scatterpolargl": [
           {
            "marker": {
             "colorbar": {
              "outlinewidth": 0,
              "ticks": ""
             }
            },
            "type": "scatterpolargl"
           }
          ],
          "scatterternary": [
           {
            "marker": {
             "colorbar": {
              "outlinewidth": 0,
              "ticks": ""
             }
            },
            "type": "scatterternary"
           }
          ],
          "surface": [
           {
            "colorbar": {
             "outlinewidth": 0,
             "ticks": ""
            },
            "colorscale": [
             [
              0,
              "#0d0887"
             ],
             [
              0.1111111111111111,
              "#46039f"
             ],
             [
              0.2222222222222222,
              "#7201a8"
             ],
             [
              0.3333333333333333,
              "#9c179e"
             ],
             [
              0.4444444444444444,
              "#bd3786"
             ],
             [
              0.5555555555555556,
              "#d8576b"
             ],
             [
              0.6666666666666666,
              "#ed7953"
             ],
             [
              0.7777777777777778,
              "#fb9f3a"
             ],
             [
              0.8888888888888888,
              "#fdca26"
             ],
             [
              1,
              "#f0f921"
             ]
            ],
            "type": "surface"
           }
          ],
          "table": [
           {
            "cells": {
             "fill": {
              "color": "#EBF0F8"
             },
             "line": {
              "color": "white"
             }
            },
            "header": {
             "fill": {
              "color": "#C8D4E3"
             },
             "line": {
              "color": "white"
             }
            },
            "type": "table"
           }
          ]
         },
         "layout": {
          "annotationdefaults": {
           "arrowcolor": "#2a3f5f",
           "arrowhead": 0,
           "arrowwidth": 1
          },
          "autotypenumbers": "strict",
          "coloraxis": {
           "colorbar": {
            "outlinewidth": 0,
            "ticks": ""
           }
          },
          "colorscale": {
           "diverging": [
            [
             0,
             "#8e0152"
            ],
            [
             0.1,
             "#c51b7d"
            ],
            [
             0.2,
             "#de77ae"
            ],
            [
             0.3,
             "#f1b6da"
            ],
            [
             0.4,
             "#fde0ef"
            ],
            [
             0.5,
             "#f7f7f7"
            ],
            [
             0.6,
             "#e6f5d0"
            ],
            [
             0.7,
             "#b8e186"
            ],
            [
             0.8,
             "#7fbc41"
            ],
            [
             0.9,
             "#4d9221"
            ],
            [
             1,
             "#276419"
            ]
           ],
           "sequential": [
            [
             0,
             "#0d0887"
            ],
            [
             0.1111111111111111,
             "#46039f"
            ],
            [
             0.2222222222222222,
             "#7201a8"
            ],
            [
             0.3333333333333333,
             "#9c179e"
            ],
            [
             0.4444444444444444,
             "#bd3786"
            ],
            [
             0.5555555555555556,
             "#d8576b"
            ],
            [
             0.6666666666666666,
             "#ed7953"
            ],
            [
             0.7777777777777778,
             "#fb9f3a"
            ],
            [
             0.8888888888888888,
             "#fdca26"
            ],
            [
             1,
             "#f0f921"
            ]
           ],
           "sequentialminus": [
            [
             0,
             "#0d0887"
            ],
            [
             0.1111111111111111,
             "#46039f"
            ],
            [
             0.2222222222222222,
             "#7201a8"
            ],
            [
             0.3333333333333333,
             "#9c179e"
            ],
            [
             0.4444444444444444,
             "#bd3786"
            ],
            [
             0.5555555555555556,
             "#d8576b"
            ],
            [
             0.6666666666666666,
             "#ed7953"
            ],
            [
             0.7777777777777778,
             "#fb9f3a"
            ],
            [
             0.8888888888888888,
             "#fdca26"
            ],
            [
             1,
             "#f0f921"
            ]
           ]
          },
          "colorway": [
           "#636efa",
           "#EF553B",
           "#00cc96",
           "#ab63fa",
           "#FFA15A",
           "#19d3f3",
           "#FF6692",
           "#B6E880",
           "#FF97FF",
           "#FECB52"
          ],
          "font": {
           "color": "#2a3f5f"
          },
          "geo": {
           "bgcolor": "white",
           "lakecolor": "white",
           "landcolor": "white",
           "showlakes": true,
           "showland": true,
           "subunitcolor": "#C8D4E3"
          },
          "hoverlabel": {
           "align": "left"
          },
          "hovermode": "closest",
          "mapbox": {
           "style": "light"
          },
          "paper_bgcolor": "white",
          "plot_bgcolor": "white",
          "polar": {
           "angularaxis": {
            "gridcolor": "#EBF0F8",
            "linecolor": "#EBF0F8",
            "ticks": ""
           },
           "bgcolor": "white",
           "radialaxis": {
            "gridcolor": "#EBF0F8",
            "linecolor": "#EBF0F8",
            "ticks": ""
           }
          },
          "scene": {
           "xaxis": {
            "backgroundcolor": "white",
            "gridcolor": "#DFE8F3",
            "gridwidth": 2,
            "linecolor": "#EBF0F8",
            "showbackground": true,
            "ticks": "",
            "zerolinecolor": "#EBF0F8"
           },
           "yaxis": {
            "backgroundcolor": "white",
            "gridcolor": "#DFE8F3",
            "gridwidth": 2,
            "linecolor": "#EBF0F8",
            "showbackground": true,
            "ticks": "",
            "zerolinecolor": "#EBF0F8"
           },
           "zaxis": {
            "backgroundcolor": "white",
            "gridcolor": "#DFE8F3",
            "gridwidth": 2,
            "linecolor": "#EBF0F8",
            "showbackground": true,
            "ticks": "",
            "zerolinecolor": "#EBF0F8"
           }
          },
          "shapedefaults": {
           "line": {
            "color": "#2a3f5f"
           }
          },
          "ternary": {
           "aaxis": {
            "gridcolor": "#DFE8F3",
            "linecolor": "#A2B1C6",
            "ticks": ""
           },
           "baxis": {
            "gridcolor": "#DFE8F3",
            "linecolor": "#A2B1C6",
            "ticks": ""
           },
           "bgcolor": "white",
           "caxis": {
            "gridcolor": "#DFE8F3",
            "linecolor": "#A2B1C6",
            "ticks": ""
           }
          },
          "title": {
           "x": 0.05
          },
          "xaxis": {
           "automargin": true,
           "gridcolor": "#EBF0F8",
           "linecolor": "#EBF0F8",
           "ticks": "",
           "title": {
            "standoff": 15
           },
           "zerolinecolor": "#EBF0F8",
           "zerolinewidth": 2
          },
          "yaxis": {
           "automargin": true,
           "gridcolor": "#EBF0F8",
           "linecolor": "#EBF0F8",
           "ticks": "",
           "title": {
            "standoff": 15
           },
           "zerolinecolor": "#EBF0F8",
           "zerolinewidth": 2
          }
         }
        },
        "title": {
         "text": "Total Funded Amount by Month"
        },
        "xaxis": {
         "anchor": "y",
         "domain": [
          0,
          1
         ],
         "tickangle": -45,
         "title": {
          "text": "Month"
         }
        },
        "yaxis": {
         "anchor": "x",
         "domain": [
          0,
          1
         ],
         "title": {
          "text": "Funded Amount (in Millions)"
         }
        }
       }
      }
     },
     "metadata": {},
     "output_type": "display_data"
    }
   ],
   "source": [
    "# Prepare the data for the plot\n",
    "monthly_funded = (\n",
    "    df.sort_values('issue_date')\n",
    "    .assign(month_name=lambda x: x['issue_date'].dt.strftime('%b %Y'))\n",
    "    .groupby('month_name', sort=False)['loan_amount']\n",
    "    .sum()\n",
    "    .div(1000000)\n",
    "    .reset_index(name='total_fund')\n",
    ")\n",
    "\n",
    "# Create an interactive area plot with Plotly Express\n",
    "fig = px.area(\n",
    "    monthly_funded,\n",
    "    x='month_name',\n",
    "    y='total_fund',\n",
    "    title='Total Funded Amount by Month',\n",
    "    labels={'month_name': 'Month', 'total_fund': 'Funded Amount (in Millions)'},\n",
    "    markers=True,\n",
    "    text=monthly_funded['total_fund'].apply(lambda x: f'{x:.2f}M')\n",
    ")\n",
    "\n",
    "# Update layout for a cleaner look\n",
    "fig.update_layout(\n",
    "    xaxis_tickangle=-45,\n",
    "    yaxis_title='Funded Amount (in Millions)',\n",
    "    xaxis_title='Month',\n",
    "    template='plotly_white',\n",
    "    hovermode='x unified'\n",
    ")\n",
    "\n",
    "# Update traces for text labels\n",
    "fig.update_traces(\n",
    "    textposition='top center'\n",
    ")\n",
    "\n",
    "# Show the plot\n",
    "fig.show()"
   ]
  },
  {
   "cell_type": "markdown",
   "id": "e056d3c8",
   "metadata": {},
   "source": [
    "#### Total Amount Received by Month"
   ]
  },
  {
   "cell_type": "code",
   "execution_count": 54,
   "id": "5030905a",
   "metadata": {},
   "outputs": [
    {
     "data": {
      "application/vnd.plotly.v1+json": {
       "config": {
        "plotlyServerURL": "https://plot.ly"
       },
       "data": [
        {
         "fillpattern": {
          "shape": ""
         },
         "hovertemplate": "Month=%{x}<br>Received Amount (in Millions)=%{y}<br>text=%{text}<extra></extra>",
         "legendgroup": "",
         "line": {
          "color": "#636efa"
         },
         "marker": {
          "symbol": "circle"
         },
         "mode": "lines+markers+text",
         "name": "",
         "orientation": "v",
         "showlegend": false,
         "stackgroup": "1",
         "text": [
          "27.58M",
          "27.72M",
          "32.26M",
          "32.50M",
          "33.75M",
          "36.16M",
          "38.83M",
          "42.68M",
          "43.98M",
          "49.40M",
          "50.13M",
          "58.07M"
         ],
         "textposition": "top center",
         "type": "scatter",
         "x": [
          "Jan 2021",
          "Feb 2021",
          "Mar 2021",
          "Apr 2021",
          "May 2021",
          "Jun 2021",
          "Jul 2021",
          "Aug 2021",
          "Sep 2021",
          "Oct 2021",
          "Nov 2021",
          "Dec 2021"
         ],
         "xaxis": "x",
         "y": [
          27.578836,
          27.717745,
          32.2644,
          32.495533,
          33.750523,
          36.164533,
          38.82722,
          42.682218,
          43.983948,
          49.399567,
          50.13203,
          58.07438
         ],
         "yaxis": "y"
        }
       ],
       "layout": {
        "hovermode": "x unified",
        "legend": {
         "tracegroupgap": 0
        },
        "template": {
         "data": {
          "bar": [
           {
            "error_x": {
             "color": "#2a3f5f"
            },
            "error_y": {
             "color": "#2a3f5f"
            },
            "marker": {
             "line": {
              "color": "white",
              "width": 0.5
             },
             "pattern": {
              "fillmode": "overlay",
              "size": 10,
              "solidity": 0.2
             }
            },
            "type": "bar"
           }
          ],
          "barpolar": [
           {
            "marker": {
             "line": {
              "color": "white",
              "width": 0.5
             },
             "pattern": {
              "fillmode": "overlay",
              "size": 10,
              "solidity": 0.2
             }
            },
            "type": "barpolar"
           }
          ],
          "carpet": [
           {
            "aaxis": {
             "endlinecolor": "#2a3f5f",
             "gridcolor": "#C8D4E3",
             "linecolor": "#C8D4E3",
             "minorgridcolor": "#C8D4E3",
             "startlinecolor": "#2a3f5f"
            },
            "baxis": {
             "endlinecolor": "#2a3f5f",
             "gridcolor": "#C8D4E3",
             "linecolor": "#C8D4E3",
             "minorgridcolor": "#C8D4E3",
             "startlinecolor": "#2a3f5f"
            },
            "type": "carpet"
           }
          ],
          "choropleth": [
           {
            "colorbar": {
             "outlinewidth": 0,
             "ticks": ""
            },
            "type": "choropleth"
           }
          ],
          "contour": [
           {
            "colorbar": {
             "outlinewidth": 0,
             "ticks": ""
            },
            "colorscale": [
             [
              0,
              "#0d0887"
             ],
             [
              0.1111111111111111,
              "#46039f"
             ],
             [
              0.2222222222222222,
              "#7201a8"
             ],
             [
              0.3333333333333333,
              "#9c179e"
             ],
             [
              0.4444444444444444,
              "#bd3786"
             ],
             [
              0.5555555555555556,
              "#d8576b"
             ],
             [
              0.6666666666666666,
              "#ed7953"
             ],
             [
              0.7777777777777778,
              "#fb9f3a"
             ],
             [
              0.8888888888888888,
              "#fdca26"
             ],
             [
              1,
              "#f0f921"
             ]
            ],
            "type": "contour"
           }
          ],
          "contourcarpet": [
           {
            "colorbar": {
             "outlinewidth": 0,
             "ticks": ""
            },
            "type": "contourcarpet"
           }
          ],
          "heatmap": [
           {
            "colorbar": {
             "outlinewidth": 0,
             "ticks": ""
            },
            "colorscale": [
             [
              0,
              "#0d0887"
             ],
             [
              0.1111111111111111,
              "#46039f"
             ],
             [
              0.2222222222222222,
              "#7201a8"
             ],
             [
              0.3333333333333333,
              "#9c179e"
             ],
             [
              0.4444444444444444,
              "#bd3786"
             ],
             [
              0.5555555555555556,
              "#d8576b"
             ],
             [
              0.6666666666666666,
              "#ed7953"
             ],
             [
              0.7777777777777778,
              "#fb9f3a"
             ],
             [
              0.8888888888888888,
              "#fdca26"
             ],
             [
              1,
              "#f0f921"
             ]
            ],
            "type": "heatmap"
           }
          ],
          "heatmapgl": [
           {
            "colorbar": {
             "outlinewidth": 0,
             "ticks": ""
            },
            "colorscale": [
             [
              0,
              "#0d0887"
             ],
             [
              0.1111111111111111,
              "#46039f"
             ],
             [
              0.2222222222222222,
              "#7201a8"
             ],
             [
              0.3333333333333333,
              "#9c179e"
             ],
             [
              0.4444444444444444,
              "#bd3786"
             ],
             [
              0.5555555555555556,
              "#d8576b"
             ],
             [
              0.6666666666666666,
              "#ed7953"
             ],
             [
              0.7777777777777778,
              "#fb9f3a"
             ],
             [
              0.8888888888888888,
              "#fdca26"
             ],
             [
              1,
              "#f0f921"
             ]
            ],
            "type": "heatmapgl"
           }
          ],
          "histogram": [
           {
            "marker": {
             "pattern": {
              "fillmode": "overlay",
              "size": 10,
              "solidity": 0.2
             }
            },
            "type": "histogram"
           }
          ],
          "histogram2d": [
           {
            "colorbar": {
             "outlinewidth": 0,
             "ticks": ""
            },
            "colorscale": [
             [
              0,
              "#0d0887"
             ],
             [
              0.1111111111111111,
              "#46039f"
             ],
             [
              0.2222222222222222,
              "#7201a8"
             ],
             [
              0.3333333333333333,
              "#9c179e"
             ],
             [
              0.4444444444444444,
              "#bd3786"
             ],
             [
              0.5555555555555556,
              "#d8576b"
             ],
             [
              0.6666666666666666,
              "#ed7953"
             ],
             [
              0.7777777777777778,
              "#fb9f3a"
             ],
             [
              0.8888888888888888,
              "#fdca26"
             ],
             [
              1,
              "#f0f921"
             ]
            ],
            "type": "histogram2d"
           }
          ],
          "histogram2dcontour": [
           {
            "colorbar": {
             "outlinewidth": 0,
             "ticks": ""
            },
            "colorscale": [
             [
              0,
              "#0d0887"
             ],
             [
              0.1111111111111111,
              "#46039f"
             ],
             [
              0.2222222222222222,
              "#7201a8"
             ],
             [
              0.3333333333333333,
              "#9c179e"
             ],
             [
              0.4444444444444444,
              "#bd3786"
             ],
             [
              0.5555555555555556,
              "#d8576b"
             ],
             [
              0.6666666666666666,
              "#ed7953"
             ],
             [
              0.7777777777777778,
              "#fb9f3a"
             ],
             [
              0.8888888888888888,
              "#fdca26"
             ],
             [
              1,
              "#f0f921"
             ]
            ],
            "type": "histogram2dcontour"
           }
          ],
          "mesh3d": [
           {
            "colorbar": {
             "outlinewidth": 0,
             "ticks": ""
            },
            "type": "mesh3d"
           }
          ],
          "parcoords": [
           {
            "line": {
             "colorbar": {
              "outlinewidth": 0,
              "ticks": ""
             }
            },
            "type": "parcoords"
           }
          ],
          "pie": [
           {
            "automargin": true,
            "type": "pie"
           }
          ],
          "scatter": [
           {
            "fillpattern": {
             "fillmode": "overlay",
             "size": 10,
             "solidity": 0.2
            },
            "type": "scatter"
           }
          ],
          "scatter3d": [
           {
            "line": {
             "colorbar": {
              "outlinewidth": 0,
              "ticks": ""
             }
            },
            "marker": {
             "colorbar": {
              "outlinewidth": 0,
              "ticks": ""
             }
            },
            "type": "scatter3d"
           }
          ],
          "scattercarpet": [
           {
            "marker": {
             "colorbar": {
              "outlinewidth": 0,
              "ticks": ""
             }
            },
            "type": "scattercarpet"
           }
          ],
          "scattergeo": [
           {
            "marker": {
             "colorbar": {
              "outlinewidth": 0,
              "ticks": ""
             }
            },
            "type": "scattergeo"
           }
          ],
          "scattergl": [
           {
            "marker": {
             "colorbar": {
              "outlinewidth": 0,
              "ticks": ""
             }
            },
            "type": "scattergl"
           }
          ],
          "scattermapbox": [
           {
            "marker": {
             "colorbar": {
              "outlinewidth": 0,
              "ticks": ""
             }
            },
            "type": "scattermapbox"
           }
          ],
          "scatterpolar": [
           {
            "marker": {
             "colorbar": {
              "outlinewidth": 0,
              "ticks": ""
             }
            },
            "type": "scatterpolar"
           }
          ],
          "scatterpolargl": [
           {
            "marker": {
             "colorbar": {
              "outlinewidth": 0,
              "ticks": ""
             }
            },
            "type": "scatterpolargl"
           }
          ],
          "scatterternary": [
           {
            "marker": {
             "colorbar": {
              "outlinewidth": 0,
              "ticks": ""
             }
            },
            "type": "scatterternary"
           }
          ],
          "surface": [
           {
            "colorbar": {
             "outlinewidth": 0,
             "ticks": ""
            },
            "colorscale": [
             [
              0,
              "#0d0887"
             ],
             [
              0.1111111111111111,
              "#46039f"
             ],
             [
              0.2222222222222222,
              "#7201a8"
             ],
             [
              0.3333333333333333,
              "#9c179e"
             ],
             [
              0.4444444444444444,
              "#bd3786"
             ],
             [
              0.5555555555555556,
              "#d8576b"
             ],
             [
              0.6666666666666666,
              "#ed7953"
             ],
             [
              0.7777777777777778,
              "#fb9f3a"
             ],
             [
              0.8888888888888888,
              "#fdca26"
             ],
             [
              1,
              "#f0f921"
             ]
            ],
            "type": "surface"
           }
          ],
          "table": [
           {
            "cells": {
             "fill": {
              "color": "#EBF0F8"
             },
             "line": {
              "color": "white"
             }
            },
            "header": {
             "fill": {
              "color": "#C8D4E3"
             },
             "line": {
              "color": "white"
             }
            },
            "type": "table"
           }
          ]
         },
         "layout": {
          "annotationdefaults": {
           "arrowcolor": "#2a3f5f",
           "arrowhead": 0,
           "arrowwidth": 1
          },
          "autotypenumbers": "strict",
          "coloraxis": {
           "colorbar": {
            "outlinewidth": 0,
            "ticks": ""
           }
          },
          "colorscale": {
           "diverging": [
            [
             0,
             "#8e0152"
            ],
            [
             0.1,
             "#c51b7d"
            ],
            [
             0.2,
             "#de77ae"
            ],
            [
             0.3,
             "#f1b6da"
            ],
            [
             0.4,
             "#fde0ef"
            ],
            [
             0.5,
             "#f7f7f7"
            ],
            [
             0.6,
             "#e6f5d0"
            ],
            [
             0.7,
             "#b8e186"
            ],
            [
             0.8,
             "#7fbc41"
            ],
            [
             0.9,
             "#4d9221"
            ],
            [
             1,
             "#276419"
            ]
           ],
           "sequential": [
            [
             0,
             "#0d0887"
            ],
            [
             0.1111111111111111,
             "#46039f"
            ],
            [
             0.2222222222222222,
             "#7201a8"
            ],
            [
             0.3333333333333333,
             "#9c179e"
            ],
            [
             0.4444444444444444,
             "#bd3786"
            ],
            [
             0.5555555555555556,
             "#d8576b"
            ],
            [
             0.6666666666666666,
             "#ed7953"
            ],
            [
             0.7777777777777778,
             "#fb9f3a"
            ],
            [
             0.8888888888888888,
             "#fdca26"
            ],
            [
             1,
             "#f0f921"
            ]
           ],
           "sequentialminus": [
            [
             0,
             "#0d0887"
            ],
            [
             0.1111111111111111,
             "#46039f"
            ],
            [
             0.2222222222222222,
             "#7201a8"
            ],
            [
             0.3333333333333333,
             "#9c179e"
            ],
            [
             0.4444444444444444,
             "#bd3786"
            ],
            [
             0.5555555555555556,
             "#d8576b"
            ],
            [
             0.6666666666666666,
             "#ed7953"
            ],
            [
             0.7777777777777778,
             "#fb9f3a"
            ],
            [
             0.8888888888888888,
             "#fdca26"
            ],
            [
             1,
             "#f0f921"
            ]
           ]
          },
          "colorway": [
           "#636efa",
           "#EF553B",
           "#00cc96",
           "#ab63fa",
           "#FFA15A",
           "#19d3f3",
           "#FF6692",
           "#B6E880",
           "#FF97FF",
           "#FECB52"
          ],
          "font": {
           "color": "#2a3f5f"
          },
          "geo": {
           "bgcolor": "white",
           "lakecolor": "white",
           "landcolor": "white",
           "showlakes": true,
           "showland": true,
           "subunitcolor": "#C8D4E3"
          },
          "hoverlabel": {
           "align": "left"
          },
          "hovermode": "closest",
          "mapbox": {
           "style": "light"
          },
          "paper_bgcolor": "white",
          "plot_bgcolor": "white",
          "polar": {
           "angularaxis": {
            "gridcolor": "#EBF0F8",
            "linecolor": "#EBF0F8",
            "ticks": ""
           },
           "bgcolor": "white",
           "radialaxis": {
            "gridcolor": "#EBF0F8",
            "linecolor": "#EBF0F8",
            "ticks": ""
           }
          },
          "scene": {
           "xaxis": {
            "backgroundcolor": "white",
            "gridcolor": "#DFE8F3",
            "gridwidth": 2,
            "linecolor": "#EBF0F8",
            "showbackground": true,
            "ticks": "",
            "zerolinecolor": "#EBF0F8"
           },
           "yaxis": {
            "backgroundcolor": "white",
            "gridcolor": "#DFE8F3",
            "gridwidth": 2,
            "linecolor": "#EBF0F8",
            "showbackground": true,
            "ticks": "",
            "zerolinecolor": "#EBF0F8"
           },
           "zaxis": {
            "backgroundcolor": "white",
            "gridcolor": "#DFE8F3",
            "gridwidth": 2,
            "linecolor": "#EBF0F8",
            "showbackground": true,
            "ticks": "",
            "zerolinecolor": "#EBF0F8"
           }
          },
          "shapedefaults": {
           "line": {
            "color": "#2a3f5f"
           }
          },
          "ternary": {
           "aaxis": {
            "gridcolor": "#DFE8F3",
            "linecolor": "#A2B1C6",
            "ticks": ""
           },
           "baxis": {
            "gridcolor": "#DFE8F3",
            "linecolor": "#A2B1C6",
            "ticks": ""
           },
           "bgcolor": "white",
           "caxis": {
            "gridcolor": "#DFE8F3",
            "linecolor": "#A2B1C6",
            "ticks": ""
           }
          },
          "title": {
           "x": 0.05
          },
          "xaxis": {
           "automargin": true,
           "gridcolor": "#EBF0F8",
           "linecolor": "#EBF0F8",
           "ticks": "",
           "title": {
            "standoff": 15
           },
           "zerolinecolor": "#EBF0F8",
           "zerolinewidth": 2
          },
          "yaxis": {
           "automargin": true,
           "gridcolor": "#EBF0F8",
           "linecolor": "#EBF0F8",
           "ticks": "",
           "title": {
            "standoff": 15
           },
           "zerolinecolor": "#EBF0F8",
           "zerolinewidth": 2
          }
         }
        },
        "title": {
         "text": "Total Amount Received by Month"
        },
        "xaxis": {
         "anchor": "y",
         "domain": [
          0,
          1
         ],
         "tickangle": -45,
         "title": {
          "text": "Month"
         }
        },
        "yaxis": {
         "anchor": "x",
         "domain": [
          0,
          1
         ],
         "title": {
          "text": "Amount Received (in Millions)"
         }
        }
       }
      }
     },
     "metadata": {},
     "output_type": "display_data"
    }
   ],
   "source": [
    "# Prepare the data for the plot\n",
    "monthly_funded = (\n",
    "    df.sort_values('issue_date')\n",
    "    .assign(month_name=lambda x: x['issue_date'].dt.strftime('%b %Y'))\n",
    "    .groupby('month_name', sort=False)['total_payment']\n",
    "    .sum()\n",
    "    .div(1000000)\n",
    "    .reset_index(name='total_received')\n",
    ")\n",
    "\n",
    "# Create an interactive area plot with Plotly Express\n",
    "fig = px.area(\n",
    "    monthly_funded,\n",
    "    x='month_name',\n",
    "    y='total_received',\n",
    "    title='Total Amount Received by Month',\n",
    "    labels={'month_name': 'Month', 'total_received': 'Received Amount (in Millions)'},\n",
    "    markers=True,\n",
    "    text=monthly_funded['total_received'].apply(lambda x: f'{x:.2f}M')\n",
    ")\n",
    "\n",
    "# Update layout for a cleaner look\n",
    "fig.update_layout(\n",
    "    xaxis_tickangle=-45,\n",
    "    yaxis_title='Amount Received (in Millions)',\n",
    "    xaxis_title='Month',\n",
    "    template='plotly_white',\n",
    "    hovermode='x unified'\n",
    ")\n",
    "\n",
    "# Update traces for text labels\n",
    "fig.update_traces(\n",
    "    textposition='top center'\n",
    ")\n",
    "\n",
    "# Show the plot\n",
    "fig.show()"
   ]
  },
  {
   "cell_type": "markdown",
   "id": "5df59e46",
   "metadata": {},
   "source": [
    "#### Total Applications Received by Month"
   ]
  },
  {
   "cell_type": "code",
   "execution_count": 60,
   "id": "87e50d92",
   "metadata": {},
   "outputs": [
    {
     "data": {
      "application/vnd.plotly.v1+json": {
       "config": {
        "plotlyServerURL": "https://plot.ly"
       },
       "data": [
        {
         "fillpattern": {
          "shape": ""
         },
         "hovertemplate": "Month=%{x}<br>Total Applications=%{y}<br>text=%{text}<extra></extra>",
         "legendgroup": "",
         "line": {
          "color": "#636efa"
         },
         "marker": {
          "symbol": "circle"
         },
         "mode": "lines+markers+text",
         "name": "",
         "orientation": "v",
         "showlegend": false,
         "stackgroup": "1",
         "text": [
          "2332",
          "2279",
          "2627",
          "2755",
          "2911",
          "3184",
          "3366",
          "3441",
          "3536",
          "3796",
          "4035",
          "4314"
         ],
         "textposition": "top center",
         "type": "scatter",
         "x": [
          "Jan 2021",
          "Feb 2021",
          "Mar 2021",
          "Apr 2021",
          "May 2021",
          "Jun 2021",
          "Jul 2021",
          "Aug 2021",
          "Sep 2021",
          "Oct 2021",
          "Nov 2021",
          "Dec 2021"
         ],
         "xaxis": "x",
         "y": [
          2332,
          2279,
          2627,
          2755,
          2911,
          3184,
          3366,
          3441,
          3536,
          3796,
          4035,
          4314
         ],
         "yaxis": "y"
        }
       ],
       "layout": {
        "hovermode": "x unified",
        "legend": {
         "tracegroupgap": 0
        },
        "template": {
         "data": {
          "bar": [
           {
            "error_x": {
             "color": "#2a3f5f"
            },
            "error_y": {
             "color": "#2a3f5f"
            },
            "marker": {
             "line": {
              "color": "white",
              "width": 0.5
             },
             "pattern": {
              "fillmode": "overlay",
              "size": 10,
              "solidity": 0.2
             }
            },
            "type": "bar"
           }
          ],
          "barpolar": [
           {
            "marker": {
             "line": {
              "color": "white",
              "width": 0.5
             },
             "pattern": {
              "fillmode": "overlay",
              "size": 10,
              "solidity": 0.2
             }
            },
            "type": "barpolar"
           }
          ],
          "carpet": [
           {
            "aaxis": {
             "endlinecolor": "#2a3f5f",
             "gridcolor": "#C8D4E3",
             "linecolor": "#C8D4E3",
             "minorgridcolor": "#C8D4E3",
             "startlinecolor": "#2a3f5f"
            },
            "baxis": {
             "endlinecolor": "#2a3f5f",
             "gridcolor": "#C8D4E3",
             "linecolor": "#C8D4E3",
             "minorgridcolor": "#C8D4E3",
             "startlinecolor": "#2a3f5f"
            },
            "type": "carpet"
           }
          ],
          "choropleth": [
           {
            "colorbar": {
             "outlinewidth": 0,
             "ticks": ""
            },
            "type": "choropleth"
           }
          ],
          "contour": [
           {
            "colorbar": {
             "outlinewidth": 0,
             "ticks": ""
            },
            "colorscale": [
             [
              0,
              "#0d0887"
             ],
             [
              0.1111111111111111,
              "#46039f"
             ],
             [
              0.2222222222222222,
              "#7201a8"
             ],
             [
              0.3333333333333333,
              "#9c179e"
             ],
             [
              0.4444444444444444,
              "#bd3786"
             ],
             [
              0.5555555555555556,
              "#d8576b"
             ],
             [
              0.6666666666666666,
              "#ed7953"
             ],
             [
              0.7777777777777778,
              "#fb9f3a"
             ],
             [
              0.8888888888888888,
              "#fdca26"
             ],
             [
              1,
              "#f0f921"
             ]
            ],
            "type": "contour"
           }
          ],
          "contourcarpet": [
           {
            "colorbar": {
             "outlinewidth": 0,
             "ticks": ""
            },
            "type": "contourcarpet"
           }
          ],
          "heatmap": [
           {
            "colorbar": {
             "outlinewidth": 0,
             "ticks": ""
            },
            "colorscale": [
             [
              0,
              "#0d0887"
             ],
             [
              0.1111111111111111,
              "#46039f"
             ],
             [
              0.2222222222222222,
              "#7201a8"
             ],
             [
              0.3333333333333333,
              "#9c179e"
             ],
             [
              0.4444444444444444,
              "#bd3786"
             ],
             [
              0.5555555555555556,
              "#d8576b"
             ],
             [
              0.6666666666666666,
              "#ed7953"
             ],
             [
              0.7777777777777778,
              "#fb9f3a"
             ],
             [
              0.8888888888888888,
              "#fdca26"
             ],
             [
              1,
              "#f0f921"
             ]
            ],
            "type": "heatmap"
           }
          ],
          "heatmapgl": [
           {
            "colorbar": {
             "outlinewidth": 0,
             "ticks": ""
            },
            "colorscale": [
             [
              0,
              "#0d0887"
             ],
             [
              0.1111111111111111,
              "#46039f"
             ],
             [
              0.2222222222222222,
              "#7201a8"
             ],
             [
              0.3333333333333333,
              "#9c179e"
             ],
             [
              0.4444444444444444,
              "#bd3786"
             ],
             [
              0.5555555555555556,
              "#d8576b"
             ],
             [
              0.6666666666666666,
              "#ed7953"
             ],
             [
              0.7777777777777778,
              "#fb9f3a"
             ],
             [
              0.8888888888888888,
              "#fdca26"
             ],
             [
              1,
              "#f0f921"
             ]
            ],
            "type": "heatmapgl"
           }
          ],
          "histogram": [
           {
            "marker": {
             "pattern": {
              "fillmode": "overlay",
              "size": 10,
              "solidity": 0.2
             }
            },
            "type": "histogram"
           }
          ],
          "histogram2d": [
           {
            "colorbar": {
             "outlinewidth": 0,
             "ticks": ""
            },
            "colorscale": [
             [
              0,
              "#0d0887"
             ],
             [
              0.1111111111111111,
              "#46039f"
             ],
             [
              0.2222222222222222,
              "#7201a8"
             ],
             [
              0.3333333333333333,
              "#9c179e"
             ],
             [
              0.4444444444444444,
              "#bd3786"
             ],
             [
              0.5555555555555556,
              "#d8576b"
             ],
             [
              0.6666666666666666,
              "#ed7953"
             ],
             [
              0.7777777777777778,
              "#fb9f3a"
             ],
             [
              0.8888888888888888,
              "#fdca26"
             ],
             [
              1,
              "#f0f921"
             ]
            ],
            "type": "histogram2d"
           }
          ],
          "histogram2dcontour": [
           {
            "colorbar": {
             "outlinewidth": 0,
             "ticks": ""
            },
            "colorscale": [
             [
              0,
              "#0d0887"
             ],
             [
              0.1111111111111111,
              "#46039f"
             ],
             [
              0.2222222222222222,
              "#7201a8"
             ],
             [
              0.3333333333333333,
              "#9c179e"
             ],
             [
              0.4444444444444444,
              "#bd3786"
             ],
             [
              0.5555555555555556,
              "#d8576b"
             ],
             [
              0.6666666666666666,
              "#ed7953"
             ],
             [
              0.7777777777777778,
              "#fb9f3a"
             ],
             [
              0.8888888888888888,
              "#fdca26"
             ],
             [
              1,
              "#f0f921"
             ]
            ],
            "type": "histogram2dcontour"
           }
          ],
          "mesh3d": [
           {
            "colorbar": {
             "outlinewidth": 0,
             "ticks": ""
            },
            "type": "mesh3d"
           }
          ],
          "parcoords": [
           {
            "line": {
             "colorbar": {
              "outlinewidth": 0,
              "ticks": ""
             }
            },
            "type": "parcoords"
           }
          ],
          "pie": [
           {
            "automargin": true,
            "type": "pie"
           }
          ],
          "scatter": [
           {
            "fillpattern": {
             "fillmode": "overlay",
             "size": 10,
             "solidity": 0.2
            },
            "type": "scatter"
           }
          ],
          "scatter3d": [
           {
            "line": {
             "colorbar": {
              "outlinewidth": 0,
              "ticks": ""
             }
            },
            "marker": {
             "colorbar": {
              "outlinewidth": 0,
              "ticks": ""
             }
            },
            "type": "scatter3d"
           }
          ],
          "scattercarpet": [
           {
            "marker": {
             "colorbar": {
              "outlinewidth": 0,
              "ticks": ""
             }
            },
            "type": "scattercarpet"
           }
          ],
          "scattergeo": [
           {
            "marker": {
             "colorbar": {
              "outlinewidth": 0,
              "ticks": ""
             }
            },
            "type": "scattergeo"
           }
          ],
          "scattergl": [
           {
            "marker": {
             "colorbar": {
              "outlinewidth": 0,
              "ticks": ""
             }
            },
            "type": "scattergl"
           }
          ],
          "scattermapbox": [
           {
            "marker": {
             "colorbar": {
              "outlinewidth": 0,
              "ticks": ""
             }
            },
            "type": "scattermapbox"
           }
          ],
          "scatterpolar": [
           {
            "marker": {
             "colorbar": {
              "outlinewidth": 0,
              "ticks": ""
             }
            },
            "type": "scatterpolar"
           }
          ],
          "scatterpolargl": [
           {
            "marker": {
             "colorbar": {
              "outlinewidth": 0,
              "ticks": ""
             }
            },
            "type": "scatterpolargl"
           }
          ],
          "scatterternary": [
           {
            "marker": {
             "colorbar": {
              "outlinewidth": 0,
              "ticks": ""
             }
            },
            "type": "scatterternary"
           }
          ],
          "surface": [
           {
            "colorbar": {
             "outlinewidth": 0,
             "ticks": ""
            },
            "colorscale": [
             [
              0,
              "#0d0887"
             ],
             [
              0.1111111111111111,
              "#46039f"
             ],
             [
              0.2222222222222222,
              "#7201a8"
             ],
             [
              0.3333333333333333,
              "#9c179e"
             ],
             [
              0.4444444444444444,
              "#bd3786"
             ],
             [
              0.5555555555555556,
              "#d8576b"
             ],
             [
              0.6666666666666666,
              "#ed7953"
             ],
             [
              0.7777777777777778,
              "#fb9f3a"
             ],
             [
              0.8888888888888888,
              "#fdca26"
             ],
             [
              1,
              "#f0f921"
             ]
            ],
            "type": "surface"
           }
          ],
          "table": [
           {
            "cells": {
             "fill": {
              "color": "#EBF0F8"
             },
             "line": {
              "color": "white"
             }
            },
            "header": {
             "fill": {
              "color": "#C8D4E3"
             },
             "line": {
              "color": "white"
             }
            },
            "type": "table"
           }
          ]
         },
         "layout": {
          "annotationdefaults": {
           "arrowcolor": "#2a3f5f",
           "arrowhead": 0,
           "arrowwidth": 1
          },
          "autotypenumbers": "strict",
          "coloraxis": {
           "colorbar": {
            "outlinewidth": 0,
            "ticks": ""
           }
          },
          "colorscale": {
           "diverging": [
            [
             0,
             "#8e0152"
            ],
            [
             0.1,
             "#c51b7d"
            ],
            [
             0.2,
             "#de77ae"
            ],
            [
             0.3,
             "#f1b6da"
            ],
            [
             0.4,
             "#fde0ef"
            ],
            [
             0.5,
             "#f7f7f7"
            ],
            [
             0.6,
             "#e6f5d0"
            ],
            [
             0.7,
             "#b8e186"
            ],
            [
             0.8,
             "#7fbc41"
            ],
            [
             0.9,
             "#4d9221"
            ],
            [
             1,
             "#276419"
            ]
           ],
           "sequential": [
            [
             0,
             "#0d0887"
            ],
            [
             0.1111111111111111,
             "#46039f"
            ],
            [
             0.2222222222222222,
             "#7201a8"
            ],
            [
             0.3333333333333333,
             "#9c179e"
            ],
            [
             0.4444444444444444,
             "#bd3786"
            ],
            [
             0.5555555555555556,
             "#d8576b"
            ],
            [
             0.6666666666666666,
             "#ed7953"
            ],
            [
             0.7777777777777778,
             "#fb9f3a"
            ],
            [
             0.8888888888888888,
             "#fdca26"
            ],
            [
             1,
             "#f0f921"
            ]
           ],
           "sequentialminus": [
            [
             0,
             "#0d0887"
            ],
            [
             0.1111111111111111,
             "#46039f"
            ],
            [
             0.2222222222222222,
             "#7201a8"
            ],
            [
             0.3333333333333333,
             "#9c179e"
            ],
            [
             0.4444444444444444,
             "#bd3786"
            ],
            [
             0.5555555555555556,
             "#d8576b"
            ],
            [
             0.6666666666666666,
             "#ed7953"
            ],
            [
             0.7777777777777778,
             "#fb9f3a"
            ],
            [
             0.8888888888888888,
             "#fdca26"
            ],
            [
             1,
             "#f0f921"
            ]
           ]
          },
          "colorway": [
           "#636efa",
           "#EF553B",
           "#00cc96",
           "#ab63fa",
           "#FFA15A",
           "#19d3f3",
           "#FF6692",
           "#B6E880",
           "#FF97FF",
           "#FECB52"
          ],
          "font": {
           "color": "#2a3f5f"
          },
          "geo": {
           "bgcolor": "white",
           "lakecolor": "white",
           "landcolor": "white",
           "showlakes": true,
           "showland": true,
           "subunitcolor": "#C8D4E3"
          },
          "hoverlabel": {
           "align": "left"
          },
          "hovermode": "closest",
          "mapbox": {
           "style": "light"
          },
          "paper_bgcolor": "white",
          "plot_bgcolor": "white",
          "polar": {
           "angularaxis": {
            "gridcolor": "#EBF0F8",
            "linecolor": "#EBF0F8",
            "ticks": ""
           },
           "bgcolor": "white",
           "radialaxis": {
            "gridcolor": "#EBF0F8",
            "linecolor": "#EBF0F8",
            "ticks": ""
           }
          },
          "scene": {
           "xaxis": {
            "backgroundcolor": "white",
            "gridcolor": "#DFE8F3",
            "gridwidth": 2,
            "linecolor": "#EBF0F8",
            "showbackground": true,
            "ticks": "",
            "zerolinecolor": "#EBF0F8"
           },
           "yaxis": {
            "backgroundcolor": "white",
            "gridcolor": "#DFE8F3",
            "gridwidth": 2,
            "linecolor": "#EBF0F8",
            "showbackground": true,
            "ticks": "",
            "zerolinecolor": "#EBF0F8"
           },
           "zaxis": {
            "backgroundcolor": "white",
            "gridcolor": "#DFE8F3",
            "gridwidth": 2,
            "linecolor": "#EBF0F8",
            "showbackground": true,
            "ticks": "",
            "zerolinecolor": "#EBF0F8"
           }
          },
          "shapedefaults": {
           "line": {
            "color": "#2a3f5f"
           }
          },
          "ternary": {
           "aaxis": {
            "gridcolor": "#DFE8F3",
            "linecolor": "#A2B1C6",
            "ticks": ""
           },
           "baxis": {
            "gridcolor": "#DFE8F3",
            "linecolor": "#A2B1C6",
            "ticks": ""
           },
           "bgcolor": "white",
           "caxis": {
            "gridcolor": "#DFE8F3",
            "linecolor": "#A2B1C6",
            "ticks": ""
           }
          },
          "title": {
           "x": 0.05
          },
          "xaxis": {
           "automargin": true,
           "gridcolor": "#EBF0F8",
           "linecolor": "#EBF0F8",
           "ticks": "",
           "title": {
            "standoff": 15
           },
           "zerolinecolor": "#EBF0F8",
           "zerolinewidth": 2
          },
          "yaxis": {
           "automargin": true,
           "gridcolor": "#EBF0F8",
           "linecolor": "#EBF0F8",
           "ticks": "",
           "title": {
            "standoff": 15
           },
           "zerolinecolor": "#EBF0F8",
           "zerolinewidth": 2
          }
         }
        },
        "title": {
         "text": "Total Applications Received by Month"
        },
        "xaxis": {
         "anchor": "y",
         "domain": [
          0,
          1
         ],
         "tickangle": -45,
         "title": {
          "text": "Month"
         }
        },
        "yaxis": {
         "anchor": "x",
         "domain": [
          0,
          1
         ],
         "title": {
          "text": "Total Applications"
         }
        }
       }
      }
     },
     "metadata": {},
     "output_type": "display_data"
    }
   ],
   "source": [
    "# Prepare the data for the plot\n",
    "monthly_appln = (\n",
    "    df.sort_values('issue_date')\n",
    "    .assign(month_name=lambda x: x['issue_date'].dt.strftime('%b %Y'))\n",
    "    .groupby('month_name', sort=False)['id']\n",
    "    .count()\n",
    "    .reset_index(name='total_loan_app')\n",
    ")\n",
    "\n",
    "# Create an interactive area plot with Plotly Express\n",
    "fig = px.area(\n",
    "    monthly_appln,\n",
    "    x='month_name',\n",
    "    y='total_loan_app',\n",
    "    title='Total Applications Received by Month',\n",
    "    labels={'month_name': 'Month', 'total_loan_app': 'Total Applications'},\n",
    "    markers=True,\n",
    "    text=monthly_appln['total_loan_app'].apply(lambda x: f'{x:.0f}')\n",
    ")\n",
    "\n",
    "# Update layout for a cleaner look\n",
    "fig.update_layout(\n",
    "    xaxis_tickangle=-45,\n",
    "    yaxis_title='Total Applications',\n",
    "    xaxis_title='Month',\n",
    "    template='plotly_white',\n",
    "    hovermode='x unified'\n",
    ")\n",
    "\n",
    "# Update traces for text labels\n",
    "fig.update_traces(\n",
    "    textposition='top center'\n",
    ")\n",
    "\n",
    "# Show the plot\n",
    "fig.show()"
   ]
  },
  {
   "cell_type": "markdown",
   "id": "33ef70b9",
   "metadata": {},
   "source": [
    "#### Regional Analysis by State for Total Funded Amount"
   ]
  },
  {
   "cell_type": "code",
   "execution_count": 61,
   "id": "fad16069",
   "metadata": {},
   "outputs": [
    {
     "data": {
      "image/png": "[encoded data removed]",
      "text/plain": [
       "<Figure size 1000x800 with 1 Axes>"
      ]
     },
     "metadata": {},
     "output_type": "display_data"
    }
   ],
   "source": [
    "state_fund=(df.groupby('address_state')['loan_amount'].sum().sort_values(ascending=True))/1000\n",
    "\n",
    "plt.figure(figsize=(10,8))\n",
    "bars=plt.barh(state_fund.index,state_fund.values,color='lightcoral')\n",
    "\n",
    "for bar in bars:\n",
    "    width=bar.get_width()\n",
    "    plt.text(width+10,bar.get_y()+bar.get_height()/2,\n",
    "             f'{width:,.0f}K',va='center',fontsize=9)\n",
    "    \n",
    "plt.title('Total Funded Amount by State')\n",
    "plt.xlabel('Funded Amount')\n",
    "plt.ylabel('State')\n",
    "plt.tight_layout()\n",
    "plt.show()    "
   ]
  },
  {
   "cell_type": "markdown",
   "id": "6fcda2ae",
   "metadata": {},
   "source": [
    "#### Loan Term Analysis"
   ]
  },
  {
   "cell_type": "code",
   "execution_count": 64,
   "id": "7606f9ef",
   "metadata": {},
   "outputs": [
    {
     "data": {
      "image/png": "[encoded data removed]",
      "text/plain": [
       "<Figure size 500x500 with 1 Axes>"
      ]
     },
     "metadata": {},
     "output_type": "display_data"
    }
   ],
   "source": [
    "term_fund=df.groupby('term')['loan_amount'].sum()/1000000\n",
    "\n",
    "plt.figure(figsize=(5,5))\n",
    "plt.pie(\n",
    "    term_fund,\n",
    "    labels=term_fund.index,\n",
    "    autopct=lambda p: f\"{p:.1f}%\\n${p*sum(term_fund)/100:.1f}M\",\n",
    "    startangle=90,\n",
    "    wedgeprops={'width':0.4}\n",
    ")\n",
    "plt.gca().add_artist(plt.Circle((0,0),0.70,color='white'))\n",
    "plt.title('Total Funded Amount by Term')\n",
    "plt.show()"
   ]
  },
  {
   "cell_type": "markdown",
   "id": "6a7da277",
   "metadata": {},
   "source": [
    "#### Emp Length by Funding"
   ]
  },
  {
   "cell_type": "code",
   "execution_count": 71,
   "id": "97740a8e",
   "metadata": {},
   "outputs": [
    {
     "data": {
      "image/png": "[encoded data removed]",
      "text/plain": [
       "<Figure size 1000x600 with 1 Axes>"
      ]
     },
     "metadata": {},
     "output_type": "display_data"
    }
   ],
   "source": [
    "emp_fund=df.groupby('emp_length')['loan_amount'].sum().sort_values()/1000\n",
    "\n",
    "plt.figure(figsize=(10,6))\n",
    "bars=plt.barh(emp_fund.index,emp_fund.values,color='purple')\n",
    "\n",
    "for bar in bars:\n",
    "    width=bar.get_width()\n",
    "    plt.text(width+10,bar.get_y()+bar.get_height()/2,\n",
    "             f'{width:,.0f}K',va='center',fontsize=9)\n",
    "    \n",
    "plt.title('Total Funded Amount')\n",
    "plt.xlabel('Funded Amount')\n",
    "plt.ylabel('Years')\n",
    "plt.tight_layout()\n",
    "plt.show() "
   ]
  },
  {
   "cell_type": "markdown",
   "id": "8df68f7a",
   "metadata": {},
   "source": [
    "#### Total Funded Amount by Purpose"
   ]
  },
  {
   "cell_type": "code",
   "execution_count": 75,
   "id": "21767cc5",
   "metadata": {},
   "outputs": [
    {
     "data": {
      "image/png": "[encoded data removed]",
      "text/plain": [
       "<Figure size 1000x600 with 1 Axes>"
      ]
     },
     "metadata": {},
     "output_type": "display_data"
    }
   ],
   "source": [
    "purpose_fund=df.groupby('purpose')['loan_amount'].sum().sort_values()/1000\n",
    "\n",
    "plt.figure(figsize=(10,6))\n",
    "bars=plt.barh(purpose_fund.index,purpose_fund.values,color='skyblue')\n",
    "\n",
    "for bar in bars:\n",
    "    width=bar.get_width()\n",
    "    plt.text(width+10,bar.get_y()+bar.get_height()/2,\n",
    "             f'{width:,.0f}K',va='center',fontsize=9)\n",
    "    \n",
    "plt.title('Total Funded Amount by Purpose')\n",
    "plt.xlabel('Funded Amount')\n",
    "plt.ylabel('Purpose')\n",
    "plt.tight_layout()\n",
    "plt.show() "
   ]
  },
  {
   "cell_type": "markdown",
   "id": "9fdddfe9",
   "metadata": {},
   "source": [
    "#### Home Ownerships"
   ]
  },
  {
   "cell_type": "code",
   "execution_count": 78,
   "id": "980939a9",
   "metadata": {},
   "outputs": [
    {
     "data": {
      "application/vnd.plotly.v1+json": {
       "config": {
        "plotlyServerURL": "https://plot.ly"
       },
       "data": [
        {
         "branchvalues": "total",
         "customdata": [
          [
           219.32915
          ],
          [
           0.0168
          ],
          [
           1.044975
          ],
          [
           29.597675
          ],
          [
           185.768475
          ]
         ],
         "domain": {
          "x": [
           0,
           1
          ],
          "y": [
           0,
           1
          ]
         },
         "hovertemplate": "labels=%{label}<br>loan_amount_mil_sum=%{value}<br>parent=%{parent}<br>id=%{id}<br>loan_amount_mil=%{color}<extra></extra>",
         "ids": [
          "MORTGAGE",
          "NONE",
          "OTHER",
          "OWN",
          "RENT"
         ],
         "labels": [
          "MORTGAGE",
          "NONE",
          "OTHER",
          "OWN",
          "RENT"
         ],
         "marker": {
          "coloraxis": "coloraxis",
          "colors": [
           219.32915,
           0.0168,
           1.044975,
           29.597675,
           185.768475
          ]
         },
         "name": "",
         "parents": [
          "",
          "",
          "",
          "",
          ""
         ],
         "type": "treemap",
         "values": [
          219.32915,
          0.0168,
          1.044975,
          29.597675,
          185.768475
         ]
        }
       ],
       "layout": {
        "coloraxis": {
         "colorbar": {
          "title": {
           "text": "loan_amount_mil"
          }
         },
         "colorscale": [
          [
           0,
           "rgb(247,251,255)"
          ],
          [
           0.125,
           "rgb(222,235,247)"
          ],
          [
           0.25,
           "rgb(198,219,239)"
          ],
          [
           0.375,
           "rgb(158,202,225)"
          ],
          [
           0.5,
           "rgb(107,174,214)"
          ],
          [
           0.625,
           "rgb(66,146,198)"
          ],
          [
           0.75,
           "rgb(33,113,181)"
          ],
          [
           0.875,
           "rgb(8,81,156)"
          ],
          [
           1,
           "rgb(8,48,107)"
          ]
         ]
        },
        "legend": {
         "tracegroupgap": 0
        },
        "template": {
         "data": {
          "bar": [
           {
            "error_x": {
             "color": "#2a3f5f"
            },
            "error_y": {
             "color": "#2a3f5f"
            },
            "marker": {
             "line": {
              "color": "#E5ECF6",
              "width": 0.5
             },
             "pattern": {
              "fillmode": "overlay",
              "size": 10,
              "solidity": 0.2
             }
            },
            "type": "bar"
           }
          ],
          "barpolar": [
           {
            "marker": {
             "line": {
              "color": "#E5ECF6",
              "width": 0.5
             },
             "pattern": {
              "fillmode": "overlay",
              "size": 10,
              "solidity": 0.2
             }
            },
            "type": "barpolar"
           }
          ],
          "carpet": [
           {
            "aaxis": {
             "endlinecolor": "#2a3f5f",
             "gridcolor": "white",
             "linecolor": "white",
             "minorgridcolor": "white",
             "startlinecolor": "#2a3f5f"
            },
            "baxis": {
             "endlinecolor": "#2a3f5f",
             "gridcolor": "white",
             "linecolor": "white",
             "minorgridcolor": "white",
             "startlinecolor": "#2a3f5f"
            },
            "type": "carpet"
           }
          ],
          "choropleth": [
           {
            "colorbar": {
             "outlinewidth": 0,
             "ticks": ""
            },
            "type": "choropleth"
           }
          ],
          "contour": [
           {
            "colorbar": {
             "outlinewidth": 0,
             "ticks": ""
            },
            "colorscale": [
             [
              0,
              "#0d0887"
             ],
             [
              0.1111111111111111,
              "#46039f"
             ],
             [
              0.2222222222222222,
              "#7201a8"
             ],
             [
              0.3333333333333333,
              "#9c179e"
             ],
             [
              0.4444444444444444,
              "#bd3786"
             ],
             [
              0.5555555555555556,
              "#d8576b"
             ],
             [
              0.6666666666666666,
              "#ed7953"
             ],
             [
              0.7777777777777778,
              "#fb9f3a"
             ],
             [
              0.8888888888888888,
              "#fdca26"
             ],
             [
              1,
              "#f0f921"
             ]
            ],
            "type": "contour"
           }
          ],
          "contourcarpet": [
           {
            "colorbar": {
             "outlinewidth": 0,
             "ticks": ""
            },
            "type": "contourcarpet"
           }
          ],
          "heatmap": [
           {
            "colorbar": {
             "outlinewidth": 0,
             "ticks": ""
            },
            "colorscale": [
             [
              0,
              "#0d0887"
             ],
             [
              0.1111111111111111,
              "#46039f"
             ],
             [
              0.2222222222222222,
              "#7201a8"
             ],
             [
              0.3333333333333333,
              "#9c179e"
             ],
             [
              0.4444444444444444,
              "#bd3786"
             ],
             [
              0.5555555555555556,
              "#d8576b"
             ],
             [
              0.6666666666666666,
              "#ed7953"
             ],
             [
              0.7777777777777778,
              "#fb9f3a"
             ],
             [
              0.8888888888888888,
              "#fdca26"
             ],
             [
              1,
              "#f0f921"
             ]
            ],
            "type": "heatmap"
           }
          ],
          "heatmapgl": [
           {
            "colorbar": {
             "outlinewidth": 0,
             "ticks": ""
            },
            "colorscale": [
             [
              0,
              "#0d0887"
             ],
             [
              0.1111111111111111,
              "#46039f"
             ],
             [
              0.2222222222222222,
              "#7201a8"
             ],
             [
              0.3333333333333333,
              "#9c179e"
             ],
             [
              0.4444444444444444,
              "#bd3786"
             ],
             [
              0.5555555555555556,
              "#d8576b"
             ],
             [
              0.6666666666666666,
              "#ed7953"
             ],
             [
              0.7777777777777778,
              "#fb9f3a"
             ],
             [
              0.8888888888888888,
              "#fdca26"
             ],
             [
              1,
              "#f0f921"
             ]
            ],
            "type": "heatmapgl"
           }
          ],
          "histogram": [
           {
            "marker": {
             "pattern": {
              "fillmode": "overlay",
              "size": 10,
              "solidity": 0.2
             }
            },
            "type": "histogram"
           }
          ],
          "histogram2d": [
           {
            "colorbar": {
             "outlinewidth": 0,
             "ticks": ""
            },
            "colorscale": [
             [
              0,
              "#0d0887"
             ],
             [
              0.1111111111111111,
              "#46039f"
             ],
             [
              0.2222222222222222,
              "#7201a8"
             ],
             [
              0.3333333333333333,
              "#9c179e"
             ],
             [
              0.4444444444444444,
              "#bd3786"
             ],
             [
              0.5555555555555556,
              "#d8576b"
             ],
             [
              0.6666666666666666,
              "#ed7953"
             ],
             [
              0.7777777777777778,
              "#fb9f3a"
             ],
             [
              0.8888888888888888,
              "#fdca26"
             ],
             [
              1,
              "#f0f921"
             ]
            ],
            "type": "histogram2d"
           }
          ],
          "histogram2dcontour": [
           {
            "colorbar": {
             "outlinewidth": 0,
             "ticks": ""
            },
            "colorscale": [
             [
              0,
              "#0d0887"
             ],
             [
              0.1111111111111111,
              "#46039f"
             ],
             [
              0.2222222222222222,
              "#7201a8"
             ],
             [
              0.3333333333333333,
              "#9c179e"
             ],
             [
              0.4444444444444444,
              "#bd3786"
             ],
             [
              0.5555555555555556,
              "#d8576b"
             ],
             [
              0.6666666666666666,
              "#ed7953"
             ],
             [
              0.7777777777777778,
              "#fb9f3a"
             ],
             [
              0.8888888888888888,
              "#fdca26"
             ],
             [
              1,
              "#f0f921"
             ]
            ],
            "type": "histogram2dcontour"
           }
          ],
          "mesh3d": [
           {
            "colorbar": {
             "outlinewidth": 0,
             "ticks": ""
            },
            "type": "mesh3d"
           }
          ],
          "parcoords": [
           {
            "line": {
             "colorbar": {
              "outlinewidth": 0,
              "ticks": ""
             }
            },
            "type": "parcoords"
           }
          ],
          "pie": [
           {
            "automargin": true,
            "type": "pie"
           }
          ],
          "scatter": [
           {
            "fillpattern": {
             "fillmode": "overlay",
             "size": 10,
             "solidity": 0.2
            },
            "type": "scatter"
           }
          ],
          "scatter3d": [
           {
            "line": {
             "colorbar": {
              "outlinewidth": 0,
              "ticks": ""
             }
            },
            "marker": {
             "colorbar": {
              "outlinewidth": 0,
              "ticks": ""
             }
            },
            "type": "scatter3d"
           }
          ],
          "scattercarpet": [
           {
            "marker": {
             "colorbar": {
              "outlinewidth": 0,
              "ticks": ""
             }
            },
            "type": "scattercarpet"
           }
          ],
          "scattergeo": [
           {
            "marker": {
             "colorbar": {
              "outlinewidth": 0,
              "ticks": ""
             }
            },
            "type": "scattergeo"
           }
          ],
          "scattergl": [
           {
            "marker": {
             "colorbar": {
              "outlinewidth": 0,
              "ticks": ""
             }
            },
            "type": "scattergl"
           }
          ],
          "scattermapbox": [
           {
            "marker": {
             "colorbar": {
              "outlinewidth": 0,
              "ticks": ""
             }
            },
            "type": "scattermapbox"
           }
          ],
          "scatterpolar": [
           {
            "marker": {
             "colorbar": {
              "outlinewidth": 0,
              "ticks": ""
             }
            },
            "type": "scatterpolar"
           }
          ],
          "scatterpolargl": [
           {
            "marker": {
             "colorbar": {
              "outlinewidth": 0,
              "ticks": ""
             }
            },
            "type": "scatterpolargl"
           }
          ],
          "scatterternary": [
           {
            "marker": {
             "colorbar": {
              "outlinewidth": 0,
              "ticks": ""
             }
            },
            "type": "scatterternary"
           }
          ],
          "surface": [
           {
            "colorbar": {
             "outlinewidth": 0,
             "ticks": ""
            },
            "colorscale": [
             [
              0,
              "#0d0887"
             ],
             [
              0.1111111111111111,
              "#46039f"
             ],
             [
              0.2222222222222222,
              "#7201a8"
             ],
             [
              0.3333333333333333,
              "#9c179e"
             ],
             [
              0.4444444444444444,
              "#bd3786"
             ],
             [
              0.5555555555555556,
              "#d8576b"
             ],
             [
              0.6666666666666666,
              "#ed7953"
             ],
             [
              0.7777777777777778,
              "#fb9f3a"
             ],
             [
              0.8888888888888888,
              "#fdca26"
             ],
             [
              1,
              "#f0f921"
             ]
            ],
            "type": "surface"
           }
          ],
          "table": [
           {
            "cells": {
             "fill": {
              "color": "#EBF0F8"
             },
             "line": {
              "color": "white"
             }
            },
            "header": {
             "fill": {
              "color": "#C8D4E3"
             },
             "line": {
              "color": "white"
             }
            },
            "type": "table"
           }
          ]
         },
         "layout": {
          "annotationdefaults": {
           "arrowcolor": "#2a3f5f",
           "arrowhead": 0,
           "arrowwidth": 1
          },
          "autotypenumbers": "strict",
          "coloraxis": {
           "colorbar": {
            "outlinewidth": 0,
            "ticks": ""
           }
          },
          "colorscale": {
           "diverging": [
            [
             0,
             "#8e0152"
            ],
            [
             0.1,
             "#c51b7d"
            ],
            [
             0.2,
             "#de77ae"
            ],
            [
             0.3,
             "#f1b6da"
            ],
            [
             0.4,
             "#fde0ef"
            ],
            [
             0.5,
             "#f7f7f7"
            ],
            [
             0.6,
             "#e6f5d0"
            ],
            [
             0.7,
             "#b8e186"
            ],
            [
             0.8,
             "#7fbc41"
            ],
            [
             0.9,
             "#4d9221"
            ],
            [
             1,
             "#276419"
            ]
           ],
           "sequential": [
            [
             0,
             "#0d0887"
            ],
            [
             0.1111111111111111,
             "#46039f"
            ],
            [
             0.2222222222222222,
             "#7201a8"
            ],
            [
             0.3333333333333333,
             "#9c179e"
            ],
            [
             0.4444444444444444,
             "#bd3786"
            ],
            [
             0.5555555555555556,
             "#d8576b"
            ],
            [
             0.6666666666666666,
             "#ed7953"
            ],
            [
             0.7777777777777778,
             "#fb9f3a"
            ],
            [
             0.8888888888888888,
             "#fdca26"
            ],
            [
             1,
             "#f0f921"
            ]
           ],
           "sequentialminus": [
            [
             0,
             "#0d0887"
            ],
            [
             0.1111111111111111,
             "#46039f"
            ],
            [
             0.2222222222222222,
             "#7201a8"
            ],
            [
             0.3333333333333333,
             "#9c179e"
            ],
            [
             0.4444444444444444,
             "#bd3786"
            ],
            [
             0.5555555555555556,
             "#d8576b"
            ],
            [
             0.6666666666666666,
             "#ed7953"
            ],
            [
             0.7777777777777778,
             "#fb9f3a"
            ],
            [
             0.8888888888888888,
             "#fdca26"
            ],
            [
             1,
             "#f0f921"
            ]
           ]
          },
          "colorway": [
           "#636efa",
           "#EF553B",
           "#00cc96",
           "#ab63fa",
           "#FFA15A",
           "#19d3f3",
           "#FF6692",
           "#B6E880",
           "#FF97FF",
           "#FECB52"
          ],
          "font": {
           "color": "#2a3f5f"
          },
          "geo": {
           "bgcolor": "white",
           "lakecolor": "white",
           "landcolor": "#E5ECF6",
           "showlakes": true,
           "showland": true,
           "subunitcolor": "white"
          },
          "hoverlabel": {
           "align": "left"
          },
          "hovermode": "closest",
          "mapbox": {
           "style": "light"
          },
          "paper_bgcolor": "white",
          "plot_bgcolor": "#E5ECF6",
          "polar": {
           "angularaxis": {
            "gridcolor": "white",
            "linecolor": "white",
            "ticks": ""
           },
           "bgcolor": "#E5ECF6",
           "radialaxis": {
            "gridcolor": "white",
            "linecolor": "white",
            "ticks": ""
           }
          },
          "scene": {
           "xaxis": {
            "backgroundcolor": "#E5ECF6",
            "gridcolor": "white",
            "gridwidth": 2,
            "linecolor": "white",
            "showbackground": true,
            "ticks": "",
            "zerolinecolor": "white"
           },
           "yaxis": {
            "backgroundcolor": "#E5ECF6",
            "gridcolor": "white",
            "gridwidth": 2,
            "linecolor": "white",
            "showbackground": true,
            "ticks": "",
            "zerolinecolor": "white"
           },
           "zaxis": {
            "backgroundcolor": "#E5ECF6",
            "gridcolor": "white",
            "gridwidth": 2,
            "linecolor": "white",
            "showbackground": true,
            "ticks": "",
            "zerolinecolor": "white"
           }
          },
          "shapedefaults": {
           "line": {
            "color": "#2a3f5f"
           }
          },
          "ternary": {
           "aaxis": {
            "gridcolor": "white",
            "linecolor": "white",
            "ticks": ""
           },
           "baxis": {
            "gridcolor": "white",
            "linecolor": "white",
            "ticks": ""
           },
           "bgcolor": "#E5ECF6",
           "caxis": {
            "gridcolor": "white",
            "linecolor": "white",
            "ticks": ""
           }
          },
          "title": {
           "x": 0.05
          },
          "xaxis": {
           "automargin": true,
           "gridcolor": "white",
           "linecolor": "white",
           "ticks": "",
           "title": {
            "standoff": 15
           },
           "zerolinecolor": "white",
           "zerolinewidth": 2
          },
          "yaxis": {
           "automargin": true,
           "gridcolor": "white",
           "linecolor": "white",
           "ticks": "",
           "title": {
            "standoff": 15
           },
           "zerolinecolor": "white",
           "zerolinewidth": 2
          }
         }
        },
        "title": {
         "text": "Total Funded Amount by Home Ownership"
        }
       }
      }
     },
     "metadata": {},
     "output_type": "display_data"
    }
   ],
   "source": [
    "home_fund=df.groupby('home_ownership')['loan_amount'].sum().reset_index()\n",
    "home_fund['loan_amount_mil']=home_fund['loan_amount']/1_000_000\n",
    "fig=px.treemap(\n",
    "    home_fund,\n",
    "    path=['home_ownership'],\n",
    "    values='loan_amount_mil',\n",
    "    color='loan_amount_mil',\n",
    "    color_continuous_scale='Blues',\n",
    "    title='Total Funded Amount by Home Ownership'\n",
    ")\n",
    "\n",
    "fig.show()"
   ]
  },
  {
   "cell_type": "code",
   "execution_count": null,
   "id": "f7f851b3",
   "metadata": {},
   "outputs": [],
   "source": []
  }
 ],
 "metadata": {
  "kernelspec": {
   "display_name": "base",
   "language": "python",
   "name": "python3"
  },
  "language_info": {
   "codemirror_mode": {
    "name": "ipython",
    "version": 3
   },
   "file_extension": ".py",
   "mimetype": "text/x-python",
   "name": "python",
   "nbconvert_exporter": "python",
   "pygments_lexer": "ipython3",
   "version": "3.12.4"
  }
 },
 "nbformat": 4,
 "nbformat_minor": 5
}
