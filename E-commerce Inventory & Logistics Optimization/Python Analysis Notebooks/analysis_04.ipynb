{
 "cells": [
  {
   "cell_type": "markdown",
   "id": "63dac93b",
   "metadata": {},
   "source": [
    "# # Exploratory Data Analysis Part-2"
   ]
  },
  {
   "cell_type": "code",
   "execution_count": 1,
   "id": "a30def30",
   "metadata": {},
   "outputs": [],
   "source": [
    "import pandas as pd\n",
    "import numpy as np\n",
    "import seaborn as sns\n",
    "import matplotlib.pyplot as plt\n",
    "import plotly.express as px"
   ]
  },
  {
   "cell_type": "code",
   "execution_count": 2,
   "id": "ad54592a",
   "metadata": {},
   "outputs": [
    {
     "data": {
      "text/plain": [
       "(17311807, 32)"
      ]
     },
     "execution_count": 2,
     "metadata": {},
     "output_type": "execute_result"
    }
   ],
   "source": [
    "final_df=pd.read_parquet('final_data.parquet')\n",
    "final_df.shape"
   ]
  },
  {
   "cell_type": "markdown",
   "id": "724fb84c",
   "metadata": {},
   "source": [
    "### Strategic Customer & Financial Insights"
   ]
  },
  {
   "cell_type": "markdown",
   "id": "a306347d",
   "metadata": {},
   "source": [
    "#### Delivery Experience Impact on Next Purchase Value"
   ]
  },
  {
   "cell_type": "code",
   "execution_count": 7,
   "id": "20b896ca",
   "metadata": {},
   "outputs": [
    {
     "name": "stdout",
     "output_type": "stream",
     "text": [
      "\n",
      "--- Average Revenue of Next Purchase (Based on Previous Delivery) ---\n",
      "previous_order_late\n",
      "0.0    139.003958\n",
      "1.0    155.467629\n",
      "Name: revenue, dtype: float64\n"
     ]
    }
   ],
   "source": [
    "final_df = final_df.sort_values(by=['customer_unique_id', 'order_purchase_timestamp'])\n",
    "\n",
    "final_df['order_delivered_customer_date'] = pd.to_datetime(final_df['order_delivered_customer_date'])\n",
    "final_df['order_estimated_delivery_date'] = pd.to_datetime(final_df['order_estimated_delivery_date'])\n",
    "\n",
    "\n",
    "final_df['is_late']=(final_df['order_delivered_customer_date']>final_df['order_estimated_delivery_date']).astype(int)\n",
    "\n",
    "final_df['revenue'] = final_df['price'] + final_df['freight_value']\n",
    "\n",
    "final_df['previous_order_late'] = final_df.groupby('customer_unique_id')['is_late'].shift(1)\n",
    "impact_analysis = final_df.groupby('previous_order_late')['revenue'].mean()\n",
    "print(\"\\n--- Average Revenue of Next Purchase (Based on Previous Delivery) ---\")\n",
    "print(impact_analysis)"
   ]
  },
  {
   "cell_type": "markdown",
   "id": "7fe6807c",
   "metadata": {},
   "source": [
    "#### \"Silent Churn\" Identification"
   ]
  },
  {
   "cell_type": "code",
   "execution_count": null,
   "id": "8f732d04",
   "metadata": {},
   "outputs": [
    {
     "name": "stdout",
     "output_type": "stream",
     "text": [
      "\n",
      "Found 212 high-value customers at risk of silent churn.\n"
     ]
    }
   ],
   "source": [
    "final_df['order_purchase_timestamp'] = pd.to_datetime(final_df['order_purchase_timestamp'])\n",
    "\n",
    "final_df = final_df.sort_values(by=['customer_unique_id','order_purchase_timestamp'])\n",
    "final_df['time_since_last_purchase']=final_df.groupby('customer_unique_id')['order_purchase_timestamp'].diff().dt.days\n",
    "\n",
    "customer_summary=final_df.groupby('customer_unique_id').agg(\n",
    "    last_purchase=('order_purchase_timestamp', 'max'),\n",
    "    avg_repurchase_time=('time_since_last_purchase', 'mean'),\n",
    "    frequency=('order_id', 'nunique')\n",
    ")\n",
    "customer_summary=customer_summary[customer_summary['frequency']>2].copy() # Focus on frequent buyers\n",
    "customer_summary['days_since_last_purchase']=(final_df['order_purchase_timestamp'].max()-customer_summary['last_purchase']).dt.days\n",
    "customer_summary['churn_risk_factor']=customer_summary['days_since_last_purchase']/customer_summary['avg_repurchase_time']\n",
    "at_risk_of_churn=customer_summary[customer_summary['churn_risk_factor']>3]\n",
    "print(f\"\\nFound {len(at_risk_of_churn)} high-value customers at risk of silent churn.\")"
   ]
  },
  {
   "cell_type": "markdown",
   "id": "432d450a",
   "metadata": {},
   "source": [
    "### Advanced Financial & Strategic Insights"
   ]
  },
  {
   "cell_type": "markdown",
   "id": "81a347c0",
   "metadata": {},
   "source": [
    "#### \"Return on Freight\" Analysis"
   ]
  },
  {
   "cell_type": "code",
   "execution_count": 10,
   "id": "afd1c380",
   "metadata": {},
   "outputs": [
    {
     "name": "stdout",
     "output_type": "stream",
     "text": [
      "Average 'Return on Freight' for high-cost shipping orders: 5.58\n"
     ]
    }
   ],
   "source": [
    "# --- Return on Freight ---\n",
    "final_df['profit_proxy'] = final_df['price'] - final_df['freight_value']\n",
    "final_df['return_on_freight'] = final_df['profit_proxy'] / final_df['freight_value']\n",
    "high_freight_orders = final_df[final_df['freight_value'] > final_df['freight_value'].quantile(0.75)]\n",
    "print(f\"Average 'Return on Freight' for high-cost shipping orders: {high_freight_orders['return_on_freight'].mean():.2f}\")"
   ]
  },
  {
   "cell_type": "markdown",
   "id": "e29355b7",
   "metadata": {},
   "source": [
    "#### Price Elasticity Proxy (by Seller)"
   ]
  },
  {
   "cell_type": "code",
   "execution_count": null,
   "id": "83970902",
   "metadata": {},
   "outputs": [
    {
     "name": "stdout",
     "output_type": "stream",
     "text": [
      "\n",
      "--- Correlation between Pricing Strategy and Order Volume ---\n",
      "                 avg_price_ratio  total_orders\n",
      "avg_price_ratio         1.000000     -0.048313\n",
      "total_orders           -0.048313      1.000000\n"
     ]
    }
   ],
   "source": [
    "category_avg_price = final_df.groupby('product_category_name_english')['price'].transform('mean')\n",
    "final_df['price_vs_avg'] = final_df['price'] / category_avg_price\n",
    "seller_pricing_strategy = final_df.groupby('seller_id').agg(\n",
    "    avg_price_ratio=('price_vs_avg', 'mean'),\n",
    "    total_orders=('order_id', 'nunique')\n",
    ")\n",
    "print(\"\\n--- Correlation between Pricing Strategy and Order Volume ---\")\n",
    "print(seller_pricing_strategy.corr())"
   ]
  },
  {
   "cell_type": "markdown",
   "id": "fb981f1f",
   "metadata": {},
   "source": [
    "#### Customer Lifetime Value (CLV) to Customer Acquisition Cost (CAC) Ratio (Proxy)"
   ]
  },
  {
   "cell_type": "code",
   "execution_count": null,
   "id": "f6143b52",
   "metadata": {},
   "outputs": [
    {
     "name": "stdout",
     "output_type": "stream",
     "text": [
      "\n",
      "Estimated LTV to CAC Ratio is: 1316.86 : 1\n"
     ]
    }
   ],
   "source": [
    "clv = final_df.groupby('customer_unique_id')['revenue'].sum()\n",
    "first_purchase_df = final_df.drop_duplicates('customer_unique_id', keep='first')\n",
    "avg_cac_proxy = first_purchase_df['freight_value'].mean()\n",
    "ltv_to_cac_ratio = clv.mean() / avg_cac_proxy\n",
    "print(f\"\\nEstimated LTV to CAC Ratio is: {ltv_to_cac_ratio:.2f} : 1\")"
   ]
  },
  {
   "cell_type": "markdown",
   "id": "1071a570",
   "metadata": {},
   "source": [
    "#### \"Gateway Product\" Financial Impact"
   ]
  },
  {
   "cell_type": "code",
   "execution_count": 17,
   "id": "357988b7",
   "metadata": {},
   "outputs": [
    {
     "name": "stdout",
     "output_type": "stream",
     "text": [
      "\n",
      "--- Average Customer Lifetime Value by First Purchase Category ---\n",
      "product_category_name_english\n",
      "computers                                204941.589588\n",
      "small_appliances_home_oven_and_coffee    120463.813056\n",
      "home_appliances_2                        100440.450046\n",
      "agro_industry_and_commerce                89042.211782\n",
      "small_appliances                          61844.347986\n",
      "Name: revenue, dtype: float64\n"
     ]
    }
   ],
   "source": [
    "# --- Gateway Product Financial Impact ---\n",
    "first_purchase_df = final_df.sort_values('order_purchase_timestamp').drop_duplicates('customer_unique_id', keep='first')\n",
    "customer_clv = final_df.groupby('customer_unique_id')['revenue'].sum().reset_index()\n",
    "gateway_impact = pd.merge(first_purchase_df[['customer_unique_id', 'product_category_name_english']], customer_clv, on='customer_unique_id')\n",
    "avg_clv_by_gateway = gateway_impact.groupby('product_category_name_english')['revenue'].mean().sort_values(ascending=False)\n",
    "print(\"\\n--- Average Customer Lifetime Value by First Purchase Category ---\")\n",
    "print(avg_clv_by_gateway.head(5))"
   ]
  },
  {
   "cell_type": "markdown",
   "id": "30012b98",
   "metadata": {},
   "source": [
    "### Advanced Customer & Seller Dynamics"
   ]
  },
  {
   "cell_type": "markdown",
   "id": "9a149f5a",
   "metadata": {},
   "source": [
    "#### Customer \"Binge Buying\" Behavior"
   ]
  },
  {
   "cell_type": "code",
   "execution_count": 18,
   "id": "73593a40",
   "metadata": {},
   "outputs": [
    {
     "name": "stdout",
     "output_type": "stream",
     "text": [
      "\n",
      "Found 629 instances of 'binge buying' (next order within 24 hours).\n"
     ]
    }
   ],
   "source": [
    "df_sorted = final_df.sort_values(['customer_unique_id', 'order_purchase_timestamp'])\n",
    "df_sorted['time_since_last_purchase_hours'] = df_sorted.groupby('customer_unique_id')['order_purchase_timestamp'].diff().dt.total_seconds() / 3600\n",
    "binge_buyers = df_sorted[(df_sorted['time_since_last_purchase_hours'] > 0) & (df_sorted['time_since_last_purchase_hours'] < 24)]\n",
    "print(f\"\\nFound {len(binge_buyers)} instances of 'binge buying' (next order within 24 hours).\")"
   ]
  },
  {
   "cell_type": "markdown",
   "id": "0715d9c5",
   "metadata": {},
   "source": [
    "#### Seller Niche Score"
   ]
  },
  {
   "cell_type": "code",
   "execution_count": null,
   "id": "43e1453b",
   "metadata": {},
   "outputs": [
    {
     "name": "stdout",
     "output_type": "stream",
     "text": [
      "\n",
      "--- Top 5 Most 'Niche' Sellers ---\n",
      "seller_id\n",
      "d7f1cfc638473be93baedbfd02208016    0.333333\n",
      "c731d18cea9bf687ffee82a241c25b11    0.303582\n",
      "05aebce0b5c8f0d41b29b686f2d05fd3    0.224975\n",
      "191d55f7edb8524d525ed01b20fe32e8    0.200000\n",
      "bc2ac6b95e1accce9858528ee566c17e    0.166667\n",
      "Name: category_rarity, dtype: float64\n"
     ]
    }
   ],
   "source": [
    "category_popularity = final_df.groupby('product_category_name_english')['seller_id'].nunique()\n",
    "final_df['category_rarity'] = final_df['product_category_name_english'].map(1 / category_popularity)\n",
    "seller_niche_score = final_df.groupby('seller_id')['category_rarity'].mean().sort_values(ascending=False)\n",
    "print(\"\\n--- Top 5 Most 'Niche' Sellers ---\")\n",
    "print(seller_niche_score.head())"
   ]
  },
  {
   "cell_type": "markdown",
   "id": "4e1d402b",
   "metadata": {},
   "source": [
    "#### Seller Reputation Risk"
   ]
  },
  {
   "cell_type": "code",
   "execution_count": 22,
   "id": "0f31ea59",
   "metadata": {},
   "outputs": [
    {
     "name": "stdout",
     "output_type": "stream",
     "text": [
      "\n",
      "--- Top 5 Sellers by Reputation Risk (Late Delivery Rate) ---\n",
      "                                  total_orders  late_rate\n",
      "seller_id                                                \n",
      "54965bbe3e4f07ae045b90b0b8541f52            69   0.365483\n",
      "432c37c9dfba871172ec162e20118b8c            42   0.335799\n",
      "ad781527c93d00d89a11eecd9dcad7c1            38   0.331889\n",
      "ede0c03645598cdfc63ca8237acbe73d            42   0.322955\n",
      "d93919c944be9cff128f6c9cb899eacb            33   0.302776\n"
     ]
    }
   ],
   "source": [
    "seller_risk = final_df.groupby('seller_id').agg(\n",
    "    total_orders=('order_id', 'nunique'),\n",
    "    late_rate=('is_late', 'mean')\n",
    ")\n",
    "high_risk_sellers = seller_risk[seller_risk['total_orders'] > 30].sort_values(by='late_rate', ascending=False)\n",
    "print(\"\\n--- Top 5 Sellers by Reputation Risk (Late Delivery Rate) ---\")\n",
    "print(high_risk_sellers.head())"
   ]
  },
  {
   "cell_type": "markdown",
   "id": "53701557",
   "metadata": {},
   "source": [
    "#### Customer \"Cross-Category\" Purchase Behavior"
   ]
  },
  {
   "cell_type": "code",
   "execution_count": 24,
   "id": "eb532f16",
   "metadata": {},
   "outputs": [
    {
     "name": "stdout",
     "output_type": "stream",
     "text": [
      "\n",
      "--- Top 5 Categories Purchased After 'furniture_decor' ---\n",
      "product_category_name_english\n",
      "furniture_decor    1377824\n",
      "bed_bath_table          90\n",
      "housewares              34\n",
      "garden_tools            22\n",
      "watches_gifts           14\n",
      "Name: furniture_decor, dtype: int64\n"
     ]
    }
   ],
   "source": [
    "df_sorted = final_df.sort_values(['customer_unique_id', 'order_purchase_timestamp'])\n",
    "df_sorted['previous_category'] = df_sorted.groupby('customer_unique_id')['product_category_name_english'].shift(1)\n",
    "cross_sell_matrix = pd.crosstab(df_sorted['previous_category'], df_sorted['product_category_name_english'])\n",
    "# Example: What do people buy after 'furniture_decor'?\n",
    "print(\"\\n--- Top 5 Categories Purchased After 'furniture_decor' ---\")\n",
    "print(cross_sell_matrix.loc['furniture_decor'].sort_values(ascending=False).head())"
   ]
  },
  {
   "cell_type": "markdown",
   "id": "7ded131f",
   "metadata": {},
   "source": [
    "### Granular Logistics & Anomaly Detection"
   ]
  },
  {
   "cell_type": "markdown",
   "id": "5f96a046",
   "metadata": {},
   "source": [
    "#### \"Flash Sale\" Impact on Logistics"
   ]
  },
  {
   "cell_type": "code",
   "execution_count": 28,
   "id": "32d2f413",
   "metadata": {},
   "outputs": [],
   "source": [
    "# Processing time and shipping time in days\n",
    "final_df['order_delivered_carrier_date'] = pd.to_datetime(final_df['order_delivered_carrier_date'])\n",
    "final_df['order_approved_at'] = pd.to_datetime(final_df['order_approved_at'])\n",
    "\n",
    "final_df['proc_time'] = (final_df['order_delivered_carrier_date'] - final_df['order_approved_at']).dt.days\n",
    "final_df['ship_time'] = (final_df['order_delivered_customer_date'] - final_df['order_delivered_carrier_date']).dt.days"
   ]
  },
  {
   "cell_type": "code",
   "execution_count": 29,
   "id": "69204223",
   "metadata": {},
   "outputs": [
    {
     "name": "stdout",
     "output_type": "stream",
     "text": [
      "\n",
      "Average processing time on flash sale days: 3.39 days\n",
      "Average processing time on normal days: 2.32 days\n"
     ]
    }
   ],
   "source": [
    "daily_orders = final_df.groupby(final_df['order_purchase_timestamp'].dt.date)['order_id'].nunique()\n",
    "flash_sale_threshold = daily_orders.quantile(0.99)\n",
    "flash_sale_days = daily_orders[daily_orders > flash_sale_threshold].index\n",
    "flash_sale_df = final_df[final_df['order_purchase_timestamp'].dt.date.isin(flash_sale_days)]\n",
    "print(f\"\\nAverage processing time on flash sale days: {flash_sale_df['proc_time'].mean():.2f} days\")\n",
    "print(f\"Average processing time on normal days: {final_df[~final_df.index.isin(flash_sale_df.index)]['proc_time'].mean():.2f} days\")"
   ]
  },
  {
   "cell_type": "markdown",
   "id": "6ea976be",
   "metadata": {},
   "source": [
    "#### Delivery Time Consistency (Jitter)"
   ]
  },
  {
   "cell_type": "code",
   "execution_count": null,
   "id": "3db855ff",
   "metadata": {},
   "outputs": [
    {
     "name": "stdout",
     "output_type": "stream",
     "text": [
      "\n",
      "--- Top 5 Shipping Routes with the Most Inconsistent Delivery Times ---\n",
      "shipping_route\n",
      "itaquaquecetuba, SP → teresina, PI            87.378731\n",
      "sao jose dos campos, SP → santa maria, RS     82.390230\n",
      "indaiatuba, SP → sao bernardo do campo, SP    79.748937\n",
      "uberlandia, MG → valenca, BA                  76.579152\n",
      "maringa, PR → fortaleza, CE                   76.339391\n",
      "Name: delivery_time_days, dtype: float64\n"
     ]
    }
   ],
   "source": [
    "if 'shipping_route' not in final_df.columns:\n",
    "\tfinal_df['shipping_route'] = (\n",
    "\t\tfinal_df['seller_city'].astype(str) + ', ' + final_df['seller_state'].astype(str) +\n",
    "\t\t' → ' +\n",
    "\t\tfinal_df['customer_city'].astype(str) + ', ' + final_df['customer_state'].astype(str)\n",
    "\t)\n",
    "\n",
    "if 'delivery_time_days' not in final_df.columns:\n",
    "\tfinal_df['delivery_time_days'] = (\n",
    "\t\t(final_df['order_delivered_customer_date']-final_df['order_delivered_carrier_date']).dt.days\n",
    "\t)\n",
    "\n",
    "route_consistency = final_df.groupby('shipping_route')['delivery_time_days'].std().sort_values(ascending=False)\n",
    "print(\"\\n--- Top 5 Shipping Routes with the Most Inconsistent Delivery Times ---\")\n",
    "print(route_consistency.head())"
   ]
  },
  {
   "cell_type": "markdown",
   "id": "12be688f",
   "metadata": {},
   "source": [
    "#### Seller City Processing Power"
   ]
  },
  {
   "cell_type": "code",
   "execution_count": null,
   "id": "577c3821",
   "metadata": {},
   "outputs": [
    {
     "name": "stdout",
     "output_type": "stream",
     "text": [
      "\n",
      "--- Top 5 Seller Cities by Total Orders Processed ---\n",
      "seller_city\n",
      "sao paulo         23644\n",
      "ibitinga           6344\n",
      "curitiba           2632\n",
      "santo andre        2611\n",
      "belo horizonte     2253\n",
      "Name: order_id, dtype: int64\n"
     ]
    }
   ],
   "source": [
    "processing_power = final_df.groupby('seller_city')['order_id'].nunique().sort_values(ascending=False)\n",
    "print(\"\\n--- Top 5 Seller Cities by Total Orders Processed ---\")\n",
    "print(processing_power.head())"
   ]
  },
  {
   "cell_type": "markdown",
   "id": "55696656",
   "metadata": {},
   "source": [
    "#### \"Shipping Shadow\" of Hubs"
   ]
  },
  {
   "cell_type": "code",
   "execution_count": 34,
   "id": "5739447b",
   "metadata": {},
   "outputs": [
    {
     "name": "stdout",
     "output_type": "stream",
     "text": [
      "\n",
      "--- Average Shipping Time from 'sao paulo' to Different States ---\n",
      "customer_state\n",
      "SP     3.568468\n",
      "MG     7.318059\n",
      "PR     8.117061\n",
      "DF     8.262373\n",
      "ES     9.942241\n",
      "GO    10.192495\n",
      "SC    10.688676\n",
      "RJ    10.797252\n",
      "RS    11.031146\n",
      "TO    11.033046\n",
      "MS    11.484299\n",
      "PE    12.642283\n",
      "MT    13.548829\n",
      "RN    13.786126\n",
      "SE    14.524433\n",
      "PI    14.808318\n",
      "PB    14.830991\n",
      "BA    14.842574\n",
      "MA    14.897691\n",
      "RO    15.337677\n",
      "CE    15.714127\n",
      "RR    17.564780\n",
      "PA    17.797458\n",
      "AP    20.211239\n",
      "AM    20.705539\n",
      "AL    21.444210\n",
      "AC    21.509968\n",
      "Name: ship_time, dtype: float64\n"
     ]
    }
   ],
   "source": [
    "hub_city = 'sao paulo'\n",
    "hub_deliveries = final_df[final_df['seller_city'] == hub_city]\n",
    "shipping_shadow = hub_deliveries.groupby('customer_state')['ship_time'].mean().sort_values()\n",
    "print(f\"\\n--- Average Shipping Time from '{hub_city}' to Different States ---\")\n",
    "print(shipping_shadow)"
   ]
  },
  {
   "cell_type": "markdown",
   "id": "7bef6943",
   "metadata": {},
   "source": [
    "#### \"Multi-Item Order\" Logistics Complexity"
   ]
  },
  {
   "cell_type": "code",
   "execution_count": null,
   "id": "1add7f09",
   "metadata": {},
   "outputs": [
    {
     "name": "stdout",
     "output_type": "stream",
     "text": [
      "\n",
      "--- Performance of Single vs. Multi-Item Orders ---\n",
      "                     proc_time  ship_time\n",
      "is_multi_item_order                      \n",
      "False                 2.374925   8.539044\n",
      "True                  2.174424   7.460084\n"
     ]
    }
   ],
   "source": [
    "order_item_count = final_df.groupby('order_id')['product_id'].transform('nunique')\n",
    "final_df['is_multi_item_order'] = order_item_count > 1\n",
    "complexity_impact = final_df.groupby('is_multi_item_order')[['proc_time', 'ship_time']].mean()\n",
    "print(\"\\n--- Performance of Single vs. Multi-Item Orders ---\")\n",
    "print(complexity_impact)"
   ]
  },
  {
   "cell_type": "markdown",
   "id": "5b7ea653",
   "metadata": {},
   "source": [
    "#### Seasonal Delivery Performance"
   ]
  },
  {
   "cell_type": "code",
   "execution_count": null,
   "id": "8312c772",
   "metadata": {},
   "outputs": [
    {
     "name": "stdout",
     "output_type": "stream",
     "text": [
      "--- Late Delivery Rate by Quarter ---\n",
      "purchase_quarter\n",
      "2016Q4     0.417006\n",
      "2017Q1     3.182839\n",
      "2017Q2     4.274760\n",
      "2017Q3     3.298511\n",
      "2017Q4     9.512664\n",
      "2018Q1    14.124257\n",
      "2018Q2     4.217776\n",
      "2018Q3     6.247382\n",
      "Freq: Q-DEC, Name: is_late, dtype: float64\n"
     ]
    }
   ],
   "source": [
    "final_df['purchase_quarter'] = final_df['order_purchase_timestamp'].dt.to_period('Q')\n",
    "seasonal_performance = final_df.groupby('purchase_quarter')['is_late'].mean() * 100\n",
    "print(\"--- Late Delivery Rate by Quarter ---\")\n",
    "print(seasonal_performance)"
   ]
  },
  {
   "cell_type": "markdown",
   "id": "9fb0f719",
   "metadata": {},
   "source": [
    "#### Freight Cost Anomaly Detection"
   ]
  },
  {
   "cell_type": "code",
   "execution_count": null,
   "id": "7a2cd955",
   "metadata": {},
   "outputs": [
    {
     "name": "stdout",
     "output_type": "stream",
     "text": [
      "\n",
      "Found 16201 orders with anomalous freight costs.\n"
     ]
    }
   ],
   "source": [
    "from scipy.stats import zscore\n",
    "\n",
    "if 'product_weight_g' in final_df.columns:\n",
    "    final_df['freight_per_gram'] = final_df['freight_value'] / final_df['product_weight_g']\n",
    "    final_df['freight_zscore'] = zscore(final_df['freight_per_gram'].replace([np.inf, -np.inf], np.nan).dropna())\n",
    "    freight_anomalies = final_df[abs(final_df['freight_zscore']) > 3]\n",
    "    print(f\"\\nFound {len(freight_anomalies)} orders with anomalous freight costs.\")"
   ]
  },
  {
   "cell_type": "markdown",
   "id": "a1a33904",
   "metadata": {},
   "source": [
    "#### Zombie Customer Analysis"
   ]
  },
  {
   "cell_type": "code",
   "execution_count": null,
   "id": "d67a0738",
   "metadata": {},
   "outputs": [
    {
     "name": "stdout",
     "output_type": "stream",
     "text": [
      "\n",
      "Found 41461 high-satisfaction customers who haven't purchased in over 6 months.\n"
     ]
    }
   ],
   "source": [
    "if 'review_score' in final_df.columns:\n",
    "    customer_summary = final_df.groupby('customer_unique_id').agg(\n",
    "        last_purchase=('order_purchase_timestamp', 'max'),\n",
    "        avg_review=('review_score', 'mean')\n",
    "    )\n",
    "    good_customers = customer_summary[customer_summary['avg_review'] >= 4]\n",
    "    six_months_ago = final_df['order_purchase_timestamp'].max() - pd.DateOffset(months=6)\n",
    "    zombie_customers = good_customers[good_customers['last_purchase'] < six_months_ago]\n",
    "    print(f\"\\nFound {len(zombie_customers)} high-satisfaction customers who haven't purchased in over 6 months.\")"
   ]
  },
  {
   "cell_type": "markdown",
   "id": "973ec9c6",
   "metadata": {},
   "source": [
    "#### Weekday vs. Weekend Shipping Performance"
   ]
  },
  {
   "cell_type": "code",
   "execution_count": 41,
   "id": "27c99fdd",
   "metadata": {},
   "outputs": [
    {
     "name": "stdout",
     "output_type": "stream",
     "text": [
      "\n",
      "--- Average Shipping Time by Carrier Pickup Day ---\n",
      "carrier_pickup_day\n",
      "Monday        7.799883\n",
      "Tuesday       8.217913\n",
      "Wednesday     8.442740\n",
      "Thursday      8.710480\n",
      "Friday        9.096590\n",
      "Saturday     10.795393\n",
      "Sunday        5.172866\n",
      "Name: ship_time, dtype: float64\n"
     ]
    }
   ],
   "source": [
    "final_df['carrier_pickup_day']=final_df['order_delivered_carrier_date'].dt.day_name()\n",
    "weekend_shipping_impact=final_df.groupby('carrier_pickup_day')['ship_time'].mean().reindex(\n",
    "    ['Monday','Tuesday','Wednesday','Thursday','Friday','Saturday','Sunday']\n",
    ")\n",
    "print(\"\\n--- Average Shipping Time by Carrier Pickup Day ---\")\n",
    "print(weekend_shipping_impact)"
   ]
  },
  {
   "cell_type": "markdown",
   "id": "c1b67807",
   "metadata": {},
   "source": [
    "#### Top Customer-Seller Pairs"
   ]
  },
  {
   "cell_type": "code",
   "execution_count": null,
   "id": "ad1993f9",
   "metadata": {},
   "outputs": [
    {
     "name": "stdout",
     "output_type": "stream",
     "text": [
      "\n",
      "--- Top 5 Most Loyal Customer-Seller Pairs ---\n",
      "                     customer_unique_id                         seller_id  \\\n",
      "78538  d425130be1b15a4580645e4a3c9b4768  98dac6635aee4995d501a3972e047414   \n",
      "21287  397b44d5bb99eabf54ea9c2b41ebb905  b372ee768ed69e46ca8cdbd267aa7a38   \n",
      "93668  fd7069cf6891edbf32ba84c9c3f083d4  ccb83a794700270fde70898fe9ff368b   \n",
      "49804  86bfc49565a9ca52fcbf861fcc1e67a4  aac29b1b99776be73c3049939652091d   \n",
      "18512  31e412b9fb766b6794724ed17a41dfa6  1f50f920176fa81dab994f9023523100   \n",
      "\n",
      "       order_count  \n",
      "78538         8556  \n",
      "21287         7714  \n",
      "93668         6876  \n",
      "49804         6876  \n",
      "18512         6706  \n"
     ]
    }
   ],
   "source": [
    "customer_seller_pairs = final_df.groupby(['customer_unique_id', 'seller_id']).size().reset_index(name='order_count')\n",
    "top_pairs = customer_seller_pairs.sort_values(by='order_count', ascending=False)\n",
    "print(\"\\n--- Top 5 Most Loyal Customer-Seller Pairs ---\")\n",
    "print(top_pairs.head())"
   ]
  },
  {
   "cell_type": "markdown",
   "id": "2071fb7a",
   "metadata": {},
   "source": [
    "#### Average Product Price by State"
   ]
  },
  {
   "cell_type": "code",
   "execution_count": null,
   "id": "ca5aee79",
   "metadata": {},
   "outputs": [
    {
     "name": "stdout",
     "output_type": "stream",
     "text": [
      "\n",
      "--- Top 5 States by Average Product Price ---\n",
      "customer_state\n",
      "PB    198.697881\n",
      "AC    198.096273\n",
      "AL    195.157767\n",
      "TO    183.222144\n",
      "AP    178.055180\n",
      "Name: price, dtype: float64\n"
     ]
    }
   ],
   "source": [
    "price_by_state = final_df.groupby('customer_state')['price'].mean().sort_values(ascending=False)\n",
    "print(\"\\n--- Top 5 States by Average Product Price ---\")\n",
    "print(price_by_state.head())"
   ]
  },
  {
   "cell_type": "markdown",
   "id": "2f2d1fd2",
   "metadata": {},
   "source": [
    "#### Seller \"Ramp-Up\" Time (Proxy)"
   ]
  },
  {
   "cell_type": "code",
   "execution_count": null,
   "id": "94cc07d5",
   "metadata": {},
   "outputs": [
    {
     "name": "stdout",
     "output_type": "stream",
     "text": [
      "\n",
      "Average time for a new seller to make 10 sales: 0.38 days.\n"
     ]
    },
    {
     "name": "stderr",
     "output_type": "stream",
     "text": [
      "C:\\Users\\mahes\\AppData\\Local\\Temp\\ipykernel_32024\\3600601922.py:9: SettingWithCopyWarning: \n",
      "A value is trying to be set on a copy of a slice from a DataFrame.\n",
      "Try using .loc[row_indexer,col_indexer] = value instead\n",
      "\n",
      "See the caveats in the documentation: https://pandas.pydata.org/pandas-docs/stable/user_guide/indexing.html#returning-a-view-versus-a-copy\n",
      "  tenth_sale_df['ramp_up_time'] = (tenth_sale_df['order_purchase_timestamp'] - tenth_sale_df['seller_first_sale']).dt.days\n"
     ]
    }
   ],
   "source": [
    "df_sorted = final_df.sort_values(['seller_id', 'order_purchase_timestamp'])\n",
    "df_sorted['sale_number'] = df_sorted.groupby('seller_id').cumcount() + 1\n",
    "\n",
    "seller_first_sale = df_sorted.groupby('seller_id')['order_purchase_timestamp'].transform('min')\n",
    "df_sorted['seller_first_sale'] = seller_first_sale\n",
    "\n",
    "tenth_sale_df = df_sorted[df_sorted['sale_number'] == 10]\n",
    "tenth_sale_df['ramp_up_time'] = (tenth_sale_df['order_purchase_timestamp'] - tenth_sale_df['seller_first_sale']).dt.days\n",
    "print(f\"\\nAverage time for a new seller to make 10 sales: {tenth_sale_df['ramp_up_time'].mean():.2f} days.\")"
   ]
  },
  {
   "cell_type": "markdown",
   "id": "ec0f2b75",
   "metadata": {},
   "source": [
    "#### Seller Cannibalization Proxy"
   ]
  },
  {
   "cell_type": "code",
   "execution_count": 45,
   "id": "c4363afa",
   "metadata": {},
   "outputs": [
    {
     "name": "stdout",
     "output_type": "stream",
     "text": [
      "\n",
      "--- Example: Monthly Orders for Sellers in 'sao paulo' ---\n",
      "     seller_city purchase_month  order_id\n",
      "4383   sao paulo        2018-04      1796\n",
      "4384   sao paulo        2018-05      1738\n",
      "4385   sao paulo        2018-06      1534\n",
      "4386   sao paulo        2018-07      1542\n",
      "4387   sao paulo        2018-08      1612\n"
     ]
    }
   ],
   "source": [
    "seller_city_monthly = final_df.groupby(['seller_city', 'purchase_month'])['order_id'].nunique().reset_index()\n",
    "print(\"\\n--- Example: Monthly Orders for Sellers in 'sao paulo' ---\")\n",
    "print(seller_city_monthly[seller_city_monthly['seller_city'] == 'sao paulo'].tail())"
   ]
  },
  {
   "cell_type": "markdown",
   "id": "b1282092",
   "metadata": {},
   "source": [
    "####  \"Order Urgency\" Proxy"
   ]
  },
  {
   "cell_type": "code",
   "execution_count": null,
   "id": "80d409fd",
   "metadata": {},
   "outputs": [
    {
     "name": "stdout",
     "output_type": "stream",
     "text": [
      "\n",
      "--- Average First Mile Time by Purchase Hour ---\n"
     ]
    },
    {
     "data": {
      "text/plain": [
       "<Axes: title={'center': 'First Mile Time vs. Purchase Hour'}, xlabel='purchase_hour'>"
      ]
     },
     "execution_count": 47,
     "metadata": {},
     "output_type": "execute_result"
    },
    {
     "data": {
      "image/png": "[encoded data removed]",
      "text/plain": [
       "<Figure size 640x480 with 1 Axes>"
      ]
     },
     "metadata": {},
     "output_type": "display_data"
    }
   ],
   "source": [
    "\n",
    "\n",
    "final_df['first_mile_hours']=(\n",
    "\t\t(final_df['order_delivered_carrier_date']-final_df['order_approved_at']).dt.total_seconds() / 3600\n",
    "\t)\n",
    "\n",
    "final_df['purchase_hour'] = final_df['order_purchase_timestamp'].dt.hour\n",
    "urgency_analysis = final_df.groupby('purchase_hour')['first_mile_hours'].mean()\n",
    "print(\"\\n--- Average First Mile Time by Purchase Hour ---\")\n",
    "urgency_analysis.plot(title='First Mile Time vs. Purchase Hour')"
   ]
  },
  {
   "cell_type": "markdown",
   "id": "2c4896a7",
   "metadata": {},
   "source": [
    "#### Review Bombing Proxy"
   ]
  },
  {
   "cell_type": "code",
   "execution_count": 52,
   "id": "3e472372",
   "metadata": {},
   "outputs": [
    {
     "name": "stdout",
     "output_type": "stream",
     "text": [
      "\n",
      "--- Potential Review Bombing Incidents (High Volume of 1-Star Reviews on a Single Day) ---\n",
      "                            product_id review_date  count\n",
      "8203  d2085f7e0f9533605386960fc7e987ec  2018-01-16   6876\n",
      "2643  422879e10f46682990de24d770e7f83d  2017-12-28   6706\n",
      "9326  eea3e07f864a0a1389726d8a5f31c3f6  2017-11-30   4752\n",
      "8208  d22bbc02259111e107ee7916637d4791  2018-03-16   4284\n",
      "4696  777d2e438a1b645f3aec9bd57e92672c  2017-05-24   4218\n"
     ]
    }
   ],
   "source": [
    "final_df['review_date'] = final_df['order_delivered_customer_date'].dt.date\n",
    "bad_reviews = final_df[final_df['review_score'] == 1]\n",
    "review_bombs = bad_reviews.groupby(['product_id', 'review_date']).size().reset_index(name='count')\n",
    "print(\"\\n--- Potential Review Bombing Incidents (High Volume of 1-Star Reviews on a Single Day) ---\")\n",
    "print(review_bombs.sort_values(by='count', ascending=False).head())"
   ]
  },
  {
   "cell_type": "markdown",
   "id": "c7695e72",
   "metadata": {},
   "source": [
    "#### Cross-Border Commerce"
   ]
  },
  {
   "cell_type": "code",
   "execution_count": 53,
   "id": "4d044487",
   "metadata": {},
   "outputs": [
    {
     "name": "stdout",
     "output_type": "stream",
     "text": [
      "\n",
      "--- Late Rate for Cross-Region Shipments ---\n",
      "seller_region  customer_region\n",
      "Southeast      Northeast          0.140044\n",
      "Northeast      South              0.136847\n",
      "South          Northeast          0.135135\n",
      "Other          Northeast          0.112410\n",
      "Southeast      Other              0.085754\n",
      "Northeast      Other              0.080692\n",
      "               Southeast          0.070707\n",
      "Southeast      South              0.070405\n",
      "South          Southeast          0.058027\n",
      "Other          South              0.057045\n",
      "South          Other              0.049951\n",
      "Other          Southeast          0.041700\n",
      "Name: is_late, dtype: float64\n"
     ]
    }
   ],
   "source": [
    "def get_region(state):\n",
    "    if state in ['SP', 'RJ', 'ES', 'MG']: return 'Southeast'\n",
    "    if state in ['RS', 'SC', 'PR']: return 'South'\n",
    "    if state in ['BA', 'SE', 'AL', 'PE', 'PB', 'RN', 'CE', 'PI', 'MA']: return 'Northeast'\n",
    "    return 'Other'\n",
    "final_df['seller_region'] = final_df['seller_state'].apply(get_region)\n",
    "final_df['customer_region'] = final_df['customer_state'].apply(get_region)\n",
    "cross_region_performance = final_df[final_df['seller_region'] != final_df['customer_region']].groupby(['seller_region', 'customer_region'])['is_late'].mean()\n",
    "print(\"\\n--- Late Rate for Cross-Region Shipments ---\")\n",
    "print(cross_region_performance.sort_values(ascending=False))"
   ]
  },
  {
   "cell_type": "markdown",
   "id": "d4c84e49",
   "metadata": {},
   "source": [
    "#### \"Shipment Consolidation\" Opportunity"
   ]
  },
  {
   "cell_type": "code",
   "execution_count": null,
   "id": "0209bbb4",
   "metadata": {},
   "outputs": [
    {
     "name": "stdout",
     "output_type": "stream",
     "text": [
      "\n",
      "Found 93199 instances where a customer placed multiple orders on the same day.\n"
     ]
    }
   ],
   "source": [
    "final_df['purchase_date'] = final_df['order_purchase_timestamp'].dt.date\n",
    "daily_orders_per_customer = final_df.groupby(['customer_unique_id', 'purchase_date']).size()\n",
    "consolidation_opps = daily_orders_per_customer[daily_orders_per_customer > 1]\n",
    "print(f\"\\nFound {len(consolidation_opps)} instances where a customer placed multiple orders on the same day.\")"
   ]
  },
  {
   "cell_type": "markdown",
   "id": "e8722521",
   "metadata": {},
   "source": [
    "#### \"Long-tail\" Seller Contribution"
   ]
  },
  {
   "cell_type": "code",
   "execution_count": null,
   "id": "7378febe",
   "metadata": {},
   "outputs": [
    {
     "name": "stdout",
     "output_type": "stream",
     "text": [
      "\n",
      "The bottom 80% of sellers contribute 17.89% of the total revenue.\n"
     ]
    }
   ],
   "source": [
    "seller_revenue = final_df.groupby('seller_id')['revenue'].sum().sort_values()\n",
    "bottom_80_percent_sellers = seller_revenue.head(int(len(seller_revenue) * 0.8))\n",
    "long_tail_revenue = bottom_80_percent_sellers.sum()\n",
    "total_revenue = final_df['revenue'].sum()\n",
    "long_tail_contribution = (long_tail_revenue / total_revenue) * 100\n",
    "print(f\"\\nThe bottom 80% of sellers contribute {long_tail_contribution:.2f}% of the total revenue.\")"
   ]
  },
  {
   "cell_type": "markdown",
   "id": "b371bff5",
   "metadata": {},
   "source": [
    "#### Perfect Route Identification"
   ]
  },
  {
   "cell_type": "code",
   "execution_count": 57,
   "id": "c847588a",
   "metadata": {},
   "outputs": [
    {
     "name": "stdout",
     "output_type": "stream",
     "text": [
      "\n",
      "--- Top 5 'Perfect Routes' by Performance ---\n",
      "shipping_route\n",
      "ibitinga, SP → itanhanga, MT                 1.0\n",
      "ibitinga, SP → brasil novo, PA               1.0\n",
      "ibitinga, SP → boa viagem, CE                1.0\n",
      "ibitinga, SP → boa vista da aparecida, PR    1.0\n",
      "ibitinga, SP → bocaiuva do sul, PR           1.0\n",
      "Name: is_perfect_order, dtype: float64\n"
     ]
    }
   ],
   "source": [
    "\n",
    "final_df['is_perfect_order'] = (\n",
    "    (final_df['proc_time'] <= 2) &\n",
    "    (final_df['is_late'] == 0) &\n",
    "    (final_df['review_score'] == 5)\n",
    "    )\n",
    "perfect_route = final_df.groupby('shipping_route')['is_perfect_order'].mean().sort_values(ascending=False)\n",
    "print(\"\\n--- Top 5 'Perfect Routes' by Performance ---\")\n",
    "print(perfect_route.head())"
   ]
  },
  {
   "cell_type": "code",
   "execution_count": null,
   "id": "f5745899",
   "metadata": {},
   "outputs": [],
   "source": []
  }
 ],
 "metadata": {
  "kernelspec": {
   "display_name": "base",
   "language": "python",
   "name": "python3"
  },
  "language_info": {
   "codemirror_mode": {
    "name": "ipython",
    "version": 3
   },
   "file_extension": ".py",
   "mimetype": "text/x-python",
   "name": "python",
   "nbconvert_exporter": "python",
   "pygments_lexer": "ipython3",
   "version": "3.12.4"
  }
 },
 "nbformat": 4,
 "nbformat_minor": 5
}
