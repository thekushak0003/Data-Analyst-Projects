{
 "cells": [
  {
   "cell_type": "code",
   "execution_count": null,
   "id": "84ca4c84",
   "metadata": {},
   "outputs": [],
   "source": [
    "import pandas as pd\n",
    "import numpy as np\n",
    "import seaborn as sns\n",
    "import matplotlib.pyplot as plt\n",
    "import plotly.express as px"
   ]
  },
  {
   "cell_type": "code",
   "execution_count": null,
   "id": "14f6542d",
   "metadata": {},
   "outputs": [],
   "source": [
    "customers=pd.read_csv('olist_customers_dataset.csv')\n",
    "items=pd.read_csv('olist_order_items_dataset.csv')\n",
    "orders=pd.read_csv('olist_orders_dataset.csv')\n",
    "location=pd.read_csv('olist_geolocation_dataset.csv')\n",
    "payments=pd.read_csv('olist_order_payments_dataset.csv')\n",
    "reviews=pd.read_csv('olist_order_reviews_dataset.csv')\n",
    "products=pd.read_csv('products_details_dataset.csv')\n",
    "sellers=pd.read_csv('olist_sellers_dataset.csv')\n",
    "catg_transln=pd.read_csv('product_category_name_translation.csv')"
   ]
  },
  {
   "cell_type": "code",
   "execution_count": null,
   "id": "ada4baf5",
   "metadata": {},
   "outputs": [],
   "source": [
    "customers=customers.merge(orders, on='customer_id')"
   ]
  },
  {
   "cell_type": "code",
   "execution_count": null,
   "id": "0cc75912",
   "metadata": {},
   "outputs": [],
   "source": [
    "customers=customers.merge(items, on='order_id')"
   ]
  },
  {
   "cell_type": "code",
   "execution_count": null,
   "id": "136fb8ef",
   "metadata": {},
   "outputs": [],
   "source": [
    "customers=customers.merge(products, on='product_id')"
   ]
  },
  {
   "cell_type": "code",
   "execution_count": null,
   "id": "730cc6f7",
   "metadata": {},
   "outputs": [],
   "source": [
    "customers=customers.merge(sellers, on='seller_id')"
   ]
  },
  {
   "cell_type": "code",
   "execution_count": null,
   "id": "32b73978",
   "metadata": {},
   "outputs": [],
   "source": [
    "customers=customers.merge(payments, on='order_id')"
   ]
  },
  {
   "cell_type": "code",
   "execution_count": null,
   "id": "f6a173e5",
   "metadata": {},
   "outputs": [],
   "source": [
    "customers=customers.merge(reviews, on='order_id')"
   ]
  },
  {
   "cell_type": "code",
   "execution_count": null,
   "id": "d57ba85e",
   "metadata": {},
   "outputs": [],
   "source": [
    "customers=customers.merge(location, on='customer_zip_code_prefix')"
   ]
  },
  {
   "cell_type": "code",
   "execution_count": null,
   "id": "64a6d307",
   "metadata": {},
   "outputs": [],
   "source": [
    "customers"
   ]
  },
  {
   "cell_type": "code",
   "execution_count": null,
   "id": "dfbab623",
   "metadata": {},
   "outputs": [],
   "source": [
    "customers.isnull().sum()"
   ]
  },
  {
   "cell_type": "code",
   "execution_count": null,
   "id": "ed3483a3",
   "metadata": {},
   "outputs": [],
   "source": [
    "customers.drop(columns=['review_comment_title','review_comment_message','review_creation_date','review_answer_timestamp','geolocation_city','geolocation_state'],inplace=True)"
   ]
  },
  {
   "cell_type": "code",
   "execution_count": null,
   "id": "16946a03",
   "metadata": {},
   "outputs": [],
   "source": [
    "customers"
   ]
  },
  {
   "cell_type": "code",
   "execution_count": null,
   "id": "7623b20b",
   "metadata": {},
   "outputs": [],
   "source": [
    "customers.isnull().sum()"
   ]
  },
  {
   "cell_type": "markdown",
   "id": "f1d3857d",
   "metadata": {},
   "source": [
    "#### Droping missing values from the dataset"
   ]
  },
  {
   "cell_type": "code",
   "execution_count": null,
   "id": "242e4fce",
   "metadata": {},
   "outputs": [],
   "source": [
    "customers.dropna(subset=['order_delivered_carrier_date','order_approved_at','product_weight_g','product_volume_cm3','order_delivered_customer_date'], inplace=True)"
   ]
  },
  {
   "cell_type": "code",
   "execution_count": null,
   "id": "4d0651ba",
   "metadata": {},
   "outputs": [],
   "source": [
    "customers.shape"
   ]
  },
  {
   "cell_type": "code",
   "execution_count": null,
   "id": "71d6316d",
   "metadata": {},
   "outputs": [],
   "source": [
    "customers.isnull().sum()"
   ]
  },
  {
   "cell_type": "code",
   "execution_count": null,
   "id": "0a95c0ec",
   "metadata": {},
   "outputs": [],
   "source": [
    "customers.to_parquet('final_data.parquet',index=False)"
   ]
  },
  {
   "cell_type": "code",
   "execution_count": null,
   "id": "fa6ef5a7",
   "metadata": {},
   "outputs": [],
   "source": []
  }
 ],
 "metadata": {
  "kernelspec": {
   "display_name": "base",
   "language": "python",
   "name": "python3"
  },
  "language_info": {
   "codemirror_mode": {
    "name": "ipython",
    "version": 3
   },
   "file_extension": ".py",
   "mimetype": "text/x-python",
   "name": "python",
   "nbconvert_exporter": "python",
   "pygments_lexer": "ipython3",
   "version": "3.12.4"
  }
 },
 "nbformat": 4,
 "nbformat_minor": 5
}
