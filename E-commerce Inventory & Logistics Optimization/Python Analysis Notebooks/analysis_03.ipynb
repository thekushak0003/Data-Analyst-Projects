{
 "cells": [
  {
   "cell_type": "markdown",
   "id": "a746a487",
   "metadata": {},
   "source": [
    "# # Exploratory Data Analysis Part-1"
   ]
  },
  {
   "cell_type": "markdown",
   "id": "03e51cec",
   "metadata": {},
   "source": [
    "#### Importing Libraries"
   ]
  },
  {
   "cell_type": "code",
   "execution_count": 1,
   "id": "0d93a3ce",
   "metadata": {},
   "outputs": [],
   "source": [
    "import pandas as pd\n",
    "import numpy as np\n",
    "import seaborn as sns\n",
    "import matplotlib.pyplot as plt\n",
    "import plotly.express as px"
   ]
  },
  {
   "cell_type": "markdown",
   "id": "a6f55801",
   "metadata": {},
   "source": [
    "#### Loading Dataset"
   ]
  },
  {
   "cell_type": "code",
   "execution_count": 2,
   "id": "02ce2b86",
   "metadata": {},
   "outputs": [
    {
     "data": {
      "text/plain": [
       "(17311807, 32)"
      ]
     },
     "execution_count": 2,
     "metadata": {},
     "output_type": "execute_result"
    }
   ],
   "source": [
    "final_df=pd.read_parquet('final_data.parquet')\n",
    "final_df.shape"
   ]
  },
  {
   "cell_type": "markdown",
   "id": "8336eca1",
   "metadata": {},
   "source": [
    "## Analysis Begins..."
   ]
  },
  {
   "cell_type": "markdown",
   "id": "f68231a4",
   "metadata": {},
   "source": [
    "### In-Depth Inventory Analysis"
   ]
  },
  {
   "cell_type": "markdown",
   "id": "faafad12",
   "metadata": {},
   "source": [
    "#### ABC Segmentation"
   ]
  },
  {
   "cell_type": "code",
   "execution_count": 4,
   "id": "621f0880",
   "metadata": {},
   "outputs": [],
   "source": [
    "date_columns = [\n",
    "    'order_purchase_timestamp', 'order_approved_at', \n",
    "    'order_delivered_carrier_date', 'order_delivered_customer_date', \n",
    "    'order_estimated_delivery_date'\n",
    "]\n",
    "for col in date_columns:\n",
    "    final_df[col] = pd.to_datetime(final_df[col], errors='coerce')\n",
    "\n",
    "# Create the 'revenue' column for inventory analysis\n",
    "final_df['revenue'] = final_df['price'] + final_df['freight_value']"
   ]
  },
  {
   "cell_type": "code",
   "execution_count": 5,
   "id": "41f8f473",
   "metadata": {},
   "outputs": [
    {
     "name": "stdout",
     "output_type": "stream",
     "text": [
      "--- ABC Analysis Summary ---\n",
      "abc_category\n",
      "C    39\n",
      "A    16\n",
      "B    16\n",
      "Name: count, dtype: int64\n"
     ]
    }
   ],
   "source": [
    "catg_rev=final_df.groupby('product_category_name_english')['revenue'].sum().reset_index()\n",
    "\n",
    "catg_rev=catg_rev.sort_values(by='revenue',ascending=False)\n",
    "\n",
    "total_rev=catg_rev['revenue'].sum()\n",
    "catg_rev['cumulative_percentage']=(catg_rev['revenue'].cumsum()/total_rev)*100\n",
    "\n",
    "def classify_abc(percentage):\n",
    "    if percentage <= 80:\n",
    "        return 'A'  # Vital few\n",
    "    elif 80 < percentage <= 95:\n",
    "        return 'B'  # Important but not critical\n",
    "    else:\n",
    "        return 'C'  # Trivial many\n",
    "\n",
    "catg_rev['abc_category']=catg_rev['cumulative_percentage'].apply(classify_abc)\n",
    "\n",
    "abc_summary=catg_rev['abc_category'].value_counts()\n",
    "print(\"--- ABC Analysis Summary ---\")\n",
    "print(abc_summary)"
   ]
  },
  {
   "cell_type": "markdown",
   "id": "121ed136",
   "metadata": {},
   "source": [
    "#### Dead Stock Analysis"
   ]
  },
  {
   "cell_type": "code",
   "execution_count": 6,
   "id": "a6a72619",
   "metadata": {},
   "outputs": [
    {
     "name": "stdout",
     "output_type": "stream",
     "text": [
      "Found 15080 products with no sales in the last 6 months.\n",
      "                             product_id order_purchase_timestamp\n",
      "1      00088930e925c41fd95ebfe695fd2655      2017-12-12 19:20:28\n",
      "2      0009406fd7479715e4bef61dd91f2462      2017-12-21 16:21:47\n",
      "5      0011c512eb256aa0dbbb544d8dffcf6e      2017-12-14 20:30:29\n",
      "6      00126f27c813603687e6ce486d909d01      2017-09-17 20:45:13\n",
      "7      001795ec6f1b187d37335e1c4704762e      2017-12-27 00:22:18\n",
      "...                                 ...                      ...\n",
      "31419  ffe9468f4d890db80b7231e86931ff37      2017-11-20 22:30:23\n",
      "31420  ffeb228c521d5464d1f71444da96c446      2018-02-06 09:48:11\n",
      "31423  fff0a542c3c62682f23305214eaeaa24      2017-12-05 09:03:19\n",
      "31426  fff6177642830a9a94a0f2cba5e476d1      2017-09-03 11:38:54\n",
      "31428  fff9553ac224cec9d15d49f5a263411f      2017-10-06 16:44:05\n",
      "\n",
      "[15080 rows x 2 columns]\n"
     ]
    }
   ],
   "source": [
    "last_sale_date=final_df.groupby('product_id')['order_purchase_timestamp'].max().reset_index()\n",
    "six_months_ago=final_df['order_purchase_timestamp'].max()-pd.DateOffset(months=6)\n",
    "dead_stock_products=last_sale_date[last_sale_date['order_purchase_timestamp']<six_months_ago]\n",
    "print(f\"Found {len(dead_stock_products)} products with no sales in the last 6 months.\")\n",
    "print(dead_stock_products)"
   ]
  },
  {
   "cell_type": "markdown",
   "id": "db8880d5",
   "metadata": {},
   "source": [
    "#### Product Portfolio Analysis (The BCG Matrix)"
   ]
  },
  {
   "cell_type": "code",
   "execution_count": 7,
   "id": "e5df8a1e",
   "metadata": {},
   "outputs": [
    {
     "data": {
      "application/vnd.plotly.v1+json": {
       "config": {
        "plotlyServerURL": "https://plot.ly"
       },
       "data": [
        {
         "hovertemplate": "<b>%{hovertext}</b><br><br>quadrant=Underperformers<br>total_revenue=%{marker.size}<br>total_orders=%{y}<extra></extra>",
         "hovertext": [
          "agro_industry_and_commerce",
          "air_conditioning",
          "art",
          "arts_and_craftmanship",
          "audio",
          "books_general_interest",
          "books_imported",
          "books_technical",
          "cds_dvds_musicals",
          "christmas_supplies",
          "cine_photo",
          "computers",
          "consoles_games",
          "construction_tools_construction",
          "construction_tools_lights",
          "construction_tools_safety",
          "costruction_tools_garden",
          "costruction_tools_tools",
          "diapers_and_hygiene",
          "drinks",
          "dvds_blu_ray",
          "fashio_female_clothing",
          "fashion_childrens_clothes",
          "fashion_male_clothing",
          "fashion_shoes",
          "fashion_sport",
          "fashion_underwear_beach",
          "fixed_telephony",
          "flowers",
          "food",
          "food_drink",
          "furniture_bedroom",
          "furniture_living_room",
          "furniture_mattress_and_upholstery",
          "home_appliances",
          "home_appliances_2",
          "home_comfort_2",
          "home_confort",
          "home_construction",
          "industry_commerce_and_business",
          "kitchen_dining_laundry_garden_furniture",
          "la_cuisine",
          "luggage_accessories",
          "market_place",
          "music",
          "musical_instruments",
          "party_supplies",
          "security_and_services",
          "signaling_and_security",
          "small_appliances_home_oven_and_coffee",
          "tablets_printing_image"
         ],
         "legendgroup": "Underperformers",
         "marker": {
          "color": "red",
          "size": [
           15511128.620000001,
           11104094.63,
           3289526.36,
           341232.19,
           8501916.39,
           8136035.15,
           787004.08,
           3738979.42,
           94692.04,
           1468985.33,
           1199428.41,
           35025854.1,
           25825956.86,
           25544406.22,
           7774423.7,
           6595112.23,
           4466972.23,
           2091591.69,
           321796.64,
           5751241.82,
           858451,
           429219.78,
           85588.58,
           1987621.4,
           4305487.77,
           595925.38,
           1655256.24,
           9750389.14,
           315069.52,
           5626429.99,
           3035702.95,
           4617617.44,
           15253235.03,
           816401.01,
           13860810.11,
           21890364.48,
           181798.88,
           11534729.73,
           16090647.82,
           5499588.93,
           9619407.76,
           477478.71,
           27799218.14,
           4860102.3,
           1007908.17,
           32010336.93,
           969347.3200000001,
           30192,
           4592720.94,
           8654838,
           1110919.81
          ],
          "sizemode": "area",
          "sizeref": 84745.82964400001,
          "symbol": "circle"
         },
         "mode": "markers",
         "name": "Underperformers",
         "orientation": "v",
         "showlegend": true,
         "type": "scatter",
         "x": [
          15511128.620000001,
          11104094.63,
          3289526.36,
          341232.19,
          8501916.39,
          8136035.15,
          787004.08,
          3738979.42,
          94692.04,
          1468985.33,
          1199428.41,
          35025854.1,
          25825956.86,
          25544406.22,
          7774423.7,
          6595112.23,
          4466972.23,
          2091591.69,
          321796.64,
          5751241.82,
          858451,
          429219.78,
          85588.58,
          1987621.4,
          4305487.77,
          595925.38,
          1655256.24,
          9750389.14,
          315069.52,
          5626429.99,
          3035702.95,
          4617617.44,
          15253235.03,
          816401.01,
          13860810.11,
          21890364.48,
          181798.88,
          11534729.73,
          16090647.82,
          5499588.93,
          9619407.76,
          477478.71,
          27799218.14,
          4860102.3,
          1007908.17,
          32010336.93,
          969347.3200000001,
          30192,
          4592720.94,
          8654838,
          1110919.81
         ],
         "xaxis": "x",
         "y": [
          177,
          242,
          193,
          23,
          344,
          490,
          50,
          255,
          12,
          123,
          63,
          173,
          1005,
          727,
          238,
          157,
          190,
          94,
          25,
          287,
          56,
          36,
          7,
          105,
          230,
          25,
          116,
          208,
          28,
          434,
          221,
          90,
          409,
          37,
          740,
          225,
          23,
          390,
          481,
          228,
          238,
          12,
          1011,
          272,
          38,
          604,
          38,
          2,
          134,
          72,
          77
         ],
         "yaxis": "y"
        },
        {
         "hovertemplate": "<b>%{hovertext}</b><br><br>quadrant=Stars<br>total_revenue=%{marker.size}<br>total_orders=%{y}<extra></extra>",
         "hovertext": [
          "auto",
          "baby",
          "bed_bath_table",
          "computers_accessories",
          "cool_stuff",
          "furniture_decor",
          "garden_tools",
          "health_beauty",
          "housewares",
          "perfumery",
          "pet_shop",
          "sports_leisure",
          "stationery",
          "telephony",
          "toys",
          "watches_gifts"
         ],
         "legendgroup": "Stars",
         "marker": {
          "color": "green",
          "size": [
           96214985.95,
           72779220.74,
           211864574.11,
           164444545.13,
           103469933.21,
           150704701.33,
           90846460.87,
           211532149.73,
           127458478.74,
           70514491.47,
           43630626.06,
           185631634.05,
           42157308.77,
           49867176.56,
           89650463.83,
           186799896.56
          ],
          "sizemode": "area",
          "sizeref": 84745.82964400001,
          "symbol": "circle"
         },
         "mode": "markers",
         "name": "Stars",
         "orientation": "v",
         "showlegend": true,
         "type": "scatter",
         "x": [
          96214985.95,
          72779220.74,
          211864574.11,
          164444545.13,
          103469933.21,
          150704701.33,
          90846460.87,
          211532149.73,
          127458478.74,
          70514491.47,
          43630626.06,
          185631634.05,
          42157308.77,
          49867176.56,
          89650463.83,
          186799896.56
         ],
         "xaxis": "x",
         "y": [
          3782,
          2777,
          9159,
          6482,
          3518,
          6240,
          3417,
          8575,
          5700,
          3063,
          1676,
          7469,
          2245,
          4056,
          3763,
          5431
         ],
         "yaxis": "y"
        },
        {
         "hovertemplate": "<b>%{hovertext}</b><br><br>quadrant=Traffic Drivers<br>total_revenue=%{marker.size}<br>total_orders=%{y}<extra></extra>",
         "hovertext": [
          "electronics",
          "fashion_bags_accessories"
         ],
         "legendgroup": "Traffic Drivers",
         "marker": {
          "color": "orange",
          "size": [
           31252861.34,
           30680346.53
          ],
          "sizemode": "area",
          "sizeref": 84745.82964400001,
          "symbol": "circle"
         },
         "mode": "markers",
         "name": "Traffic Drivers",
         "orientation": "v",
         "showlegend": true,
         "type": "scatter",
         "x": [
          31252861.34,
          30680346.53
         ],
         "xaxis": "x",
         "y": [
          2491,
          1805
         ],
         "yaxis": "y"
        },
        {
         "hovertemplate": "<b>%{hovertext}</b><br><br>quadrant=Niche Winners<br>total_revenue=%{marker.size}<br>total_orders=%{y}<extra></extra>",
         "hovertext": [
          "office_furniture",
          "small_appliances"
         ],
         "legendgroup": "Niche Winners",
         "marker": {
          "color": "blue",
          "size": [
           54806233.37,
           36559307.57
          ],
          "sizemode": "area",
          "sizeref": 84745.82964400001,
          "symbol": "circle"
         },
         "mode": "markers",
         "name": "Niche Winners",
         "orientation": "v",
         "showlegend": true,
         "type": "scatter",
         "x": [
          54806233.37,
          36559307.57
         ],
         "xaxis": "x",
         "y": [
          1238,
          603
         ],
         "yaxis": "y"
        }
       ],
       "layout": {
        "font": {
         "family": "Arial, sans-serif",
         "size": 12
        },
        "legend": {
         "itemsizing": "constant",
         "title": {
          "text": "<b>Quadrant</b>"
         },
         "tracegroupgap": 0
        },
        "margin": {
         "t": 60
        },
        "shapes": [
         {
          "line": {
           "color": "grey",
           "dash": "dash"
          },
          "type": "line",
          "x0": 0,
          "x1": 1,
          "xref": "x domain",
          "y0": 1457,
          "y1": 1457,
          "yref": "y"
         },
         {
          "line": {
           "color": "grey",
           "dash": "dash"
          },
          "type": "line",
          "x0": 35792580.835,
          "x1": 35792580.835,
          "xref": "x",
          "y0": 0,
          "y1": 1,
          "yref": "y domain"
         }
        ],
        "template": {
         "data": {
          "bar": [
           {
            "error_x": {
             "color": "#2a3f5f"
            },
            "error_y": {
             "color": "#2a3f5f"
            },
            "marker": {
             "line": {
              "color": "white",
              "width": 0.5
             },
             "pattern": {
              "fillmode": "overlay",
              "size": 10,
              "solidity": 0.2
             }
            },
            "type": "bar"
           }
          ],
          "barpolar": [
           {
            "marker": {
             "line": {
              "color": "white",
              "width": 0.5
             },
             "pattern": {
              "fillmode": "overlay",
              "size": 10,
              "solidity": 0.2
             }
            },
            "type": "barpolar"
           }
          ],
          "carpet": [
           {
            "aaxis": {
             "endlinecolor": "#2a3f5f",
             "gridcolor": "#C8D4E3",
             "linecolor": "#C8D4E3",
             "minorgridcolor": "#C8D4E3",
             "startlinecolor": "#2a3f5f"
            },
            "baxis": {
             "endlinecolor": "#2a3f5f",
             "gridcolor": "#C8D4E3",
             "linecolor": "#C8D4E3",
             "minorgridcolor": "#C8D4E3",
             "startlinecolor": "#2a3f5f"
            },
            "type": "carpet"
           }
          ],
          "choropleth": [
           {
            "colorbar": {
             "outlinewidth": 0,
             "ticks": ""
            },
            "type": "choropleth"
           }
          ],
          "contour": [
           {
            "colorbar": {
             "outlinewidth": 0,
             "ticks": ""
            },
            "colorscale": [
             [
              0,
              "#0d0887"
             ],
             [
              0.1111111111111111,
              "#46039f"
             ],
             [
              0.2222222222222222,
              "#7201a8"
             ],
             [
              0.3333333333333333,
              "#9c179e"
             ],
             [
              0.4444444444444444,
              "#bd3786"
             ],
             [
              0.5555555555555556,
              "#d8576b"
             ],
             [
              0.6666666666666666,
              "#ed7953"
             ],
             [
              0.7777777777777778,
              "#fb9f3a"
             ],
             [
              0.8888888888888888,
              "#fdca26"
             ],
             [
              1,
              "#f0f921"
             ]
            ],
            "type": "contour"
           }
          ],
          "contourcarpet": [
           {
            "colorbar": {
             "outlinewidth": 0,
             "ticks": ""
            },
            "type": "contourcarpet"
           }
          ],
          "heatmap": [
           {
            "colorbar": {
             "outlinewidth": 0,
             "ticks": ""
            },
            "colorscale": [
             [
              0,
              "#0d0887"
             ],
             [
              0.1111111111111111,
              "#46039f"
             ],
             [
              0.2222222222222222,
              "#7201a8"
             ],
             [
              0.3333333333333333,
              "#9c179e"
             ],
             [
              0.4444444444444444,
              "#bd3786"
             ],
             [
              0.5555555555555556,
              "#d8576b"
             ],
             [
              0.6666666666666666,
              "#ed7953"
             ],
             [
              0.7777777777777778,
              "#fb9f3a"
             ],
             [
              0.8888888888888888,
              "#fdca26"
             ],
             [
              1,
              "#f0f921"
             ]
            ],
            "type": "heatmap"
           }
          ],
          "heatmapgl": [
           {
            "colorbar": {
             "outlinewidth": 0,
             "ticks": ""
            },
            "colorscale": [
             [
              0,
              "#0d0887"
             ],
             [
              0.1111111111111111,
              "#46039f"
             ],
             [
              0.2222222222222222,
              "#7201a8"
             ],
             [
              0.3333333333333333,
              "#9c179e"
             ],
             [
              0.4444444444444444,
              "#bd3786"
             ],
             [
              0.5555555555555556,
              "#d8576b"
             ],
             [
              0.6666666666666666,
              "#ed7953"
             ],
             [
              0.7777777777777778,
              "#fb9f3a"
             ],
             [
              0.8888888888888888,
              "#fdca26"
             ],
             [
              1,
              "#f0f921"
             ]
            ],
            "type": "heatmapgl"
           }
          ],
          "histogram": [
           {
            "marker": {
             "pattern": {
              "fillmode": "overlay",
              "size": 10,
              "solidity": 0.2
             }
            },
            "type": "histogram"
           }
          ],
          "histogram2d": [
           {
            "colorbar": {
             "outlinewidth": 0,
             "ticks": ""
            },
            "colorscale": [
             [
              0,
              "#0d0887"
             ],
             [
              0.1111111111111111,
              "#46039f"
             ],
             [
              0.2222222222222222,
              "#7201a8"
             ],
             [
              0.3333333333333333,
              "#9c179e"
             ],
             [
              0.4444444444444444,
              "#bd3786"
             ],
             [
              0.5555555555555556,
              "#d8576b"
             ],
             [
              0.6666666666666666,
              "#ed7953"
             ],
             [
              0.7777777777777778,
              "#fb9f3a"
             ],
             [
              0.8888888888888888,
              "#fdca26"
             ],
             [
              1,
              "#f0f921"
             ]
            ],
            "type": "histogram2d"
           }
          ],
          "histogram2dcontour": [
           {
            "colorbar": {
             "outlinewidth": 0,
             "ticks": ""
            },
            "colorscale": [
             [
              0,
              "#0d0887"
             ],
             [
              0.1111111111111111,
              "#46039f"
             ],
             [
              0.2222222222222222,
              "#7201a8"
             ],
             [
              0.3333333333333333,
              "#9c179e"
             ],
             [
              0.4444444444444444,
              "#bd3786"
             ],
             [
              0.5555555555555556,
              "#d8576b"
             ],
             [
              0.6666666666666666,
              "#ed7953"
             ],
             [
              0.7777777777777778,
              "#fb9f3a"
             ],
             [
              0.8888888888888888,
              "#fdca26"
             ],
             [
              1,
              "#f0f921"
             ]
            ],
            "type": "histogram2dcontour"
           }
          ],
          "mesh3d": [
           {
            "colorbar": {
             "outlinewidth": 0,
             "ticks": ""
            },
            "type": "mesh3d"
           }
          ],
          "parcoords": [
           {
            "line": {
             "colorbar": {
              "outlinewidth": 0,
              "ticks": ""
             }
            },
            "type": "parcoords"
           }
          ],
          "pie": [
           {
            "automargin": true,
            "type": "pie"
           }
          ],
          "scatter": [
           {
            "fillpattern": {
             "fillmode": "overlay",
             "size": 10,
             "solidity": 0.2
            },
            "type": "scatter"
           }
          ],
          "scatter3d": [
           {
            "line": {
             "colorbar": {
              "outlinewidth": 0,
              "ticks": ""
             }
            },
            "marker": {
             "colorbar": {
              "outlinewidth": 0,
              "ticks": ""
             }
            },
            "type": "scatter3d"
           }
          ],
          "scattercarpet": [
           {
            "marker": {
             "colorbar": {
              "outlinewidth": 0,
              "ticks": ""
             }
            },
            "type": "scattercarpet"
           }
          ],
          "scattergeo": [
           {
            "marker": {
             "colorbar": {
              "outlinewidth": 0,
              "ticks": ""
             }
            },
            "type": "scattergeo"
           }
          ],
          "scattergl": [
           {
            "marker": {
             "colorbar": {
              "outlinewidth": 0,
              "ticks": ""
             }
            },
            "type": "scattergl"
           }
          ],
          "scattermapbox": [
           {
            "marker": {
             "colorbar": {
              "outlinewidth": 0,
              "ticks": ""
             }
            },
            "type": "scattermapbox"
           }
          ],
          "scatterpolar": [
           {
            "marker": {
             "colorbar": {
              "outlinewidth": 0,
              "ticks": ""
             }
            },
            "type": "scatterpolar"
           }
          ],
          "scatterpolargl": [
           {
            "marker": {
             "colorbar": {
              "outlinewidth": 0,
              "ticks": ""
             }
            },
            "type": "scatterpolargl"
           }
          ],
          "scatterternary": [
           {
            "marker": {
             "colorbar": {
              "outlinewidth": 0,
              "ticks": ""
             }
            },
            "type": "scatterternary"
           }
          ],
          "surface": [
           {
            "colorbar": {
             "outlinewidth": 0,
             "ticks": ""
            },
            "colorscale": [
             [
              0,
              "#0d0887"
             ],
             [
              0.1111111111111111,
              "#46039f"
             ],
             [
              0.2222222222222222,
              "#7201a8"
             ],
             [
              0.3333333333333333,
              "#9c179e"
             ],
             [
              0.4444444444444444,
              "#bd3786"
             ],
             [
              0.5555555555555556,
              "#d8576b"
             ],
             [
              0.6666666666666666,
              "#ed7953"
             ],
             [
              0.7777777777777778,
              "#fb9f3a"
             ],
             [
              0.8888888888888888,
              "#fdca26"
             ],
             [
              1,
              "#f0f921"
             ]
            ],
            "type": "surface"
           }
          ],
          "table": [
           {
            "cells": {
             "fill": {
              "color": "#EBF0F8"
             },
             "line": {
              "color": "white"
             }
            },
            "header": {
             "fill": {
              "color": "#C8D4E3"
             },
             "line": {
              "color": "white"
             }
            },
            "type": "table"
           }
          ]
         },
         "layout": {
          "annotationdefaults": {
           "arrowcolor": "#2a3f5f",
           "arrowhead": 0,
           "arrowwidth": 1
          },
          "autotypenumbers": "strict",
          "coloraxis": {
           "colorbar": {
            "outlinewidth": 0,
            "ticks": ""
           }
          },
          "colorscale": {
           "diverging": [
            [
             0,
             "#8e0152"
            ],
            [
             0.1,
             "#c51b7d"
            ],
            [
             0.2,
             "#de77ae"
            ],
            [
             0.3,
             "#f1b6da"
            ],
            [
             0.4,
             "#fde0ef"
            ],
            [
             0.5,
             "#f7f7f7"
            ],
            [
             0.6,
             "#e6f5d0"
            ],
            [
             0.7,
             "#b8e186"
            ],
            [
             0.8,
             "#7fbc41"
            ],
            [
             0.9,
             "#4d9221"
            ],
            [
             1,
             "#276419"
            ]
           ],
           "sequential": [
            [
             0,
             "#0d0887"
            ],
            [
             0.1111111111111111,
             "#46039f"
            ],
            [
             0.2222222222222222,
             "#7201a8"
            ],
            [
             0.3333333333333333,
             "#9c179e"
            ],
            [
             0.4444444444444444,
             "#bd3786"
            ],
            [
             0.5555555555555556,
             "#d8576b"
            ],
            [
             0.6666666666666666,
             "#ed7953"
            ],
            [
             0.7777777777777778,
             "#fb9f3a"
            ],
            [
             0.8888888888888888,
             "#fdca26"
            ],
            [
             1,
             "#f0f921"
            ]
           ],
           "sequentialminus": [
            [
             0,
             "#0d0887"
            ],
            [
             0.1111111111111111,
             "#46039f"
            ],
            [
             0.2222222222222222,
             "#7201a8"
            ],
            [
             0.3333333333333333,
             "#9c179e"
            ],
            [
             0.4444444444444444,
             "#bd3786"
            ],
            [
             0.5555555555555556,
             "#d8576b"
            ],
            [
             0.6666666666666666,
             "#ed7953"
            ],
            [
             0.7777777777777778,
             "#fb9f3a"
            ],
            [
             0.8888888888888888,
             "#fdca26"
            ],
            [
             1,
             "#f0f921"
            ]
           ]
          },
          "colorway": [
           "#636efa",
           "#EF553B",
           "#00cc96",
           "#ab63fa",
           "#FFA15A",
           "#19d3f3",
           "#FF6692",
           "#B6E880",
           "#FF97FF",
           "#FECB52"
          ],
          "font": {
           "color": "#2a3f5f"
          },
          "geo": {
           "bgcolor": "white",
           "lakecolor": "white",
           "landcolor": "white",
           "showlakes": true,
           "showland": true,
           "subunitcolor": "#C8D4E3"
          },
          "hoverlabel": {
           "align": "left"
          },
          "hovermode": "closest",
          "mapbox": {
           "style": "light"
          },
          "paper_bgcolor": "white",
          "plot_bgcolor": "white",
          "polar": {
           "angularaxis": {
            "gridcolor": "#EBF0F8",
            "linecolor": "#EBF0F8",
            "ticks": ""
           },
           "bgcolor": "white",
           "radialaxis": {
            "gridcolor": "#EBF0F8",
            "linecolor": "#EBF0F8",
            "ticks": ""
           }
          },
          "scene": {
           "xaxis": {
            "backgroundcolor": "white",
            "gridcolor": "#DFE8F3",
            "gridwidth": 2,
            "linecolor": "#EBF0F8",
            "showbackground": true,
            "ticks": "",
            "zerolinecolor": "#EBF0F8"
           },
           "yaxis": {
            "backgroundcolor": "white",
            "gridcolor": "#DFE8F3",
            "gridwidth": 2,
            "linecolor": "#EBF0F8",
            "showbackground": true,
            "ticks": "",
            "zerolinecolor": "#EBF0F8"
           },
           "zaxis": {
            "backgroundcolor": "white",
            "gridcolor": "#DFE8F3",
            "gridwidth": 2,
            "linecolor": "#EBF0F8",
            "showbackground": true,
            "ticks": "",
            "zerolinecolor": "#EBF0F8"
           }
          },
          "shapedefaults": {
           "line": {
            "color": "#2a3f5f"
           }
          },
          "ternary": {
           "aaxis": {
            "gridcolor": "#DFE8F3",
            "linecolor": "#A2B1C6",
            "ticks": ""
           },
           "baxis": {
            "gridcolor": "#DFE8F3",
            "linecolor": "#A2B1C6",
            "ticks": ""
           },
           "bgcolor": "white",
           "caxis": {
            "gridcolor": "#DFE8F3",
            "linecolor": "#A2B1C6",
            "ticks": ""
           }
          },
          "title": {
           "x": 0.05
          },
          "xaxis": {
           "automargin": true,
           "gridcolor": "#EBF0F8",
           "linecolor": "#EBF0F8",
           "ticks": "",
           "title": {
            "standoff": 15
           },
           "zerolinecolor": "#EBF0F8",
           "zerolinewidth": 2
          },
          "yaxis": {
           "automargin": true,
           "gridcolor": "#EBF0F8",
           "linecolor": "#EBF0F8",
           "ticks": "",
           "title": {
            "standoff": 15
           },
           "zerolinecolor": "#EBF0F8",
           "zerolinewidth": 2
          }
         }
        },
        "title": {
         "text": "<b>Product Portfolio Analysis (BCG Matrix Style)</b>",
         "x": 0.5
        },
        "xaxis": {
         "anchor": "y",
         "domain": [
          0,
          1
         ],
         "title": {
          "text": "Total Revenue"
         }
        },
        "yaxis": {
         "anchor": "x",
         "domain": [
          0,
          1
         ],
         "title": {
          "text": "Total Orders"
         }
        }
       }
      }
     },
     "metadata": {},
     "output_type": "display_data"
    }
   ],
   "source": [
    "product_portfolio=final_df.groupby('product_category_name_english').agg(\n",
    "    total_revenue=('revenue','sum'),\n",
    "    total_orders=('order_id','nunique')\n",
    ").dropna()\n",
    "\n",
    "revenue_threshold=product_portfolio['total_revenue'].quantile(0.75)\n",
    "orders_threshold=product_portfolio['total_orders'].quantile(0.75)\n",
    "\n",
    "conditions=[\n",
    "    (product_portfolio['total_revenue']>revenue_threshold) & (product_portfolio['total_orders'] > orders_threshold),\n",
    "    (product_portfolio['total_revenue']<=revenue_threshold) & (product_portfolio['total_orders'] > orders_threshold),\n",
    "    (product_portfolio['total_revenue']>revenue_threshold) & (product_portfolio['total_orders'] <= orders_threshold)\n",
    "]\n",
    "choices = ['Stars', 'Traffic Drivers', 'Niche Winners']\n",
    "product_portfolio['quadrant'] = np.select(conditions, choices, default='Underperformers')\n",
    "\n",
    "fig = px.scatter(\n",
    "    data_frame=product_portfolio,\n",
    "    x='total_revenue',\n",
    "    y='total_orders',\n",
    "    color='quadrant',  \n",
    "    hover_name=product_portfolio.index, \n",
    "    size='total_revenue', \n",
    "    size_max=50,\n",
    "    color_discrete_map={ \n",
    "        'Stars': 'green',\n",
    "        'Traffic Drivers':'orange',\n",
    "        'Niche Winners':'blue',\n",
    "        'Underperformers':'red'\n",
    "    },\n",
    "    template='plotly_white'\n",
    ")\n",
    "\n",
    "fig.add_hline(\n",
    "    y=orders_threshold,\n",
    "    line_dash=\"dash\",\n",
    "    line_color=\"grey\"\n",
    ")\n",
    "fig.add_vline(\n",
    "    x=revenue_threshold,\n",
    "    line_dash=\"dash\",\n",
    "    line_color=\"grey\"\n",
    ")\n",
    "\n",
    "fig.update_layout(\n",
    "    title_text='<b>Product Portfolio Analysis (BCG Matrix Style)</b>',\n",
    "    title_x=0.5, # Center the title\n",
    "    xaxis_title='Total Revenue',\n",
    "    yaxis_title='Total Orders',\n",
    "    legend_title='<b>Quadrant</b>',\n",
    "    font=dict(family=\"Arial, sans-serif\", size=12)\n",
    ")\n",
    "\n",
    "fig.show()"
   ]
  },
  {
   "cell_type": "markdown",
   "id": "3b8140a0",
   "metadata": {},
   "source": [
    "#### Sales Velocity & Consistency"
   ]
  },
  {
   "cell_type": "code",
   "execution_count": 8,
   "id": "03027e6a",
   "metadata": {},
   "outputs": [
    {
     "name": "stdout",
     "output_type": "stream",
     "text": [
      "\n",
      "--- Sales Velocity & Consistency (Top 5 Most Consistent) ---\n",
      "   product_category_name_english        mean         std  consistency_ratio\n",
      "61         security_and_services    1.000000    0.000000           0.000000\n",
      "29     fashion_childrens_clothes    1.166667    0.408248           0.349927\n",
      "63              small_appliances   30.150000   11.694691           0.387884\n",
      "34               fixed_telephony    9.904762    3.998809           0.403726\n",
      "39               furniture_decor  297.142857  121.884899           0.410190\n"
     ]
    }
   ],
   "source": [
    "final_df['purchase_month']=final_df['order_purchase_timestamp'].dt.to_period('M')\n",
    "monthly_sales=final_df.groupby(['product_category_name_english','purchase_month'])['order_id'].nunique().reset_index()\n",
    "cat_vel=monthly_sales.groupby('product_category_name_english')['order_id'].agg(['mean', 'std']).reset_index()\n",
    "cat_vel['consistency_ratio']=cat_vel['std']/cat_vel['mean']\n",
    "print(\"\\n--- Sales Velocity & Consistency (Top 5 Most Consistent) ---\")\n",
    "print(cat_vel.sort_values(by='consistency_ratio', ascending=True).head())"
   ]
  },
  {
   "cell_type": "markdown",
   "id": "815ad289",
   "metadata": {},
   "source": [
    "#### Geographic Sales Hotspots"
   ]
  },
  {
   "cell_type": "code",
   "execution_count": 9,
   "id": "48de607d",
   "metadata": {},
   "outputs": [
    {
     "name": "stdout",
     "output_type": "stream",
     "text": [
      "\n",
      "--- Top 5 Sales Hotspots for computers_accessories ---\n",
      "customer_state\n",
      "SP    34.346396\n",
      "MG    20.022798\n",
      "RJ    19.988031\n",
      "RS     6.561363\n",
      "PR     4.162060\n",
      "Name: proportion, dtype: float64\n"
     ]
    }
   ],
   "source": [
    "category_focus='computers_accessories'\n",
    "category_df=final_df[final_df['product_category_name_english']==category_focus]\n",
    "state_hotspots=category_df['customer_state'].value_counts(normalize=True).head(5)*100\n",
    "print(f\"\\n--- Top 5 Sales Hotspots for {category_focus} ---\")\n",
    "print(state_hotspots)"
   ]
  },
  {
   "cell_type": "markdown",
   "id": "ebb4ca94",
   "metadata": {},
   "source": [
    "#### Price Point Analysis"
   ]
  },
  {
   "cell_type": "code",
   "execution_count": 10,
   "id": "0cae6a86",
   "metadata": {},
   "outputs": [
    {
     "name": "stdout",
     "output_type": "stream",
     "text": [
      "\n",
      "--- Total Revenue by Price Bin ---\n",
      "price_bin\n",
      "0-50       2.777094e+08\n",
      "50-100     4.741280e+08\n",
      "100-200    6.859723e+08\n",
      "200-500    5.093773e+08\n",
      "500+       4.800701e+08\n",
      "Name: revenue, dtype: float64\n"
     ]
    }
   ],
   "source": [
    "final_df['price_bin']=pd.cut(final_df['price'],bins=[0, 50, 100, 200, 500, 5000],labels=['0-50','50-100','100-200','200-500','500+'])\n",
    "price_analysis=final_df.groupby('price_bin',observed=False)['revenue'].sum()\n",
    "print(\"\\n--- Total Revenue by Price Bin ---\")\n",
    "print(price_analysis)"
   ]
  },
  {
   "cell_type": "markdown",
   "id": "ac9ba673",
   "metadata": {},
   "source": [
    "### Logistics Analysis"
   ]
  },
  {
   "cell_type": "markdown",
   "id": "b88ed618",
   "metadata": {},
   "source": [
    "#### Root Cause of Delays"
   ]
  },
  {
   "cell_type": "code",
   "execution_count": 11,
   "id": "3b8c73fb",
   "metadata": {},
   "outputs": [
    {
     "name": "stdout",
     "output_type": "stream",
     "text": [
      "\n",
      "--- Top 5 States with Highest Late Delivery Rate ---\n",
      "  customer_state  avg_proc_time  avg_ship_time  late_delivery_rate\n",
      "0             AL       2.234370      20.064862           22.748067\n",
      "1             MA       2.615825      16.797773           20.567738\n",
      "2             CE       2.362806      17.306181           16.447009\n",
      "3             PI       2.091770      15.138524           15.649150\n",
      "4             SE       2.486279      17.648162           14.941934\n"
     ]
    }
   ],
   "source": [
    "# Processing time and shipping time in days\n",
    "final_df['proc_time']=(final_df['order_delivered_carrier_date']-final_df['order_approved_at']).dt.days\n",
    "final_df['ship_time']=(final_df['order_delivered_customer_date']-final_df['order_delivered_carrier_date']).dt.days\n",
    "\n",
    "# Determining if an order was delivered late\n",
    "final_df['is_late']=np.where(final_df['order_delivered_customer_date']>final_df['order_estimated_delivery_date'],1,0)\n",
    "\n",
    "# Analyzing the avg times and late rate for each state\n",
    "state_delay_analysis=final_df.groupby('customer_state').agg(\n",
    "    avg_proc_time=('proc_time','mean'),\n",
    "    avg_ship_time=('ship_time','mean'),\n",
    "    late_delivery_rate=('is_late','mean')\n",
    ").reset_index()\n",
    "\n",
    "# Convert late rate to a percentage\n",
    "state_delay_analysis['late_delivery_rate']=state_delay_analysis['late_delivery_rate']*100\n",
    "\n",
    "# Display the top 5 states with the highest late delivery rate\n",
    "print(\"\\n--- Top 5 States with Highest Late Delivery Rate ---\")\n",
    "print(state_delay_analysis.sort_values(by='late_delivery_rate',ascending=False,ignore_index=True).head())"
   ]
  },
  {
   "cell_type": "markdown",
   "id": "734b541b",
   "metadata": {},
   "source": [
    "#### Seller Performance Scorecard"
   ]
  },
  {
   "cell_type": "code",
   "execution_count": 12,
   "id": "5a06edb1",
   "metadata": {},
   "outputs": [
    {
     "name": "stdout",
     "output_type": "stream",
     "text": [
      "\n",
      "--- Top 5 Fastest Sellers (Lowest Avg Proc Time) ---\n",
      "                             seller_id  avg_processing_time  total_orders\n",
      "1683  916c9de0b5ad957346eeeb12f332687e            -1.022817            22\n",
      "2226  c3e1abd72a42fe690fcd89cf5720fe29            -0.501855            13\n",
      "1264  6ddc28b61be28373b4503a1f61cf98a9            -0.335179            11\n",
      "1376  768a86e36ad6aae3d03ee3c6433d61df            -0.214577            17\n",
      "576   334cab711dee080b079fa5779b584783            -0.212262            11\n",
      "\n",
      "--- Top 5 Slowest Sellers (Highest Avg Proc Time) ---\n",
      "                             seller_id  avg_processing_time  total_orders\n",
      "2693  ecccfa2bb93b34a3bf033cc5d1dcdc69            19.524644            11\n",
      "1187  66e0557ecc2b4dbea057e93f215f68d8            18.721323            30\n",
      "981   54965bbe3e4f07ae045b90b0b8541f52            18.067316            69\n",
      "915   5058e8c1e82653974541e83690655b4a            15.118973            59\n",
      "2786  f4c4daa86e30c7e5a553a8d518ac03a5            14.496502            16\n"
     ]
    }
   ],
   "source": [
    "# Seller's average processing time and total orders\n",
    "seller_scorecard = final_df.groupby('seller_id').agg(\n",
    "    avg_processing_time=('proc_time', 'mean'),\n",
    "    total_orders=('order_id', 'nunique')\n",
    ").reset_index()\n",
    "\n",
    "# Sellers with more than 10 orders\n",
    "seller_scorecard = seller_scorecard[seller_scorecard['total_orders'] > 10]\n",
    "\n",
    "# Top 5 Fastest and Slowest Sellers\n",
    "print(\"\\n--- Top 5 Fastest Sellers (Lowest Avg Proc Time) ---\")\n",
    "print(seller_scorecard.sort_values(by='avg_processing_time', ascending=True).head())\n",
    "\n",
    "print(\"\\n--- Top 5 Slowest Sellers (Highest Avg Proc Time) ---\")\n",
    "print(seller_scorecard.sort_values(by='avg_processing_time', ascending=False).head())"
   ]
  },
  {
   "cell_type": "markdown",
   "id": "85514497",
   "metadata": {},
   "source": [
    "#### Analyzing the \"Long Tail\" of Delays"
   ]
  },
  {
   "cell_type": "code",
   "execution_count": 13,
   "id": "24a1e0d4",
   "metadata": {},
   "outputs": [
    {
     "name": "stdout",
     "output_type": "stream",
     "text": [
      "--- Comparison of Top States: Overall vs. Severely Late Orders ---\n",
      "                Overall % of Orders  Severely Late % of Orders\n",
      "customer_state                                                \n",
      "SP                            37.37                      17.90\n",
      "RJ                            19.91                      42.12\n",
      "MG                            19.12                      11.01\n",
      "RS                             5.42                       5.10\n",
      "PR                             4.15                       1.94\n",
      "SC                             3.55                       4.63\n",
      "BA                             2.45                       5.03\n",
      "ES                             2.04                       2.97\n",
      "GO                             0.89                       0.00\n",
      "MT                             0.85                       0.00\n",
      "CE                             0.00                       1.27\n",
      "PE                             0.00                       1.10\n"
     ]
    },
    {
     "data": {
      "image/png": "[encoded data removed]",
      "text/plain": [
       "<Figure size 1400x700 with 1 Axes>"
      ]
     },
     "metadata": {},
     "output_type": "display_data"
    }
   ],
   "source": [
    "final_df['delivery_delta']=(final_df['order_estimated_delivery_date']-final_df['order_delivered_customer_date']).dt.days\n",
    "\n",
    "overall_state_dist = (\n",
    "    final_df['customer_state']\n",
    "    .value_counts(normalize=True)\n",
    "    .head(10)\n",
    "    .mul(100)\n",
    "    .rename('Overall % of Orders')\n",
    ")\n",
    "\n",
    "late_state_dist = (\n",
    "    final_df.query('delivery_delta < -7')['customer_state']\n",
    "    .value_counts(normalize=True)\n",
    "    .head(10)\n",
    "    .mul(100)\n",
    "    .rename('Severely Late % of Orders')\n",
    ")\n",
    "\n",
    "comparison_df=pd.concat([overall_state_dist, late_state_dist], axis=1, join='outer').fillna(0)\n",
    "\n",
    "print(\"--- Comparison of Top States: Overall vs. Severely Late Orders ---\")\n",
    "print(comparison_df.round(2))\n",
    "\n",
    "ax = comparison_df.plot(\n",
    "    kind='bar',\n",
    "    figsize=(14, 7),\n",
    "    width=0.8,\n",
    "    color=['#4C72B0', '#DD8452']\n",
    ")\n",
    "\n",
    "ax.set_title('State Contribution: Overall vs. Severely Late Orders', fontsize=16, weight='bold')\n",
    "ax.set_ylabel('Percentage of Total Orders (%)', fontsize=12)\n",
    "ax.set_xlabel('Customer State', fontsize=12)\n",
    "ax.tick_params(axis='x', rotation=45, labelsize=11)\n",
    "ax.grid(axis='y', linestyle='--', alpha=0.7)\n",
    "\n",
    "plt.tight_layout()\n",
    "plt.show()"
   ]
  },
  {
   "cell_type": "markdown",
   "id": "eddd0400",
   "metadata": {},
   "source": [
    "#### Delivery Promise Accuracy"
   ]
  },
  {
   "cell_type": "code",
   "execution_count": 14,
   "id": "26501fb7",
   "metadata": {},
   "outputs": [
    {
     "name": "stdout",
     "output_type": "stream",
     "text": [
      "\n",
      "Average Delivery Delta: 11.35 days\n",
      "Percentage of orders arriving early: 91.25%\n"
     ]
    }
   ],
   "source": [
    "final_df['delivery_delta']=(final_df['order_estimated_delivery_date']-final_df['order_delivered_customer_date']).dt.days\n",
    "print(f\"\\nAverage Delivery Delta: {final_df['delivery_delta'].mean():.2f} days\")\n",
    "print(f\"Percentage of orders arriving early: { (final_df['delivery_delta'] > 0).mean() * 100 :.2f}%\")"
   ]
  },
  {
   "cell_type": "markdown",
   "id": "cd293dd8",
   "metadata": {},
   "source": [
    "#### Weekend Effect on Proc Time"
   ]
  },
  {
   "cell_type": "code",
   "execution_count": 15,
   "id": "51a215ba",
   "metadata": {},
   "outputs": [
    {
     "name": "stdout",
     "output_type": "stream",
     "text": [
      "\n",
      "--- Average Seller Processing Time by Purchase Day ---\n",
      "purchase_day_of_week\n",
      "Monday       1.800717\n",
      "Tuesday      2.010995\n",
      "Wednesday    2.152266\n",
      "Thursday     2.571686\n",
      "Friday       3.367548\n",
      "Saturday     2.851703\n",
      "Sunday       1.946035\n",
      "Name: proc_time, dtype: float64\n"
     ]
    }
   ],
   "source": [
    "final_df['purchase_day_of_week'] = final_df['order_purchase_timestamp'].dt.day_name()\n",
    "weekend_effect = final_df.groupby('purchase_day_of_week')['proc_time'].mean().reindex(['Monday', 'Tuesday', 'Wednesday', 'Thursday', 'Friday', 'Saturday', 'Sunday'])\n",
    "print(\"\\n--- Average Seller Processing Time by Purchase Day ---\")\n",
    "print(weekend_effect)"
   ]
  },
  {
   "cell_type": "markdown",
   "id": "e870e5cd",
   "metadata": {},
   "source": [
    "#### Impact of Product Size/Weight on Delivery"
   ]
  },
  {
   "cell_type": "code",
   "execution_count": 16,
   "id": "639cc284",
   "metadata": {},
   "outputs": [
    {
     "name": "stdout",
     "output_type": "stream",
     "text": [
      "\n",
      "--- Correlation between Product Weight and Shipping Time ---\n",
      "                  product_weight_g  ship_time\n",
      "product_weight_g          1.000000   0.031671\n",
      "ship_time                 0.031671   1.000000\n"
     ]
    }
   ],
   "source": [
    "print(\"\\n--- Correlation between Product Weight and Shipping Time ---\")\n",
    "print(final_df[['product_weight_g', 'ship_time']].corr())"
   ]
  },
  {
   "cell_type": "markdown",
   "id": "7a5b14df",
   "metadata": {},
   "source": [
    "#### Most Common (and Problematic) Shipping Routes"
   ]
  },
  {
   "cell_type": "code",
   "execution_count": 17,
   "id": "66dc4b59",
   "metadata": {},
   "outputs": [
    {
     "name": "stdout",
     "output_type": "stream",
     "text": [
      "\n",
      "--- Top 5 Most Problematic High-Volume Shipping Routes ---\n",
      "    shipping_route  total_orders  late_rate\n",
      "384       SP -> AL           251   0.237755\n",
      "392       SP -> MA           481   0.231424\n",
      "142       MA -> SP           123   0.226497\n",
      "399       SP -> PI           317   0.171949\n",
      "407       SP -> SE           207   0.171286\n"
     ]
    }
   ],
   "source": [
    "final_df['shipping_route']=final_df['seller_state'] + ' -> ' + final_df['customer_state']\n",
    "route_performance=final_df.groupby('shipping_route').agg(\n",
    "    total_orders=('order_id', 'nunique'),\n",
    "    late_rate=('is_late', 'mean')\n",
    ").reset_index()\n",
    "print(\"\\n--- Top 5 Most Problematic High-Volume Shipping Routes ---\")\n",
    "print(route_performance[route_performance['total_orders']>100].sort_values(by='late_rate',ascending=False).head())"
   ]
  },
  {
   "cell_type": "markdown",
   "id": "fa155142",
   "metadata": {},
   "source": [
    "#### Late Delivery vs. Review Score"
   ]
  },
  {
   "cell_type": "code",
   "execution_count": 18,
   "id": "9bfed174",
   "metadata": {},
   "outputs": [
    {
     "name": "stdout",
     "output_type": "stream",
     "text": [
      "\n",
      "--- Average Review Score for On-Time vs. Late Deliveries ---\n",
      "is_late\n",
      "0    4.208052\n",
      "1    2.455777\n",
      "Name: review_score, dtype: float64\n"
     ]
    }
   ],
   "source": [
    "\n",
    "review_impact=final_df.groupby('is_late')['review_score'].mean()\n",
    "print(\"\\n--- Average Review Score for On-Time vs. Late Deliveries ---\")\n",
    "print(review_impact)"
   ]
  },
  {
   "cell_type": "markdown",
   "id": "eddd15b0",
   "metadata": {},
   "source": [
    "#### Payment Type vs. Processing Time"
   ]
  },
  {
   "cell_type": "code",
   "execution_count": 19,
   "id": "d00a380d",
   "metadata": {},
   "outputs": [
    {
     "name": "stdout",
     "output_type": "stream",
     "text": [
      "\n",
      "--- Average Processing Time by Payment Type ---\n",
      "payment_type\n",
      "voucher        2.447077\n",
      "boleto         2.396797\n",
      "credit_card    2.347242\n",
      "debit_card     2.248529\n",
      "Name: proc_time, dtype: float64\n"
     ]
    }
   ],
   "source": [
    "payment_impact = final_df.groupby('payment_type')['proc_time'].mean()\n",
    "print(\"\\n--- Average Processing Time by Payment Type ---\")\n",
    "print(payment_impact.sort_values(ascending=False))"
   ]
  },
  {
   "cell_type": "markdown",
   "id": "6563ba39",
   "metadata": {},
   "source": [
    "#### Churn Risk Analysis"
   ]
  },
  {
   "cell_type": "code",
   "execution_count": 20,
   "id": "253fb789",
   "metadata": {},
   "outputs": [
    {
     "name": "stdout",
     "output_type": "stream",
     "text": [
      "\n",
      "Found 333 repeat customers who have experienced at least one late delivery.\n"
     ]
    }
   ],
   "source": [
    "cust_orders=final_df.groupby('customer_unique_id')['order_id'].nunique()\n",
    "repeat_cust=cust_orders[cust_orders>1].index\n",
    "repeat_cust_df=final_df[final_df['customer_unique_id'].isin(repeat_cust)]\n",
    "churn_risk=repeat_cust_df.groupby('customer_unique_id')['is_late'].sum().reset_index()\n",
    "at_risk_cust=churn_risk[churn_risk['is_late']>0]\n",
    "print(f\"\\nFound {len(at_risk_cust)} repeat customers who have experienced at least one late delivery.\")"
   ]
  },
  {
   "cell_type": "markdown",
   "id": "0a806057",
   "metadata": {},
   "source": [
    "#### Profitability Analysis by Category"
   ]
  },
  {
   "cell_type": "code",
   "execution_count": 21,
   "id": "c8c91b71",
   "metadata": {},
   "outputs": [
    {
     "name": "stdout",
     "output_type": "stream",
     "text": [
      "\n",
      "--- Top 5 Most Profitable Categories (Price - Freight) ---\n",
      "product_category_name_english\n",
      "health_beauty            1.610630e+08\n",
      "watches_gifts            1.589395e+08\n",
      "bed_bath_table           1.432432e+08\n",
      "sports_leisure           1.332276e+08\n",
      "computers_accessories    1.185356e+08\n",
      "Name: profit_proxy, dtype: float64\n"
     ]
    }
   ],
   "source": [
    "# --- Profitability Proxy ---\n",
    "final_df['profit_proxy']=final_df['price']-final_df['freight_value']\n",
    "category_profit=final_df.groupby('product_category_name_english')['profit_proxy'].sum().sort_values(ascending=False)\n",
    "print(\"\\n--- Top 5 Most Profitable Categories (Price - Freight) ---\")\n",
    "print(category_profit.head())"
   ]
  },
  {
   "cell_type": "markdown",
   "id": "c5ab1d6b",
   "metadata": {},
   "source": [
    "### Financial & Revenue Analysis "
   ]
  },
  {
   "cell_type": "markdown",
   "id": "8ee44a6d",
   "metadata": {},
   "source": [
    "#### Day-of-Week Revenue"
   ]
  },
  {
   "cell_type": "code",
   "execution_count": 22,
   "id": "217c4d39",
   "metadata": {},
   "outputs": [
    {
     "data": {
      "text/plain": [
       "<Axes: title={'center': 'Total Revenue by Day of Week'}, xlabel='purchase_day_of_week'>"
      ]
     },
     "execution_count": 22,
     "metadata": {},
     "output_type": "execute_result"
    },
    {
     "data": {
      "image/png": "[encoded data removed]",
      "text/plain": [
       "<Figure size 640x480 with 1 Axes>"
      ]
     },
     "metadata": {},
     "output_type": "display_data"
    }
   ],
   "source": [
    "final_df['purchase_day_of_week']=final_df['order_purchase_timestamp'].dt.day_name()\n",
    "daily_revenue = final_df.groupby('purchase_day_of_week')['revenue'].sum().reindex(\n",
    "    ['Monday', 'Tuesday', 'Wednesday', 'Thursday', 'Friday', 'Saturday', 'Sunday']\n",
    ")\n",
    "daily_revenue.plot(kind='bar', title='Total Revenue by Day of Week')"
   ]
  },
  {
   "cell_type": "markdown",
   "id": "26af4669",
   "metadata": {},
   "source": [
    "#### Average Order Value Trend "
   ]
  },
  {
   "cell_type": "code",
   "execution_count": 23,
   "id": "dd49b89e",
   "metadata": {},
   "outputs": [
    {
     "data": {
      "text/plain": [
       "<Axes: title={'center': 'Monthly Average Order Value (AOV)'}, xlabel='purchase_month'>"
      ]
     },
     "execution_count": 23,
     "metadata": {},
     "output_type": "execute_result"
    },
    {
     "data": {
      "image/png": "[encoded data removed]",
      "text/plain": [
       "<Figure size 640x480 with 1 Axes>"
      ]
     },
     "metadata": {},
     "output_type": "display_data"
    }
   ],
   "source": [
    "final_df['purchase_month']=final_df['order_purchase_timestamp'].dt.to_period('M')\n",
    "monthly_aov = final_df.groupby('purchase_month').agg(\n",
    "    total_revenue=('revenue', 'sum'),\n",
    "    total_orders=('order_id', 'nunique')\n",
    ")\n",
    "monthly_aov['aov']=monthly_aov['total_revenue'] / monthly_aov['total_orders']\n",
    "monthly_aov['aov'].plot(kind='line', title='Monthly Average Order Value (AOV)')"
   ]
  },
  {
   "cell_type": "markdown",
   "id": "a2c2e322",
   "metadata": {},
   "source": [
    "#### Unprofitable Orders"
   ]
  },
  {
   "cell_type": "code",
   "execution_count": 24,
   "id": "d5d6c648",
   "metadata": {},
   "outputs": [
    {
     "name": "stdout",
     "output_type": "stream",
     "text": [
      "\n",
      "Found 602615 orders where freight cost exceeded item price.\n",
      "\n",
      "--- Top 5 Categories for Unprofitable Orders ---\n",
      "product_category_name_english\n",
      "electronics        86572\n",
      "housewares         63697\n",
      "furniture_decor    56918\n",
      "telephony          49920\n",
      "health_beauty      43466\n",
      "Name: count, dtype: int64\n"
     ]
    }
   ],
   "source": [
    "unprofitable_orders=final_df[final_df['freight_value']>final_df['price']]\n",
    "print(f\"\\nFound {len(unprofitable_orders)} orders where freight cost exceeded item price.\")\n",
    "\n",
    "unprofitable_by_cat = unprofitable_orders['product_category_name_english'].value_counts().head(5)\n",
    "print(\"\\n--- Top 5 Categories for Unprofitable Orders ---\")\n",
    "print(unprofitable_by_cat)"
   ]
  },
  {
   "cell_type": "markdown",
   "id": "35225279",
   "metadata": {},
   "source": [
    "#### High-Value Customer Revenue"
   ]
  },
  {
   "cell_type": "code",
   "execution_count": 25,
   "id": "be4de4c3",
   "metadata": {},
   "outputs": [
    {
     "name": "stdout",
     "output_type": "stream",
     "text": [
      "\n",
      "The top 10% of customers account for 52.04% of total revenue.\n"
     ]
    }
   ],
   "source": [
    "cust_rev=final_df.groupby('customer_unique_id')['revenue'].sum()\n",
    "# Define top 10% of customers as high-value\n",
    "top_10_percent_threshold=cust_rev.quantile(0.90)\n",
    "high_value_customers_revenue=cust_rev[cust_rev>=top_10_percent_threshold].sum()\n",
    "total_revenue=final_df['revenue'].sum()\n",
    "percentage_from_top_10=(high_value_customers_revenue/total_revenue)*100\n",
    "print(f\"\\nThe top 10% of customers account for {percentage_from_top_10:.2f}% of total revenue.\")"
   ]
  },
  {
   "cell_type": "markdown",
   "id": "3f739cab",
   "metadata": {},
   "source": [
    "#### Top 10 Revenue Generating Cities"
   ]
  },
  {
   "cell_type": "code",
   "execution_count": 26,
   "id": "8352f7a1",
   "metadata": {},
   "outputs": [
    {
     "name": "stdout",
     "output_type": "stream",
     "text": [
      "\n",
      "--- Top 10 Revenue Generating Cities ---\n",
      "customer_city\n",
      "rio de janeiro    3.176592e+08\n",
      "sao paulo         1.952178e+08\n",
      "belo horizonte    1.116138e+08\n",
      "niteroi           8.519020e+07\n",
      "curitiba          3.995127e+07\n",
      "santos            3.725876e+07\n",
      "porto alegre      3.565464e+07\n",
      "salvador          3.203366e+07\n",
      "uberlandia        3.033953e+07\n",
      "campinas          2.570801e+07\n",
      "Name: revenue, dtype: float64\n"
     ]
    }
   ],
   "source": [
    "city_revenue=final_df.groupby('customer_city')['revenue'].sum().sort_values(ascending=False).head(10)\n",
    "print(\"\\n--- Top 10 Revenue Generating Cities ---\")\n",
    "print(city_revenue)"
   ]
  },
  {
   "cell_type": "markdown",
   "id": "e58cfced",
   "metadata": {},
   "source": [
    "### Customer Behavior & Segmentation"
   ]
  },
  {
   "cell_type": "markdown",
   "id": "82b12cb6",
   "metadata": {},
   "source": [
    "#### New vs. Returning Customers"
   ]
  },
  {
   "cell_type": "code",
   "execution_count": 27,
   "id": "982132e4",
   "metadata": {},
   "outputs": [
    {
     "name": "stdout",
     "output_type": "stream",
     "text": [
      "\n",
      "--- Spending Habits: New vs. Returning Customers ---\n",
      "                    mean     count\n",
      "is_returning                      \n",
      "False         145.909045     91217\n",
      "True          140.218726  17220590\n"
     ]
    }
   ],
   "source": [
    "final_df['is_returning'] = final_df.duplicated(subset=['customer_unique_id'], keep='first')\n",
    "customer_type_analysis = final_df.groupby('is_returning')['revenue'].agg(['mean', 'count'])\n",
    "print(\"\\n--- Spending Habits: New vs. Returning Customers ---\")\n",
    "print(customer_type_analysis)"
   ]
  },
  {
   "cell_type": "markdown",
   "id": "7b367fef",
   "metadata": {},
   "source": [
    "#### First Purchase Analysis"
   ]
  },
  {
   "cell_type": "code",
   "execution_count": 28,
   "id": "2b70b248",
   "metadata": {},
   "outputs": [
    {
     "name": "stdout",
     "output_type": "stream",
     "text": [
      "\n",
      "--- Top 5 Gateway Categories for First-Time Customers ---\n",
      "product_category_name_english\n",
      "bed_bath_table           8633\n",
      "health_beauty            8294\n",
      "sports_leisure           7134\n",
      "computers_accessories    6254\n",
      "furniture_decor          5853\n",
      "Name: count, dtype: int64\n"
     ]
    }
   ],
   "source": [
    "first_purchase_df = final_df.drop_duplicates(subset=['customer_unique_id'], keep='first')\n",
    "gateway_categories = first_purchase_df['product_category_name_english'].value_counts().head(5)\n",
    "print(\"\\n--- Top 5 Gateway Categories for First-Time Customers ---\")\n",
    "print(gateway_categories)"
   ]
  },
  {
   "cell_type": "markdown",
   "id": "76bdcf39",
   "metadata": {},
   "source": [
    "#### Top 10 Zip Code Prefixes by Customer Count"
   ]
  },
  {
   "cell_type": "code",
   "execution_count": 29,
   "id": "02885633",
   "metadata": {},
   "outputs": [
    {
     "name": "stdout",
     "output_type": "stream",
     "text": [
      "\n",
      "--- Top 10 Zip Code Prefixes by Customer Count ---\n",
      "customer_zip_code_prefix\n",
      "24220    171900\n",
      "24230    152076\n",
      "22790     98928\n",
      "38400     95535\n",
      "35500     87979\n",
      "35162     87699\n",
      "22631     82368\n",
      "11740     78800\n",
      "11680     71199\n",
      "29101     70041\n",
      "Name: count, dtype: int64\n"
     ]
    }
   ],
   "source": [
    "customer_density = final_df['customer_zip_code_prefix'].value_counts().head(10)\n",
    "print(\"\\n--- Top 10 Zip Code Prefixes by Customer Count ---\")\n",
    "print(customer_density)"
   ]
  },
  {
   "cell_type": "markdown",
   "id": "9617afd5",
   "metadata": {},
   "source": [
    "#### Customer Frequency Segmentation "
   ]
  },
  {
   "cell_type": "code",
   "execution_count": 30,
   "id": "72282334",
   "metadata": {},
   "outputs": [
    {
     "name": "stdout",
     "output_type": "stream",
     "text": [
      "\n",
      "--- Customer Segmentation by Order Frequency ---\n",
      "order_id\n",
      "One-Time Buyer      88520\n",
      "Occasional Buyer     2680\n",
      "Frequent Buyer         17\n",
      "Name: count, dtype: int64\n"
     ]
    }
   ],
   "source": [
    "order_counts = final_df.groupby('customer_unique_id')['order_id'].nunique()\n",
    "def segment_frequency(count):\n",
    "    if count == 1: return \"One-Time Buyer\"\n",
    "    if 2 <= count <= 4: return \"Occasional Buyer\"\n",
    "    return \"Frequent Buyer\"\n",
    "frequency_segments = order_counts.apply(segment_frequency).value_counts()\n",
    "print(\"\\n--- Customer Segmentation by Order Frequency ---\")\n",
    "print(frequency_segments)"
   ]
  },
  {
   "cell_type": "markdown",
   "id": "630e2a2a",
   "metadata": {},
   "source": [
    "### Advanced Logistics & Seller Insights"
   ]
  },
  {
   "cell_type": "markdown",
   "id": "f0b0f084",
   "metadata": {},
   "source": [
    "#### Holiday Season Performance Analysis"
   ]
  },
  {
   "cell_type": "code",
   "execution_count": 31,
   "id": "c22fcae7",
   "metadata": {},
   "outputs": [
    {
     "name": "stdout",
     "output_type": "stream",
     "text": [
      "\n",
      "--- Performance Comparison: Holiday vs. Non-Holiday Season ---\n",
      "                   proc_time  ship_time   is_late\n",
      "is_holiday_season                                \n",
      "False               2.247185   8.173763  0.067501\n",
      "True                3.086909  10.308129  0.114182\n"
     ]
    }
   ],
   "source": [
    "final_df['is_holiday_season']=final_df['order_purchase_timestamp'].dt.month.isin([11, 12])\n",
    "holiday_performance=final_df.groupby('is_holiday_season')[['proc_time','ship_time','is_late']].mean()\n",
    "print(\"\\n--- Performance Comparison: Holiday vs. Non-Holiday Season ---\")\n",
    "print(holiday_performance)"
   ]
  },
  {
   "cell_type": "markdown",
   "id": "76c4acb9",
   "metadata": {},
   "source": [
    "#### Seller Growth Analysis"
   ]
  },
  {
   "cell_type": "code",
   "execution_count": 32,
   "id": "9aeb70e4",
   "metadata": {},
   "outputs": [
    {
     "name": "stdout",
     "output_type": "stream",
     "text": [
      "\n",
      "--- Top 5 Fastest Growing Sellers ---\n",
      "seller_id\n",
      "6560211a19b47992c3666cc44a7e94c0    178.000000\n",
      "1025f0e2d44d7041d6cf58b6550e0bfa     99.000000\n",
      "4869f7a5dfa277a7dca6462dcf3b52b2     76.666667\n",
      "955fee9216a65b617aa5c0531780ce60     73.000000\n",
      "06a2c3af7b3aee5d69171b0e14f0ee87     73.000000\n",
      "dtype: float64\n"
     ]
    }
   ],
   "source": [
    "seller_monthly_orders=final_df.groupby(['seller_id','purchase_month'])['order_id'].nunique().unstack(fill_value=0)\n",
    "# Calculate a simple growth metric (last 3 months vs. first 3 months)\n",
    "num_months=seller_monthly_orders.shape[1]\n",
    "if num_months > 6:\n",
    "    seller_growth=seller_monthly_orders.iloc[:,-3:].mean(axis=1)-seller_monthly_orders.iloc[:, :3].mean(axis=1)\n",
    "    print(\"\\n--- Top 5 Fastest Growing Sellers ---\")\n",
    "    print(seller_growth.sort_values(ascending=False).head())"
   ]
  },
  {
   "cell_type": "markdown",
   "id": "a6cccc5e",
   "metadata": {},
   "source": [
    "#### Seller Portfolio Analysis"
   ]
  },
  {
   "cell_type": "code",
   "execution_count": 33,
   "id": "2875a308",
   "metadata": {},
   "outputs": [
    {
     "name": "stdout",
     "output_type": "stream",
     "text": [
      "\n",
      "--- Example Seller Portfolios (Order Count by Category Type) ---\n",
      "abc_category                          A     B  C\n",
      "seller_id                                       \n",
      "0015a82c2db000af6aaaf3ae2ecb0532      0   844  0\n",
      "001cca7ae9ae17fb1caed9dfb1094831  31184  4992  0\n",
      "002100f778ceb8431b7a1020ff7ab48f   8180     0  0\n",
      "004c9cd9d87a3c30c522c48c4fc07416  25416     0  0\n",
      "00720abe85ba0859807595bbf045a33b   3365     0  0\n"
     ]
    }
   ],
   "source": [
    "# Only keep necessary columns to reduce memory usage\n",
    "df_small = final_df[['seller_id', 'product_category_name_english']].copy()\n",
    "df_small = df_small.merge(catg_rev[['product_category_name_english', 'abc_category']], \n",
    "\t\t\t\t\t\t on='product_category_name_english', how='left')\n",
    "\n",
    "# Optionally, filter to sellers with at least 10 orders to reduce size\n",
    "seller_counts = df_small['seller_id'].value_counts()\n",
    "major_sellers = seller_counts[seller_counts > 10].index\n",
    "df_small = df_small[df_small['seller_id'].isin(major_sellers)]\n",
    "\n",
    "seller_portfolio = pd.crosstab(df_small['seller_id'], df_small['abc_category'])\n",
    "\n",
    "print(\"\\n--- Example Seller Portfolios (Order Count by Category Type) ---\")\n",
    "print(seller_portfolio.head())"
   ]
  },
  {
   "cell_type": "markdown",
   "id": "5afb7049",
   "metadata": {},
   "source": [
    "#### Delivery Window Analysis"
   ]
  },
  {
   "cell_type": "code",
   "execution_count": 34,
   "id": "99d5a3b5",
   "metadata": {},
   "outputs": [
    {
     "name": "stdout",
     "output_type": "stream",
     "text": [
      "\n",
      "--- Average Processing Time by Hour of Purchase ---\n"
     ]
    },
    {
     "data": {
      "text/plain": [
       "<Axes: title={'center': 'Processing Time by Purchase Hour'}, xlabel='purchase_hour'>"
      ]
     },
     "execution_count": 34,
     "metadata": {},
     "output_type": "execute_result"
    },
    {
     "data": {
      "image/png": "[encoded data removed]",
      "text/plain": [
       "<Figure size 640x480 with 1 Axes>"
      ]
     },
     "metadata": {},
     "output_type": "display_data"
    }
   ],
   "source": [
    "final_df['purchase_hour']=final_df['order_purchase_timestamp'].dt.hour\n",
    "hourly_processing=final_df.groupby('purchase_hour')['proc_time'].mean()\n",
    "print(\"\\n--- Average Processing Time by Hour of Purchase ---\")\n",
    "hourly_processing.plot(kind='bar', title='Processing Time by Purchase Hour')"
   ]
  },
  {
   "cell_type": "markdown",
   "id": "146297bf",
   "metadata": {},
   "source": [
    "#### Early Arrival Analysis"
   ]
  },
  {
   "cell_type": "code",
   "execution_count": 35,
   "id": "5cbdd923",
   "metadata": {},
   "outputs": [
    {
     "name": "stdout",
     "output_type": "stream",
     "text": [
      "\n",
      "--- Top 5 Routes with Very Early Arrivals ---\n",
      "shipping_route\n",
      "SP -> SP    3065092\n",
      "SP -> MG    1669161\n",
      "SP -> RJ    1539446\n",
      "SP -> RS     498471\n",
      "PR -> SP     401548\n",
      "Name: count, dtype: int64\n"
     ]
    }
   ],
   "source": [
    "final_df['delivery_delta']=(final_df['order_estimated_delivery_date']-final_df['order_delivered_customer_date']).dt.days\n",
    "\n",
    "very_early_orders=final_df[final_df['delivery_delta']>7]\n",
    "early_arrival_routes=very_early_orders['shipping_route'].value_counts().head(5)\n",
    "print(\"\\n--- Top 5 Routes with Very Early Arrivals ---\")\n",
    "print(early_arrival_routes)"
   ]
  },
  {
   "cell_type": "markdown",
   "id": "9cf2a7f5",
   "metadata": {},
   "source": [
    "### Review & Satisfaction Insights"
   ]
  },
  {
   "cell_type": "markdown",
   "id": "21e82b5a",
   "metadata": {},
   "source": [
    "#### Seller Speed vs. Review Score"
   ]
  },
  {
   "cell_type": "code",
   "execution_count": 36,
   "id": "29adb378",
   "metadata": {},
   "outputs": [
    {
     "name": "stdout",
     "output_type": "stream",
     "text": [
      "\n",
      "--- Correlation between Seller Processing Time and Review Score ---\n",
      "                     avg_processing_time  avg_review_score\n",
      "avg_processing_time             1.000000         -0.306424\n",
      "avg_review_score               -0.306424          1.000000\n"
     ]
    }
   ],
   "source": [
    "if 'review_score' in final_df.columns:\n",
    "    seller_reviews = final_df.groupby('seller_id').agg(\n",
    "        avg_processing_time=('proc_time', 'mean'),\n",
    "        avg_review_score=('review_score', 'mean')\n",
    "    ).dropna()\n",
    "    print(\"\\n--- Correlation between Seller Processing Time and Review Score ---\")\n",
    "    print(seller_reviews[['avg_processing_time', 'avg_review_score']].corr())"
   ]
  },
  {
   "cell_type": "markdown",
   "id": "a0a6e430",
   "metadata": {},
   "source": [
    "#### Category vs. Review Score"
   ]
  },
  {
   "cell_type": "code",
   "execution_count": 37,
   "id": "f28e0315",
   "metadata": {},
   "outputs": [
    {
     "name": "stdout",
     "output_type": "stream",
     "text": [
      "\n",
      "--- Top 5 Lowest-Rated Product Categories ---\n",
      "product_category_name_english\n",
      "diapers_and_hygiene    2.976462\n",
      "home_comfort_2         3.529858\n",
      "office_furniture       3.576735\n",
      "party_supplies         3.654703\n",
      "fixed_telephony        3.705677\n",
      "Name: review_score, dtype: float64\n"
     ]
    }
   ],
   "source": [
    "if 'review_score' in final_df.columns:\n",
    "    category_reviews = final_df.groupby('product_category_name_english')['review_score'].mean().sort_values()\n",
    "    print(\"\\n--- Top 5 Lowest-Rated Product Categories ---\")\n",
    "    print(category_reviews.head())"
   ]
  },
  {
   "cell_type": "markdown",
   "id": "bbe1d37c",
   "metadata": {},
   "source": [
    "### Advanced Financial & Inventory Insights"
   ]
  },
  {
   "cell_type": "markdown",
   "id": "0507b0c8",
   "metadata": {},
   "source": [
    "#### Price Volatility Analysis"
   ]
  },
  {
   "cell_type": "code",
   "execution_count": 38,
   "id": "1eba488c",
   "metadata": {},
   "outputs": [
    {
     "name": "stdout",
     "output_type": "stream",
     "text": [
      "--- Top 5 Products with Highest Price Volatility ---\n",
      "                             product_id         std  count\n",
      "17084  8b502ca34e28d30605bc667b965b6abf  404.357107    481\n",
      "31107  fd8a5b9a8a79d7ba0739d69be5dc5aa1  340.318135    223\n",
      "20500  a7c87b1bbdd51e0d68b0307cffd03d47  304.646459    493\n",
      "22803  ba16581014183c8415da15145f3d4c24  241.281451    216\n",
      "12949  68f3adaef1620e7b0c4c7cd9f78d7ed0  239.651870    297\n"
     ]
    }
   ],
   "source": [
    "price_volatility = final_df.groupby('product_id')['price'].agg(['std', 'count']).reset_index()\n",
    "volatile_products = price_volatility[price_volatility['count'] > 5].sort_values(by='std', ascending=False)\n",
    "print(\"--- Top 5 Products with Highest Price Volatility ---\")\n",
    "print(volatile_products.head())"
   ]
  },
  {
   "cell_type": "markdown",
   "id": "e6348f55",
   "metadata": {},
   "source": [
    "#### Revenue per Wt/Volm"
   ]
  },
  {
   "cell_type": "code",
   "execution_count": 39,
   "id": "bccb3087",
   "metadata": {},
   "outputs": [
    {
     "name": "stdout",
     "output_type": "stream",
     "text": [
      "\n",
      "--- Top 5 Most Logistically Efficient Categories by Revenue/Gram ---\n",
      "product_category_name_english\n",
      "bed_bath_table                    inf\n",
      "fashion_bags_accessories     0.590904\n",
      "construction_tools_safety    0.581302\n",
      "watches_gifts                0.547748\n",
      "consoles_games               0.473021\n",
      "Name: revenue_per_gram, dtype: float64\n"
     ]
    }
   ],
   "source": [
    "if 'product_weight_g' in final_df.columns:\n",
    "    final_df['revenue_per_gram'] = final_df['revenue'] / final_df['product_weight_g']\n",
    "    product_efficiency = final_df.groupby('product_category_name_english')['revenue_per_gram'].mean().sort_values(ascending=False)\n",
    "    print(\"\\n--- Top 5 Most Logistically Efficient Categories by Revenue/Gram ---\")\n",
    "    print(product_efficiency.head())"
   ]
  },
  {
   "cell_type": "markdown",
   "id": "fe9af685",
   "metadata": {},
   "source": [
    "#### Hero Product"
   ]
  },
  {
   "cell_type": "code",
   "execution_count": 40,
   "id": "956777ae",
   "metadata": {},
   "outputs": [
    {
     "name": "stdout",
     "output_type": "stream",
     "text": [
      "\n",
      "--- The #1 Bestselling Product ID is: ---\n",
      "product_id\n",
      "aca2eb7d00ea1a7b8ebd4e68314663af    84549\n",
      "Name: count, dtype: int64\n"
     ]
    }
   ],
   "source": [
    "hero_product = final_df['product_id'].value_counts().head(1)\n",
    "print(f\"\\n--- The #1 Bestselling Product ID is: ---\\n{hero_product}\")"
   ]
  },
  {
   "cell_type": "markdown",
   "id": "4b7b48d3",
   "metadata": {},
   "source": [
    "#### Simple Demand Forecasting (Moving Average)"
   ]
  },
  {
   "cell_type": "code",
   "execution_count": 41,
   "id": "165098b3",
   "metadata": {},
   "outputs": [
    {
     "name": "stdout",
     "output_type": "stream",
     "text": [
      "\n",
      "--- Monthly Revenue with 3-Month Moving Average ---\n",
      "                     revenue  moving_avg_3m\n",
      "purchase_month                             \n",
      "2018-04         1.790427e+08   1.687048e+08\n",
      "2018-05         1.752546e+08   1.753924e+08\n",
      "2018-06         1.629413e+08   1.724129e+08\n",
      "2018-07         1.559814e+08   1.647258e+08\n",
      "2018-08         1.543858e+08   1.577695e+08\n"
     ]
    }
   ],
   "source": [
    "monthly_revenue = final_df.groupby('purchase_month')['revenue'].sum()\n",
    "monthly_revenue_df = monthly_revenue.to_frame()\n",
    "monthly_revenue_df['moving_avg_3m'] = monthly_revenue_df['revenue'].rolling(window=3).mean()\n",
    "print(\"\\n--- Monthly Revenue with 3-Month Moving Average ---\")\n",
    "print(monthly_revenue_df.tail())"
   ]
  },
  {
   "cell_type": "markdown",
   "id": "321021e5",
   "metadata": {},
   "source": [
    "#### Margin Proxy Analysis"
   ]
  },
  {
   "cell_type": "code",
   "execution_count": 42,
   "id": "be9e7b07",
   "metadata": {},
   "outputs": [
    {
     "name": "stdout",
     "output_type": "stream",
     "text": [
      "\n",
      "--- Top 5 Categories with the Best Profit Margin Proxy ---\n",
      "product_category_name_english\n",
      "computers                    0.054923\n",
      "security_and_services        0.141348\n",
      "fashion_childrens_clothes    0.143693\n",
      "watches_gifts                0.166789\n",
      "home_appliances_2            0.181990\n",
      "Name: freight_ratio, dtype: float64\n"
     ]
    }
   ],
   "source": [
    "final_df['freight_ratio'] = final_df['freight_value'] / final_df['price']\n",
    "margin_analysis = final_df.groupby('product_category_name_english')['freight_ratio'].mean().sort_values()\n",
    "print(\"\\n--- Top 5 Categories with the Best Profit Margin Proxy ---\")\n",
    "print(margin_analysis.head())"
   ]
  },
  {
   "cell_type": "markdown",
   "id": "363951bc",
   "metadata": {},
   "source": [
    "### Advanced Logistics & Operations Insights"
   ]
  },
  {
   "cell_type": "markdown",
   "id": "d83345be",
   "metadata": {},
   "source": [
    "#### Stuck in Transit"
   ]
  },
  {
   "cell_type": "code",
   "execution_count": 43,
   "id": "8964ccb3",
   "metadata": {},
   "outputs": [
    {
     "name": "stdout",
     "output_type": "stream",
     "text": [
      "\n",
      "Found 825370 orders with abnormally long shipping times (>22 days).\n",
      "\n",
      "--- Top States for Stuck Orders ---\n",
      "customer_state\n",
      "RJ    341399\n",
      "MG     69564\n",
      "SP     69073\n",
      "RS     63226\n",
      "BA     61394\n",
      "Name: count, dtype: int64\n"
     ]
    }
   ],
   "source": [
    "stuck_threshold=final_df['ship_time'].quantile(0.95) \n",
    "stuck_orders=final_df[final_df['ship_time'] > stuck_threshold]\n",
    "print(f\"\\nFound {len(stuck_orders)} orders with abnormally long shipping times (>{stuck_threshold:.0f} days).\")\n",
    "print(\"\\n--- Top States for Stuck Orders ---\")\n",
    "print(stuck_orders['customer_state'].value_counts().head())"
   ]
  },
  {
   "cell_type": "markdown",
   "id": "df6e3f40",
   "metadata": {},
   "source": [
    "#### Top 1% Slowest Deliveries"
   ]
  },
  {
   "cell_type": "code",
   "execution_count": 44,
   "id": "b2ddb699",
   "metadata": {},
   "outputs": [],
   "source": [
    "final_df['delivery_time_days']=(final_df['order_delivered_customer_date']-final_df['order_purchase_timestamp']).dt.days"
   ]
  },
  {
   "cell_type": "code",
   "execution_count": 45,
   "id": "47dc4afd",
   "metadata": {},
   "outputs": [
    {
     "name": "stdout",
     "output_type": "stream",
     "text": [
      "\n",
      "--- Most Common Categories in the Top 1% Slowest Deliveries ---\n",
      "product_category_name_english\n",
      "bed_bath_table           19974\n",
      "furniture_decor          12679\n",
      "health_beauty            11252\n",
      "sports_leisure           10971\n",
      "computers_accessories    10474\n",
      "Name: count, dtype: int64\n"
     ]
    }
   ],
   "source": [
    "# --- Outlier Deliveries ---\n",
    "slowest_1_percent_threshold = final_df['delivery_time_days'].quantile(0.99)\n",
    "slowest_orders = final_df[final_df['delivery_time_days'] > slowest_1_percent_threshold]\n",
    "print(\"\\n--- Most Common Categories in the Top 1% Slowest Deliveries ---\")\n",
    "print(slowest_orders['product_category_name_english'].value_counts().head())"
   ]
  },
  {
   "cell_type": "markdown",
   "id": "e0144496",
   "metadata": {},
   "source": [
    "#### Seller Hub Performance"
   ]
  },
  {
   "cell_type": "code",
   "execution_count": 46,
   "id": "818a9821",
   "metadata": {},
   "outputs": [
    {
     "name": "stdout",
     "output_type": "stream",
     "text": [
      "\n",
      "--- Top 5 High-Performing Seller Hubs ---\n",
      "                       total_orders  avg_processing_time\n",
      "seller_city                                             \n",
      "lages                           118             0.392233\n",
      "navegantes                      127             0.597496\n",
      "cajamar                         196             0.667906\n",
      "santa barbara d'oeste           271             0.749446\n",
      "sao ludgero                     112             0.760640\n"
     ]
    }
   ],
   "source": [
    "seller_hubs = final_df.groupby('seller_city').agg(\n",
    "    total_orders=('order_id', 'nunique'),\n",
    "    avg_processing_time=('proc_time', 'mean')\n",
    ")\n",
    "high_performing_hubs = seller_hubs[seller_hubs['total_orders'] > 100].sort_values(by='avg_processing_time')\n",
    "print(\"\\n--- Top 5 High-Performing Seller Hubs ---\")\n",
    "print(high_performing_hubs.head())"
   ]
  },
  {
   "cell_type": "markdown",
   "id": "f63c8dd2",
   "metadata": {},
   "source": [
    "#### Last-Mile Delivery Hotspots"
   ]
  },
  {
   "cell_type": "code",
   "execution_count": 47,
   "id": "d52f7d2e",
   "metadata": {},
   "outputs": [
    {
     "name": "stdout",
     "output_type": "stream",
     "text": [
      "\n",
      "--- Top 10 Zip Codes for Late Deliveries ---\n",
      "customer_zip_code_prefix\n",
      "24220    21774\n",
      "22793    21574\n",
      "24230    13224\n",
      "22790    11679\n",
      "22631    10816\n",
      "28300     9312\n",
      "29101     8834\n",
      "22775     8602\n",
      "37200     7656\n",
      "20540     7566\n",
      "Name: count, dtype: int64\n"
     ]
    }
   ],
   "source": [
    "late_orders_df = final_df[final_df['is_late'] == 1]\n",
    "last_mile_hotspots = late_orders_df['customer_zip_code_prefix'].value_counts().head(10)\n",
    "print(\"\\n--- Top 10 Zip Codes for Late Deliveries ---\")\n",
    "print(last_mile_hotspots)"
   ]
  },
  {
   "cell_type": "markdown",
   "id": "da5bde4f",
   "metadata": {},
   "source": [
    "### Advanced Customer & Seller Insights"
   ]
  },
  {
   "cell_type": "markdown",
   "id": "34d840bc",
   "metadata": {},
   "source": [
    "#### Customer Lifetime Value (CLV) Proxy"
   ]
  },
  {
   "cell_type": "code",
   "execution_count": 48,
   "id": "fe4031d8",
   "metadata": {},
   "outputs": [
    {
     "name": "stdout",
     "output_type": "stream",
     "text": [
      "\n",
      "--- Top 5 Customers by Lifetime Value ---\n",
      "customer_unique_id\n",
      "fd7069cf6891edbf32ba84c9c3f083d4    7462522.80\n",
      "da122df9eeddfedc1dc1f5349a1a690c    5625721.09\n",
      "eb53ee675b0c79d66e25fce46957e1fe    3372700.92\n",
      "85963fd37bfd387aa6d915d8a1065486    2669979.84\n",
      "763c8b1c9c68a0229c42c9fc6f662b93    2597132.16\n",
      "Name: revenue, dtype: float64\n"
     ]
    }
   ],
   "source": [
    "clv = final_df.groupby('customer_unique_id')['revenue'].sum().sort_values(ascending=False)\n",
    "print(\"\\n--- Top 5 Customers by Lifetime Value ---\")\n",
    "print(clv.head())"
   ]
  },
  {
   "cell_type": "markdown",
   "id": "24a6fcbc",
   "metadata": {},
   "source": [
    "#### One-Time Buyer Analysis"
   ]
  },
  {
   "cell_type": "code",
   "execution_count": 49,
   "id": "c151c10f",
   "metadata": {},
   "outputs": [
    {
     "name": "stdout",
     "output_type": "stream",
     "text": [
      "\n",
      "--- Top 5 Categories Purchased by One-Time Buyers ---\n",
      "product_category_name_english\n",
      "health_beauty     16\n",
      "sports_leisure    14\n",
      "watches_gifts     14\n",
      "telephony         12\n",
      "bed_bath_table    10\n",
      "Name: count, dtype: int64\n"
     ]
    }
   ],
   "source": [
    "order_counts = final_df['customer_unique_id'].value_counts()\n",
    "one_time_buyers = order_counts[order_counts == 1].index\n",
    "one_time_buyer_df = final_df[final_df['customer_unique_id'].isin(one_time_buyers)]\n",
    "print(\"\\n--- Top 5 Categories Purchased by One-Time Buyers ---\")\n",
    "print(one_time_buyer_df['product_category_name_english'].value_counts().head())"
   ]
  },
  {
   "cell_type": "markdown",
   "id": "145f1657",
   "metadata": {},
   "source": [
    "#### Seller Sales Concentration (Pareto Principle)"
   ]
  },
  {
   "cell_type": "code",
   "execution_count": 50,
   "id": "d845fb20",
   "metadata": {},
   "outputs": [
    {
     "name": "stdout",
     "output_type": "stream",
     "text": [
      "\n",
      "The top 10% of sellers account for 66.64% of total revenue.\n"
     ]
    }
   ],
   "source": [
    "seller_revenue = final_df.groupby('seller_id')['revenue'].sum().sort_values(ascending=False)\n",
    "top_10_percent_sellers_revenue = seller_revenue.head(int(len(seller_revenue) * 0.1)).sum()\n",
    "total_seller_revenue = seller_revenue.sum()\n",
    "percentage_from_top_10_sellers = (top_10_percent_sellers_revenue / total_seller_revenue) * 100\n",
    "print(f\"\\nThe top 10% of sellers account for {percentage_from_top_10_sellers:.2f}% of total revenue.\")"
   ]
  },
  {
   "cell_type": "markdown",
   "id": "93c25d8d",
   "metadata": {},
   "source": [
    "#### Seller Churn Risk (Proxy)"
   ]
  },
  {
   "cell_type": "code",
   "execution_count": 51,
   "id": "095935b0",
   "metadata": {},
   "outputs": [
    {
     "name": "stdout",
     "output_type": "stream",
     "text": [
      "\n",
      "Found 764 sellers with no sales in the last 6 months (potential churn).\n"
     ]
    }
   ],
   "source": [
    "seller_last_sale = final_df.groupby('seller_id')['order_purchase_timestamp'].max()\n",
    "six_months_ago = final_df['order_purchase_timestamp'].max() - pd.DateOffset(months=6)\n",
    "churned_sellers = seller_last_sale[seller_last_sale < six_months_ago]\n",
    "print(f\"\\nFound {len(churned_sellers)} sellers with no sales in the last 6 months (potential churn).\")"
   ]
  },
  {
   "cell_type": "markdown",
   "id": "75e2455f",
   "metadata": {},
   "source": [
    "#### Single-Category vs. Multi-Category Sellers"
   ]
  },
  {
   "cell_type": "code",
   "execution_count": 52,
   "id": "2bbe2d16",
   "metadata": {},
   "outputs": [
    {
     "name": "stdout",
     "output_type": "stream",
     "text": [
      "\n",
      "--- Performance: Specialist vs. Generalist Sellers ---\n",
      "             avg_processing_time  avg_revenue_per_order\n",
      "seller_type                                            \n",
      "Generalist              2.316214             132.561398\n",
      "Specialist              2.535300             170.481748\n"
     ]
    }
   ],
   "source": [
    "seller_category_count = final_df.groupby('seller_id')['product_category_name_english'].nunique()\n",
    "final_df['seller_type'] = final_df['seller_id'].map(lambda x: 'Specialist' if seller_category_count[x] == 1 else 'Generalist')\n",
    "seller_type_performance = final_df.groupby('seller_type').agg(\n",
    "    avg_processing_time=('proc_time','mean'),\n",
    "    avg_revenue_per_order=('revenue','mean')\n",
    ")\n",
    "print(\"\\n--- Performance: Specialist vs. Generalist Sellers ---\")\n",
    "print(seller_type_performance)"
   ]
  },
  {
   "cell_type": "markdown",
   "id": "a1ff42c9",
   "metadata": {},
   "source": [
    "#### High-Value vs. High-Frequency"
   ]
  },
  {
   "cell_type": "code",
   "execution_count": 53,
   "id": "f6a704fa",
   "metadata": {},
   "outputs": [
    {
     "name": "stdout",
     "output_type": "stream",
     "text": [
      "\n",
      "--- Correlation between Average Order Value and Frequency ---\n",
      "                 avg_order_value  frequency\n",
      "avg_order_value          1.00000   -0.01773\n",
      "frequency               -0.01773    1.00000\n"
     ]
    }
   ],
   "source": [
    "customer_summary = final_df.groupby('customer_unique_id').agg(\n",
    "    avg_order_value=('revenue', 'mean'),\n",
    "    frequency=('order_id', 'nunique')\n",
    ")\n",
    "print(\"\\n--- Correlation between Average Order Value and Frequency ---\")\n",
    "print(customer_summary[['avg_order_value', 'frequency']].corr())"
   ]
  },
  {
   "cell_type": "markdown",
   "id": "ba3d6f4f",
   "metadata": {},
   "source": [
    "### Advanced Customer & Market Dynamics"
   ]
  },
  {
   "cell_type": "markdown",
   "id": "a0261da0",
   "metadata": {},
   "source": [
    "#### Customer Cohort Analysis (by Acquisition Month)"
   ]
  },
  {
   "cell_type": "code",
   "execution_count": 54,
   "id": "c9b838fb",
   "metadata": {},
   "outputs": [
    {
     "name": "stdout",
     "output_type": "stream",
     "text": [
      "--- Total Revenue by Customer Acquisition Cohort ---\n",
      "acquisition_month\n",
      "2018-04    1.757871e+08\n",
      "2018-05    1.713176e+08\n",
      "2018-06    1.585174e+08\n",
      "2018-07    1.529322e+08\n",
      "2018-08    1.512264e+08\n",
      "Freq: M, Name: revenue, dtype: float64\n"
     ]
    }
   ],
   "source": [
    "final_df['acquisition_month'] = final_df.groupby('customer_unique_id')['order_purchase_timestamp'].transform('min').dt.to_period('M')\n",
    "cohort_revenue = final_df.groupby('acquisition_month')['revenue'].sum()\n",
    "print(\"--- Total Revenue by Customer Acquisition Cohort ---\")\n",
    "print(cohort_revenue.tail())"
   ]
  },
  {
   "cell_type": "markdown",
   "id": "5dbf0369",
   "metadata": {},
   "source": [
    "#### Geographic Taste Profile"
   ]
  },
  {
   "cell_type": "code",
   "execution_count": 55,
   "id": "e3fa8d8f",
   "metadata": {},
   "outputs": [
    {
     "name": "stdout",
     "output_type": "stream",
     "text": [
      "\n",
      "--- Top Product Category by State ---\n",
      "    customer_state product_category_name_english  count\n",
      "12              AC               furniture_decor   1172\n",
      "64              AL                sports_leisure   4325\n",
      "100             AM                sports_leisure    695\n",
      "111             AP         computers_accessories    781\n",
      "164             BA                 health_beauty  44424\n",
      "218             CE                 health_beauty   7803\n",
      "274             DF                 health_beauty  10921\n",
      "305             ES                bed_bath_table  39073\n",
      "363             GO                bed_bath_table  18838\n",
      "430             MA         computers_accessories   5502\n"
     ]
    }
   ],
   "source": [
    "state_taste = final_df.groupby(['customer_state', 'product_category_name_english']).size().reset_index(name='count')\n",
    "top_category_per_state = state_taste.loc[state_taste.groupby('customer_state')['count'].idxmax()]\n",
    "print(\"\\n--- Top Product Category by State ---\")\n",
    "print(top_category_per_state.head(10))"
   ]
  },
  {
   "cell_type": "markdown",
   "id": "39d28c04",
   "metadata": {},
   "source": [
    "#### High-Value Customer Profile"
   ]
  },
  {
   "cell_type": "code",
   "execution_count": 56,
   "id": "7a46f387",
   "metadata": {},
   "outputs": [
    {
     "name": "stdout",
     "output_type": "stream",
     "text": [
      "\n",
      "--- Most Purchased Categories by Top 5% of Customers ---\n",
      "product_category_name_english\n",
      "bed_bath_table           359307\n",
      "furniture_decor          292796\n",
      "computers_accessories    243791\n",
      "sports_leisure           228456\n",
      "health_beauty            212621\n",
      "Name: count, dtype: int64\n"
     ]
    }
   ],
   "source": [
    "customer_value = final_df.groupby('customer_unique_id')['revenue'].sum()\n",
    "top_5_percent_threshold = customer_value.quantile(0.95)\n",
    "top_customers = customer_value[customer_value >= top_5_percent_threshold].index\n",
    "top_customer_df = final_df[final_df['customer_unique_id'].isin(top_customers)]\n",
    "print(\"\\n--- Most Purchased Categories by Top 5% of Customers ---\")\n",
    "print(top_customer_df['product_category_name_english'].value_counts().head())"
   ]
  },
  {
   "cell_type": "markdown",
   "id": "a3173fb6",
   "metadata": {},
   "source": [
    "#### Order Hour vs. Order Value"
   ]
  },
  {
   "cell_type": "code",
   "execution_count": 57,
   "id": "f68b2a4c",
   "metadata": {},
   "outputs": [
    {
     "name": "stdout",
     "output_type": "stream",
     "text": [
      "\n",
      "--- Average Order Value by Hour of the Day ---\n"
     ]
    },
    {
     "data": {
      "text/plain": [
       "<Axes: title={'center': 'AOV by Purchase Hour'}, xlabel='purchase_hour'>"
      ]
     },
     "execution_count": 57,
     "metadata": {},
     "output_type": "execute_result"
    },
    {
     "data": {
      "image/png": "[encoded data removed]",
      "text/plain": [
       "<Figure size 640x480 with 1 Axes>"
      ]
     },
     "metadata": {},
     "output_type": "display_data"
    }
   ],
   "source": [
    "final_df['purchase_hour'] = final_df['order_purchase_timestamp'].dt.hour\n",
    "hourly_aov = final_df.groupby('purchase_hour')['revenue'].mean()\n",
    "print(\"\\n--- Average Order Value by Hour of the Day ---\")\n",
    "hourly_aov.plot(kind='bar', title='AOV by Purchase Hour')"
   ]
  },
  {
   "cell_type": "markdown",
   "id": "75571915",
   "metadata": {},
   "source": [
    "#### Customer State Diversity "
   ]
  },
  {
   "cell_type": "code",
   "execution_count": 58,
   "id": "1c6bffe5",
   "metadata": {},
   "outputs": [
    {
     "name": "stdout",
     "output_type": "stream",
     "text": [
      "\n",
      "--- Top Customers by Number of States Ordered From ---\n",
      "customer_unique_id\n",
      "d44ccec15f5f86d14d6a2cfa67da1975    3\n",
      "62a25a159f9fd2ab7c882d9407f49aa9    2\n",
      "cdc8b0d152b868db7e28de59f642c94a    2\n",
      "925751a747a151a7fa97f2f686d028c3    2\n",
      "9202421110f6a19ddcf0b9b93602a0a1    2\n",
      "Name: customer_state, dtype: int64\n"
     ]
    }
   ],
   "source": [
    "state_diversity = final_df.groupby('customer_unique_id')['customer_state'].nunique().sort_values(ascending=False)\n",
    "print(\"\\n--- Top Customers by Number of States Ordered From ---\")\n",
    "print(state_diversity.head())"
   ]
  },
  {
   "cell_type": "markdown",
   "id": "7c44dcbb",
   "metadata": {},
   "source": [
    "#### First Impression Analysis"
   ]
  },
  {
   "cell_type": "code",
   "execution_count": 59,
   "id": "d7c28105",
   "metadata": {},
   "outputs": [
    {
     "name": "stdout",
     "output_type": "stream",
     "text": [
      "\n",
      "Percentage of customers whose first order was late: 8.01%\n"
     ]
    }
   ],
   "source": [
    "first_purchase_df = final_df.sort_values('order_purchase_timestamp').drop_duplicates('customer_unique_id', keep='first')\n",
    "first_order_late_rate = first_purchase_df['is_late'].mean() * 100\n",
    "print(f\"\\nPercentage of customers whose first order was late: {first_order_late_rate:.2f}%\")"
   ]
  },
  {
   "cell_type": "markdown",
   "id": "b558d5c1",
   "metadata": {},
   "source": [
    "#### Market Saturation Analysis (Proxy)"
   ]
  },
  {
   "cell_type": "code",
   "execution_count": 60,
   "id": "07908df8",
   "metadata": {},
   "outputs": [
    {
     "name": "stdout",
     "output_type": "stream",
     "text": [
      "\n",
      "--- New Customer Acquisition per Month ---\n"
     ]
    },
    {
     "data": {
      "text/plain": [
       "<Axes: title={'center': 'New Customers per Month'}, xlabel='acquisition_month'>"
      ]
     },
     "execution_count": 60,
     "metadata": {},
     "output_type": "execute_result"
    },
    {
     "data": {
      "image/png": "[encoded data removed]",
      "text/plain": [
       "<Figure size 640x480 with 1 Axes>"
      ]
     },
     "metadata": {},
     "output_type": "display_data"
    }
   ],
   "source": [
    "# --- New Customer Acquisition Trend ---\n",
    "final_df['acquisition_month'] = final_df.groupby('customer_unique_id')['order_purchase_timestamp'].transform('min').dt.to_period('M')\n",
    "new_customers_per_month = final_df.drop_duplicates('customer_unique_id', keep='first').groupby('acquisition_month').size()\n",
    "print(\"\\n--- New Customer Acquisition per Month ---\")\n",
    "new_customers_per_month.plot(kind='line', title='New Customers per Month')"
   ]
  },
  {
   "cell_type": "markdown",
   "id": "fc1236aa",
   "metadata": {},
   "source": [
    "### Deep-Dive Seller & Operations Analytics"
   ]
  },
  {
   "cell_type": "markdown",
   "id": "bde61002",
   "metadata": {},
   "source": [
    "####  Seller Dependency Score"
   ]
  },
  {
   "cell_type": "code",
   "execution_count": 61,
   "id": "c9b6b272",
   "metadata": {},
   "outputs": [
    {
     "name": "stdout",
     "output_type": "stream",
     "text": [
      "\n",
      "--- Top 5 Most Diverse Sellers ---\n",
      "seller_id\n",
      "b2ba3715d723d245138f291a6fe42594    27\n",
      "4e922959ae960d389249c378d1c939f5    23\n",
      "955fee9216a65b617aa5c0531780ce60    22\n",
      "1da3aeb70d7989d1e6d9b0e887f97c23    21\n",
      "f8db351d8c4c4c22c6835c19a46f01b0    19\n",
      "Name: diversity_score, dtype: int64\n"
     ]
    }
   ],
   "source": [
    "seller_dependency = final_df.groupby(['seller_id', 'product_category_name_english']).size().unstack(fill_value=0)\n",
    "seller_dependency['diversity_score'] = (seller_dependency > 0).sum(axis=1)\n",
    "print(\"\\n--- Top 5 Most Diverse Sellers ---\")\n",
    "print(seller_dependency.sort_values(by='diversity_score', ascending=False).head()['diversity_score'])"
   ]
  },
  {
   "cell_type": "markdown",
   "id": "ebafff23",
   "metadata": {},
   "source": [
    "#### New Seller \"Incubation Period\""
   ]
  },
  {
   "cell_type": "code",
   "execution_count": 62,
   "id": "c233f081",
   "metadata": {},
   "outputs": [
    {
     "name": "stdout",
     "output_type": "stream",
     "text": [
      "\n",
      "Average processing time for sellers in their first month: 2.92 days.\n"
     ]
    }
   ],
   "source": [
    "final_df['seller_first_sale'] = final_df.groupby('seller_id')['order_purchase_timestamp'].transform('min')\n",
    "first_month_sellers_df = final_df[final_df['order_purchase_timestamp'] < (final_df['seller_first_sale'] + pd.DateOffset(months=1))]\n",
    "new_seller_performance = first_month_sellers_df.groupby('seller_id')['proc_time'].mean()\n",
    "print(f\"\\nAverage processing time for sellers in their first month: {new_seller_performance.mean():.2f} days.\")"
   ]
  },
  {
   "cell_type": "markdown",
   "id": "7c3fdac0",
   "metadata": {},
   "source": [
    "#### Seller-to-Customer Distance Proxy"
   ]
  },
  {
   "cell_type": "code",
   "execution_count": 63,
   "id": "c63a8eca",
   "metadata": {},
   "outputs": [
    {
     "name": "stdout",
     "output_type": "stream",
     "text": [
      "\n",
      "--- Average Freight Cost: Intrastate vs. Interstate ---\n",
      "shipping_type\n",
      "Interstate    22.570793\n",
      "Intrastate    13.759854\n",
      "Name: freight_value, dtype: float64\n"
     ]
    }
   ],
   "source": [
    "final_df['shipping_type'] = np.where(final_df['seller_state'] == final_df['customer_state'], 'Intrastate', 'Interstate')\n",
    "distance_impact = final_df.groupby('shipping_type')['freight_value'].mean()\n",
    "print(\"\\n--- Average Freight Cost: Intrastate vs. Interstate ---\")\n",
    "print(distance_impact)"
   ]
  },
  {
   "cell_type": "markdown",
   "id": "d08b29cc",
   "metadata": {},
   "source": [
    "#### \"Black Swan\" Event Analysis"
   ]
  },
  {
   "cell_type": "code",
   "execution_count": 64,
   "id": "0a5f1b43",
   "metadata": {},
   "outputs": [
    {
     "name": "stdout",
     "output_type": "stream",
     "text": [
      "\n",
      "--- Days with Abnormally High Number of Late Deliveries ---\n",
      "order_delivered_customer_date\n",
      "2017-12-19    15536\n",
      "2017-12-28    16478\n",
      "2018-03-23    18256\n",
      "2018-03-29    17741\n",
      "2018-04-03    20408\n",
      "2018-04-04    15950\n",
      "2018-04-18    15848\n",
      "Name: is_late, dtype: int32\n"
     ]
    }
   ],
   "source": [
    "daily_late_deliveries = final_df.groupby(final_df['order_delivered_customer_date'].dt.date)['is_late'].sum()\n",
    "late_threshold = daily_late_deliveries.quantile(0.99)\n",
    "black_swan_days = daily_late_deliveries[daily_late_deliveries > late_threshold]\n",
    "print(f\"\\n--- Days with Abnormally High Number of Late Deliveries ---\")\n",
    "print(black_swan_days)"
   ]
  },
  {
   "cell_type": "markdown",
   "id": "23e4c93b",
   "metadata": {},
   "source": [
    "#### Logistics Chain Efficiency"
   ]
  },
  {
   "cell_type": "code",
   "execution_count": 65,
   "id": "b63956a7",
   "metadata": {},
   "outputs": [
    {
     "name": "stdout",
     "output_type": "stream",
     "text": [
      "\n",
      "21.81% of the total delivery lifecycle is spent on seller processing.\n"
     ]
    }
   ],
   "source": [
    "final_df['total_delivery_chain_time'] = final_df['proc_time'] + final_df['ship_time']\n",
    "total_processing = final_df['proc_time'].sum()\n",
    "total_shipping = final_df['ship_time'].sum()\n",
    "processing_percentage = (total_processing / (total_processing + total_shipping)) * 100\n",
    "print(f\"\\n{processing_percentage:.2f}% of the total delivery lifecycle is spent on seller processing.\")"
   ]
  },
  {
   "cell_type": "markdown",
   "id": "c2ce690a",
   "metadata": {},
   "source": [
    "#### Correlation of Seller Order Volume and Performance"
   ]
  },
  {
   "cell_type": "code",
   "execution_count": 66,
   "id": "b61c1f9d",
   "metadata": {},
   "outputs": [
    {
     "name": "stdout",
     "output_type": "stream",
     "text": [
      "\n",
      "--- Correlation between Seller Order Volume and Processing Time ---\n",
      "                     total_orders  avg_processing_time\n",
      "total_orders             1.000000            -0.029194\n",
      "avg_processing_time     -0.029194             1.000000\n"
     ]
    }
   ],
   "source": [
    "# --- Seller Volume vs. Performance ---\n",
    "seller_summary = final_df.groupby('seller_id').agg(\n",
    "    total_orders=('order_id', 'nunique'),\n",
    "    avg_processing_time=('proc_time', 'mean')\n",
    ")\n",
    "print(\"\\n--- Correlation between Seller Order Volume and Processing Time ---\")\n",
    "print(seller_summary[['total_orders', 'avg_processing_time']].corr())"
   ]
  },
  {
   "cell_type": "markdown",
   "id": "fae6d055",
   "metadata": {},
   "source": [
    "#### Order Combination Analysis"
   ]
  },
  {
   "cell_type": "code",
   "execution_count": 67,
   "id": "29978ed7",
   "metadata": {},
   "outputs": [
    {
     "name": "stdout",
     "output_type": "stream",
     "text": [
      "\n",
      "Average number of items per order: 183.75\n"
     ]
    }
   ],
   "source": [
    "# --- Items per Order ---\n",
    "items_per_order = final_df.groupby('order_id').size()\n",
    "print(f\"\\nAverage number of items per order: {items_per_order.mean():.2f}\")"
   ]
  },
  {
   "cell_type": "markdown",
   "id": "2b643308",
   "metadata": {},
   "source": [
    "### Strategic Financial & Product Insights"
   ]
  },
  {
   "cell_type": "markdown",
   "id": "529858b2",
   "metadata": {},
   "source": [
    "#### \"Return to Sender\" Risk (Proxy)"
   ]
  },
  {
   "cell_type": "code",
   "execution_count": 68,
   "id": "93156eb5",
   "metadata": {},
   "outputs": [
    {
     "name": "stdout",
     "output_type": "stream",
     "text": [
      "\n",
      "Found 337104 orders at high risk of being rejected due to long shipping times.\n"
     ]
    }
   ],
   "source": [
    "return_risk_threshold = final_df['ship_time'].quantile(0.98) \n",
    "return_risk_orders = final_df[final_df['ship_time'] > return_risk_threshold]\n",
    "print(f\"\\nFound {len(return_risk_orders)} orders at high risk of being rejected due to long shipping times.\")"
   ]
  },
  {
   "cell_type": "markdown",
   "id": "41c2ace4",
   "metadata": {},
   "source": [
    "#### Monthly Active Customers (MAC)"
   ]
  },
  {
   "cell_type": "code",
   "execution_count": 69,
   "id": "b6f95de5",
   "metadata": {},
   "outputs": [
    {
     "name": "stdout",
     "output_type": "stream",
     "text": [
      "\n",
      "--- Monthly Active Customers ---\n"
     ]
    },
    {
     "data": {
      "text/plain": [
       "<Axes: title={'center': 'Monthly Active Customers'}, xlabel='purchase_month'>"
      ]
     },
     "execution_count": 69,
     "metadata": {},
     "output_type": "execute_result"
    },
    {
     "data": {
      "image/png": "[encoded data removed]",
      "text/plain": [
       "<Figure size 640x480 with 1 Axes>"
      ]
     },
     "metadata": {},
     "output_type": "display_data"
    }
   ],
   "source": [
    "monthly_active_customers = final_df.groupby('purchase_month')['customer_unique_id'].nunique()\n",
    "print(\"\\n--- Monthly Active Customers ---\")\n",
    "monthly_active_customers.plot(kind='bar', title='Monthly Active Customers')"
   ]
  },
  {
   "cell_type": "markdown",
   "id": "55a366a2",
   "metadata": {},
   "source": [
    "#### Product \"Stickiness\" (Repurchase Rate)"
   ]
  },
  {
   "cell_type": "code",
   "execution_count": 70,
   "id": "0d100dbc",
   "metadata": {},
   "outputs": [
    {
     "name": "stdout",
     "output_type": "stream",
     "text": [
      "\n",
      "--- Top 5 'Stickiest' Product Categories ---\n",
      "product_category_name_english\n",
      "bed_bath_table           1854714\n",
      "health_beauty            1409263\n",
      "furniture_decor          1383969\n",
      "sports_leisure           1361387\n",
      "computers_accessories    1228180\n",
      "Name: count, dtype: int64\n"
     ]
    }
   ],
   "source": [
    "repeat_purchase_df = final_df[final_df.duplicated(subset=['customer_unique_id', 'product_category_name_english'], keep=False)]\n",
    "category_stickiness = repeat_purchase_df['product_category_name_english'].value_counts()\n",
    "print(\"\\n--- Top 5 'Stickiest' Product Categories ---\")\n",
    "print(category_stickiness.head())"
   ]
  },
  {
   "cell_type": "markdown",
   "id": "d7115816",
   "metadata": {},
   "source": [
    "#### Revenue per Customer vs. Orders per Customer"
   ]
  },
  {
   "cell_type": "code",
   "execution_count": 71,
   "id": "2463216c",
   "metadata": {},
   "outputs": [
    {
     "name": "stdout",
     "output_type": "stream",
     "text": [
      "\n",
      "--- Correlation between Total Revenue and Order Count per Customer ---\n",
      "               total_revenue  total_orders\n",
      "total_revenue       1.000000      0.087055\n",
      "total_orders        0.087055      1.000000\n"
     ]
    }
   ],
   "source": [
    "customer_summary = final_df.groupby('customer_unique_id').agg(\n",
    "    total_revenue=('revenue', 'sum'),\n",
    "    total_orders=('order_id', 'nunique')\n",
    ")\n",
    "print(\"\\n--- Correlation between Total Revenue and Order Count per Customer ---\")\n",
    "print(customer_summary.corr())"
   ]
  },
  {
   "cell_type": "markdown",
   "id": "fb486c13",
   "metadata": {},
   "source": [
    "#### Seasonal Product Analysis"
   ]
  },
  {
   "cell_type": "code",
   "execution_count": 72,
   "id": "a17d596f",
   "metadata": {},
   "outputs": [
    {
     "name": "stdout",
     "output_type": "stream",
     "text": [
      "--- Top 5 Categories with Sales Peaks in December ---\n",
      "product_category_name_english\n",
      "diapers_and_hygiene                  32.328062\n",
      "furniture_mattress_and_upholstery    14.714313\n",
      "christmas_supplies                   12.220189\n",
      "flowers                              12.200034\n",
      "toys                                 11.076502\n",
      "Name: 12, dtype: float64\n"
     ]
    }
   ],
   "source": [
    "final_df['purchase_month_num'] = final_df['order_purchase_timestamp'].dt.month\n",
    "seasonal_sales = pd.crosstab(final_df['product_category_name_english'], final_df['purchase_month_num'], normalize='index') * 100\n",
    "# Example: Find categories that peak in December (Month 12)\n",
    "print(\"--- Top 5 Categories with Sales Peaks in December ---\")\n",
    "print(seasonal_sales.sort_values(by=12, ascending=False).head(5)[12])"
   ]
  },
  {
   "cell_type": "markdown",
   "id": "1a5ace4c",
   "metadata": {},
   "source": [
    "#### Order Value Segmentation"
   ]
  },
  {
   "cell_type": "code",
   "execution_count": 73,
   "id": "460a5765",
   "metadata": {},
   "outputs": [
    {
     "name": "stdout",
     "output_type": "stream",
     "text": [
      "\n",
      "--- Delivery Performance by Order Value Tier ---\n",
      "                  avg_delivery_time  late_rate\n",
      "order_value_tier                              \n",
      "Small                     10.144114   0.065066\n",
      "Medium                    11.909206   0.073525\n",
      "Large                     13.122127   0.086224\n"
     ]
    }
   ],
   "source": [
    "final_df['order_value_tier'] = pd.cut(final_df['revenue'], bins=[0, 50, 200, 5000], labels=['Small', 'Medium', 'Large'])\n",
    "value_tier_performance = final_df.groupby('order_value_tier',observed=False).agg(\n",
    "    avg_delivery_time=('delivery_time_days', 'mean'),\n",
    "    late_rate=('is_late', 'mean')\n",
    ")\n",
    "print(\"\\n--- Delivery Performance by Order Value Tier ---\")\n",
    "print(value_tier_performance)"
   ]
  },
  {
   "cell_type": "markdown",
   "id": "59bad676",
   "metadata": {},
   "source": [
    "#### \"Dead on Arrival\" Seller Analysis"
   ]
  },
  {
   "cell_type": "code",
   "execution_count": 74,
   "id": "6caf040e",
   "metadata": {},
   "outputs": [
    {
     "name": "stdout",
     "output_type": "stream",
     "text": [
      "\n",
      "Found 823 sellers who were active for less than 30 days.\n"
     ]
    }
   ],
   "source": [
    "seller_lifespan = final_df.groupby('seller_id')['order_purchase_timestamp'].agg(['min', 'max'])\n",
    "seller_lifespan['active_days'] = (seller_lifespan['max'] - seller_lifespan['min']).dt.days\n",
    "short_lived_sellers = seller_lifespan[seller_lifespan['active_days'] < 30] # Active for less than a month\n",
    "print(f\"\\nFound {len(short_lived_sellers)} sellers who were active for less than 30 days.\")"
   ]
  },
  {
   "cell_type": "markdown",
   "id": "9d51b435",
   "metadata": {},
   "source": [
    "#### Payment Installment Analysis"
   ]
  },
  {
   "cell_type": "code",
   "execution_count": 75,
   "id": "4b3d05dd",
   "metadata": {},
   "outputs": [
    {
     "name": "stdout",
     "output_type": "stream",
     "text": [
      "\n",
      "--- Average Item Price by Number of Payment Installments ---\n",
      "payment_installments\n",
      "0      41.767106\n",
      "1      91.344944\n",
      "2     100.501452\n",
      "3     108.807847\n",
      "4     127.654768\n",
      "5     136.692813\n",
      "6     151.545958\n",
      "7     140.001947\n",
      "8     230.433464\n",
      "9     148.566118\n",
      "10    293.344237\n",
      "11     95.129397\n",
      "12    229.098322\n",
      "13    107.446052\n",
      "14    146.153426\n",
      "15    270.445925\n",
      "16    165.966797\n",
      "17    150.171645\n",
      "18    422.110647\n",
      "20    395.041765\n",
      "21    185.499626\n",
      "22    209.990000\n",
      "23    216.000000\n",
      "24    195.613198\n",
      "Name: price, dtype: float64\n"
     ]
    }
   ],
   "source": [
    "if 'payment_installments' in final_df.columns:\n",
    "    installment_analysis = final_df.groupby('payment_installments')['price'].mean()\n",
    "    print(\"\\n--- Average Item Price by Number of Payment Installments ---\")\n",
    "    print(installment_analysis)"
   ]
  },
  {
   "cell_type": "markdown",
   "id": "5f2bb1ca",
   "metadata": {},
   "source": [
    "#### Golden Hour Analysis"
   ]
  },
  {
   "cell_type": "code",
   "execution_count": 76,
   "id": "838ecb33",
   "metadata": {},
   "outputs": [
    {
     "name": "stdout",
     "output_type": "stream",
     "text": [
      "\n",
      "--- The 'Golden Hour' with the most orders is: ---\n",
      "day_hour\n",
      "Tuesday-14    209667\n",
      "Name: count, dtype: int64\n"
     ]
    }
   ],
   "source": [
    "final_df['day_hour'] = final_df['order_purchase_timestamp'].dt.strftime('%A-%H')\n",
    "golden_hour = final_df['day_hour'].value_counts().head(1)\n",
    "print(f\"\\n--- The 'Golden Hour' with the most orders is: ---\\n{golden_hour}\")"
   ]
  },
  {
   "cell_type": "markdown",
   "id": "cec5868d",
   "metadata": {},
   "source": [
    "#### Freight Cost as a Percentage of Revenue"
   ]
  },
  {
   "cell_type": "code",
   "execution_count": 77,
   "id": "2515b486",
   "metadata": {},
   "outputs": [
    {
     "name": "stdout",
     "output_type": "stream",
     "text": [
      "\n",
      "Freight costs make up 13.98% of total gross revenue.\n"
     ]
    }
   ],
   "source": [
    "total_revenue=final_df['revenue'].sum()\n",
    "total_freight_cost=final_df['freight_value'].sum()\n",
    "freight_to_revenue_ratio=(total_freight_cost/total_revenue)*100\n",
    "print(f\"\\nFreight costs make up {freight_to_revenue_ratio:.2f}% of total gross revenue.\")"
   ]
  },
  {
   "cell_type": "markdown",
   "id": "a1dc8f3f",
   "metadata": {},
   "source": [
    "#### Cross-State Commerce Matrix"
   ]
  },
  {
   "cell_type": "code",
   "execution_count": 78,
   "id": "fdf935be",
   "metadata": {},
   "outputs": [
    {
     "data": {
      "application/vnd.microsoft.datawrangler.viewer.v0+json": {
       "columns": [
        {
         "name": "seller_state",
         "rawType": "object",
         "type": "string"
        },
        {
         "name": "AC",
         "rawType": "int64",
         "type": "integer"
        },
        {
         "name": "AL",
         "rawType": "int64",
         "type": "integer"
        },
        {
         "name": "AM",
         "rawType": "int64",
         "type": "integer"
        },
        {
         "name": "AP",
         "rawType": "int64",
         "type": "integer"
        },
        {
         "name": "BA",
         "rawType": "int64",
         "type": "integer"
        },
        {
         "name": "CE",
         "rawType": "int64",
         "type": "integer"
        },
        {
         "name": "DF",
         "rawType": "int64",
         "type": "integer"
        },
        {
         "name": "ES",
         "rawType": "int64",
         "type": "integer"
        },
        {
         "name": "GO",
         "rawType": "int64",
         "type": "integer"
        },
        {
         "name": "MA",
         "rawType": "int64",
         "type": "integer"
        },
        {
         "name": "MG",
         "rawType": "int64",
         "type": "integer"
        },
        {
         "name": "MS",
         "rawType": "int64",
         "type": "integer"
        },
        {
         "name": "MT",
         "rawType": "int64",
         "type": "integer"
        },
        {
         "name": "PA",
         "rawType": "int64",
         "type": "integer"
        },
        {
         "name": "PB",
         "rawType": "int64",
         "type": "integer"
        },
        {
         "name": "PE",
         "rawType": "int64",
         "type": "integer"
        },
        {
         "name": "PI",
         "rawType": "int64",
         "type": "integer"
        },
        {
         "name": "PR",
         "rawType": "int64",
         "type": "integer"
        },
        {
         "name": "RJ",
         "rawType": "int64",
         "type": "integer"
        },
        {
         "name": "RN",
         "rawType": "int64",
         "type": "integer"
        },
        {
         "name": "RO",
         "rawType": "int64",
         "type": "integer"
        },
        {
         "name": "RR",
         "rawType": "int64",
         "type": "integer"
        },
        {
         "name": "RS",
         "rawType": "int64",
         "type": "integer"
        },
        {
         "name": "SC",
         "rawType": "int64",
         "type": "integer"
        },
        {
         "name": "SE",
         "rawType": "int64",
         "type": "integer"
        },
        {
         "name": "SP",
         "rawType": "int64",
         "type": "integer"
        },
        {
         "name": "TO",
         "rawType": "int64",
         "type": "integer"
        }
       ],
       "ref": "ae62e313-91de-443c-9518-a8fc73cff62b",
       "rows": [
        [
         "AM",
         "0",
         "65",
         "0",
         "0",
         "0",
         "0",
         "0",
         "0",
         "0",
         "75",
         "67",
         "0",
         "0",
         "0",
         "0",
         "0",
         "0",
         "0",
         "0",
         "0",
         "0",
         "0",
         "0",
         "0",
         "0",
         "0",
         "0"
        ],
        [
         "BA",
         "28",
         "1130",
         "25",
         "99",
         "8919",
         "842",
         "907",
         "1943",
         "797",
         "998",
         "12640",
         "111",
         "371",
         "703",
         "517",
         "1401",
         "358",
         "1325",
         "19880",
         "358",
         "205",
         "23",
         "5080",
         "2344",
         "436",
         "24729",
         "151"
        ],
        [
         "CE",
         "0",
         "66",
         "33",
         "0",
         "58",
         "399",
         "65",
         "386",
         "67",
         "96",
         "1794",
         "144",
         "1338",
         "139",
         "0",
         "629",
         "239",
         "438",
         "2590",
         "5",
         "53",
         "0",
         "131",
         "266",
         "350",
         "2381",
         "0"
        ],
        [
         "DF",
         "164",
         "231",
         "0",
         "0",
         "3070",
         "944",
         "2682",
         "4609",
         "2031",
         "942",
         "30474",
         "624",
         "1391",
         "1411",
         "360",
         "654",
         "474",
         "4047",
         "25433",
         "273",
         "0",
         "0",
         "4323",
         "2803",
         "217",
         "47598",
         "1910"
        ],
        [
         "ES",
         "0",
         "0",
         "0",
         "0",
         "2833",
         "142",
         "55",
         "1913",
         "141",
         "259",
         "12567",
         "0",
         "846",
         "127",
         "0",
         "259",
         "98",
         "1828",
         "13438",
         "92",
         "18",
         "0",
         "2277",
         "2845",
         "0",
         "16739",
         "296"
        ],
        [
         "GO",
         "15",
         "233",
         "103",
         "140",
         "850",
         "482",
         "1390",
         "720",
         "1476",
         "1055",
         "27547",
         "989",
         "1324",
         "792",
         "183",
         "966",
         "206",
         "2415",
         "14910",
         "26",
         "124",
         "0",
         "1344",
         "2174",
         "0",
         "21755",
         "445"
        ],
        [
         "MA",
         "164",
         "659",
         "58",
         "85",
         "976",
         "408",
         "1342",
         "3008",
         "1102",
         "812",
         "9718",
         "111",
         "192",
         "356",
         "125",
         "1743",
         "391",
         "1386",
         "10340",
         "121",
         "0",
         "0",
         "2284",
         "3834",
         "336",
         "17700",
         "24"
        ],
        [
         "MG",
         "1038",
         "2580",
         "523",
         "235",
         "52037",
         "4473",
         "9500",
         "27674",
         "9769",
         "4785",
         "411608",
         "5304",
         "9196",
         "7962",
         "3617",
         "9077",
         "1433",
         "53007",
         "307728",
         "1543",
         "1741",
         "96",
         "47252",
         "42327",
         "3251",
         "394430",
         "1220"
        ],
        [
         "MS",
         "144",
         "0",
         "0",
         "0",
         "994",
         "0",
         "153",
         "0",
         "62",
         "0",
         "1610",
         "0",
         "227",
         "0",
         "0",
         "0",
         "0",
         "385",
         "1887",
         "0",
         "0",
         "0",
         "140",
         "45",
         "0",
         "2286",
         "0"
        ],
        [
         "MT",
         "0",
         "0",
         "0",
         "0",
         "264",
         "97",
         "157",
         "86",
         "611",
         "253",
         "5757",
         "622",
         "633",
         "356",
         "91",
         "539",
         "0",
         "952",
         "2596",
         "7",
         "388",
         "0",
         "1083",
         "781",
         "0",
         "5642",
         "0"
        ],
        [
         "PA",
         "0",
         "0",
         "0",
         "0",
         "0",
         "0",
         "0",
         "0",
         "0",
         "0",
         "268",
         "0",
         "0",
         "0",
         "0",
         "0",
         "0",
         "39",
         "0",
         "0",
         "0",
         "0",
         "0",
         "0",
         "0",
         "1246",
         "0"
        ],
        [
         "PB",
         "0",
         "15",
         "0",
         "0",
         "377",
         "125",
         "44",
         "24",
         "23",
         "249",
         "521",
         "0",
         "92",
         "100",
         "0",
         "42",
         "0",
         "0",
         "2635",
         "22",
         "0",
         "0",
         "0",
         "0",
         "84",
         "1068",
         "0"
        ],
        [
         "PE",
         "0",
         "905",
         "0",
         "190",
         "4439",
         "911",
         "634",
         "2335",
         "713",
         "299",
         "20298",
         "174",
         "109",
         "854",
         "368",
         "1352",
         "340",
         "1163",
         "9837",
         "85",
         "245",
         "0",
         "1906",
         "908",
         "569",
         "14266",
         "23"
        ],
        [
         "PI",
         "0",
         "0",
         "0",
         "0",
         "0",
         "100",
         "0",
         "0",
         "0",
         "17",
         "61",
         "0",
         "0",
         "0",
         "14",
         "32",
         "11",
         "13",
         "0",
         "0",
         "0",
         "0",
         "0",
         "245",
         "0",
         "446",
         "0"
        ],
        [
         "PR",
         "82",
         "3257",
         "595",
         "205",
         "17849",
         "4006",
         "7835",
         "21566",
         "5563",
         "3998",
         "239944",
         "7220",
         "10725",
         "4388",
         "2614",
         "6730",
         "1497",
         "113608",
         "283682",
         "1086",
         "1119",
         "172",
         "107630",
         "67870",
         "1443",
         "481851",
         "1258"
        ],
        [
         "RJ",
         "0",
         "721",
         "302",
         "85",
         "15263",
         "2832",
         "4806",
         "18125",
         "8898",
         "1964",
         "158322",
         "3390",
         "4935",
         "3714",
         "1460",
         "9427",
         "1595",
         "27974",
         "263350",
         "1194",
         "1142",
         "0",
         "34629",
         "17854",
         "1742",
         "195760",
         "1115"
        ],
        [
         "RN",
         "0",
         "63",
         "0",
         "0",
         "400",
         "179",
         "23",
         "0",
         "0",
         "0",
         "48",
         "0",
         "0",
         "70",
         "165",
         "0",
         "0",
         "391",
         "130",
         "1444",
         "0",
         "0",
         "638",
         "30",
         "0",
         "734",
         "0"
        ],
        [
         "RO",
         "0",
         "0",
         "0",
         "0",
         "49",
         "0",
         "0",
         "119",
         "0",
         "0",
         "0",
         "0",
         "0",
         "0",
         "0",
         "0",
         "0",
         "26",
         "245",
         "0",
         "0",
         "0",
         "76",
         "0",
         "82",
         "971",
         "0"
        ],
        [
         "RS",
         "328",
         "1428",
         "343",
         "241",
         "5826",
         "1056",
         "1619",
         "5303",
         "1419",
         "1629",
         "61796",
         "1515",
         "4548",
         "1706",
         "783",
         "1530",
         "573",
         "17174",
         "69839",
         "592",
         "700",
         "0",
         "48381",
         "17688",
         "539",
         "104009",
         "355"
        ],
        [
         "SC",
         "334",
         "1321",
         "204",
         "400",
         "11296",
         "1319",
         "3539",
         "10637",
         "4732",
         "1952",
         "130179",
         "3070",
         "3714",
         "1372",
         "989",
         "2485",
         "1154",
         "43036",
         "137752",
         "478",
         "565",
         "0",
         "52027",
         "54782",
         "1210",
         "218267",
         "903"
        ],
        [
         "SE",
         "0",
         "0",
         "0",
         "0",
         "0",
         "0",
         "0",
         "172",
         "31",
         "0",
         "0",
         "0",
         "0",
         "65",
         "0",
         "121",
         "0",
         "198",
         "244",
         "0",
         "0",
         "0",
         "0",
         "0",
         "0",
         "283",
         "0"
        ],
        [
         "SP",
         "6027",
         "24050",
         "4126",
         "3847",
         "298019",
         "53084",
         "70466",
         "255170",
         "116396",
         "39447",
         "2185343",
         "48666",
         "107815",
         "66249",
         "20641",
         "86661",
         "17511",
         "449803",
         "2280530",
         "16806",
         "17049",
         "1649",
         "628374",
         "398157",
         "16779",
         "4917393",
         "14062"
        ]
       ],
       "shape": {
        "columns": 27,
        "rows": 22
       }
      },
      "text/html": [
       "<div>\n",
       "<style scoped>\n",
       "    .dataframe tbody tr th:only-of-type {\n",
       "        vertical-align: middle;\n",
       "    }\n",
       "\n",
       "    .dataframe tbody tr th {\n",
       "        vertical-align: top;\n",
       "    }\n",
       "\n",
       "    .dataframe thead th {\n",
       "        text-align: right;\n",
       "    }\n",
       "</style>\n",
       "<table border=\"1\" class=\"dataframe\">\n",
       "  <thead>\n",
       "    <tr style=\"text-align: right;\">\n",
       "      <th>customer_state</th>\n",
       "      <th>AC</th>\n",
       "      <th>AL</th>\n",
       "      <th>AM</th>\n",
       "      <th>AP</th>\n",
       "      <th>BA</th>\n",
       "      <th>CE</th>\n",
       "      <th>DF</th>\n",
       "      <th>ES</th>\n",
       "      <th>GO</th>\n",
       "      <th>MA</th>\n",
       "      <th>...</th>\n",
       "      <th>PR</th>\n",
       "      <th>RJ</th>\n",
       "      <th>RN</th>\n",
       "      <th>RO</th>\n",
       "      <th>RR</th>\n",
       "      <th>RS</th>\n",
       "      <th>SC</th>\n",
       "      <th>SE</th>\n",
       "      <th>SP</th>\n",
       "      <th>TO</th>\n",
       "    </tr>\n",
       "    <tr>\n",
       "      <th>seller_state</th>\n",
       "      <th></th>\n",
       "      <th></th>\n",
       "      <th></th>\n",
       "      <th></th>\n",
       "      <th></th>\n",
       "      <th></th>\n",
       "      <th></th>\n",
       "      <th></th>\n",
       "      <th></th>\n",
       "      <th></th>\n",
       "      <th></th>\n",
       "      <th></th>\n",
       "      <th></th>\n",
       "      <th></th>\n",
       "      <th></th>\n",
       "      <th></th>\n",
       "      <th></th>\n",
       "      <th></th>\n",
       "      <th></th>\n",
       "      <th></th>\n",
       "      <th></th>\n",
       "    </tr>\n",
       "  </thead>\n",
       "  <tbody>\n",
       "    <tr>\n",
       "      <th>AM</th>\n",
       "      <td>0</td>\n",
       "      <td>65</td>\n",
       "      <td>0</td>\n",
       "      <td>0</td>\n",
       "      <td>0</td>\n",
       "      <td>0</td>\n",
       "      <td>0</td>\n",
       "      <td>0</td>\n",
       "      <td>0</td>\n",
       "      <td>75</td>\n",
       "      <td>...</td>\n",
       "      <td>0</td>\n",
       "      <td>0</td>\n",
       "      <td>0</td>\n",
       "      <td>0</td>\n",
       "      <td>0</td>\n",
       "      <td>0</td>\n",
       "      <td>0</td>\n",
       "      <td>0</td>\n",
       "      <td>0</td>\n",
       "      <td>0</td>\n",
       "    </tr>\n",
       "    <tr>\n",
       "      <th>BA</th>\n",
       "      <td>28</td>\n",
       "      <td>1130</td>\n",
       "      <td>25</td>\n",
       "      <td>99</td>\n",
       "      <td>8919</td>\n",
       "      <td>842</td>\n",
       "      <td>907</td>\n",
       "      <td>1943</td>\n",
       "      <td>797</td>\n",
       "      <td>998</td>\n",
       "      <td>...</td>\n",
       "      <td>1325</td>\n",
       "      <td>19880</td>\n",
       "      <td>358</td>\n",
       "      <td>205</td>\n",
       "      <td>23</td>\n",
       "      <td>5080</td>\n",
       "      <td>2344</td>\n",
       "      <td>436</td>\n",
       "      <td>24729</td>\n",
       "      <td>151</td>\n",
       "    </tr>\n",
       "    <tr>\n",
       "      <th>CE</th>\n",
       "      <td>0</td>\n",
       "      <td>66</td>\n",
       "      <td>33</td>\n",
       "      <td>0</td>\n",
       "      <td>58</td>\n",
       "      <td>399</td>\n",
       "      <td>65</td>\n",
       "      <td>386</td>\n",
       "      <td>67</td>\n",
       "      <td>96</td>\n",
       "      <td>...</td>\n",
       "      <td>438</td>\n",
       "      <td>2590</td>\n",
       "      <td>5</td>\n",
       "      <td>53</td>\n",
       "      <td>0</td>\n",
       "      <td>131</td>\n",
       "      <td>266</td>\n",
       "      <td>350</td>\n",
       "      <td>2381</td>\n",
       "      <td>0</td>\n",
       "    </tr>\n",
       "    <tr>\n",
       "      <th>DF</th>\n",
       "      <td>164</td>\n",
       "      <td>231</td>\n",
       "      <td>0</td>\n",
       "      <td>0</td>\n",
       "      <td>3070</td>\n",
       "      <td>944</td>\n",
       "      <td>2682</td>\n",
       "      <td>4609</td>\n",
       "      <td>2031</td>\n",
       "      <td>942</td>\n",
       "      <td>...</td>\n",
       "      <td>4047</td>\n",
       "      <td>25433</td>\n",
       "      <td>273</td>\n",
       "      <td>0</td>\n",
       "      <td>0</td>\n",
       "      <td>4323</td>\n",
       "      <td>2803</td>\n",
       "      <td>217</td>\n",
       "      <td>47598</td>\n",
       "      <td>1910</td>\n",
       "    </tr>\n",
       "    <tr>\n",
       "      <th>ES</th>\n",
       "      <td>0</td>\n",
       "      <td>0</td>\n",
       "      <td>0</td>\n",
       "      <td>0</td>\n",
       "      <td>2833</td>\n",
       "      <td>142</td>\n",
       "      <td>55</td>\n",
       "      <td>1913</td>\n",
       "      <td>141</td>\n",
       "      <td>259</td>\n",
       "      <td>...</td>\n",
       "      <td>1828</td>\n",
       "      <td>13438</td>\n",
       "      <td>92</td>\n",
       "      <td>18</td>\n",
       "      <td>0</td>\n",
       "      <td>2277</td>\n",
       "      <td>2845</td>\n",
       "      <td>0</td>\n",
       "      <td>16739</td>\n",
       "      <td>296</td>\n",
       "    </tr>\n",
       "    <tr>\n",
       "      <th>GO</th>\n",
       "      <td>15</td>\n",
       "      <td>233</td>\n",
       "      <td>103</td>\n",
       "      <td>140</td>\n",
       "      <td>850</td>\n",
       "      <td>482</td>\n",
       "      <td>1390</td>\n",
       "      <td>720</td>\n",
       "      <td>1476</td>\n",
       "      <td>1055</td>\n",
       "      <td>...</td>\n",
       "      <td>2415</td>\n",
       "      <td>14910</td>\n",
       "      <td>26</td>\n",
       "      <td>124</td>\n",
       "      <td>0</td>\n",
       "      <td>1344</td>\n",
       "      <td>2174</td>\n",
       "      <td>0</td>\n",
       "      <td>21755</td>\n",
       "      <td>445</td>\n",
       "    </tr>\n",
       "    <tr>\n",
       "      <th>MA</th>\n",
       "      <td>164</td>\n",
       "      <td>659</td>\n",
       "      <td>58</td>\n",
       "      <td>85</td>\n",
       "      <td>976</td>\n",
       "      <td>408</td>\n",
       "      <td>1342</td>\n",
       "      <td>3008</td>\n",
       "      <td>1102</td>\n",
       "      <td>812</td>\n",
       "      <td>...</td>\n",
       "      <td>1386</td>\n",
       "      <td>10340</td>\n",
       "      <td>121</td>\n",
       "      <td>0</td>\n",
       "      <td>0</td>\n",
       "      <td>2284</td>\n",
       "      <td>3834</td>\n",
       "      <td>336</td>\n",
       "      <td>17700</td>\n",
       "      <td>24</td>\n",
       "    </tr>\n",
       "    <tr>\n",
       "      <th>MG</th>\n",
       "      <td>1038</td>\n",
       "      <td>2580</td>\n",
       "      <td>523</td>\n",
       "      <td>235</td>\n",
       "      <td>52037</td>\n",
       "      <td>4473</td>\n",
       "      <td>9500</td>\n",
       "      <td>27674</td>\n",
       "      <td>9769</td>\n",
       "      <td>4785</td>\n",
       "      <td>...</td>\n",
       "      <td>53007</td>\n",
       "      <td>307728</td>\n",
       "      <td>1543</td>\n",
       "      <td>1741</td>\n",
       "      <td>96</td>\n",
       "      <td>47252</td>\n",
       "      <td>42327</td>\n",
       "      <td>3251</td>\n",
       "      <td>394430</td>\n",
       "      <td>1220</td>\n",
       "    </tr>\n",
       "    <tr>\n",
       "      <th>MS</th>\n",
       "      <td>144</td>\n",
       "      <td>0</td>\n",
       "      <td>0</td>\n",
       "      <td>0</td>\n",
       "      <td>994</td>\n",
       "      <td>0</td>\n",
       "      <td>153</td>\n",
       "      <td>0</td>\n",
       "      <td>62</td>\n",
       "      <td>0</td>\n",
       "      <td>...</td>\n",
       "      <td>385</td>\n",
       "      <td>1887</td>\n",
       "      <td>0</td>\n",
       "      <td>0</td>\n",
       "      <td>0</td>\n",
       "      <td>140</td>\n",
       "      <td>45</td>\n",
       "      <td>0</td>\n",
       "      <td>2286</td>\n",
       "      <td>0</td>\n",
       "    </tr>\n",
       "    <tr>\n",
       "      <th>MT</th>\n",
       "      <td>0</td>\n",
       "      <td>0</td>\n",
       "      <td>0</td>\n",
       "      <td>0</td>\n",
       "      <td>264</td>\n",
       "      <td>97</td>\n",
       "      <td>157</td>\n",
       "      <td>86</td>\n",
       "      <td>611</td>\n",
       "      <td>253</td>\n",
       "      <td>...</td>\n",
       "      <td>952</td>\n",
       "      <td>2596</td>\n",
       "      <td>7</td>\n",
       "      <td>388</td>\n",
       "      <td>0</td>\n",
       "      <td>1083</td>\n",
       "      <td>781</td>\n",
       "      <td>0</td>\n",
       "      <td>5642</td>\n",
       "      <td>0</td>\n",
       "    </tr>\n",
       "    <tr>\n",
       "      <th>PA</th>\n",
       "      <td>0</td>\n",
       "      <td>0</td>\n",
       "      <td>0</td>\n",
       "      <td>0</td>\n",
       "      <td>0</td>\n",
       "      <td>0</td>\n",
       "      <td>0</td>\n",
       "      <td>0</td>\n",
       "      <td>0</td>\n",
       "      <td>0</td>\n",
       "      <td>...</td>\n",
       "      <td>39</td>\n",
       "      <td>0</td>\n",
       "      <td>0</td>\n",
       "      <td>0</td>\n",
       "      <td>0</td>\n",
       "      <td>0</td>\n",
       "      <td>0</td>\n",
       "      <td>0</td>\n",
       "      <td>1246</td>\n",
       "      <td>0</td>\n",
       "    </tr>\n",
       "    <tr>\n",
       "      <th>PB</th>\n",
       "      <td>0</td>\n",
       "      <td>15</td>\n",
       "      <td>0</td>\n",
       "      <td>0</td>\n",
       "      <td>377</td>\n",
       "      <td>125</td>\n",
       "      <td>44</td>\n",
       "      <td>24</td>\n",
       "      <td>23</td>\n",
       "      <td>249</td>\n",
       "      <td>...</td>\n",
       "      <td>0</td>\n",
       "      <td>2635</td>\n",
       "      <td>22</td>\n",
       "      <td>0</td>\n",
       "      <td>0</td>\n",
       "      <td>0</td>\n",
       "      <td>0</td>\n",
       "      <td>84</td>\n",
       "      <td>1068</td>\n",
       "      <td>0</td>\n",
       "    </tr>\n",
       "    <tr>\n",
       "      <th>PE</th>\n",
       "      <td>0</td>\n",
       "      <td>905</td>\n",
       "      <td>0</td>\n",
       "      <td>190</td>\n",
       "      <td>4439</td>\n",
       "      <td>911</td>\n",
       "      <td>634</td>\n",
       "      <td>2335</td>\n",
       "      <td>713</td>\n",
       "      <td>299</td>\n",
       "      <td>...</td>\n",
       "      <td>1163</td>\n",
       "      <td>9837</td>\n",
       "      <td>85</td>\n",
       "      <td>245</td>\n",
       "      <td>0</td>\n",
       "      <td>1906</td>\n",
       "      <td>908</td>\n",
       "      <td>569</td>\n",
       "      <td>14266</td>\n",
       "      <td>23</td>\n",
       "    </tr>\n",
       "    <tr>\n",
       "      <th>PI</th>\n",
       "      <td>0</td>\n",
       "      <td>0</td>\n",
       "      <td>0</td>\n",
       "      <td>0</td>\n",
       "      <td>0</td>\n",
       "      <td>100</td>\n",
       "      <td>0</td>\n",
       "      <td>0</td>\n",
       "      <td>0</td>\n",
       "      <td>17</td>\n",
       "      <td>...</td>\n",
       "      <td>13</td>\n",
       "      <td>0</td>\n",
       "      <td>0</td>\n",
       "      <td>0</td>\n",
       "      <td>0</td>\n",
       "      <td>0</td>\n",
       "      <td>245</td>\n",
       "      <td>0</td>\n",
       "      <td>446</td>\n",
       "      <td>0</td>\n",
       "    </tr>\n",
       "    <tr>\n",
       "      <th>PR</th>\n",
       "      <td>82</td>\n",
       "      <td>3257</td>\n",
       "      <td>595</td>\n",
       "      <td>205</td>\n",
       "      <td>17849</td>\n",
       "      <td>4006</td>\n",
       "      <td>7835</td>\n",
       "      <td>21566</td>\n",
       "      <td>5563</td>\n",
       "      <td>3998</td>\n",
       "      <td>...</td>\n",
       "      <td>113608</td>\n",
       "      <td>283682</td>\n",
       "      <td>1086</td>\n",
       "      <td>1119</td>\n",
       "      <td>172</td>\n",
       "      <td>107630</td>\n",
       "      <td>67870</td>\n",
       "      <td>1443</td>\n",
       "      <td>481851</td>\n",
       "      <td>1258</td>\n",
       "    </tr>\n",
       "    <tr>\n",
       "      <th>RJ</th>\n",
       "      <td>0</td>\n",
       "      <td>721</td>\n",
       "      <td>302</td>\n",
       "      <td>85</td>\n",
       "      <td>15263</td>\n",
       "      <td>2832</td>\n",
       "      <td>4806</td>\n",
       "      <td>18125</td>\n",
       "      <td>8898</td>\n",
       "      <td>1964</td>\n",
       "      <td>...</td>\n",
       "      <td>27974</td>\n",
       "      <td>263350</td>\n",
       "      <td>1194</td>\n",
       "      <td>1142</td>\n",
       "      <td>0</td>\n",
       "      <td>34629</td>\n",
       "      <td>17854</td>\n",
       "      <td>1742</td>\n",
       "      <td>195760</td>\n",
       "      <td>1115</td>\n",
       "    </tr>\n",
       "    <tr>\n",
       "      <th>RN</th>\n",
       "      <td>0</td>\n",
       "      <td>63</td>\n",
       "      <td>0</td>\n",
       "      <td>0</td>\n",
       "      <td>400</td>\n",
       "      <td>179</td>\n",
       "      <td>23</td>\n",
       "      <td>0</td>\n",
       "      <td>0</td>\n",
       "      <td>0</td>\n",
       "      <td>...</td>\n",
       "      <td>391</td>\n",
       "      <td>130</td>\n",
       "      <td>1444</td>\n",
       "      <td>0</td>\n",
       "      <td>0</td>\n",
       "      <td>638</td>\n",
       "      <td>30</td>\n",
       "      <td>0</td>\n",
       "      <td>734</td>\n",
       "      <td>0</td>\n",
       "    </tr>\n",
       "    <tr>\n",
       "      <th>RO</th>\n",
       "      <td>0</td>\n",
       "      <td>0</td>\n",
       "      <td>0</td>\n",
       "      <td>0</td>\n",
       "      <td>49</td>\n",
       "      <td>0</td>\n",
       "      <td>0</td>\n",
       "      <td>119</td>\n",
       "      <td>0</td>\n",
       "      <td>0</td>\n",
       "      <td>...</td>\n",
       "      <td>26</td>\n",
       "      <td>245</td>\n",
       "      <td>0</td>\n",
       "      <td>0</td>\n",
       "      <td>0</td>\n",
       "      <td>76</td>\n",
       "      <td>0</td>\n",
       "      <td>82</td>\n",
       "      <td>971</td>\n",
       "      <td>0</td>\n",
       "    </tr>\n",
       "    <tr>\n",
       "      <th>RS</th>\n",
       "      <td>328</td>\n",
       "      <td>1428</td>\n",
       "      <td>343</td>\n",
       "      <td>241</td>\n",
       "      <td>5826</td>\n",
       "      <td>1056</td>\n",
       "      <td>1619</td>\n",
       "      <td>5303</td>\n",
       "      <td>1419</td>\n",
       "      <td>1629</td>\n",
       "      <td>...</td>\n",
       "      <td>17174</td>\n",
       "      <td>69839</td>\n",
       "      <td>592</td>\n",
       "      <td>700</td>\n",
       "      <td>0</td>\n",
       "      <td>48381</td>\n",
       "      <td>17688</td>\n",
       "      <td>539</td>\n",
       "      <td>104009</td>\n",
       "      <td>355</td>\n",
       "    </tr>\n",
       "    <tr>\n",
       "      <th>SC</th>\n",
       "      <td>334</td>\n",
       "      <td>1321</td>\n",
       "      <td>204</td>\n",
       "      <td>400</td>\n",
       "      <td>11296</td>\n",
       "      <td>1319</td>\n",
       "      <td>3539</td>\n",
       "      <td>10637</td>\n",
       "      <td>4732</td>\n",
       "      <td>1952</td>\n",
       "      <td>...</td>\n",
       "      <td>43036</td>\n",
       "      <td>137752</td>\n",
       "      <td>478</td>\n",
       "      <td>565</td>\n",
       "      <td>0</td>\n",
       "      <td>52027</td>\n",
       "      <td>54782</td>\n",
       "      <td>1210</td>\n",
       "      <td>218267</td>\n",
       "      <td>903</td>\n",
       "    </tr>\n",
       "    <tr>\n",
       "      <th>SE</th>\n",
       "      <td>0</td>\n",
       "      <td>0</td>\n",
       "      <td>0</td>\n",
       "      <td>0</td>\n",
       "      <td>0</td>\n",
       "      <td>0</td>\n",
       "      <td>0</td>\n",
       "      <td>172</td>\n",
       "      <td>31</td>\n",
       "      <td>0</td>\n",
       "      <td>...</td>\n",
       "      <td>198</td>\n",
       "      <td>244</td>\n",
       "      <td>0</td>\n",
       "      <td>0</td>\n",
       "      <td>0</td>\n",
       "      <td>0</td>\n",
       "      <td>0</td>\n",
       "      <td>0</td>\n",
       "      <td>283</td>\n",
       "      <td>0</td>\n",
       "    </tr>\n",
       "    <tr>\n",
       "      <th>SP</th>\n",
       "      <td>6027</td>\n",
       "      <td>24050</td>\n",
       "      <td>4126</td>\n",
       "      <td>3847</td>\n",
       "      <td>298019</td>\n",
       "      <td>53084</td>\n",
       "      <td>70466</td>\n",
       "      <td>255170</td>\n",
       "      <td>116396</td>\n",
       "      <td>39447</td>\n",
       "      <td>...</td>\n",
       "      <td>449803</td>\n",
       "      <td>2280530</td>\n",
       "      <td>16806</td>\n",
       "      <td>17049</td>\n",
       "      <td>1649</td>\n",
       "      <td>628374</td>\n",
       "      <td>398157</td>\n",
       "      <td>16779</td>\n",
       "      <td>4917393</td>\n",
       "      <td>14062</td>\n",
       "    </tr>\n",
       "  </tbody>\n",
       "</table>\n",
       "<p>22 rows × 27 columns</p>\n",
       "</div>"
      ],
      "text/plain": [
       "customer_state    AC     AL    AM    AP      BA     CE     DF      ES      GO  \\\n",
       "seller_state                                                                    \n",
       "AM                 0     65     0     0       0      0      0       0       0   \n",
       "BA                28   1130    25    99    8919    842    907    1943     797   \n",
       "CE                 0     66    33     0      58    399     65     386      67   \n",
       "DF               164    231     0     0    3070    944   2682    4609    2031   \n",
       "ES                 0      0     0     0    2833    142     55    1913     141   \n",
       "GO                15    233   103   140     850    482   1390     720    1476   \n",
       "MA               164    659    58    85     976    408   1342    3008    1102   \n",
       "MG              1038   2580   523   235   52037   4473   9500   27674    9769   \n",
       "MS               144      0     0     0     994      0    153       0      62   \n",
       "MT                 0      0     0     0     264     97    157      86     611   \n",
       "PA                 0      0     0     0       0      0      0       0       0   \n",
       "PB                 0     15     0     0     377    125     44      24      23   \n",
       "PE                 0    905     0   190    4439    911    634    2335     713   \n",
       "PI                 0      0     0     0       0    100      0       0       0   \n",
       "PR                82   3257   595   205   17849   4006   7835   21566    5563   \n",
       "RJ                 0    721   302    85   15263   2832   4806   18125    8898   \n",
       "RN                 0     63     0     0     400    179     23       0       0   \n",
       "RO                 0      0     0     0      49      0      0     119       0   \n",
       "RS               328   1428   343   241    5826   1056   1619    5303    1419   \n",
       "SC               334   1321   204   400   11296   1319   3539   10637    4732   \n",
       "SE                 0      0     0     0       0      0      0     172      31   \n",
       "SP              6027  24050  4126  3847  298019  53084  70466  255170  116396   \n",
       "\n",
       "customer_state     MA  ...      PR       RJ     RN     RO    RR      RS  \\\n",
       "seller_state           ...                                                \n",
       "AM                 75  ...       0        0      0      0     0       0   \n",
       "BA                998  ...    1325    19880    358    205    23    5080   \n",
       "CE                 96  ...     438     2590      5     53     0     131   \n",
       "DF                942  ...    4047    25433    273      0     0    4323   \n",
       "ES                259  ...    1828    13438     92     18     0    2277   \n",
       "GO               1055  ...    2415    14910     26    124     0    1344   \n",
       "MA                812  ...    1386    10340    121      0     0    2284   \n",
       "MG               4785  ...   53007   307728   1543   1741    96   47252   \n",
       "MS                  0  ...     385     1887      0      0     0     140   \n",
       "MT                253  ...     952     2596      7    388     0    1083   \n",
       "PA                  0  ...      39        0      0      0     0       0   \n",
       "PB                249  ...       0     2635     22      0     0       0   \n",
       "PE                299  ...    1163     9837     85    245     0    1906   \n",
       "PI                 17  ...      13        0      0      0     0       0   \n",
       "PR               3998  ...  113608   283682   1086   1119   172  107630   \n",
       "RJ               1964  ...   27974   263350   1194   1142     0   34629   \n",
       "RN                  0  ...     391      130   1444      0     0     638   \n",
       "RO                  0  ...      26      245      0      0     0      76   \n",
       "RS               1629  ...   17174    69839    592    700     0   48381   \n",
       "SC               1952  ...   43036   137752    478    565     0   52027   \n",
       "SE                  0  ...     198      244      0      0     0       0   \n",
       "SP              39447  ...  449803  2280530  16806  17049  1649  628374   \n",
       "\n",
       "customer_state      SC     SE       SP     TO  \n",
       "seller_state                                   \n",
       "AM                   0      0        0      0  \n",
       "BA                2344    436    24729    151  \n",
       "CE                 266    350     2381      0  \n",
       "DF                2803    217    47598   1910  \n",
       "ES                2845      0    16739    296  \n",
       "GO                2174      0    21755    445  \n",
       "MA                3834    336    17700     24  \n",
       "MG               42327   3251   394430   1220  \n",
       "MS                  45      0     2286      0  \n",
       "MT                 781      0     5642      0  \n",
       "PA                   0      0     1246      0  \n",
       "PB                   0     84     1068      0  \n",
       "PE                 908    569    14266     23  \n",
       "PI                 245      0      446      0  \n",
       "PR               67870   1443   481851   1258  \n",
       "RJ               17854   1742   195760   1115  \n",
       "RN                  30      0      734      0  \n",
       "RO                   0     82      971      0  \n",
       "RS               17688    539   104009    355  \n",
       "SC               54782   1210   218267    903  \n",
       "SE                   0      0      283      0  \n",
       "SP              398157  16779  4917393  14062  \n",
       "\n",
       "[22 rows x 27 columns]"
      ]
     },
     "execution_count": 78,
     "metadata": {},
     "output_type": "execute_result"
    }
   ],
   "source": [
    "cross_state_matrix = pd.crosstab(final_df['seller_state'], final_df['customer_state'])\n",
    "cross_state_matrix"
   ]
  },
  {
   "cell_type": "markdown",
   "id": "ddc41ed5",
   "metadata": {},
   "source": [
    "#### Review Score Volatility"
   ]
  },
  {
   "cell_type": "code",
   "execution_count": 79,
   "id": "623690cf",
   "metadata": {},
   "outputs": [
    {
     "name": "stdout",
     "output_type": "stream",
     "text": [
      "\n",
      "--- Top 5 Categories with the Most Polarized Reviews ---\n",
      "product_category_name_english\n",
      "diapers_and_hygiene      1.715190\n",
      "party_supplies           1.676989\n",
      "fashion_male_clothing    1.658973\n",
      "furniture_bedroom        1.637776\n",
      "audio                    1.552561\n",
      "Name: review_score, dtype: float64\n"
     ]
    }
   ],
   "source": [
    "\n",
    "review_volatility = final_df.groupby('product_category_name_english')['review_score'].std().sort_values(ascending=False)\n",
    "print(\"\\n--- Top 5 Categories with the Most Polarized Reviews ---\")\n",
    "print(review_volatility.head())"
   ]
  },
  {
   "cell_type": "markdown",
   "id": "83de0061",
   "metadata": {},
   "source": [
    "#### Time-to-Approve by Payment Type"
   ]
  },
  {
   "cell_type": "code",
   "execution_count": 80,
   "id": "c1a5c81c",
   "metadata": {},
   "outputs": [
    {
     "name": "stdout",
     "output_type": "stream",
     "text": [
      "\n",
      "--- Average Time-to-Approve by Payment Method (in Hours) ---\n",
      "payment_type\n",
      "boleto         32.930723\n",
      "voucher         9.022036\n",
      "debit_card      7.912455\n",
      "credit_card     4.383903\n",
      "Name: approval_lag_hours, dtype: float64\n"
     ]
    }
   ],
   "source": [
    "\n",
    "final_df['approval_lag_hours']=(final_df['order_approved_at']-final_df['order_purchase_timestamp']).dt.total_seconds()/3600\n",
    "approval_time=final_df.groupby('payment_type')['approval_lag_hours'].mean().sort_values(ascending=False)\n",
    "print(\"\\n--- Average Time-to-Approve by Payment Method (in Hours) ---\")\n",
    "print(approval_time)"
   ]
  },
  {
   "cell_type": "markdown",
   "id": "76f9cfd7",
   "metadata": {},
   "source": [
    "#### Compound Monthly Growth Rate (CMGR)"
   ]
  },
  {
   "cell_type": "code",
   "execution_count": 81,
   "id": "0277680e",
   "metadata": {},
   "outputs": [
    {
     "name": "stdout",
     "output_type": "stream",
     "text": [
      "\n",
      "Compound Monthly Growth Rate (CMGR) for revenue is: 15.46%\n"
     ]
    }
   ],
   "source": [
    "monthly_revenue = final_df.groupby('purchase_month')['revenue'].sum()\n",
    "if len(monthly_revenue) > 1:\n",
    "    first_month_rev = monthly_revenue.iloc[0]\n",
    "    last_month_rev = monthly_revenue.iloc[-1]\n",
    "    num_periods = len(monthly_revenue) - 1\n",
    "    cmgr = ((last_month_rev / first_month_rev) ** (1 / num_periods)) - 1\n",
    "    print(f\"\\nCompound Monthly Growth Rate (CMGR) for revenue is: {cmgr:.2%}\")"
   ]
  },
  {
   "cell_type": "markdown",
   "id": "72450484",
   "metadata": {},
   "source": [
    "### Advanced Inventory & Product Strategy"
   ]
  },
  {
   "cell_type": "markdown",
   "id": "c1282edb",
   "metadata": {},
   "source": [
    "#### Product Lifecycle Stage Analysis (Proxy)"
   ]
  },
  {
   "cell_type": "code",
   "execution_count": 82,
   "id": "fbd4097f",
   "metadata": {},
   "outputs": [
    {
     "name": "stdout",
     "output_type": "stream",
     "text": [
      "--- Top 5 Products in 'Growth' Stage ---\n",
      "product_id\n",
      "e7cc48a9daff5436f63d3aad9426f28b    59\n",
      "73326828aa5efe1ba096223de496f596    52\n",
      "64b4f32393cbf55be791078e7a2adca0    23\n",
      "2bd9b51a9ab079e095aca987845d3266    21\n",
      "2ff995aead9c63a1f37a07b3664ead37    19\n",
      "Name: growth_metric, dtype: int64\n"
     ]
    }
   ],
   "source": [
    "final_df['purchase_quarter'] = final_df['order_purchase_timestamp'].dt.to_period('Q')\n",
    "quarterly_sales = final_df.groupby(['product_id', 'purchase_quarter'])['order_id'].nunique().unstack(fill_value=0)\n",
    "\n",
    "if quarterly_sales.shape[1] > 2:\n",
    "    quarterly_sales['growth_metric'] = quarterly_sales.iloc[:, -1] - quarterly_sales.iloc[:, -2]\n",
    "    print(\"--- Top 5 Products in 'Growth' Stage ---\")\n",
    "    print(quarterly_sales.sort_values(by='growth_metric', ascending=False).head()['growth_metric'])"
   ]
  },
  {
   "cell_type": "markdown",
   "id": "622427cd",
   "metadata": {},
   "source": [
    "#### Return on Inventory Investment (ROII) Proxy"
   ]
  },
  {
   "cell_type": "code",
   "execution_count": 83,
   "id": "78666f49",
   "metadata": {},
   "outputs": [
    {
     "name": "stdout",
     "output_type": "stream",
     "text": [
      "\n",
      "--- Top 5 Categories by Return on Inventory Investment (Proxy) ---\n",
      "product_category_name_english\n",
      "computers                                0.957124\n",
      "small_appliances_home_oven_and_coffee    0.939246\n",
      "fixed_telephony                          0.932487\n",
      "agro_industry_and_commerce               0.929681\n",
      "small_appliances                         0.923528\n",
      "Name: roii, dtype: float64\n"
     ]
    }
   ],
   "source": [
    "final_df['profit_proxy'] = final_df['price'] - final_df['freight_value']\n",
    "roii_proxy = final_df.groupby('product_category_name_english').agg(\n",
    "    total_profit=('profit_proxy', 'sum'),\n",
    "    total_cost=('price', 'sum')\n",
    ")\n",
    "roii_proxy['roii'] = roii_proxy['total_profit'] / roii_proxy['total_cost']\n",
    "print(\"\\n--- Top 5 Categories by Return on Inventory Investment (Proxy) ---\")\n",
    "print(roii_proxy.sort_values(by='roii', ascending=False).head()['roii'])"
   ]
  },
  {
   "cell_type": "markdown",
   "id": "79ad1e11",
   "metadata": {},
   "source": [
    "#### Cannibalization Effect (Proxy)"
   ]
  },
  {
   "cell_type": "code",
   "execution_count": 84,
   "id": "0578ed47",
   "metadata": {},
   "outputs": [
    {
     "name": "stdout",
     "output_type": "stream",
     "text": [
      "\n",
      "--- Sales of #2 product in 'sports_leisure' after #1 was introduced ---\n",
      "order_purchase_timestamp\n",
      "2017-09-30    5\n",
      "2017-10-31    1\n",
      "2017-11-30    1\n",
      "2017-12-31    3\n",
      "2018-01-31    4\n",
      "2018-02-28    4\n",
      "2018-03-31    4\n",
      "2018-04-30    0\n",
      "2018-05-31    4\n",
      "2018-06-30    3\n",
      "2018-07-31    7\n",
      "2018-08-31    5\n",
      "Freq: ME, Name: order_id, dtype: int64\n"
     ]
    }
   ],
   "source": [
    "# Analyze the sales trend of the #2 product in a category after the #1 product was introduced.\n",
    "category = 'sports_leisure'\n",
    "category_df = final_df[final_df['product_category_name_english'] == category]\n",
    "top_products = category_df['product_id'].value_counts().index[:2]\n",
    "if len(top_products) == 2:\n",
    "    prod1_intro_date = category_df[category_df['product_id'] == top_products[0]]['order_purchase_timestamp'].min()\n",
    "    prod2_sales = category_df[category_df['product_id'] == top_products[1]].set_index('order_purchase_timestamp').resample('ME')['order_id'].nunique()\n",
    "    print(f\"\\n--- Sales of #2 product in '{category}' after #1 was introduced ---\")\n",
    "    print(prod2_sales[prod2_sales.index > prod1_intro_date])"
   ]
  },
  {
   "cell_type": "markdown",
   "id": "e7257f0a",
   "metadata": {},
   "source": [
    "#### Inventory Turnover Rate (Proxy)"
   ]
  },
  {
   "cell_type": "code",
   "execution_count": 85,
   "id": "4ac99213",
   "metadata": {},
   "outputs": [
    {
     "name": "stdout",
     "output_type": "stream",
     "text": [
      "\n",
      "Platform-wide inventory turnover proxy: 6397.24\n"
     ]
    }
   ],
   "source": [
    "# Proxy: Total Sales / (Average number of unique products sold per month)\n",
    "total_sales = final_df['product_id'].count()\n",
    "avg_monthly_unique_products = final_df.groupby('purchase_month')['product_id'].nunique().mean()\n",
    "inventory_turnover_proxy = total_sales / avg_monthly_unique_products\n",
    "print(f\"\\nPlatform-wide inventory turnover proxy: {inventory_turnover_proxy:.2f}\")"
   ]
  },
  {
   "cell_type": "markdown",
   "id": "03e63cc5",
   "metadata": {},
   "source": [
    "### Granular Logistics & Network Optimization"
   ]
  },
  {
   "cell_type": "markdown",
   "id": "0ea2f61e",
   "metadata": {},
   "source": [
    "#### \"First Mile\" Performance Analysis"
   ]
  },
  {
   "cell_type": "code",
   "execution_count": 86,
   "id": "e981ac00",
   "metadata": {},
   "outputs": [
    {
     "name": "stdout",
     "output_type": "stream",
     "text": [
      "\n",
      "Average 'First Mile' time: 68.76 hours.\n"
     ]
    }
   ],
   "source": [
    "final_df['first_mile_hours'] = (final_df['order_delivered_carrier_date'] - final_df['order_approved_at']).dt.total_seconds() / 3600\n",
    "print(f\"\\nAverage 'First Mile' time: {final_df['first_mile_hours'].mean():.2f} hours.\")"
   ]
  },
  {
   "cell_type": "markdown",
   "id": "d1dbd052",
   "metadata": {},
   "source": [
    "#### \"Last Mile\" Bottleneck Identification (Proxy)"
   ]
  },
  {
   "cell_type": "code",
   "execution_count": 87,
   "id": "f8d1d41c",
   "metadata": {},
   "outputs": [
    {
     "name": "stdout",
     "output_type": "stream",
     "text": [
      "\n",
      "--- Top 5 Cities with Potential 'Last Mile' Delays ---\n",
      "customer_city\n",
      "novo brasil            133.596498\n",
      "capinzal do norte       86.702227\n",
      "adhemar de barros       84.271246\n",
      "santa cruz de goias     72.034453\n",
      "arace                   69.346498\n",
      "Name: last_mile_delay_proxy, dtype: float64\n"
     ]
    }
   ],
   "source": [
    "state_avg_shipping=final_df.groupby('customer_state')['ship_time'].transform('mean')\n",
    "final_df['last_mile_delay_proxy']=final_df['ship_time'] - state_avg_shipping\n",
    "city_bottlenecks=final_df.groupby('customer_city')['last_mile_delay_proxy'].mean().sort_values(ascending=False)\n",
    "print(\"\\n--- Top 5 Cities with Potential 'Last Mile' Delays ---\")\n",
    "print(city_bottlenecks.head())"
   ]
  },
  {
   "cell_type": "markdown",
   "id": "13526f6e",
   "metadata": {},
   "source": [
    "#### Logistics Hub \"Gravity\" Analysis"
   ]
  },
  {
   "cell_type": "code",
   "execution_count": 88,
   "id": "93dd0079",
   "metadata": {},
   "outputs": [
    {
     "name": "stdout",
     "output_type": "stream",
     "text": [
      "\n",
      "--- Top 5 Seller Cities by Customer Reach ---\n",
      "seller_city\n",
      "sao paulo         2425\n",
      "ibitinga          1236\n",
      "santo andre        771\n",
      "curitiba           715\n",
      "belo horizonte     684\n",
      "Name: customer_city, dtype: int64\n"
     ]
    }
   ],
   "source": [
    "hub_gravity=final_df.groupby('seller_city')['customer_city'].nunique().sort_values(ascending=False)\n",
    "print(\"\\n--- Top 5 Seller Cities by Customer Reach ---\")\n",
    "print(hub_gravity.head())"
   ]
  },
  {
   "cell_type": "markdown",
   "id": "828d74b1",
   "metadata": {},
   "source": [
    "#### Perfect Order Rate"
   ]
  },
  {
   "cell_type": "code",
   "execution_count": 89,
   "id": "65e76b6d",
   "metadata": {},
   "outputs": [
    {
     "name": "stdout",
     "output_type": "stream",
     "text": [
      "\n",
      "'Perfect Order' Rate: 43.70%\n"
     ]
    }
   ],
   "source": [
    "\n",
    "perfect_order = (\n",
    "        (final_df['approval_lag_hours'] <= 24) &\n",
    "        (final_df['proc_time'] <= 2) &\n",
    "        (final_df['is_late'] == 0) &\n",
    "        (final_df['review_score'] >= 4)\n",
    "    )\n",
    "perfect_order_rate = perfect_order.mean() * 100\n",
    "print(f\"\\n'Perfect Order' Rate: {perfect_order_rate:.2f}%\")"
   ]
  },
  {
   "cell_type": "markdown",
   "id": "7159759b",
   "metadata": {},
   "source": [
    "### Seller Ecosystem & Performance Dynamics"
   ]
  },
  {
   "cell_type": "markdown",
   "id": "80f0dd61",
   "metadata": {},
   "source": [
    "#### Seller-to-Seller Network Analysis (Proxy)"
   ]
  },
  {
   "cell_type": "code",
   "execution_count": 90,
   "id": "85c41b6d",
   "metadata": {},
   "outputs": [
    {
     "name": "stdout",
     "output_type": "stream",
     "text": [
      "\n",
      "Found 92326 potential competitor pairs.\n"
     ]
    }
   ],
   "source": [
    "seller_details = final_df[['seller_id', 'seller_city', 'product_category_name_english']].drop_duplicates()\n",
    "competitor_pairs = pd.merge(seller_details, seller_details, on=['seller_city', 'product_category_name_english'])\n",
    "competitor_pairs = competitor_pairs[competitor_pairs['seller_id_x'] != competitor_pairs['seller_id_y']]\n",
    "print(f\"\\nFound {len(competitor_pairs)} potential competitor pairs.\")"
   ]
  },
  {
   "cell_type": "markdown",
   "id": "0ffff2a8",
   "metadata": {},
   "source": [
    "#### Top Seller \"Market Share\" by Category"
   ]
  },
  {
   "cell_type": "code",
   "execution_count": 91,
   "id": "79de486a",
   "metadata": {},
   "outputs": [
    {
     "name": "stdout",
     "output_type": "stream",
     "text": [
      "\n",
      "In 'auto', the top 3 sellers capture 22.13% of the revenue.\n"
     ]
    }
   ],
   "source": [
    "category = 'auto'\n",
    "category_df = final_df[final_df['product_category_name_english'] == category]\n",
    "seller_revenue_in_cat = category_df.groupby('seller_id')['revenue'].sum()\n",
    "top_3_seller_revenue = seller_revenue_in_cat.nlargest(3).sum()\n",
    "total_cat_revenue = category_df['revenue'].sum()\n",
    "market_share = (top_3_seller_revenue / total_cat_revenue) * 100\n",
    "print(f\"\\nIn '{category}', the top 3 sellers capture {market_share:.2f}% of the revenue.\")"
   ]
  },
  {
   "cell_type": "markdown",
   "id": "670eefe8",
   "metadata": {},
   "source": [
    "### Strategic Customer & Financial Insights"
   ]
  },
  {
   "cell_type": "markdown",
   "id": "709eeaf4",
   "metadata": {},
   "source": [
    "#### Anomaly Detection for Fraud (Z-Score)"
   ]
  },
  {
   "cell_type": "code",
   "execution_count": 92,
   "id": "f61ea6c2",
   "metadata": {},
   "outputs": [
    {
     "name": "stdout",
     "output_type": "stream",
     "text": [
      "\n",
      "Found 309190 orders with potentially anomalous prices.\n"
     ]
    }
   ],
   "source": [
    "from scipy.stats import zscore\n",
    "\n",
    "final_df['price_zscore'] = zscore(final_df['price'])\n",
    "potential_fraud = final_df[abs(final_df['price_zscore']) > 3] # Z-score > 3 is a common threshold\n",
    "print(f\"\\nFound {len(potential_fraud)} orders with potentially anomalous prices.\")"
   ]
  },
  {
   "cell_type": "markdown",
   "id": "2d6ea6ba",
   "metadata": {},
   "source": [
    "#### \"Saved\" Orders Analysis"
   ]
  },
  {
   "cell_type": "code",
   "execution_count": 93,
   "id": "2feb6770",
   "metadata": {},
   "outputs": [
    {
     "name": "stdout",
     "output_type": "stream",
     "text": [
      "\n",
      "Found 785461 orders that were 'saved' by fast shipping.\n"
     ]
    }
   ],
   "source": [
    "slow_processing_threshold = final_df['proc_time'].quantile(0.75)\n",
    "fast_shipping_threshold = final_df['ship_time'].quantile(0.25)\n",
    "saved_orders = final_df[\n",
    "    (final_df['proc_time'] > slow_processing_threshold) &\n",
    "    (final_df['ship_time'] < fast_shipping_threshold) &\n",
    "    (final_df['is_late'] == 0)\n",
    "]\n",
    "print(f\"\\nFound {len(saved_orders)} orders that were 'saved' by fast shipping.\")"
   ]
  },
  {
   "cell_type": "code",
   "execution_count": 94,
   "id": "8df5875a",
   "metadata": {},
   "outputs": [
    {
     "name": "stdout",
     "output_type": "stream",
     "text": [
      "Average 'Return on Freight' for high-cost shipping orders: 5.58\n"
     ]
    }
   ],
   "source": [
    "final_df['return_on_freight'] = np.where(\n",
    "\tfinal_df['freight_value'] != 0,\n",
    "\tfinal_df['profit_proxy'] / final_df['freight_value'],\n",
    "\tnp.nan\n",
    ")\n",
    "high_freight_orders = final_df[final_df['freight_value'] > final_df['freight_value'].quantile(0.75)]\n",
    "print(f\"Average 'Return on Freight' for high-cost shipping orders: {high_freight_orders['return_on_freight'].mean():.2f}\")"
   ]
  },
  {
   "cell_type": "markdown",
   "id": "fd8bb36c",
   "metadata": {},
   "source": [
    "# Further EDA is in Part 2..."
   ]
  },
  {
   "cell_type": "code",
   "execution_count": null,
   "id": "c9792143",
   "metadata": {},
   "outputs": [],
   "source": []
  },
  {
   "cell_type": "code",
   "execution_count": null,
   "id": "a3e0bcc1",
   "metadata": {},
   "outputs": [],
   "source": []
  }
 ],
 "metadata": {
  "kernelspec": {
   "display_name": "base",
   "language": "python",
   "name": "python3"
  },
  "language_info": {
   "codemirror_mode": {
    "name": "ipython",
    "version": 3
   },
   "file_extension": ".py",
   "mimetype": "text/x-python",
   "name": "python",
   "nbconvert_exporter": "python",
   "pygments_lexer": "ipython3",
   "version": "3.12.4"
  }
 },
 "nbformat": 4,
 "nbformat_minor": 5
}
